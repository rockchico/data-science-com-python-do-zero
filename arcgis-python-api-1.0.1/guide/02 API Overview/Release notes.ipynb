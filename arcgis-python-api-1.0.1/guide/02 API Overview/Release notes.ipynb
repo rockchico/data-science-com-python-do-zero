{
 "cells": [
  {
   "cell_type": "markdown",
   "metadata": {},
   "source": [
    "# What's new in version 1.0.1\n",
    "Version 1.0.1 is a bug fix release. Following are some of the bugs that were resolved:\n",
    "\n",
    "* BUG-000101507 gis.groups.search returns incorrect results if the User is an owner of more than 100 groups.\n",
    "* Enabled building initial cache when publishing vector tile packages\n",
    "* Fixed bug in creating new users on ArcGIS Online or Portal for ArcGIS 10.5 or newer\n",
    "* Fix to ignore values like size of -1 when initializing item objects\n",
    "* Reorder batch geocoding results to match input array\n",
    "\n",
    "\n",
    "# What's new in version 1.0.0\n",
    "\n",
    "Ever since we released the public beta versions, your response to this API has been phenomenal. Since the last release of beta 3, the API went through a redesign phase. We took a critical look at the previous design and evaluated it against the ease of use, extensibility and our original goal of developing a Pythonic API for GIS. The result is this new design, a design that simply does not contour to the implementation logic, but efficiently abstracts it, ensuring the simplicity and beauty of the programming language prevails.\n",
    "\n",
    "## API design changes\n",
    "The following are some of the high level changes you would notice in the version 1.0 of the API. You might have to update your notebooks and scripts and we apologize for this inconvenience.\n",
    "\n",
    " * Various layer types in `arcgis.lyr` module are now in their own separate modules such as `arcgis.features`, `arcgis.raster`, `arcgis.network` etc.\n",
    " * `arcgis.viz` is now `arcgis.mapping` with additional support for vector tiles, map image layers\n",
    " * Tools in `arcgis.tools` are accessible as functions in the corresponding layer modules. This allows a better grouping and presentation of tools making them available right alongside the layer types they process. For instance, the feature analysis tools available earlier as `arcgis.tools.FeatureAnalysisTools` is now `arcgis.features.analyze_patterns`, `arcgis.features.enrich_data` etc.\n",
    " * Big data analysis tools available earlier as `arcgis.tools.BigData` is now in a separate module `arcgis.geoanalytics`.\n",
    "\n",
    "## Enhancements and new features\n",
    "This is by no means an exhaustive list. Below are some major enhancements you may notice in version 1.0 of the API\n",
    " * ability to work with replicas for feature layers\n",
    " * ability to manage user roles\n",
    " * support for multiple outputs in GP tools\n",
    " * support for stream layers\n",
    " * added more big data analysis tools in the `arcgis.geoanalytics` module\n",
    " * extended support for web tools\n",
    " * smart mapping improvements\n",
    " * extended ability to publish package items such as vector tile, scene, tile\n",
    " * enhanced support for login using ArcGIS Pro"
   ]
  }
 ],
 "metadata": {
  "kernelspec": {
   "display_name": "Python 3",
   "language": "python",
   "name": "python3"
  },
  "language_info": {
   "codemirror_mode": {
    "name": "ipython",
    "version": 3
   },
   "file_extension": ".py",
   "mimetype": "text/x-python",
   "name": "python",
   "nbconvert_exporter": "python",
   "pygments_lexer": "ipython3",
   "version": "3.6.0"
  }
 },
 "nbformat": 4,
 "nbformat_minor": 0
}
