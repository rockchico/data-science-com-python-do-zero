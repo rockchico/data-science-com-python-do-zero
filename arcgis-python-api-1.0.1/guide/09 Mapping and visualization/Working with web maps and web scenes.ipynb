{
 "cells": [
  {
   "cell_type": "markdown",
   "metadata": {},
   "source": [
    "# Working with web maps and web scenes\n",
    "\n",
    "An ArcGIS web map is an interactive display of geographic information through a composition of web layers, basemap and much more. A web scene is analogous to a web map but in the 3D space. To get and overview, visit the product documentation for [web maps](http://doc.arcgis.com/en/arcgis-online/reference/what-is-web-map.htm) and [web scenes](http://doc.arcgis.com/en/arcgis-online/reference/what-is-web-scene.htm).\n",
    "\n",
    "Web maps and scenes are stored as items on your portal and their content is in JavaScript Object Notation (JSON), a text format that can easily be transferred, stored, and edited. In this guide we will observe how to work maps and scenes using the `arcgis.mapping` module.\n",
    "\n",
    "## Working with web maps\n",
    "2D maps in your GIS are stored as web map items. A web map contains a JSON defining the bookmarks, layers, their symbology, order and other cartographic information. If you are interested in learning more about this specification, refer to this [documentation](https://developers.arcgis.com/web-map-specification/). In the `mapping` module, web maps are represented using a `WebMap` class.\n",
    "\n",
    "Let us search and access a few web maps:"
   ]
  },
  {
   "cell_type": "code",
   "execution_count": null,
   "metadata": {
    "collapsed": true
   },
   "outputs": [],
   "source": [
    "import os\n",
    "import json\n",
    "from IPython.display import display\n",
    "import arcgis\n",
    "from arcgis.gis import GIS\n",
    "\n",
    "# connect to your GIS\n",
    "gis = GIS(\"portalurl\",\"username\",\"password\")"
   ]
  },
  {
   "cell_type": "markdown",
   "metadata": {},
   "source": [
    "### Searching for web maps\n",
    "We can search for web maps just like any other item:"
   ]
  },
  {
   "cell_type": "code",
   "execution_count": null,
   "metadata": {
    "collapsed": false
   },
   "outputs": [
    {
     "data": {
      "text/plain": [
       "[<Item title:\"India\" type:Web Map owner:demo_deldev>,\n",
       " <Item title:\"WM2_public_items\" type:Web Map owner:demo_deldev>,\n",
       " <Item title:\"WM1_private_items\" type:Web Map owner:demo_deldev>,\n",
       " <Item title:\"USA Gun Ownership\" type:Web Map owner:deldev>,\n",
       " <Item title:\"LA County Infrastructure at Risk\" type:Web Map owner:demo_deldev>,\n",
       " <Item title:\"Mass shootings\" type:Web Map owner:deldev>,\n",
       " <Item title:\"Chennai_Lakes_Map\" type:Web Map owner:demo_deldev>,\n",
       " <Item title:\"Ebola treatment locations\" type:Web Map owner:demo_deldev>]"
      ]
     },
     "execution_count": null,
     "metadata": {},
     "output_type": "execute_result"
    }
   ],
   "source": [
    "webmap_search = gis.content.search(\"\", item_type=\"Web Map\")\n",
    "webmap_search"
   ]
  },
  {
   "cell_type": "markdown",
   "metadata": {},
   "source": [
    "Let us take a look at the 'Ebola web map'"
   ]
  },
  {
   "cell_type": "code",
   "execution_count": null,
   "metadata": {
    "collapsed": false
   },
   "outputs": [
    {
     "data": {
      "text/html": [
       "<div class=\"item_container\" style=\"height: auto; overflow: hidden; border: 1px solid #cfcfcf; border-radius: 2px; background: #f6fafa; line-height: 1.21429em; padding: 10px;\">\n",
       "                    <div class=\"item_left\" style=\"width: 210px; float: left;\">\n",
       "                       <a href='https://deldev.maps.arcgis.com/home/item.html?id=1f4f7e4923df47fba4ce6e6a0d642edc' target='_blank'>\n",
       "                        <img src='http://static.arcgis.com/images/desktopapp.png' class=\"itemThumbnail\">\n",
       "                       </a>\n",
       "                    </div>\n",
       "\n",
       "                    <div class=\"item_right\"     style=\"float: none; width: auto; overflow: hidden;\">\n",
       "                        <a href='https://deldev.maps.arcgis.com/home/item.html?id=1f4f7e4923df47fba4ce6e6a0d642edc' target='_blank'><b>Ebola treatment locations</b>\n",
       "                        </a>\n",
       "                        <br/>This map shows locations of Ebola treatment centers in Africa<img src='https://deldev.maps.arcgis.com/home/js/jsapi/esri/css/images/item_type_icons/maps16.png' style=\"vertical-align:middle;\">Web Map by demo_deldev\n",
       "                        <br/>Last Modified: December 15, 2016\n",
       "                        <br/>0 comments, 0 views\n",
       "                    </div>\n",
       "                </div>\n",
       "                "
      ],
      "text/plain": [
       "<Item title:\"Ebola treatment locations\" type:Web Map owner:demo_deldev>"
      ]
     },
     "execution_count": null,
     "metadata": {},
     "output_type": "execute_result"
    }
   ],
   "source": [
    "ebola_map_item = webmap_search[-1]\n",
    "ebola_map_item"
   ]
  },
  {
   "cell_type": "markdown",
   "metadata": {},
   "source": [
    "### Creating a `WebMap` object\n",
    "You can create a `WebMap` object using the constructor and passing the web map item as the parameter:"
   ]
  },
  {
   "cell_type": "code",
   "execution_count": null,
   "metadata": {
    "collapsed": true
   },
   "outputs": [],
   "source": [
    "from arcgis.mapping import WebMap\n",
    "ebola_map = WebMap(ebola_map_item)"
   ]
  },
  {
   "cell_type": "markdown",
   "metadata": {},
   "source": [
    "The `WebMap` object provides a dictionary representation of the information contained in the web map. For instance, you can view the list of layers in this web map by querying the `operationalLayers` key."
   ]
  },
  {
   "cell_type": "code",
   "execution_count": null,
   "metadata": {
    "collapsed": false
   },
   "outputs": [
    {
     "data": {
      "text/plain": [
       "[{'id': 'layer1',\n",
       "  'itemId': 'a24ae8550ea34a449699479b7e35217d',\n",
       "  'layerType': 'ArcGISFeatureLayer',\n",
       "  'opacity': 1,\n",
       "  'title': 'Ebola_Treatment_Units - Ebola_Treatment_Units_Classed',\n",
       "  'url': 'http://services6.arcgis.com/SMX5BErCXLM7eDtY/arcgis/rest/services/Ebola_Treatment_Units/FeatureServer/1',\n",
       "  'visibility': True}]"
      ]
     },
     "execution_count": null,
     "metadata": {},
     "output_type": "execute_result"
    }
   ],
   "source": [
    "ebola_map['operationalLayers']"
   ]
  },
  {
   "cell_type": "markdown",
   "metadata": {},
   "source": [
    "Similarly, you can find what basemap is used in this web map by querying the `baseMap` key"
   ]
  },
  {
   "cell_type": "code",
   "execution_count": null,
   "metadata": {
    "collapsed": false
   },
   "outputs": [
    {
     "data": {
      "text/plain": [
       "{'baseMapLayers': [{'id': 'World_Topo_Map_9991',\n",
       "   'layerType': 'ArcGISTiledMapServiceLayer',\n",
       "   'opacity': 1,\n",
       "   'title': 'World Topographic Map',\n",
       "   'url': 'https://services.arcgisonline.com/ArcGIS/rest/services/World_Topo_Map/MapServer',\n",
       "   'visibility': True}],\n",
       " 'title': 'Topographic'}"
      ]
     },
     "execution_count": null,
     "metadata": {},
     "output_type": "execute_result"
    }
   ],
   "source": [
    "ebola_map['baseMap']"
   ]
  },
  {
   "cell_type": "markdown",
   "metadata": {},
   "source": [
    "You can find the list of all keys that you can query for by calling the `keys()` function:"
   ]
  },
  {
   "cell_type": "code",
   "execution_count": null,
   "metadata": {
    "collapsed": false
   },
   "outputs": [
    {
     "data": {
      "text/plain": [
       "odict_keys(['version', 'baseMap', 'spatialReference', 'operationalLayers'])"
      ]
     },
     "execution_count": null,
     "metadata": {},
     "output_type": "execute_result"
    }
   ],
   "source": [
    "ebola_map.keys()"
   ]
  },
  {
   "cell_type": "markdown",
   "metadata": {},
   "source": [
    "### Displaying the web map\n",
    "When using the Jupyter notebook environment, a `WebMap` object can be easily visualized by simply querying it. A map widget loads up and the map is rendered:"
   ]
  },
  {
   "cell_type": "code",
   "execution_count": null,
   "metadata": {
    "collapsed": false
   },
   "outputs": [],
   "source": [
    "ebola_map"
   ]
  },
  {
   "cell_type": "markdown",
   "metadata": {},
   "source": [
    "![ebola map](http://esri.github.io/arcgis-python-api/notebooks/nbimages/05_Using_updating_GIS_02.PNG)"
   ]
  },
  {
   "cell_type": "markdown",
   "metadata": {},
   "source": [
    "### Updating a web map\n",
    "The `WebMap` object provides an `update()` method that allows you to modify a web map and save those changes back. To update a web map, you modify its definition by changing the adding, removing or changing the values of its keys and then call the `update()` method. Refer to the sample notebook on [Using and updating a web map](/python/sample-notebooks/Using-and-updating-GIS-content/#Using-and-updating-a-web-map) for an example."
   ]
  },
  {
   "cell_type": "markdown",
   "metadata": {},
   "source": [
    "## Working with web scenes\n",
    "In your GIS, 3D maps are stored as web scene items. Similar to web maps, web scenes contain the definition of the layers, their cartography in JSON. In the `mapping` module, a web scene is represented using a `WebScene` object.\n",
    "\n",
    "You can search for a web scene similar to any other item:"
   ]
  },
  {
   "cell_type": "markdown",
   "metadata": {},
   "source": [
    "## Searching for web scene items"
   ]
  },
  {
   "cell_type": "code",
   "execution_count": null,
   "metadata": {
    "collapsed": false
   },
   "outputs": [
    {
     "data": {
      "text/plain": [
       "[<Item title:\"Toprical Cyclones - Summer\" type:Web Scene owner:demo_deldev>,\n",
       " <Item title:\"Toprical Cyclones - Summer\" type:Web Scene owner:demo_deldev>,\n",
       " <Item title:\"Toprical Cyclones - Summer\" type:Web Scene owner:demo_deldev>,\n",
       " <Item title:\"Toprical Cyclones - Summer\" type:Web Scene owner:demo_deldev>,\n",
       " <Item title:\"Toprical Cyclones - Summer\" type:Web Scene owner:demo_deldev>]"
      ]
     },
     "execution_count": null,
     "metadata": {},
     "output_type": "execute_result"
    }
   ],
   "source": [
    "webscene_search = gis.content.search(\"\", item_type=\"Web Scene\")\n",
    "webscene_search"
   ]
  },
  {
   "cell_type": "markdown",
   "metadata": {},
   "source": [
    "Let us access the first web scene from this list."
   ]
  },
  {
   "cell_type": "code",
   "execution_count": null,
   "metadata": {
    "collapsed": false
   },
   "outputs": [
    {
     "data": {
      "text/html": [
       "<div class=\"item_container\" style=\"height: auto; overflow: hidden; border: 1px solid #cfcfcf; border-radius: 2px; background: #f6fafa; line-height: 1.21429em; padding: 10px;\">\n",
       "                    <div class=\"item_left\" style=\"width: 210px; float: left;\">\n",
       "                       <a href='https://deldev.maps.arcgis.com/home/item.html?id=c311dfb290d74205b6ce2a76592de4a6' target='_blank'>\n",
       "                        <img src='http://static.arcgis.com/images/desktopapp.png' class=\"itemThumbnail\">\n",
       "                       </a>\n",
       "                    </div>\n",
       "\n",
       "                    <div class=\"item_right\"     style=\"float: none; width: auto; overflow: hidden;\">\n",
       "                        <a href='https://deldev.maps.arcgis.com/home/item.html?id=c311dfb290d74205b6ce2a76592de4a6' target='_blank'><b>Toprical Cyclones - Summer</b>\n",
       "                        </a>\n",
       "                        <br/>Subset of <a href='https://www.arcgis.com/home/item.html?id=193a0e0ed72f413d8cdc649be637a846'>Western Pacific Typhoons (2005)</a> published by esri_3d<img src='https://deldev.maps.arcgis.com/home/js/jsapi/esri/css/images/item_type_icons/webscene16.png' style=\"vertical-align:middle;\">Web Scene by demo_deldev\n",
       "                        <br/>Last Modified: December 15, 2016\n",
       "                        <br/>0 comments, 1 views\n",
       "                    </div>\n",
       "                </div>\n",
       "                "
      ],
      "text/plain": [
       "<Item title:\"Toprical Cyclones - Summer\" type:Web Scene owner:demo_deldev>"
      ]
     },
     "execution_count": null,
     "metadata": {},
     "output_type": "execute_result"
    }
   ],
   "source": [
    "webscene_item = webscene_search[0]\n",
    "webscene_item"
   ]
  },
  {
   "cell_type": "markdown",
   "metadata": {},
   "source": [
    "### Creating a `WebScene` object\n",
    "You can create a `WebScene` object using the constructor and passing the web scene item as the parameter:"
   ]
  },
  {
   "cell_type": "code",
   "execution_count": null,
   "metadata": {
    "collapsed": false
   },
   "outputs": [],
   "source": [
    "from arcgis.mapping import WebScene\n",
    "webscene_obj = WebScene(webscene_item)"
   ]
  },
  {
   "cell_type": "markdown",
   "metadata": {},
   "source": [
    "The `WebScene` object provides a dictionary representation of the information contained in the web scene. For instance, you can view the list of layers in this web map by querying the operationalLayers key."
   ]
  },
  {
   "cell_type": "code",
   "execution_count": null,
   "metadata": {
    "collapsed": false
   },
   "outputs": [
    {
     "data": {
      "text/plain": [
       "[{'id': '14a37c397dc-layer17',\n",
       "  'layerType': 'GroupLayer',\n",
       "  'layers': [{'id': '56803f3d64184140950f0ef1256a0603',\n",
       "    'layerDefinition': {'drawingInfo': {'renderer': {'description': '',\n",
       "       'label': '',\n",
       "       'symbol': {'name': 'Pushpin 1',\n",
       "        'styleName': 'EsriIconsStyle',\n",
       "        'type': 'styleSymbolReference'},\n",
       "       'type': 'simple',\n",
       "       'visualVariables': [{'axis': 'all',\n",
       "         'minSize': 25,\n",
       "         'type': 'sizeInfo',\n",
       "         'valueUnit': 'unknown'}]}},\n",
       "     'elevationInfo': {'mode': 'absoluteHeight'}},\n",
       "    'layerType': 'ArcGISFeatureLayer',\n",
       "    'opacity': 1,\n",
       "    'showLabels': True,\n",
       "    'title': 'Labels Q2',\n",
       "    'url': 'http://services.arcgis.com/P3ePLMYs2RVChkJx/arcgis/rest/services/PacificTyphoons2005_WFL/FeatureServer/5',\n",
       "    'visibility': False},\n",
       "   {'id': '72668fcc8a904bd6a1444bef2e72f420',\n",
       "    'layerDefinition': {'drawingInfo': {'renderer': {'description': '',\n",
       "       'label': '',\n",
       "       'symbol': {'name': 'Standing Cylinder',\n",
       "        'styleName': 'EsriThematicShapesStyle',\n",
       "        'type': 'styleSymbolReference'},\n",
       "       'type': 'simple',\n",
       "       'visualVariables': [{'axis': 'height',\n",
       "         'field': 'windspeed',\n",
       "         'minDataValue': 0.0001,\n",
       "         'minSize': 1,\n",
       "         'type': 'sizeInfo'},\n",
       "        {'axis': 'widthAndDepth',\n",
       "         'minSize': 100000,\n",
       "         'type': 'sizeInfo',\n",
       "         'valueUnit': 'meters'},\n",
       "        {'field': 'airpressure',\n",
       "         'stops': [{'color': [245, 0, 0], 'value': 920},\n",
       "          {'color': [245, 245, 0], 'value': 1014}],\n",
       "         'type': 'colorInfo'}]}},\n",
       "     'elevationInfo': {'mode': 'absoluteHeight'}},\n",
       "    'layerType': 'ArcGISFeatureLayer',\n",
       "    'opacity': 1,\n",
       "    'popupInfo': {'mediaInfos': [{'caption': \"<div><p><span style='font-weight:bold;'>Pressure: </span><span>{airpressure} hPa</span></p><p><span style='font-weight:bold;'>Wind speed: </span><span>{wind_mph} mph / {wind_kph} kph</span></p><p><p><span style='font-weight:bold;'>Date: </span><span>{timedescription}</span></p></div></p>\",\n",
       "       'title': \"<div><p style='font-weight:bold;'><span>{typhoonclass} {typhoon}</span></p></div>\",\n",
       "       'type': 'image',\n",
       "       'value': {'sourceURL': '{image}'}}],\n",
       "     'title': '{typhoon}'},\n",
       "    'title': 'Typhoons Q2',\n",
       "    'url': 'http://services.arcgis.com/P3ePLMYs2RVChkJx/arcgis/rest/services/PacificTyphoons2005_WFL/FeatureServer/4',\n",
       "    'visibility': False}],\n",
       "  'listMode': 'hide-children',\n",
       "  'opacity': 1,\n",
       "  'title': 'April - June',\n",
       "  'visibility': True,\n",
       "  'visibilityMode': 'inherited'}]"
      ]
     },
     "execution_count": null,
     "metadata": {},
     "output_type": "execute_result"
    }
   ],
   "source": [
    "webscene_obj['operationalLayers']"
   ]
  },
  {
   "cell_type": "markdown",
   "metadata": {},
   "source": [
    "Similar to a `WebMap` seen earlier, you can find the list of all keys that you can query for by calling the keys() function:"
   ]
  },
  {
   "cell_type": "code",
   "execution_count": null,
   "metadata": {
    "collapsed": false
   },
   "outputs": [
    {
     "data": {
      "text/plain": [
       "odict_keys(['authoringApp', 'baseMap', 'initialState', 'version', 'operationalLayers', 'presentation', 'authoringAppVersion'])"
      ]
     },
     "execution_count": null,
     "metadata": {},
     "output_type": "execute_result"
    }
   ],
   "source": [
    "webscene_obj.keys()"
   ]
  },
  {
   "cell_type": "markdown",
   "metadata": {},
   "source": [
    "### Displaying the web scene\n",
    "When using the Jupyter notebook environment, a `WebScene` object can be easily visualized by simply querying it. A map widget loads up and the scene is rendered:"
   ]
  },
  {
   "cell_type": "code",
   "execution_count": null,
   "metadata": {
    "collapsed": true
   },
   "outputs": [],
   "source": [
    "webscene_obj"
   ]
  },
  {
   "cell_type": "markdown",
   "metadata": {},
   "source": [
    "![tropical cyclones web scene](http://esri.github.io/arcgis-python-api/notebooks/nbimages/05_Using_updating_GIS_06.PNG)"
   ]
  },
  {
   "cell_type": "markdown",
   "metadata": {},
   "source": [
    "### Updating a web scene\n",
    "The `WebScene` object provides an `update()` method that allows you to modify a web map and save those changes back. To update a web scene, you modify its definition by changing the adding, removing or changing the values of its keys and then call the update() method. Refer to the sample notebook on [Using and updating a web scene](/python/sample-notebooks/Using-and-updating-GIS-content/#Using-and-updating-a-web-scene) for an example."
   ]
  }
 ],
 "metadata": {
  "anaconda-cloud": {},
  "kernelspec": {
   "display_name": "Python 3",
   "language": "python",
   "name": "python3"
  },
  "language_info": {
   "codemirror_mode": {
    "name": "ipython",
    "version": 3
   },
   "file_extension": ".py",
   "mimetype": "text/x-python",
   "name": "python",
   "nbconvert_exporter": "python",
   "pygments_lexer": "ipython3",
   "version": "3.5.2"
  }
 },
 "nbformat": 4,
 "nbformat_minor": 0
}
