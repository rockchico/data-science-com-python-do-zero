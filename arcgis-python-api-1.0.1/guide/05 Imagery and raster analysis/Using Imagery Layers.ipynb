{
 "cells": [
  {
   "cell_type": "markdown",
   "metadata": {},
   "source": [
    "# Using Imagery Layers \n",
    "\n",
    "The `arcgis.raster` module contains classes and raster analysis functions for working with raster data and imagery layers.\n",
    "\n",
    "Raster data is made up of a grid of cells, where each cell or pixel can have a value. Raster data is useful for storing data that varies continuously, as in a satellite image, a surface of chemical concentrations, or an elevation surface.\n",
    "\n",
    "The `Imagerylayer` class represents an image service resource as a layer. An `ImageryLayer` object retrieves and displays data from image services. `ImageryLayer` allows you to and apply server defined or client-defined rendering rules (e.g. remap, colormap), and mosaic rules."
   ]
  },
  {
   "cell_type": "markdown",
   "metadata": {},
   "source": [
    "## Accesssing Imagery Layers\n",
    "\n",
    "Imagery layer items are available as content in the GIS. You can search the GIS for imagery layer items, or get them using their item id:"
   ]
  },
  {
   "cell_type": "markdown",
   "metadata": {},
   "source": [
    "### Searching the GIS for imagery layer items\n",
    "\n",
    "You can search the GIS for imagery layers by specifying the item type as `Imagery Layer`:"
   ]
  },
  {
   "cell_type": "code",
   "execution_count": null,
   "metadata": {
    "collapsed": true
   },
   "outputs": [],
   "source": [
    "import arcgis\n",
    "from arcgis.gis import GIS\n",
    "from IPython.display import display\n",
    "\n",
    "gis = GIS()"
   ]
  },
  {
   "cell_type": "code",
   "execution_count": null,
   "metadata": {
    "collapsed": true
   },
   "outputs": [],
   "source": [
    "items = gis.content.search(\"Landsat 8 Views\", item_type=\"Imagery Layer\", max_items=2)"
   ]
  },
  {
   "cell_type": "code",
   "execution_count": null,
   "metadata": {
    "collapsed": false
   },
   "outputs": [
    {
     "data": {
      "text/html": [
       "<div class=\"item_container\" style=\"height: auto; overflow: hidden; border: 1px solid #cfcfcf; border-radius: 2px; background: #f6fafa; line-height: 1.21429em; padding: 10px;\">\n",
       "                    <div class=\"item_left\" style=\"width: 210px; float: left;\">\n",
       "                       <a href='http://www.arcgis.com/home/item.html?id=4ca13f0e4e29403fa68c46d188c4be73' target='_blank'>\n",
       "                        <img src='http://www.arcgis.com/sharing/rest//content/items/4ca13f0e4e29403fa68c46d188c4be73/info/thumbnail/ago_downloaded.jpg' class=\"itemThumbnail\">\n",
       "                       </a>\n",
       "                    </div>\n",
       "\n",
       "                    <div class=\"item_right\"     style=\"float: none; width: auto; overflow: hidden;\">\n",
       "                        <a href='http://www.arcgis.com/home/item.html?id=4ca13f0e4e29403fa68c46d188c4be73' target='_blank'><b>Landsat 8 Views</b>\n",
       "                        </a>\n",
       "                        <br/>Landsat 8 OLI, 30m Multispectral 8 band scenes with visual renderings and indices. Updated daily.<img src='http://www.arcgis.com/home/js/jsapi/esri/css/images/item_type_icons/imagery16.png' style=\"vertical-align:middle;\">Imagery Layer by esri\n",
       "                        <br/>Last Modified: December 07, 2016\n",
       "                        <br/>0 comments, 114,089 views\n",
       "                    </div>\n",
       "                </div>\n",
       "                "
      ],
      "text/plain": [
       "<Item title:\"Landsat 8 Views\" type:Image Service owner:esri>"
      ]
     },
     "metadata": {},
     "output_type": "display_data"
    },
    {
     "data": {
      "text/html": [
       "<div class=\"item_container\" style=\"height: auto; overflow: hidden; border: 1px solid #cfcfcf; border-radius: 2px; background: #f6fafa; line-height: 1.21429em; padding: 10px;\">\n",
       "                    <div class=\"item_left\" style=\"width: 210px; float: left;\">\n",
       "                       <a href='http://www.arcgis.com/home/item.html?id=fb9ad3c20b5c449abfccc6434bf3ef11' target='_blank'>\n",
       "                        <img src='http://static.arcgis.com/images/desktopapp.png' class=\"itemThumbnail\">\n",
       "                       </a>\n",
       "                    </div>\n",
       "\n",
       "                    <div class=\"item_right\"     style=\"float: none; width: auto; overflow: hidden;\">\n",
       "                        <a href='http://www.arcgis.com/home/item.html?id=fb9ad3c20b5c449abfccc6434bf3ef11' target='_blank'><b>L8_Views_Preview</b>\n",
       "                        </a>\n",
       "                        <br/><img src='http://www.arcgis.com/home/js/jsapi/esri/css/images/item_type_icons/imagery16.png' style=\"vertical-align:middle;\">Imagery Layer by esri_atlas\n",
       "                        <br/>Last Modified: November 13, 2014\n",
       "                        <br/>0 comments, 89,568 views\n",
       "                    </div>\n",
       "                </div>\n",
       "                "
      ],
      "text/plain": [
       "<Item title:\"L8_Views_Preview\" type:Image Service owner:esri_atlas>"
      ]
     },
     "metadata": {},
     "output_type": "display_data"
    }
   ],
   "source": [
    "for item in items:\n",
    "    display(item)"
   ]
  },
  {
   "cell_type": "markdown",
   "metadata": {},
   "source": [
    "### Retrieving Imagery Layer item using item id\n",
    "Imagery Layers items can be obtained using their item id as well:"
   ]
  },
  {
   "cell_type": "code",
   "execution_count": null,
   "metadata": {
    "collapsed": false
   },
   "outputs": [
    {
     "data": {
      "text/html": [
       "<div class=\"item_container\" style=\"height: auto; overflow: hidden; border: 1px solid #cfcfcf; border-radius: 2px; background: #f6fafa; line-height: 1.21429em; padding: 10px;\">\n",
       "                    <div class=\"item_left\" style=\"width: 210px; float: left;\">\n",
       "                       <a href='http://www.arcgis.com/home/item.html?id=4ca13f0e4e29403fa68c46d188c4be73' target='_blank'>\n",
       "                        <img src='http://www.arcgis.com/sharing/rest//content/items/4ca13f0e4e29403fa68c46d188c4be73/info/thumbnail/ago_downloaded.jpg' class=\"itemThumbnail\">\n",
       "                       </a>\n",
       "                    </div>\n",
       "\n",
       "                    <div class=\"item_right\"     style=\"float: none; width: auto; overflow: hidden;\">\n",
       "                        <a href='http://www.arcgis.com/home/item.html?id=4ca13f0e4e29403fa68c46d188c4be73' target='_blank'><b>Landsat 8 Views</b>\n",
       "                        </a>\n",
       "                        <br/>Landsat 8 OLI, 30m Multispectral 8 band scenes with visual renderings and indices. Updated daily.<img src='http://www.arcgis.com/home/js/jsapi/esri/css/images/item_type_icons/imagery16.png' style=\"vertical-align:middle;\">Imagery Layer by esri\n",
       "                        <br/>Last Modified: December 07, 2016\n",
       "                        <br/>0 comments, 115,618 views\n",
       "                    </div>\n",
       "                </div>\n",
       "                "
      ],
      "text/plain": [
       "<Item title:\"Landsat 8 Views\" type:Image Service owner:esri>"
      ]
     },
     "execution_count": null,
     "metadata": {},
     "output_type": "execute_result"
    }
   ],
   "source": [
    "l8_views = gis.content.get('4ca13f0e4e29403fa68c46d188c4be73')\n",
    "l8_views"
   ]
  },
  {
   "cell_type": "markdown",
   "metadata": {},
   "source": [
    "### Accessing `ImageryLayer` from Imagery Layer items\n",
    "\n",
    "Like other layer based items in the GIS, imagery layer items allow access to the imagery layer through the `layers` property of the item. Each imagery layer item has one imagery layer instance in it's `layers` property:"
   ]
  },
  {
   "cell_type": "code",
   "execution_count": null,
   "metadata": {
    "collapsed": false
   },
   "outputs": [
    {
     "data": {
      "text/plain": [
       "[<ImageryLayer url:\"https://landsat2.arcgis.com/arcgis/rest/services/Landsat8_Views/ImageServer\">]"
      ]
     },
     "execution_count": null,
     "metadata": {},
     "output_type": "execute_result"
    }
   ],
   "source": [
    "l8_views.layers"
   ]
  },
  {
   "cell_type": "code",
   "execution_count": null,
   "metadata": {
    "collapsed": false
   },
   "outputs": [
    {
     "data": {
      "text/plain": [
       "<ImageryLayer url:\"https://landsat2.arcgis.com/arcgis/rest/services/Landsat8_Views/ImageServer\">"
      ]
     },
     "execution_count": null,
     "metadata": {},
     "output_type": "execute_result"
    }
   ],
   "source": [
    "l8_lyr = l8_views.layers[0]\n",
    "l8_lyr"
   ]
  },
  {
   "cell_type": "markdown",
   "metadata": {},
   "source": [
    "### Creating `ImageryLayer` from an image service url\n",
    "\n",
    "`ImageryLayer` objects can also be constructed from an image service URL:"
   ]
  },
  {
   "cell_type": "code",
   "execution_count": null,
   "metadata": {
    "collapsed": true
   },
   "outputs": [],
   "source": [
    "img_svc_url = 'https://landsat2.arcgis.com/arcgis/rest/services/Landsat8_Views/ImageServer'"
   ]
  },
  {
   "cell_type": "code",
   "execution_count": null,
   "metadata": {
    "collapsed": true
   },
   "outputs": [],
   "source": [
    "from arcgis.raster import ImageryLayer"
   ]
  },
  {
   "cell_type": "code",
   "execution_count": null,
   "metadata": {
    "collapsed": true
   },
   "outputs": [],
   "source": [
    "landsat_lyr = ImageryLayer(img_svc_url)"
   ]
  },
  {
   "cell_type": "code",
   "execution_count": null,
   "metadata": {
    "collapsed": false
   },
   "outputs": [
    {
     "data": {
      "text/plain": [
       "<ImageryLayer url:\"https://landsat2.arcgis.com/arcgis/rest/services/Landsat8_Views/ImageServer\">"
      ]
     },
     "execution_count": null,
     "metadata": {},
     "output_type": "execute_result"
    }
   ],
   "source": [
    "landsat_lyr"
   ]
  },
  {
   "cell_type": "markdown",
   "metadata": {},
   "source": [
    "### Creating `ImageryLayer` from secure image services\n",
    "\n",
    "If the imagery layer is a served by a secure image service, pass in the `GIS` object to the `ImageryLayer` constructor to specify the GIS which should be used to connect to the service."
   ]
  },
  {
   "cell_type": "code",
   "execution_count": null,
   "metadata": {
    "collapsed": true
   },
   "outputs": [],
   "source": [
    "portal = GIS(\"portal url\", \"username\",\"password\", verify_cert=False)"
   ]
  },
  {
   "cell_type": "code",
   "execution_count": null,
   "metadata": {
    "collapsed": true
   },
   "outputs": [],
   "source": [
    "secure_url = 'https://dev003248.esri.com:6443/arcgis/rest/services/ImgSrv_Landast_Montana2015/ImageServer'"
   ]
  },
  {
   "cell_type": "code",
   "execution_count": null,
   "metadata": {
    "collapsed": false
   },
   "outputs": [],
   "source": [
    "secure_img_lyr = ImageryLayer(secure_url, portal)"
   ]
  },
  {
   "cell_type": "code",
   "execution_count": null,
   "metadata": {
    "collapsed": false
   },
   "outputs": [
    {
     "data": {
      "text/plain": [
       "<ImageryLayer url:\"https://dev003248.esri.com:6443/arcgis/rest/services/ImgSrv_Landast_Montana2015/ImageServer\">"
      ]
     },
     "execution_count": null,
     "metadata": {},
     "output_type": "execute_result"
    }
   ],
   "source": [
    "secure_img_lyr"
   ]
  },
  {
   "cell_type": "markdown",
   "metadata": {},
   "source": [
    "## Properties of an `ImageryLayer` object\n",
    "The `properties` property on an `ImageryLayer` object provides a dictionary representation of all its properties. However, you can access individual properties as attributes as well:"
   ]
  },
  {
   "cell_type": "code",
   "execution_count": null,
   "metadata": {
    "collapsed": false
   },
   "outputs": [
    {
     "data": {
      "text/plain": [
       "'Landsat8_Views'"
      ]
     },
     "execution_count": null,
     "metadata": {},
     "output_type": "execute_result"
    }
   ],
   "source": [
    "landsat_lyr.properties.name"
   ]
  },
  {
   "cell_type": "code",
   "execution_count": null,
   "metadata": {
    "collapsed": false
   },
   "outputs": [
    {
     "data": {
      "text/plain": [
       "'Multispectral Landsat 8 OLI Image Service covering the landmass of the World. This service includes 8-band multispectral scenes, at 30 meter resolution. It can be used for mapping and change detection of agriculture, soils, vegetation health, water-land features and boundary studies. Using on-the-fly processing, the raw DN values are transformed to scaled (5000 - 55000) apparent reflectance values and then different service based renderings for band combinations and indices are applied. The service is updated on a daily basis to include the latest best scenes from the USGS.'"
      ]
     },
     "execution_count": null,
     "metadata": {},
     "output_type": "execute_result"
    }
   ],
   "source": [
    "landsat_lyr.properties['description']"
   ]
  },
  {
   "cell_type": "markdown",
   "metadata": {},
   "source": [
    "The `capabilities` property is useful to know what kinds of operations can be performed on the imagery layer."
   ]
  },
  {
   "cell_type": "code",
   "execution_count": null,
   "metadata": {
    "collapsed": false
   },
   "outputs": [
    {
     "data": {
      "text/plain": [
       "'Catalog,Mensuration,Image,Metadata'"
      ]
     },
     "execution_count": null,
     "metadata": {},
     "output_type": "execute_result"
    }
   ],
   "source": [
    "landsat_lyr.properties.capabilities"
   ]
  },
  {
   "cell_type": "markdown",
   "metadata": {},
   "source": [
    "You can access the allowed mosaic methods using the `allowedMosaicMethods` property."
   ]
  },
  {
   "cell_type": "code",
   "execution_count": null,
   "metadata": {
    "collapsed": false
   },
   "outputs": [
    {
     "data": {
      "text/plain": [
       "'ByAttribute,Center,NorthWest,Nadir,LockRaster,None'"
      ]
     },
     "execution_count": null,
     "metadata": {},
     "output_type": "execute_result"
    }
   ],
   "source": [
    "landsat_lyr.properties.allowedMosaicMethods"
   ]
  },
  {
   "cell_type": "markdown",
   "metadata": {},
   "source": [
    "## Raster Functions\n",
    "\n",
    "Imagery Layers can be published with raster functions that can be used to change the visualization of the imagery layer using  on-the-fly image processing at display resolution. Raster functions are lightweight and process only the pixels visible on your screen, in memory, without creating intermediate files. They are powerful because you can chain them together and apply them on huge rasters and mosaics on the fly.\n",
    "\n",
    "The code below cycles through the raster functions available with the landsat layer:"
   ]
  },
  {
   "cell_type": "code",
   "execution_count": null,
   "metadata": {
    "collapsed": false
   },
   "outputs": [
    {
     "name": "stdout",
     "output_type": "stream",
     "text": [
      "Agriculture with DRA\n",
      "Bathymetric with DRA\n",
      "Color Infrared with DRA\n",
      "Natural Color with DRA\n",
      "Short-wave Infrared with DRA\n",
      "Geology with DRA\n",
      "Agriculture\n",
      "Bathymetric\n",
      "Color Infrared\n",
      "Geology\n",
      "Natural Color\n",
      "Short-wave Infrared\n",
      "NDVI Colorized\n",
      "Normalized Difference Moisture Index Colorized\n",
      "NDVI Raw\n",
      "NBR Raw\n",
      "None\n"
     ]
    }
   ],
   "source": [
    "for fn in landsat_lyr.properties.rasterFunctionInfos:\n",
    "    print(fn['name'])"
   ]
  },
  {
   "cell_type": "markdown",
   "metadata": {},
   "source": [
    "## Visualizing imagery layers\n",
    "\n",
    "`ImageryLayer`s can be added to the map widget for visualization:"
   ]
  },
  {
   "cell_type": "code",
   "execution_count": null,
   "metadata": {
    "collapsed": true
   },
   "outputs": [],
   "source": [
    "map = gis.map(\"Pallikaranai\", zoomlevel=13)\n",
    "map"
   ]
  },
  {
   "cell_type": "markdown",
   "metadata": {},
   "source": [
    "![raster functions in a loop](http://esri.github.io/arcgis-python-api/notebooks/nbimages/rasteranalytics.gif)"
   ]
  },
  {
   "cell_type": "code",
   "execution_count": null,
   "metadata": {
    "collapsed": true
   },
   "outputs": [],
   "source": [
    "map.add_layer(landsat_lyr)"
   ]
  },
  {
   "cell_type": "markdown",
   "metadata": {},
   "source": [
    "### Performing on-the-fly image processing using raster functions\n",
    "The utility of raster functions is better seen when we interactively cycle through these raster functions and apply them to the map, like the code below does. This is using on-the-fly image processing at display resolution to cycle through the various raster functions, and showing how the layer can be visualized using these different raster functions published with the layer:"
   ]
  },
  {
   "cell_type": "code",
   "execution_count": null,
   "metadata": {
    "collapsed": false
   },
   "outputs": [
    {
     "name": "stdout",
     "output_type": "stream",
     "text": [
      "Agriculture with DRA\n",
      "Bathymetric with DRA\n",
      "Color Infrared with DRA\n",
      "Natural Color with DRA\n",
      "Short-wave Infrared with DRA\n",
      "Geology with DRA\n",
      "Agriculture\n",
      "Bathymetric\n",
      "Color Infrared\n",
      "Geology\n",
      "Natural Color\n",
      "Short-wave Infrared\n",
      "NDVI Colorized\n",
      "Normalized Difference Moisture Index Colorized\n",
      "NDVI Raw\n",
      "NBR Raw\n",
      "None\n"
     ]
    }
   ],
   "source": [
    "import time\n",
    "\n",
    "for fn in landsat_lyr.properties.rasterFunctionInfos:\n",
    "    print(fn['name'])\n",
    "    map.remove_layers()\n",
    "    map.add_layer(landsat_lyr, {\"imageServiceParameters\" :{ \"renderingRule\": { \"rasterFunction\": fn['name']}}})\n",
    "    time.sleep(2)"
   ]
  },
  {
   "cell_type": "markdown",
   "metadata": {},
   "source": [
    "### Using well-known raster functions\n",
    "In addition to the raster functions that are published as part of an imagery layer, users can make use of a few [well-known raster functions](http://resources.arcgis.com/en/help/arcgis-rest-api/index.html#/Raster_function_objects/02r3000000rv000000/). For instance, in the example below, let us apply an index called [NDVI](http://desktop.arcgis.com/en/arcmap/latest/manage-data/raster-and-images/band-arithmetic-function.htm) which can be computed using [BandArithmetic](http://desktop.arcgis.com/en/arcmap/latest/manage-data/raster-and-images/band-arithmetic-function.htm) raster function.\n",
    "\n",
    "SAVI - The Soil-Adjusted Vegetation Index (SAVI) is a vegetation index that attempts to minimize soil brightness influences using a soil-brightness correction factor. This is often used in arid regions where vegetative cover is low. SAVI is computed as below, where L is the vegetation correction factor and varies from 1 to 0. A value L = 1 is used for no vegetation cover and L=0 for high vegetation cover.\n",
    "\n",
    "    SAVI = ((NIR - Red) / (NIR + Red + L)) x (1 + L)\n"
   ]
  },
  {
   "cell_type": "code",
   "execution_count": null,
   "metadata": {
    "collapsed": true
   },
   "outputs": [],
   "source": [
    "SAVI_map = gis.map(\"Cairo\", zoomlevel=6)\n",
    "SAVI_map"
   ]
  },
  {
   "cell_type": "markdown",
   "metadata": {},
   "source": [
    "![SAVI map of Nile river](http://esri.github.io/arcgis-python-api/notebooks/nbimages/guide_raster_analysis_03.png)"
   ]
  },
  {
   "cell_type": "code",
   "execution_count": null,
   "metadata": {
    "collapsed": true
   },
   "outputs": [],
   "source": [
    "SAVI_map.add_layer(landsat_lyr, {'imageServiceParameters':\n",
    "                                 {'renderingRule':\n",
    "                                  {'rasterFunction':'BandArithmetic',\n",
    "                                  'rasterFunctionArguments':\n",
    "                                   {'Method':2,\n",
    "                                   'BandIndexes':\"5 4 0.3\"},\n",
    "                                  'variableName':'Raster'}}})"
   ]
  },
  {
   "cell_type": "markdown",
   "metadata": {},
   "source": [
    "In the example above, we used one of a 'well-known raster function' `BandArithmetic` to apply a vegetation index. This index illustrates how the banks and delta of the Nile river appears fertile in a relatively an arid Sahara desert."
   ]
  },
  {
   "cell_type": "markdown",
   "metadata": {},
   "source": [
    "### Composing raster functions\n",
    "Developers can create their own raster functions, by chaining different raster functions. For instance, the code below is using `ExtractBand` function to create a [4,5,3] band combination, and applying the `Stretch` function to get the land-water boundary visualization that makes it easy to see where land is and where water is. Its worth noting that the raster function is applied at display resolution and only for the visible extent using on the fly image processing."
   ]
  },
  {
   "cell_type": "code",
   "execution_count": null,
   "metadata": {
    "collapsed": true
   },
   "outputs": [],
   "source": [
    "# A raster function is created as a python dictionary as shown below:\n",
    "def extract_bands(bands):\n",
    "    return {\"rasterFunction\": \"Stretch\",\n",
    "            \"rasterFunctionArguments\":{\n",
    "            \"Raster\":{\"rasterFunction\": \"ExtractBand\",\n",
    "                      \"rasterFunctionArguments\":{\"BandIDs\": bands}\n",
    "                    },\n",
    "                    \"StretchType\": 6,\n",
    "                    \"DRA\": True,\n",
    "                    \"Gamma\": [1,1,1],\n",
    "                    \"UseGamma\": True\n",
    "                },\n",
    "               \"outputPixelType\":\"U8\"\n",
    "            }"
   ]
  },
  {
   "cell_type": "markdown",
   "metadata": {},
   "source": [
    "Let us apply this raster function to the image layer to visualize the results. The raster function extracts the [4, 5, 3] band combination from Landsat data that makes it easy to visualize where land is and where water is, as seen below:"
   ]
  },
  {
   "cell_type": "code",
   "execution_count": null,
   "metadata": {
    "collapsed": true
   },
   "outputs": [],
   "source": [
    "map2 = gis.map(\"Pallikaranai\", zoomlevel=13)\n",
    "map2"
   ]
  },
  {
   "cell_type": "markdown",
   "metadata": {},
   "source": [
    "![landsat land water separation](http://esri.github.io/arcgis-python-api/notebooks/nbimages/04_RasterAnalytics_02.PNG)"
   ]
  },
  {
   "cell_type": "code",
   "execution_count": null,
   "metadata": {
    "collapsed": false
   },
   "outputs": [],
   "source": [
    "map2.add_layer(landsat_lyr, {\"imageServiceParameters\" : \n",
    "                             {\"renderingRule\": extract_bands([4,5,3])}})"
   ]
  }
 ],
 "metadata": {
  "anaconda-cloud": {},
  "kernelspec": {
   "display_name": "Python 3",
   "language": "python",
   "name": "python3"
  },
  "language_info": {
   "codemirror_mode": {
    "name": "ipython",
    "version": 3
   },
   "file_extension": ".py",
   "mimetype": "text/x-python",
   "name": "python",
   "nbconvert_exporter": "python",
   "pygments_lexer": "ipython3",
   "version": "3.5.2"
  }
 },
 "nbformat": 4,
 "nbformat_minor": 1
}
