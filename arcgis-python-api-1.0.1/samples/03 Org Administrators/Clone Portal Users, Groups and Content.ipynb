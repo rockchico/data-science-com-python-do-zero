{
 "cells": [
  {
   "cell_type": "markdown",
   "metadata": {},
   "source": [
    "<div class=\"alert alert-info\">\n",
    "\n",
    "**Note:** Refer here for instructions to <a href=\"https://developers.arcgis.com/python/sample-notebooks/#Download-and-run-the-sample-notebooks\">download and run this sample locally</a> on your computer\n",
    "\n",
    "</div>"
   ]
  },
  {
   "cell_type": "markdown",
   "metadata": {},
   "source": [
    "# Clone Portal users, groups and content\n",
    "\n",
    "This sample notebook can be used for cloning a portal, from say, a staging to a production environment. It clones the users, groups and the content. It does not copy over services and data though, and works at the tier of portal items."
   ]
  },
  {
   "cell_type": "code",
   "execution_count": 1,
   "metadata": {
    "collapsed": false
   },
   "outputs": [],
   "source": [
    "from arcgis.gis import GIS\n",
    "from IPython.display import display"
   ]
  },
  {
   "cell_type": "markdown",
   "metadata": {},
   "source": [
    "## Define the source and target portals\n",
    "To start with, define the source and target portals. Connect to them using accounts with administrative privileges:"
   ]
  },
  {
   "cell_type": "code",
   "execution_count": 2,
   "metadata": {
    "collapsed": false
   },
   "outputs": [],
   "source": [
    "source = GIS(\"portal url\", \"username\", \"password\")\n",
    "target = GIS(\"target portal url\", \"username\", \"password\")\n",
    "target_admin_username = 'admin'"
   ]
  },
  {
   "cell_type": "markdown",
   "metadata": {},
   "source": [
    "# Users\n",
    "List the users in the source and target portals:"
   ]
  },
  {
   "cell_type": "code",
   "execution_count": 3,
   "metadata": {
    "collapsed": false
   },
   "outputs": [
    {
     "data": {
      "text/plain": [
       "[<User username:adams.powell>,\n",
       " <User username:admin>,\n",
       " <User username:allen.price>,\n",
       " <User username:anderson.bailey>,\n",
       " <User username:baker.long>,\n",
       " <User username:brown.rogers>,\n",
       " <User username:campbell.bryant>,\n",
       " <User username:carter.flores>,\n",
       " <User username:clark.ramirez>,\n",
       " <User username:davis.reed>,\n",
       " <User username:edwards.griffin>,\n",
       " <User username:esri_boundaries>,\n",
       " <User username:esri_demographics>,\n",
       " <User username:esri_livingatlas>,\n",
       " <User username:esri_nav>,\n",
       " <User username:evans.russell>,\n",
       " <User username:garcia.torres>,\n",
       " <User username:gonzalez.patterson>,\n",
       " <User username:green.perry>,\n",
       " <User username:hall.sanders>,\n",
       " <User username:harris.cox>,\n",
       " <User username:hernandez.wood>,\n",
       " <User username:hill.coleman>,\n",
       " <User username:jackson.cooper>,\n",
       " <User username:johnson.stewart>,\n",
       " <User username:jones.morris>,\n",
       " <User username:king.barnes>,\n",
       " <User username:lee.brooks>,\n",
       " <User username:lewis.watson>,\n",
       " <User username:lopez.henderson>,\n",
       " <User username:martin.howard>,\n",
       " <User username:martinez.peterson>,\n",
       " <User username:miller.cook>,\n",
       " <User username:mitchell.washington>,\n",
       " <User username:moore.bell>,\n",
       " <User username:nelson.hughes>,\n",
       " <User username:parker.alexander>,\n",
       " <User username:perez.butler>,\n",
       " <User username:phillips.gonzales>,\n",
       " <User username:roberts.simmons>,\n",
       " <User username:robinson.gray>,\n",
       " <User username:rodriguez.james>,\n",
       " <User username:scott.jenkins>,\n",
       " <User username:smith.collins>,\n",
       " <User username:taylor.murphy>,\n",
       " <User username:thomas.rivera>,\n",
       " <User username:thompson.ward>,\n",
       " <User username:turner.foster>,\n",
       " <User username:walker.kelly>,\n",
       " <User username:white.richardson>,\n",
       " <User username:williams.sanchez>,\n",
       " <User username:wilson.morgan>,\n",
       " <User username:wright.ross>,\n",
       " <User username:young.bennett>]"
      ]
     },
     "execution_count": 3,
     "metadata": {},
     "output_type": "execute_result"
    }
   ],
   "source": [
    "sourceusers = source.users.search()\n",
    "sourceusers"
   ]
  },
  {
   "cell_type": "code",
   "execution_count": 4,
   "metadata": {
    "collapsed": false
   },
   "outputs": [
    {
     "data": {
      "text/plain": [
       "[<User username:admin>,\n",
       " <User username:esri_boundaries>,\n",
       " <User username:esri_demographics>,\n",
       " <User username:esri_livingatlas>,\n",
       " <User username:esri_nav>,\n",
       " <User username:system_publisher>]"
      ]
     },
     "execution_count": 4,
     "metadata": {},
     "output_type": "execute_result"
    }
   ],
   "source": [
    "targetusers = target.users.search()\n",
    "targetusers"
   ]
  },
  {
   "cell_type": "markdown",
   "metadata": {},
   "source": [
    "If source users are already in the target, run the following code to delete them:"
   ]
  },
  {
   "cell_type": "code",
   "execution_count": 5,
   "metadata": {
    "collapsed": true
   },
   "outputs": [],
   "source": [
    "# create a list of system accounts that should not be modified\n",
    "systemusers = ['system_publisher', 'esri_nav', 'esri_livingatlas', \n",
    "               'esri_boundaries', 'esri_demographics']"
   ]
  },
  {
   "cell_type": "markdown",
   "metadata": {},
   "source": [
    "### Remove existing users from target portal\n",
    "Assign their content to admin account and delete the account"
   ]
  },
  {
   "cell_type": "code",
   "execution_count": 6,
   "metadata": {
    "collapsed": false
   },
   "outputs": [
    {
     "name": "stdout",
     "output_type": "stream",
     "text": [
      "User admin does not exist in Target Portal\n"
     ]
    }
   ],
   "source": [
    "for srcuser in source_users:\n",
    "    if not srcuser.username in system_users:\n",
    "        #don't delete the account used to connect\n",
    "        if srcuser.username != target_admin_username:\n",
    "            try:\n",
    "                targetusr = target.users.get(srcuser.username)\n",
    "                if targetusr is not None:\n",
    "                    print('Deleting user: ' + targetusr.fullName)\n",
    "                    targetusr.reassign_to(target_admin_username)\n",
    "                    targetusr.delete()\n",
    "            except:\n",
    "                print('User {} does not exist in Target Portal'.format(srcuser.username))"
   ]
  },
  {
   "cell_type": "markdown",
   "metadata": {},
   "source": [
    "### Copy Users\n",
    "Create a function that will accept connection to the target portal, user objects and password to create users with."
   ]
  },
  {
   "cell_type": "code",
   "execution_count": 7,
   "metadata": {
    "collapsed": true
   },
   "outputs": [],
   "source": [
    "def copy_user(target, user, password):\n",
    "    # See if the user has firstName and lastName properties\n",
    "    try:\n",
    "        first_name = user.firstName\n",
    "        last_name = user.lastName\n",
    "    except:\n",
    "        # if not, split the fullName\n",
    "        full_name = user.fullName\n",
    "        first_name = full_name.split()[0]\n",
    "        try:\n",
    "            last_name = full_name.split()[1]\n",
    "        except:\n",
    "            last_name = 'NoLastName'\n",
    "\n",
    "    try:\n",
    "        # create user\n",
    "        target_user = target.users.create(user.username, password, first_name, last_name,\n",
    "                                          user.email, user.description, user.role)\n",
    "\n",
    "        # update user properties\n",
    "        target_user.update(user.access, user.preferredView,\n",
    "                           user.description, user.tags, user.get_thumbnail_link(),\n",
    "                           culture=user.culture, region=user.region)\n",
    "        return target_user\n",
    "    \n",
    "    except:\n",
    "        print(\"Unable to create user \"+ user.username)\n",
    "        return None"
   ]
  },
  {
   "cell_type": "markdown",
   "metadata": {},
   "source": [
    "For each user in source portal, make a corresponding user in target portal:"
   ]
  },
  {
   "cell_type": "code",
   "execution_count": 8,
   "metadata": {
    "collapsed": false,
    "scrolled": true
   },
   "outputs": [
    {
     "name": "stdout",
     "output_type": "stream",
     "text": [
      "Creating user: adams.powell\n",
      "Creating user: allen.price\n",
      "Creating user: anderson.bailey\n",
      "Creating user: baker.long\n",
      "Creating user: brown.rogers\n",
      "Creating user: campbell.bryant\n",
      "Creating user: carter.flores\n",
      "Creating user: clark.ramirez\n",
      "Creating user: davis.reed\n",
      "Creating user: edwards.griffin\n",
      "Creating user: evans.russell\n",
      "Creating user: garcia.torres\n",
      "Creating user: gonzalez.patterson\n",
      "Creating user: green.perry\n",
      "Creating user: hall.sanders\n",
      "Creating user: harris.cox\n",
      "Creating user: hernandez.wood\n",
      "Creating user: hill.coleman\n",
      "Creating user: jackson.cooper\n",
      "Creating user: johnson.stewart\n",
      "Creating user: jones.morris\n",
      "Creating user: king.barnes\n",
      "Creating user: lee.brooks\n",
      "Creating user: lewis.watson\n",
      "Creating user: lopez.henderson\n",
      "Creating user: martin.howard\n",
      "Creating user: martinez.peterson\n",
      "Creating user: miller.cook\n",
      "Creating user: mitchell.washington\n",
      "Creating user: moore.bell\n",
      "Creating user: nelson.hughes\n",
      "Creating user: parker.alexander\n",
      "Creating user: perez.butler\n",
      "Creating user: phillips.gonzales\n",
      "Creating user: roberts.simmons\n",
      "Creating user: robinson.gray\n",
      "Creating user: rodriguez.james\n",
      "Creating user: scott.jenkins\n",
      "Creating user: smith.collins\n",
      "Creating user: taylor.murphy\n",
      "Creating user: thomas.rivera\n",
      "Creating user: thompson.ward\n",
      "Creating user: turner.foster\n",
      "Creating user: walker.kelly\n",
      "Creating user: white.richardson\n",
      "Creating user: williams.sanchez\n",
      "Creating user: wilson.morgan\n",
      "Creating user: wright.ross\n",
      "Creating user: young.bennett\n"
     ]
    }
   ],
   "source": [
    "ignore_list = [target_admin_username,'system_publisher', 'esri_nav', 'esri_livingatlas', \n",
    "               'esri_boundaries', 'esri_demographics']\n",
    "for user in source_users:\n",
    "    if not user.username in ignore_list:\n",
    "        print(\"Creating user: \" + user.username)\n",
    "        copy_user(target, user, 'TestPassword@123')"
   ]
  },
  {
   "cell_type": "markdown",
   "metadata": {},
   "source": [
    "Verify that users have been added to target portal:"
   ]
  },
  {
   "cell_type": "code",
   "execution_count": 9,
   "metadata": {
    "collapsed": false
   },
   "outputs": [
    {
     "data": {
      "text/plain": [
       "[<User username:adams.powell>,\n",
       " <User username:admin>,\n",
       " <User username:allen.price>,\n",
       " <User username:anderson.bailey>,\n",
       " <User username:baker.long>,\n",
       " <User username:brown.rogers>,\n",
       " <User username:campbell.bryant>,\n",
       " <User username:carter.flores>,\n",
       " <User username:clark.ramirez>,\n",
       " <User username:davis.reed>,\n",
       " <User username:edwards.griffin>,\n",
       " <User username:esri_boundaries>,\n",
       " <User username:esri_demographics>,\n",
       " <User username:esri_livingatlas>,\n",
       " <User username:esri_nav>,\n",
       " <User username:evans.russell>,\n",
       " <User username:garcia.torres>,\n",
       " <User username:gonzalez.patterson>,\n",
       " <User username:green.perry>,\n",
       " <User username:hall.sanders>,\n",
       " <User username:harris.cox>,\n",
       " <User username:hernandez.wood>,\n",
       " <User username:hill.coleman>,\n",
       " <User username:jackson.cooper>,\n",
       " <User username:johnson.stewart>,\n",
       " <User username:jones.morris>,\n",
       " <User username:king.barnes>,\n",
       " <User username:lee.brooks>,\n",
       " <User username:lewis.watson>,\n",
       " <User username:lopez.henderson>,\n",
       " <User username:martin.howard>,\n",
       " <User username:martinez.peterson>,\n",
       " <User username:miller.cook>,\n",
       " <User username:mitchell.washington>,\n",
       " <User username:moore.bell>,\n",
       " <User username:nelson.hughes>,\n",
       " <User username:parker.alexander>,\n",
       " <User username:perez.butler>,\n",
       " <User username:phillips.gonzales>,\n",
       " <User username:roberts.simmons>,\n",
       " <User username:robinson.gray>,\n",
       " <User username:rodriguez.james>,\n",
       " <User username:scott.jenkins>,\n",
       " <User username:smith.collins>,\n",
       " <User username:system_publisher>,\n",
       " <User username:taylor.murphy>,\n",
       " <User username:thomas.rivera>,\n",
       " <User username:thompson.ward>,\n",
       " <User username:turner.foster>,\n",
       " <User username:walker.kelly>,\n",
       " <User username:white.richardson>,\n",
       " <User username:williams.sanchez>,\n",
       " <User username:wilson.morgan>,\n",
       " <User username:wright.ross>,\n",
       " <User username:young.bennett>]"
      ]
     },
     "execution_count": 9,
     "metadata": {},
     "output_type": "execute_result"
    }
   ],
   "source": [
    "target_users = target.users.search()\n",
    "target_users"
   ]
  },
  {
   "cell_type": "markdown",
   "metadata": {},
   "source": [
    "Thus users have been successfully added to the target portal"
   ]
  },
  {
   "cell_type": "markdown",
   "metadata": {},
   "source": [
    "# Groups"
   ]
  },
  {
   "cell_type": "markdown",
   "metadata": {},
   "source": [
    "List the groups in the source and target portals:"
   ]
  },
  {
   "cell_type": "code",
   "execution_count": 10,
   "metadata": {
    "collapsed": false
   },
   "outputs": [
    {
     "data": {
      "text/plain": [
       "[<Group title:\"Basemaps\" owner:admin>,\n",
       " <Group title:\"Central Services\" owner:admin>,\n",
       " <Group title:\"Compliance\" owner:admin>,\n",
       " <Group title:\"Customer Service, Finance, Billing and Accounting\" owner:admin>,\n",
       " <Group title:\"Demographic Content\" owner:admin>,\n",
       " <Group title:\"Esri Boundary Layers\" owner:esri_boundaries>,\n",
       " <Group title:\"Esri Demographic Layers\" owner:esri_demographics>,\n",
       " <Group title:\"Living Atlas\" owner:esri_livingatlas>,\n",
       " <Group title:\"Living Atlas Analysis Layers\" owner:esri_livingatlas>,\n",
       " <Group title:\"Navigator Maps\" owner:esri_nav>]"
      ]
     },
     "execution_count": 10,
     "metadata": {},
     "output_type": "execute_result"
    }
   ],
   "source": [
    "source_groups = source.groups.search()\n",
    "source_groups"
   ]
  },
  {
   "cell_type": "code",
   "execution_count": 11,
   "metadata": {
    "collapsed": false
   },
   "outputs": [
    {
     "data": {
      "text/plain": [
       "[<Group title:\"Esri Boundary Layers\" owner:esri_boundaries>,\n",
       " <Group title:\"Esri Demographic Layers\" owner:esri_demographics>,\n",
       " <Group title:\"Featured Maps and Apps\" owner:admin>,\n",
       " <Group title:\"Living Atlas\" owner:esri_livingatlas>,\n",
       " <Group title:\"Living Atlas Analysis Layers\" owner:esri_livingatlas>,\n",
       " <Group title:\"Navigator Maps\" owner:esri_nav>]"
      ]
     },
     "execution_count": 11,
     "metadata": {},
     "output_type": "execute_result"
    }
   ],
   "source": [
    "target_groups = target.groups.search()\n",
    "target_groups"
   ]
  },
  {
   "cell_type": "markdown",
   "metadata": {},
   "source": [
    "If source groups are already in the target, run the following code to delete them. If the group belongs to any of built-in user accounts, don't delete it."
   ]
  },
  {
   "cell_type": "code",
   "execution_count": 12,
   "metadata": {
    "collapsed": false
   },
   "outputs": [],
   "source": [
    "groups_to_ignore = ['Basemaps']\n",
    "for tg in target_groups:\n",
    "    if tg.title not in groups_to_ignore:\n",
    "        for sg in source_groups:\n",
    "            if sg.title == tg.title and (not tg.owner in systemusers):\n",
    "                print(\"Cleaning up group {} in target Portal...\".format(tg.title))\n",
    "                tg.delete()\n",
    "                break"
   ]
  },
  {
   "cell_type": "markdown",
   "metadata": {},
   "source": [
    "## Copy Groups"
   ]
  },
  {
   "cell_type": "code",
   "execution_count": 13,
   "metadata": {
    "collapsed": true
   },
   "outputs": [],
   "source": [
    "import tempfile\n",
    "\n",
    "GROUP_COPY_PROPERTIES = ['title', 'description', 'tags', 'snippet', 'phone',\n",
    "                         'access', 'isInvitationOnly']\n",
    "\n",
    "def copy_group(target, source, group):\n",
    "    \"\"\" Copy group to the target portal.\"\"\"\n",
    "    with tempfile.TemporaryDirectory() as temp_dir:\n",
    "        # Create new groups with the subset of properties we want to\n",
    "        # copy to the target portal. Handle switching between org and\n",
    "        # public access when going from an org in a multitenant portal\n",
    "        # and a single tenant portal\n",
    "        target_group = {}\n",
    "        \n",
    "        for property_name in GROUP_COPY_PROPERTIES:\n",
    "            target_group[property_name] = group[property_name]\n",
    "\n",
    "        if target_group['access'] == 'org' and target.properties['portalMode'] == 'singletenant':\n",
    "            target_group['access'] = 'public'\n",
    "        elif target_group['access'] == 'public'\\\n",
    "             and source.properties['portalMode'] == 'singletenant'\\\n",
    "             and target.properties['portalMode'] == 'multitenant'\\\n",
    "             and 'id' in target.properties: # is org\n",
    "            target_group['access'] = 'org'\n",
    "\n",
    "        # Handle the thumbnail (if one exists)\n",
    "        thumbnail_file = None\n",
    "        if 'thumbnail' in group:\n",
    "            target_group['thumbnail'] = group.download_thumbnail(temp_dir)\n",
    "\n",
    "        # Create the group in the target portal\n",
    "        copied_group = target.groups.create_from_dict(target_group)\n",
    "        \n",
    "         # Reassign all groups to correct owners, add users, and find shared items\n",
    "        members = group.get_members()\n",
    "        if not members['owner'] == target_admin_username:\n",
    "            copied_group.reassign_to(members['owner'])\n",
    "        if members['users']:\n",
    "            copied_group.add_users(members['users'])\n",
    "        return copied_group"
   ]
  },
  {
   "cell_type": "markdown",
   "metadata": {},
   "source": [
    "For each group in source portal, make a corresponding group in target portal and a create a dictionary of source group id and corresponding group id in target portal:"
   ]
  },
  {
   "cell_type": "code",
   "execution_count": 14,
   "metadata": {
    "collapsed": false
   },
   "outputs": [
    {
     "name": "stdout",
     "output_type": "stream",
     "text": [
      "Copying group: Central Services\n",
      "Copying group: Compliance\n",
      "Copying group: Customer Service, Finance, Billing and Accounting\n",
      "Copying group: Demographic Content\n"
     ]
    }
   ],
   "source": [
    "copied_groups = {}\n",
    "for group in sourcegroups:\n",
    "    if group.title not in groups_to_ignore:\n",
    "        if not group.owner in systemusers:\n",
    "            print(\"Copying group: \" + group.title)\n",
    "            tgt_group = copy_group(target, source, group)\n",
    "            copied_groups[group.groupid] = tgt_group.groupid"
   ]
  },
  {
   "cell_type": "markdown",
   "metadata": {},
   "source": [
    "Verify that groups have been created in the target portal:"
   ]
  },
  {
   "cell_type": "code",
   "execution_count": 15,
   "metadata": {
    "collapsed": false
   },
   "outputs": [
    {
     "data": {
      "text/plain": [
       "[<Group title:\"Central Services\" owner:admin>,\n",
       " <Group title:\"Compliance\" owner:admin>,\n",
       " <Group title:\"Customer Service, Finance, Billing and Accounting\" owner:admin>,\n",
       " <Group title:\"Demographic Content\" owner:admin>,\n",
       " <Group title:\"Esri Boundary Layers\" owner:esri_boundaries>,\n",
       " <Group title:\"Esri Demographic Layers\" owner:esri_demographics>,\n",
       " <Group title:\"Featured Maps and Apps\" owner:admin>,\n",
       " <Group title:\"Living Atlas\" owner:esri_livingatlas>,\n",
       " <Group title:\"Living Atlas Analysis Layers\" owner:esri_livingatlas>,\n",
       " <Group title:\"Navigator Maps\" owner:esri_nav>]"
      ]
     },
     "execution_count": 15,
     "metadata": {},
     "output_type": "execute_result"
    }
   ],
   "source": [
    "target_groups = target.groups.search()\n",
    "target_groups"
   ]
  },
  {
   "cell_type": "markdown",
   "metadata": {},
   "source": [
    "Print the mapping of source and target group ids:"
   ]
  },
  {
   "cell_type": "code",
   "execution_count": 16,
   "metadata": {
    "collapsed": false
   },
   "outputs": [
    {
     "data": {
      "text/plain": [
       "{'0d4dc72e0dc94a24b36d04e01bb66df3': '3ad0380c85b94153a574089eaf4bffe8',\n",
       " '7d87ae57d57448f09433e5212b5ab982': '6ee7ab4bdd1d4a98a32f11e1446307d0',\n",
       " '856514710e37400fa6313f45c5c672a1': '9e5f3f26820642089e06fda63968731f',\n",
       " 'ba5453f96ed44d598dfb3a16e1b21dee': '82ec68060e694f56a5462f983ec973be'}"
      ]
     },
     "execution_count": 16,
     "metadata": {},
     "output_type": "execute_result"
    }
   ],
   "source": [
    "copied_groups"
   ]
  },
  {
   "cell_type": "markdown",
   "metadata": {},
   "source": [
    "With this part of the sample, we have successfully created users, groups and added the appropriate users to these groups."
   ]
  },
  {
   "cell_type": "markdown",
   "metadata": {},
   "source": [
    "# Items"
   ]
  },
  {
   "cell_type": "markdown",
   "metadata": {},
   "source": [
    "Copying items consists of multiple steps. The following section of the sample does the following\n",
    "\n",
    " 1. Create a dictionary of itemIds and `Item` objects for each user in each folder\n",
    " 2. Prepare sharing information for each item"
   ]
  },
  {
   "cell_type": "markdown",
   "metadata": {},
   "source": [
    "## Create a dictionary of itemIds and item objects\n",
    "Do this for each user and each folder in the user account"
   ]
  },
  {
   "cell_type": "code",
   "execution_count": 17,
   "metadata": {
    "collapsed": false
   },
   "outputs": [
    {
     "name": "stdout",
     "output_type": "stream",
     "text": [
      "Collecting item ids for adams.powell...\n",
      "Collecting item ids for admin...\n",
      "Collecting item ids for allen.price...\n",
      "Collecting item ids for anderson.bailey...\n",
      "Collecting item ids for baker.long...\n",
      "Collecting item ids for brown.rogers...\n",
      "Collecting item ids for campbell.bryant...\n",
      "Collecting item ids for carter.flores...\n",
      "Collecting item ids for clark.ramirez...\n",
      "Collecting item ids for davis.reed...\n",
      "Collecting item ids for edwards.griffin...\n",
      "Collecting item ids for evans.russell...\n",
      "Collecting item ids for garcia.torres...\n",
      "Collecting item ids for gonzalez.patterson...\n",
      "Collecting item ids for green.perry...\n",
      "Collecting item ids for hall.sanders...\n",
      "Collecting item ids for harris.cox...\n",
      "Collecting item ids for hernandez.wood...\n",
      "Collecting item ids for hill.coleman...\n",
      "Collecting item ids for jackson.cooper...\n",
      "Collecting item ids for johnson.stewart...\n",
      "Collecting item ids for jones.morris...\n",
      "Collecting item ids for king.barnes...\n",
      "Collecting item ids for lee.brooks...\n",
      "Collecting item ids for lewis.watson...\n",
      "Collecting item ids for lopez.henderson...\n",
      "Collecting item ids for martin.howard...\n",
      "Collecting item ids for martinez.peterson...\n",
      "Collecting item ids for miller.cook...\n",
      "Collecting item ids for mitchell.washington...\n",
      "Collecting item ids for moore.bell...\n",
      "Collecting item ids for nelson.hughes...\n",
      "Collecting item ids for parker.alexander...\n",
      "Collecting item ids for perez.butler...\n",
      "Collecting item ids for phillips.gonzales...\n",
      "Collecting item ids for roberts.simmons...\n",
      "Collecting item ids for robinson.gray...\n",
      "Collecting item ids for rodriguez.james...\n",
      "Collecting item ids for scott.jenkins...\n",
      "Collecting item ids for smith.collins...\n",
      "Collecting item ids for taylor.murphy...\n",
      "Collecting item ids for thomas.rivera...\n",
      "Collecting item ids for thompson.ward...\n",
      "Collecting item ids for turner.foster...\n",
      "Collecting item ids for walker.kelly...\n",
      "Collecting item ids for white.richardson...\n",
      "Collecting item ids for williams.sanchez...\n",
      "Collecting item ids for wilson.morgan...\n",
      "Collecting item ids for wright.ross...\n",
      "Collecting item ids for young.bennett...\n"
     ]
    }
   ],
   "source": [
    "source_items_by_id = {}\n",
    "for user in source_users:\n",
    "    if not user.username in system_users:  # ignore any 'system' Portal users\n",
    "        print(\"Collecting item ids for {}...\".format(user.username))\n",
    "        user_content = user.items()\n",
    "        # Copy item ids from root folder first\n",
    "        for item in user_content:\n",
    "            source_items_by_id[item.itemid] = item \n",
    "        # Copy item ids from folders next\n",
    "        folders = user.folders\n",
    "        for folder in folders:\n",
    "            folder_items = user.items(folder=folder['title'])\n",
    "            for item in folder_items:\n",
    "                source_items_by_id[item.itemid] = item "
   ]
  },
  {
   "cell_type": "markdown",
   "metadata": {},
   "source": [
    "## Prepare sharing information for each item"
   ]
  },
  {
   "cell_type": "code",
   "execution_count": 18,
   "metadata": {
    "collapsed": false,
    "scrolled": false
   },
   "outputs": [],
   "source": [
    "for group in source_groups:\n",
    "    if group.title not in groups_to_ignore:\n",
    "        if not group.owner in system_users:\n",
    "            target_group_id = copied_groups[group.groupid]\n",
    "            for group_item in group.content():\n",
    "                if not group_item.owner in system_users:\n",
    "                    try:\n",
    "                        item = source_items_by_id[group_item.itemid]\n",
    "                        if item is not None:\n",
    "                            if not 'groups'in item:\n",
    "                                item['groups'] = []\n",
    "                            item['groups'].append(target_group_id)\n",
    "                    except:\n",
    "                        print(\"Not found item : \" + group_item.itemid)"
   ]
  },
  {
   "cell_type": "markdown",
   "metadata": {},
   "source": [
    "### Print a mapping of item and its group membership"
   ]
  },
  {
   "cell_type": "code",
   "execution_count": 19,
   "metadata": {
    "collapsed": false
   },
   "outputs": [
    {
     "name": "stdout",
     "output_type": "stream",
     "text": [
      "\n",
      "Anderson Bailey response locations       # \n",
      "SampleWorldCities                        # \n",
      "DE                                       # \n",
      "CT                                       # \n",
      "NY                                       # \n",
      "Lewis Watson response locations          # \n",
      "WY                                       # \n",
      "PR                                       # \n",
      "IN                                       # \n",
      "Jackson Cooper response locations        # \n",
      "UT                                       # \n",
      "NM                                       # \n",
      "IN                                       # \n",
      "WY                                       # \n",
      "OR                                       # \n",
      "WA                                       # \n",
      "Hill Coleman response locations          # \n",
      "IL                                       # \n",
      "ME                                       # \n",
      "ME                                       # \n",
      "AL                                       # \n",
      "FL                                       # \n",
      "MA                                       # \n",
      "WV                                       # \n",
      "MD                                       # \n",
      "ID                                       # \n",
      "VA                                       # \n",
      "ID                                       # \n",
      "DE                                       # \n",
      "ND                                       # \n",
      "Edwards Griffin response locations       # \n",
      "NH                                       # \n",
      "AK                                       # \n",
      "VT                                       # \n",
      "Jones Morris response locations          # \n",
      "Phillips Gonzales response locations     # \n",
      "Green Perry response locations           # \n",
      "MN                                       # \n",
      "Thomas Rivera response locations         # \n",
      "SC                                       # \n",
      "NC                                       # \n",
      "VT                                       # \n",
      "OH                                       # \n",
      "Nelson Hughes response locations         # \n",
      "CO                                       # \n",
      "MA                                       # \n",
      "Geometry                                 # \n",
      "NV                                       # \n",
      "MO                                       # \n",
      "MD                                       # \n",
      "Brown Rogers response locations          # \n",
      "KY                                       # \n",
      "SC                                       # \n",
      "MO                                       # \n",
      "WI                                       # \n",
      "GA                                       # \n",
      "MN                                       # \n",
      "TN                                       # \n",
      "NJ                                       # \n",
      "IA                                       # \n",
      "KS                                       # \n",
      "Lee Brooks response locations            # \n",
      "Rodriguez James response locations       # \n",
      "AR                                       # \n",
      "TN                                       # \n",
      "TX                                       # \n",
      "Campbell Bryant response locations       # \n",
      "Turner Foster response locations         # \n",
      "LA                                       # \n",
      "GA                                       # \n",
      "Garcia Torres response locations         # \n",
      "Moore Bell response locations            # \n",
      "Carter Flores response locations         # \n",
      "Smith Collins response locations         # \n",
      "FM                                       # \n",
      "Young Bennett response locations         # \n",
      "LA                                       # \n",
      "Evans Russell response locations         # \n",
      "White Richardson response locations      # \n",
      "PR                                       # \n",
      "SD                                       # \n",
      "MS                                       # \n",
      "PrintingTools                            # \n",
      "Roberts Simmons response locations       # \n",
      "MI                                       # \n",
      "Lopez Henderson response locations       # \n",
      "Parker Alexander response locations      # \n",
      "Hall Sanders response locations          # \n",
      "AZ                                       # \n",
      "Clark Ramirez response locations         # \n",
      "AK                                       # \n",
      "Baker Long response locations            # \n",
      "NV                                       # \n",
      "SD                                       # \n",
      "CA                                       # \n",
      "WI                                       # \n",
      "NE                                       # \n",
      "IL                                       # \n",
      "Wright Ross response locations           # \n",
      "NH                                       # \n",
      "KS                                       # \n",
      "Johnson Stewart response locations       # \n",
      "OH                                       # \n",
      "Davis Reed response locations            # \n",
      "Martinez Peterson response locations     # \n",
      "Adams Powell response locations          # \n",
      "Mitchell Washington response locations   # \n",
      "MS                                       # \n",
      "Miller Cook response locations           # \n",
      "IA                                       # \n",
      "NE                                       # \n",
      "Williams Sanchez response locations      # \n",
      "PA                                       # \n",
      "WV                                       # \n",
      "NC                                       # \n",
      "Scott Jenkins response locations         # \n",
      "NM                                       # \n",
      "MT                                       # \n",
      "King Barnes response locations           # \n",
      "AR                                       # \n",
      "AL                                       # \n",
      "KY                                       # \n",
      "PA                                       # \n",
      "AZ                                       # \n",
      "Hernandez Wood response locations        # \n",
      "Taylor Murphy response locations         # \n",
      "Perez Butler response locations          # \n",
      "NJ                                       # \n",
      "Martin Howard response locations         # \n",
      "CO                                       # \n",
      "CT                                       # \n",
      "GeocodingTools                           # \n",
      "ND                                       # \n",
      "MT                                       # \n",
      "MI                                       # \n",
      "OR                                       # \n",
      "WA                                       # \n",
      "NY                                       # \n",
      "Gonzalez Patterson response locations    # \n",
      "Wilson Morgan response locations         # \n",
      "UT                                       # \n",
      "SampleWorldCities                        # \n",
      "FL                                       # \n",
      "Allen Price response locations           # \n",
      "Harris Cox response locations            # \n",
      "CA                                       # \n",
      "VA                                       # \n",
      "Thompson Ward response locations         # \n",
      "TX                                       # \n",
      "Robinson Gray response locations         # "
     ]
    }
   ],
   "source": [
    "for key in source_items_by_id.keys():\n",
    "    item = source_items_by_id[key]\n",
    "    print(\"\\n{:40s}\".format(item.title), end = \" # \")\n",
    "    if 'groups' in item:\n",
    "        print(item.access, end = \" # \")\n",
    "        print(item.groups, end = \"\")"
   ]
  },
  {
   "cell_type": "markdown",
   "metadata": {
    "collapsed": true
   },
   "source": [
    "## Copy Items"
   ]
  },
  {
   "cell_type": "code",
   "execution_count": 20,
   "metadata": {
    "collapsed": false
   },
   "outputs": [],
   "source": [
    "TEXT_BASED_ITEM_TYPES = frozenset(['Web Map', 'Feature Service', 'Map Service','Web Scene',\n",
    "                                   'Image Service', 'Feature Collection', \n",
    "                                   'Feature Collection Template',\n",
    "                                   'Web Mapping Application', 'Mobile Application', \n",
    "                                   'Symbol Set', 'Color Set',\n",
    "                                   'Windows Viewer Configuration'])\n",
    "ITEM_COPY_PROPERTIES = ['title', 'type', 'typeKeywords', 'description', 'tags',\n",
    "                        'snippet', 'extent', 'spatialReference', 'name',\n",
    "                        'accessInformation', 'licenseInfo', 'culture', 'url', ]\n",
    "\n",
    "def copy_item(target, owner, folder, item):\n",
    "    with tempfile.TemporaryDirectory() as temp_dir:\n",
    "        copy_item = {}\n",
    "        for property_name in ITEM_COPY_PROPERTIES:\n",
    "            copy_item[property_name] = item[property_name]\n",
    "\n",
    "        data_file = None\n",
    "        if item.type in TEXT_BASED_ITEM_TYPES:\n",
    "            # If its a text-based item, then read the text and add it to the request.\n",
    "            if item.size > 0:\n",
    "                text = item.get_data(False)\n",
    "                #textstr = text.decode('utf-8')\n",
    "                copy_item['text'] = text\n",
    "        elif item.size > 0: # download data for all other types, not just item.type in FILE_BASED_ITEM_TYPES:\n",
    "            # download data and add to the request as a file\n",
    "            data_file = item.download(temp_dir)\n",
    "\n",
    "        thumbnail_file = item.download_thumbnail(temp_dir)\n",
    "\n",
    "        metadata_file = item.download_metadata(temp_dir)\n",
    "\n",
    "        # Add the item to the target portal\n",
    "        copied_item = target.content.add(copy_item, data_file, thumbnail_file, \n",
    "                                         metadata_file, owner, folder)\n",
    "\n",
    "        return copied_item"
   ]
  },
  {
   "cell_type": "code",
   "execution_count": 21,
   "metadata": {
    "collapsed": false
   },
   "outputs": [],
   "source": [
    "RELATIONSHIP_TYPES = frozenset(['Map2Service', 'WMA2Code',\n",
    "                                'Map2FeatureCollection', 'MobileApp2Code', 'Service2Data',\n",
    "                                'Service2Service'])\n",
    "\n",
    "def copy_relationships(target, copied_items, src_item, relationships, owner, folder):\n",
    "    \n",
    "    target_item_id = copied_items.get(src_item.itemid)\n",
    "    if target_item_id is not None:\n",
    "        target_item = target.content.get(target_item_id)\n",
    "\n",
    "        for rel_type in RELATIONSHIP_TYPES:\n",
    "            src_rel_items = src_item.related_items(rel_type)\n",
    "\n",
    "            for src_rel_item in src_rel_items:\n",
    "                print(\"***Found related items for \" + src_rel_item.title)\n",
    "                source_rel_id = src_rel_item.itemid\n",
    "\n",
    "                # See if it's already been copied to the target\n",
    "                target_rel_id = copied_items.get(source_rel_id)\n",
    "                if not target_rel_id:\n",
    "                    # If not, then copy it to the target - folder may have moved though?\n",
    "                    target_rel_item = clone_item(target, owner, folder, src_rel_item)\n",
    "\n",
    "                    if target_rel_item is not None:\n",
    "                        # add relationship from target_item to copied item\n",
    "                        result = target_item.add_relationship(target_rel_item, rel_type)\n",
    "\n",
    "                        if not result:\n",
    "                            print('Unable to add relationship from ' +  target_item.itemid + ' to ' + target_rel_item.itemid)\n",
    "                    else:\n",
    "                        print(\"@@@Error Cloning Item \"+src_rel_item.title)"
   ]
  },
  {
   "cell_type": "code",
   "execution_count": 22,
   "metadata": {
    "collapsed": false,
    "scrolled": false
   },
   "outputs": [
    {
     "name": "stdout",
     "output_type": "stream",
     "text": [
      "**************\n",
      "adams.powell\n"
     ]
    },
    {
     "data": {
      "text/html": [
       "<div class=\"item_container\" style=\"height: auto; overflow: hidden; border: 1px solid #cfcfcf; border-radius: 2px; background: #f6fafa; line-height: 1.21429em; padding: 10px;\">\n",
       "                    <div class=\"item_left\" style=\"width: 210px; float: left;\">\n",
       "                       <a href='https://dev003328.esri.com/portal/home/item.html?id=ae59fdb18bf4475da05eeade0df030b2' target='_blank'>\n",
       "                        <img src='https://dev003328.esri.com/portal/portalimages/desktopapp.png' class=\"itemThumbnail\">\n",
       "                       </a>\n",
       "                    </div>\n",
       "\n",
       "                    <div class=\"item_right\"     style=\"float: none; width: auto; overflow: hidden;\">\n",
       "                        <a href='https://dev003328.esri.com/portal/home/item.html?id=ae59fdb18bf4475da05eeade0df030b2' target='_blank'><b>Adams Powell response locations</b>\n",
       "                        </a>\n",
       "                        <br/>Areas affected by Hurricane Matthew under the supervision ofAdams Powell<img src='https://dev003328.esri.com/portal/home/js/jsapi/esri/css/images/item_type_icons/maps16.png' style=\"vertical-align:middle;\">Web Map by adams.powell\n",
       "                        <br/>Last Modified: November 24, 2016\n",
       "                        <br/>0 comments, 0 views\n",
       "                    </div>\n",
       "                </div>\n",
       "                "
      ],
      "text/plain": [
       "<Item title:\"Adams Powell response locations\" type:Web Map owner:adams.powell>"
      ]
     },
     "metadata": {},
     "output_type": "display_data"
    },
    {
     "data": {
      "text/html": [
       "<div class=\"item_container\" style=\"height: auto; overflow: hidden; border: 1px solid #cfcfcf; border-radius: 2px; background: #f6fafa; line-height: 1.21429em; padding: 10px;\">\n",
       "                    <div class=\"item_left\" style=\"width: 210px; float: left;\">\n",
       "                       <a href='https://dev003328.esri.com/portal/home/item.html?id=a1ce58453bf441e690562697f603fe9d' target='_blank'>\n",
       "                        <img src='https://dev003328.esri.com/portal/portalimages/desktopapp.png' class=\"itemThumbnail\">\n",
       "                       </a>\n",
       "                    </div>\n",
       "\n",
       "                    <div class=\"item_right\"     style=\"float: none; width: auto; overflow: hidden;\">\n",
       "                        <a href='https://dev003328.esri.com/portal/home/item.html?id=a1ce58453bf441e690562697f603fe9d' target='_blank'><b>SC</b>\n",
       "                        </a>\n",
       "                        <br/><img src='https://dev003328.esri.com/portal/home/js/jsapi/esri/css/images/item_type_icons/featureshosted16.png' style=\"vertical-align:middle;\">Feature Layer Collection by adams.powell\n",
       "                        <br/>Last Modified: November 24, 2016\n",
       "                        <br/>0 comments, 0 views\n",
       "                    </div>\n",
       "                </div>\n",
       "                "
      ],
      "text/plain": [
       "<Item title:\"SC\" type:Feature Service owner:adams.powell>"
      ]
     },
     "metadata": {},
     "output_type": "display_data"
    },
    {
     "data": {
      "text/html": [
       "<div class=\"item_container\" style=\"height: auto; overflow: hidden; border: 1px solid #cfcfcf; border-radius: 2px; background: #f6fafa; line-height: 1.21429em; padding: 10px;\">\n",
       "                    <div class=\"item_left\" style=\"width: 210px; float: left;\">\n",
       "                       <a href='https://dev003328.esri.com/portal/home/item.html?id=44dad6da88f54569a46046946a6b3656' target='_blank'>\n",
       "                        <img src='https://dev003328.esri.com/portal/portalimages/desktopapp.png' class=\"itemThumbnail\">\n",
       "                       </a>\n",
       "                    </div>\n",
       "\n",
       "                    <div class=\"item_right\"     style=\"float: none; width: auto; overflow: hidden;\">\n",
       "                        <a href='https://dev003328.esri.com/portal/home/item.html?id=44dad6da88f54569a46046946a6b3656' target='_blank'><b>SC</b>\n",
       "                        </a>\n",
       "                        <br/><img src='https://dev003328.esri.com/portal/home/js/jsapi/esri/css/images/item_type_icons/layers16.png' style=\"vertical-align:middle;\">CSV by adams.powell\n",
       "                        <br/>Last Modified: November 24, 2016\n",
       "                        <br/>0 comments, 2 views\n",
       "                    </div>\n",
       "                </div>\n",
       "                "
      ],
      "text/plain": [
       "<Item title:\"SC\" type:CSV owner:adams.powell>"
      ]
     },
     "metadata": {},
     "output_type": "display_data"
    },
    {
     "name": "stdout",
     "output_type": "stream",
     "text": [
      "**************\n",
      "admin\n"
     ]
    },
    {
     "data": {
      "text/html": [
       "<div class=\"item_container\" style=\"height: auto; overflow: hidden; border: 1px solid #cfcfcf; border-radius: 2px; background: #f6fafa; line-height: 1.21429em; padding: 10px;\">\n",
       "                    <div class=\"item_left\" style=\"width: 210px; float: left;\">\n",
       "                       <a href='https://dev003328.esri.com/portal/home/item.html?id=08aa9909bf5d4e338c36fc428b4db2a2' target='_blank'>\n",
       "                        <img src='https://dev003328.esri.com/portal/portalimages/desktopapp.png' class=\"itemThumbnail\">\n",
       "                       </a>\n",
       "                    </div>\n",
       "\n",
       "                    <div class=\"item_right\"     style=\"float: none; width: auto; overflow: hidden;\">\n",
       "                        <a href='https://dev003328.esri.com/portal/home/item.html?id=08aa9909bf5d4e338c36fc428b4db2a2' target='_blank'><b>SampleWorldCities</b>\n",
       "                        </a>\n",
       "                        <br/><img src='https://dev003328.esri.com/portal/home/js/jsapi/esri/css/images/item_type_icons/mapimages16.png' style=\"vertical-align:middle;\">WMS by admin\n",
       "                        <br/>Last Modified: November 24, 2016\n",
       "                        <br/>0 comments, 0 views\n",
       "                    </div>\n",
       "                </div>\n",
       "                "
      ],
      "text/plain": [
       "<Item title:\"SampleWorldCities\" type:WMS owner:admin>"
      ]
     },
     "metadata": {},
     "output_type": "display_data"
    },
    {
     "data": {
      "text/html": [
       "<div class=\"item_container\" style=\"height: auto; overflow: hidden; border: 1px solid #cfcfcf; border-radius: 2px; background: #f6fafa; line-height: 1.21429em; padding: 10px;\">\n",
       "                    <div class=\"item_left\" style=\"width: 210px; float: left;\">\n",
       "                       <a href='https://dev003328.esri.com/portal/home/item.html?id=7b2863dd8b0a4d76b94c15a39591405b' target='_blank'>\n",
       "                        <img src='https://dev003328.esri.com/portal/portalimages/desktopapp.png' class=\"itemThumbnail\">\n",
       "                       </a>\n",
       "                    </div>\n",
       "\n",
       "                    <div class=\"item_right\"     style=\"float: none; width: auto; overflow: hidden;\">\n",
       "                        <a href='https://dev003328.esri.com/portal/home/item.html?id=7b2863dd8b0a4d76b94c15a39591405b' target='_blank'><b>Geometry</b>\n",
       "                        </a>\n",
       "                        <br/><img src='https://dev003328.esri.com/portal/home/js/jsapi/esri/css/images/item_type_icons/layers16.png' style=\"vertical-align:middle;\">Geometry Layer by admin\n",
       "                        <br/>Last Modified: November 24, 2016\n",
       "                        <br/>0 comments, 0 views\n",
       "                    </div>\n",
       "                </div>\n",
       "                "
      ],
      "text/plain": [
       "<Item title:\"Geometry\" type:Geometry Service owner:admin>"
      ]
     },
     "metadata": {},
     "output_type": "display_data"
    },
    {
     "data": {
      "text/html": [
       "<div class=\"item_container\" style=\"height: auto; overflow: hidden; border: 1px solid #cfcfcf; border-radius: 2px; background: #f6fafa; line-height: 1.21429em; padding: 10px;\">\n",
       "                    <div class=\"item_left\" style=\"width: 210px; float: left;\">\n",
       "                       <a href='https://dev003328.esri.com/portal/home/item.html?id=9cea0b57c6e440d4af4ff8b2e68107ce' target='_blank'>\n",
       "                        <img src='https://dev003328.esri.com/portal/portalimages/desktopapp.png' class=\"itemThumbnail\">\n",
       "                       </a>\n",
       "                    </div>\n",
       "\n",
       "                    <div class=\"item_right\"     style=\"float: none; width: auto; overflow: hidden;\">\n",
       "                        <a href='https://dev003328.esri.com/portal/home/item.html?id=9cea0b57c6e440d4af4ff8b2e68107ce' target='_blank'><b>SampleWorldCities</b>\n",
       "                        </a>\n",
       "                        <br/><img src='https://dev003328.esri.com/portal/home/js/jsapi/esri/css/images/item_type_icons/mapimages16.png' style=\"vertical-align:middle;\">Map Image Layer by admin\n",
       "                        <br/>Last Modified: November 24, 2016\n",
       "                        <br/>0 comments, 0 views\n",
       "                    </div>\n",
       "                </div>\n",
       "                "
      ],
      "text/plain": [
       "<Item title:\"SampleWorldCities\" type:Map Service owner:admin>"
      ]
     },
     "metadata": {},
     "output_type": "display_data"
    },
    {
     "data": {
      "text/html": [
       "<div class=\"item_container\" style=\"height: auto; overflow: hidden; border: 1px solid #cfcfcf; border-radius: 2px; background: #f6fafa; line-height: 1.21429em; padding: 10px;\">\n",
       "                    <div class=\"item_left\" style=\"width: 210px; float: left;\">\n",
       "                       <a href='https://dev003328.esri.com/portal/home/item.html?id=7f5727688f314afbb7eee467419da459' target='_blank'>\n",
       "                        <img src='https://dev003328.esri.com/portal/portalimages/desktopapp.png' class=\"itemThumbnail\">\n",
       "                       </a>\n",
       "                    </div>\n",
       "\n",
       "                    <div class=\"item_right\"     style=\"float: none; width: auto; overflow: hidden;\">\n",
       "                        <a href='https://dev003328.esri.com/portal/home/item.html?id=7f5727688f314afbb7eee467419da459' target='_blank'><b>GeocodingTools</b>\n",
       "                        </a>\n",
       "                        <br/><img src='https://dev003328.esri.com/portal/home/js/jsapi/esri/css/images/item_type_icons/layers16.png' style=\"vertical-align:middle;\">Geoprocessing Toolbox by admin\n",
       "                        <br/>Last Modified: November 24, 2016\n",
       "                        <br/>0 comments, 0 views\n",
       "                    </div>\n",
       "                </div>\n",
       "                "
      ],
      "text/plain": [
       "<Item title:\"GeocodingTools\" type:Geoprocessing Service owner:admin>"
      ]
     },
     "metadata": {},
     "output_type": "display_data"
    },
    {
     "data": {
      "text/html": [
       "<div class=\"item_container\" style=\"height: auto; overflow: hidden; border: 1px solid #cfcfcf; border-radius: 2px; background: #f6fafa; line-height: 1.21429em; padding: 10px;\">\n",
       "                    <div class=\"item_left\" style=\"width: 210px; float: left;\">\n",
       "                       <a href='https://dev003328.esri.com/portal/home/item.html?id=1b2afbe7ac1f46b29c81f358308742c6' target='_blank'>\n",
       "                        <img src='https://dev003328.esri.com/portal/portalimages/desktopapp.png' class=\"itemThumbnail\">\n",
       "                       </a>\n",
       "                    </div>\n",
       "\n",
       "                    <div class=\"item_right\"     style=\"float: none; width: auto; overflow: hidden;\">\n",
       "                        <a href='https://dev003328.esri.com/portal/home/item.html?id=1b2afbe7ac1f46b29c81f358308742c6' target='_blank'><b>PrintingTools</b>\n",
       "                        </a>\n",
       "                        <br/><img src='https://dev003328.esri.com/portal/home/js/jsapi/esri/css/images/item_type_icons/layers16.png' style=\"vertical-align:middle;\">Geoprocessing Toolbox by admin\n",
       "                        <br/>Last Modified: November 24, 2016\n",
       "                        <br/>0 comments, 0 views\n",
       "                    </div>\n",
       "                </div>\n",
       "                "
      ],
      "text/plain": [
       "<Item title:\"PrintingTools\" type:Geoprocessing Service owner:admin>"
      ]
     },
     "metadata": {},
     "output_type": "display_data"
    },
    {
     "data": {
      "text/html": [
       "<div class=\"item_container\" style=\"height: auto; overflow: hidden; border: 1px solid #cfcfcf; border-radius: 2px; background: #f6fafa; line-height: 1.21429em; padding: 10px;\">\n",
       "                    <div class=\"item_left\" style=\"width: 210px; float: left;\">\n",
       "                       <a href='https://dev003328.esri.com/portal/home/item.html?id=574bbd53888f441cb4afbd30578f0ab8' target='_blank'>\n",
       "                        <img src='https://dev003328.esri.com/portal/portalimages/desktopapp.png' class=\"itemThumbnail\">\n",
       "                       </a>\n",
       "                    </div>\n",
       "\n",
       "                    <div class=\"item_right\"     style=\"float: none; width: auto; overflow: hidden;\">\n",
       "                        <a href='https://dev003328.esri.com/portal/home/item.html?id=574bbd53888f441cb4afbd30578f0ab8' target='_blank'><b>Harris Cox response locations</b>\n",
       "                        </a>\n",
       "                        <br/>Areas affected by Hurricane Matthew under the supervision ofHarris Cox<img src='https://dev003328.esri.com/portal/home/js/jsapi/esri/css/images/item_type_icons/maps16.png' style=\"vertical-align:middle;\">Web Map by admin\n",
       "                        <br/>Last Modified: November 24, 2016\n",
       "                        <br/>0 comments, 0 views\n",
       "                    </div>\n",
       "                </div>\n",
       "                "
      ],
      "text/plain": [
       "<Item title:\"Harris Cox response locations\" type:Web Map owner:admin>"
      ]
     },
     "metadata": {},
     "output_type": "display_data"
    },
    {
     "data": {
      "text/html": [
       "<div class=\"item_container\" style=\"height: auto; overflow: hidden; border: 1px solid #cfcfcf; border-radius: 2px; background: #f6fafa; line-height: 1.21429em; padding: 10px;\">\n",
       "                    <div class=\"item_left\" style=\"width: 210px; float: left;\">\n",
       "                       <a href='https://dev003328.esri.com/portal/home/item.html?id=97fabe4ed3474ed284c8ab75c5b4ccd3' target='_blank'>\n",
       "                        <img src='https://dev003328.esri.com/portal/portalimages/desktopapp.png' class=\"itemThumbnail\">\n",
       "                       </a>\n",
       "                    </div>\n",
       "\n",
       "                    <div class=\"item_right\"     style=\"float: none; width: auto; overflow: hidden;\">\n",
       "                        <a href='https://dev003328.esri.com/portal/home/item.html?id=97fabe4ed3474ed284c8ab75c5b4ccd3' target='_blank'><b>MI</b>\n",
       "                        </a>\n",
       "                        <br/><img src='https://dev003328.esri.com/portal/home/js/jsapi/esri/css/images/item_type_icons/featureshosted16.png' style=\"vertical-align:middle;\">Feature Layer Collection by admin\n",
       "                        <br/>Last Modified: November 24, 2016\n",
       "                        <br/>0 comments, 2 views\n",
       "                    </div>\n",
       "                </div>\n",
       "                "
      ],
      "text/plain": [
       "<Item title:\"MI\" type:Feature Service owner:admin>"
      ]
     },
     "metadata": {},
     "output_type": "display_data"
    },
    {
     "data": {
      "text/html": [
       "<div class=\"item_container\" style=\"height: auto; overflow: hidden; border: 1px solid #cfcfcf; border-radius: 2px; background: #f6fafa; line-height: 1.21429em; padding: 10px;\">\n",
       "                    <div class=\"item_left\" style=\"width: 210px; float: left;\">\n",
       "                       <a href='https://dev003328.esri.com/portal/home/item.html?id=ae05a1ef01ce456e86c3270f6a6438dd' target='_blank'>\n",
       "                        <img src='https://dev003328.esri.com/portal/portalimages/desktopapp.png' class=\"itemThumbnail\">\n",
       "                       </a>\n",
       "                    </div>\n",
       "\n",
       "                    <div class=\"item_right\"     style=\"float: none; width: auto; overflow: hidden;\">\n",
       "                        <a href='https://dev003328.esri.com/portal/home/item.html?id=ae05a1ef01ce456e86c3270f6a6438dd' target='_blank'><b>MI</b>\n",
       "                        </a>\n",
       "                        <br/><img src='https://dev003328.esri.com/portal/home/js/jsapi/esri/css/images/item_type_icons/layers16.png' style=\"vertical-align:middle;\">CSV by admin\n",
       "                        <br/>Last Modified: November 24, 2016\n",
       "                        <br/>0 comments, 2 views\n",
       "                    </div>\n",
       "                </div>\n",
       "                "
      ],
      "text/plain": [
       "<Item title:\"MI\" type:CSV owner:admin>"
      ]
     },
     "metadata": {},
     "output_type": "display_data"
    },
    {
     "data": {
      "text/html": [
       "<div class=\"item_container\" style=\"height: auto; overflow: hidden; border: 1px solid #cfcfcf; border-radius: 2px; background: #f6fafa; line-height: 1.21429em; padding: 10px;\">\n",
       "                    <div class=\"item_left\" style=\"width: 210px; float: left;\">\n",
       "                       <a href='https://dev003328.esri.com/portal/home/item.html?id=30b98dbb9fe4419aaeb5297f4cc5e3bd' target='_blank'>\n",
       "                        <img src='https://dev003328.esri.com/portal/portalimages/desktopapp.png' class=\"itemThumbnail\">\n",
       "                       </a>\n",
       "                    </div>\n",
       "\n",
       "                    <div class=\"item_right\"     style=\"float: none; width: auto; overflow: hidden;\">\n",
       "                        <a href='https://dev003328.esri.com/portal/home/item.html?id=30b98dbb9fe4419aaeb5297f4cc5e3bd' target='_blank'><b>FM</b>\n",
       "                        </a>\n",
       "                        <br/><img src='https://dev003328.esri.com/portal/home/js/jsapi/esri/css/images/item_type_icons/layers16.png' style=\"vertical-align:middle;\">CSV by admin\n",
       "                        <br/>Last Modified: November 24, 2016\n",
       "                        <br/>0 comments, 1 views\n",
       "                    </div>\n",
       "                </div>\n",
       "                "
      ],
      "text/plain": [
       "<Item title:\"FM\" type:CSV owner:admin>"
      ]
     },
     "metadata": {},
     "output_type": "display_data"
    },
    {
     "name": "stdout",
     "output_type": "stream",
     "text": [
      "**************\n",
      "allen.price\n"
     ]
    },
    {
     "data": {
      "text/html": [
       "<div class=\"item_container\" style=\"height: auto; overflow: hidden; border: 1px solid #cfcfcf; border-radius: 2px; background: #f6fafa; line-height: 1.21429em; padding: 10px;\">\n",
       "                    <div class=\"item_left\" style=\"width: 210px; float: left;\">\n",
       "                       <a href='https://dev003328.esri.com/portal/home/item.html?id=b92aa4f3477749a49430ff0b8ff7b16f' target='_blank'>\n",
       "                        <img src='https://dev003328.esri.com/portal/portalimages/desktopapp.png' class=\"itemThumbnail\">\n",
       "                       </a>\n",
       "                    </div>\n",
       "\n",
       "                    <div class=\"item_right\"     style=\"float: none; width: auto; overflow: hidden;\">\n",
       "                        <a href='https://dev003328.esri.com/portal/home/item.html?id=b92aa4f3477749a49430ff0b8ff7b16f' target='_blank'><b>OH</b>\n",
       "                        </a>\n",
       "                        <br/><img src='https://dev003328.esri.com/portal/home/js/jsapi/esri/css/images/item_type_icons/layers16.png' style=\"vertical-align:middle;\">CSV by allen.price\n",
       "                        <br/>Last Modified: November 24, 2016\n",
       "                        <br/>0 comments, 2 views\n",
       "                    </div>\n",
       "                </div>\n",
       "                "
      ],
      "text/plain": [
       "<Item title:\"OH\" type:CSV owner:allen.price>"
      ]
     },
     "metadata": {},
     "output_type": "display_data"
    },
    {
     "data": {
      "text/html": [
       "<div class=\"item_container\" style=\"height: auto; overflow: hidden; border: 1px solid #cfcfcf; border-radius: 2px; background: #f6fafa; line-height: 1.21429em; padding: 10px;\">\n",
       "                    <div class=\"item_left\" style=\"width: 210px; float: left;\">\n",
       "                       <a href='https://dev003328.esri.com/portal/home/item.html?id=e0a5e3a138034ca99d05079917f88ba2' target='_blank'>\n",
       "                        <img src='https://dev003328.esri.com/portal/portalimages/desktopapp.png' class=\"itemThumbnail\">\n",
       "                       </a>\n",
       "                    </div>\n",
       "\n",
       "                    <div class=\"item_right\"     style=\"float: none; width: auto; overflow: hidden;\">\n",
       "                        <a href='https://dev003328.esri.com/portal/home/item.html?id=e0a5e3a138034ca99d05079917f88ba2' target='_blank'><b>Allen Price response locations</b>\n",
       "                        </a>\n",
       "                        <br/>Areas affected by Hurricane Matthew under the supervision ofAllen Price<img src='https://dev003328.esri.com/portal/home/js/jsapi/esri/css/images/item_type_icons/maps16.png' style=\"vertical-align:middle;\">Web Map by allen.price\n",
       "                        <br/>Last Modified: November 24, 2016\n",
       "                        <br/>0 comments, 0 views\n",
       "                    </div>\n",
       "                </div>\n",
       "                "
      ],
      "text/plain": [
       "<Item title:\"Allen Price response locations\" type:Web Map owner:allen.price>"
      ]
     },
     "metadata": {},
     "output_type": "display_data"
    },
    {
     "data": {
      "text/html": [
       "<div class=\"item_container\" style=\"height: auto; overflow: hidden; border: 1px solid #cfcfcf; border-radius: 2px; background: #f6fafa; line-height: 1.21429em; padding: 10px;\">\n",
       "                    <div class=\"item_left\" style=\"width: 210px; float: left;\">\n",
       "                       <a href='https://dev003328.esri.com/portal/home/item.html?id=2a9a544dca8347b09db48610e56014b1' target='_blank'>\n",
       "                        <img src='https://dev003328.esri.com/portal/portalimages/desktopapp.png' class=\"itemThumbnail\">\n",
       "                       </a>\n",
       "                    </div>\n",
       "\n",
       "                    <div class=\"item_right\"     style=\"float: none; width: auto; overflow: hidden;\">\n",
       "                        <a href='https://dev003328.esri.com/portal/home/item.html?id=2a9a544dca8347b09db48610e56014b1' target='_blank'><b>OH</b>\n",
       "                        </a>\n",
       "                        <br/><img src='https://dev003328.esri.com/portal/home/js/jsapi/esri/css/images/item_type_icons/featureshosted16.png' style=\"vertical-align:middle;\">Feature Layer Collection by allen.price\n",
       "                        <br/>Last Modified: November 24, 2016\n",
       "                        <br/>0 comments, 0 views\n",
       "                    </div>\n",
       "                </div>\n",
       "                "
      ],
      "text/plain": [
       "<Item title:\"OH\" type:Feature Service owner:allen.price>"
      ]
     },
     "metadata": {},
     "output_type": "display_data"
    },
    {
     "name": "stdout",
     "output_type": "stream",
     "text": [
      "**************\n",
      "anderson.bailey\n"
     ]
    },
    {
     "data": {
      "text/html": [
       "<div class=\"item_container\" style=\"height: auto; overflow: hidden; border: 1px solid #cfcfcf; border-radius: 2px; background: #f6fafa; line-height: 1.21429em; padding: 10px;\">\n",
       "                    <div class=\"item_left\" style=\"width: 210px; float: left;\">\n",
       "                       <a href='https://dev003328.esri.com/portal/home/item.html?id=321cff9077bd4217bba425bc3f1b8cb6' target='_blank'>\n",
       "                        <img src='https://dev003328.esri.com/portal/portalimages/desktopapp.png' class=\"itemThumbnail\">\n",
       "                       </a>\n",
       "                    </div>\n",
       "\n",
       "                    <div class=\"item_right\"     style=\"float: none; width: auto; overflow: hidden;\">\n",
       "                        <a href='https://dev003328.esri.com/portal/home/item.html?id=321cff9077bd4217bba425bc3f1b8cb6' target='_blank'><b>NY</b>\n",
       "                        </a>\n",
       "                        <br/><img src='https://dev003328.esri.com/portal/home/js/jsapi/esri/css/images/item_type_icons/layers16.png' style=\"vertical-align:middle;\">CSV by anderson.bailey\n",
       "                        <br/>Last Modified: November 24, 2016\n",
       "                        <br/>0 comments, 2 views\n",
       "                    </div>\n",
       "                </div>\n",
       "                "
      ],
      "text/plain": [
       "<Item title:\"NY\" type:CSV owner:anderson.bailey>"
      ]
     },
     "metadata": {},
     "output_type": "display_data"
    },
    {
     "data": {
      "text/html": [
       "<div class=\"item_container\" style=\"height: auto; overflow: hidden; border: 1px solid #cfcfcf; border-radius: 2px; background: #f6fafa; line-height: 1.21429em; padding: 10px;\">\n",
       "                    <div class=\"item_left\" style=\"width: 210px; float: left;\">\n",
       "                       <a href='https://dev003328.esri.com/portal/home/item.html?id=48796d6ba3274c95babbba608fa2eb32' target='_blank'>\n",
       "                        <img src='https://dev003328.esri.com/portal/portalimages/desktopapp.png' class=\"itemThumbnail\">\n",
       "                       </a>\n",
       "                    </div>\n",
       "\n",
       "                    <div class=\"item_right\"     style=\"float: none; width: auto; overflow: hidden;\">\n",
       "                        <a href='https://dev003328.esri.com/portal/home/item.html?id=48796d6ba3274c95babbba608fa2eb32' target='_blank'><b>Anderson Bailey response locations</b>\n",
       "                        </a>\n",
       "                        <br/>Areas affected by Hurricane Matthew under the supervision ofAnderson Bailey<img src='https://dev003328.esri.com/portal/home/js/jsapi/esri/css/images/item_type_icons/maps16.png' style=\"vertical-align:middle;\">Web Map by anderson.bailey\n",
       "                        <br/>Last Modified: November 24, 2016\n",
       "                        <br/>0 comments, 0 views\n",
       "                    </div>\n",
       "                </div>\n",
       "                "
      ],
      "text/plain": [
       "<Item title:\"Anderson Bailey response locations\" type:Web Map owner:anderson.bailey>"
      ]
     },
     "metadata": {},
     "output_type": "display_data"
    },
    {
     "data": {
      "text/html": [
       "<div class=\"item_container\" style=\"height: auto; overflow: hidden; border: 1px solid #cfcfcf; border-radius: 2px; background: #f6fafa; line-height: 1.21429em; padding: 10px;\">\n",
       "                    <div class=\"item_left\" style=\"width: 210px; float: left;\">\n",
       "                       <a href='https://dev003328.esri.com/portal/home/item.html?id=e3d809db602b49f68ad35c09c2636ee2' target='_blank'>\n",
       "                        <img src='https://dev003328.esri.com/portal/portalimages/desktopapp.png' class=\"itemThumbnail\">\n",
       "                       </a>\n",
       "                    </div>\n",
       "\n",
       "                    <div class=\"item_right\"     style=\"float: none; width: auto; overflow: hidden;\">\n",
       "                        <a href='https://dev003328.esri.com/portal/home/item.html?id=e3d809db602b49f68ad35c09c2636ee2' target='_blank'><b>NY</b>\n",
       "                        </a>\n",
       "                        <br/><img src='https://dev003328.esri.com/portal/home/js/jsapi/esri/css/images/item_type_icons/featureshosted16.png' style=\"vertical-align:middle;\">Feature Layer Collection by anderson.bailey\n",
       "                        <br/>Last Modified: November 24, 2016\n",
       "                        <br/>0 comments, 0 views\n",
       "                    </div>\n",
       "                </div>\n",
       "                "
      ],
      "text/plain": [
       "<Item title:\"NY\" type:Feature Service owner:anderson.bailey>"
      ]
     },
     "metadata": {},
     "output_type": "display_data"
    },
    {
     "name": "stdout",
     "output_type": "stream",
     "text": [
      "**************\n",
      "baker.long\n"
     ]
    },
    {
     "data": {
      "text/html": [
       "<div class=\"item_container\" style=\"height: auto; overflow: hidden; border: 1px solid #cfcfcf; border-radius: 2px; background: #f6fafa; line-height: 1.21429em; padding: 10px;\">\n",
       "                    <div class=\"item_left\" style=\"width: 210px; float: left;\">\n",
       "                       <a href='https://dev003328.esri.com/portal/home/item.html?id=21c45f40f84249c2bec8b774e9a57d1a' target='_blank'>\n",
       "                        <img src='https://dev003328.esri.com/portal/portalimages/desktopapp.png' class=\"itemThumbnail\">\n",
       "                       </a>\n",
       "                    </div>\n",
       "\n",
       "                    <div class=\"item_right\"     style=\"float: none; width: auto; overflow: hidden;\">\n",
       "                        <a href='https://dev003328.esri.com/portal/home/item.html?id=21c45f40f84249c2bec8b774e9a57d1a' target='_blank'><b>Baker Long response locations</b>\n",
       "                        </a>\n",
       "                        <br/>Areas affected by Hurricane Matthew under the supervision ofBaker Long<img src='https://dev003328.esri.com/portal/home/js/jsapi/esri/css/images/item_type_icons/maps16.png' style=\"vertical-align:middle;\">Web Map by baker.long\n",
       "                        <br/>Last Modified: November 24, 2016\n",
       "                        <br/>0 comments, 0 views\n",
       "                    </div>\n",
       "                </div>\n",
       "                "
      ],
      "text/plain": [
       "<Item title:\"Baker Long response locations\" type:Web Map owner:baker.long>"
      ]
     },
     "metadata": {},
     "output_type": "display_data"
    },
    {
     "data": {
      "text/html": [
       "<div class=\"item_container\" style=\"height: auto; overflow: hidden; border: 1px solid #cfcfcf; border-radius: 2px; background: #f6fafa; line-height: 1.21429em; padding: 10px;\">\n",
       "                    <div class=\"item_left\" style=\"width: 210px; float: left;\">\n",
       "                       <a href='https://dev003328.esri.com/portal/home/item.html?id=0368c47cfe6744f69de3bc01748c8d07' target='_blank'>\n",
       "                        <img src='https://dev003328.esri.com/portal/portalimages/desktopapp.png' class=\"itemThumbnail\">\n",
       "                       </a>\n",
       "                    </div>\n",
       "\n",
       "                    <div class=\"item_right\"     style=\"float: none; width: auto; overflow: hidden;\">\n",
       "                        <a href='https://dev003328.esri.com/portal/home/item.html?id=0368c47cfe6744f69de3bc01748c8d07' target='_blank'><b>WY</b>\n",
       "                        </a>\n",
       "                        <br/><img src='https://dev003328.esri.com/portal/home/js/jsapi/esri/css/images/item_type_icons/featureshosted16.png' style=\"vertical-align:middle;\">Feature Layer Collection by baker.long\n",
       "                        <br/>Last Modified: November 24, 2016\n",
       "                        <br/>0 comments, 0 views\n",
       "                    </div>\n",
       "                </div>\n",
       "                "
      ],
      "text/plain": [
       "<Item title:\"WY\" type:Feature Service owner:baker.long>"
      ]
     },
     "metadata": {},
     "output_type": "display_data"
    },
    {
     "data": {
      "text/html": [
       "<div class=\"item_container\" style=\"height: auto; overflow: hidden; border: 1px solid #cfcfcf; border-radius: 2px; background: #f6fafa; line-height: 1.21429em; padding: 10px;\">\n",
       "                    <div class=\"item_left\" style=\"width: 210px; float: left;\">\n",
       "                       <a href='https://dev003328.esri.com/portal/home/item.html?id=f686ef3496b247d0977ecd916b581f46' target='_blank'>\n",
       "                        <img src='https://dev003328.esri.com/portal/portalimages/desktopapp.png' class=\"itemThumbnail\">\n",
       "                       </a>\n",
       "                    </div>\n",
       "\n",
       "                    <div class=\"item_right\"     style=\"float: none; width: auto; overflow: hidden;\">\n",
       "                        <a href='https://dev003328.esri.com/portal/home/item.html?id=f686ef3496b247d0977ecd916b581f46' target='_blank'><b>WY</b>\n",
       "                        </a>\n",
       "                        <br/><img src='https://dev003328.esri.com/portal/home/js/jsapi/esri/css/images/item_type_icons/layers16.png' style=\"vertical-align:middle;\">CSV by baker.long\n",
       "                        <br/>Last Modified: November 24, 2016\n",
       "                        <br/>0 comments, 2 views\n",
       "                    </div>\n",
       "                </div>\n",
       "                "
      ],
      "text/plain": [
       "<Item title:\"WY\" type:CSV owner:baker.long>"
      ]
     },
     "metadata": {},
     "output_type": "display_data"
    },
    {
     "name": "stdout",
     "output_type": "stream",
     "text": [
      "**************\n",
      "brown.rogers\n"
     ]
    },
    {
     "data": {
      "text/html": [
       "<div class=\"item_container\" style=\"height: auto; overflow: hidden; border: 1px solid #cfcfcf; border-radius: 2px; background: #f6fafa; line-height: 1.21429em; padding: 10px;\">\n",
       "                    <div class=\"item_left\" style=\"width: 210px; float: left;\">\n",
       "                       <a href='https://dev003328.esri.com/portal/home/item.html?id=99b159e1c98147cbb982bd00544d3279' target='_blank'>\n",
       "                        <img src='https://dev003328.esri.com/portal/portalimages/desktopapp.png' class=\"itemThumbnail\">\n",
       "                       </a>\n",
       "                    </div>\n",
       "\n",
       "                    <div class=\"item_right\"     style=\"float: none; width: auto; overflow: hidden;\">\n",
       "                        <a href='https://dev003328.esri.com/portal/home/item.html?id=99b159e1c98147cbb982bd00544d3279' target='_blank'><b>Brown Rogers response locations</b>\n",
       "                        </a>\n",
       "                        <br/>Areas affected by Hurricane Matthew under the supervision ofBrown Rogers<img src='https://dev003328.esri.com/portal/home/js/jsapi/esri/css/images/item_type_icons/maps16.png' style=\"vertical-align:middle;\">Web Map by brown.rogers\n",
       "                        <br/>Last Modified: November 24, 2016\n",
       "                        <br/>0 comments, 0 views\n",
       "                    </div>\n",
       "                </div>\n",
       "                "
      ],
      "text/plain": [
       "<Item title:\"Brown Rogers response locations\" type:Web Map owner:brown.rogers>"
      ]
     },
     "metadata": {},
     "output_type": "display_data"
    },
    {
     "data": {
      "text/html": [
       "<div class=\"item_container\" style=\"height: auto; overflow: hidden; border: 1px solid #cfcfcf; border-radius: 2px; background: #f6fafa; line-height: 1.21429em; padding: 10px;\">\n",
       "                    <div class=\"item_left\" style=\"width: 210px; float: left;\">\n",
       "                       <a href='https://dev003328.esri.com/portal/home/item.html?id=a3a85b515a7f4acc9566db434a5e7eea' target='_blank'>\n",
       "                        <img src='https://dev003328.esri.com/portal/portalimages/desktopapp.png' class=\"itemThumbnail\">\n",
       "                       </a>\n",
       "                    </div>\n",
       "\n",
       "                    <div class=\"item_right\"     style=\"float: none; width: auto; overflow: hidden;\">\n",
       "                        <a href='https://dev003328.esri.com/portal/home/item.html?id=a3a85b515a7f4acc9566db434a5e7eea' target='_blank'><b>AR</b>\n",
       "                        </a>\n",
       "                        <br/><img src='https://dev003328.esri.com/portal/home/js/jsapi/esri/css/images/item_type_icons/featureshosted16.png' style=\"vertical-align:middle;\">Feature Layer Collection by brown.rogers\n",
       "                        <br/>Last Modified: November 24, 2016\n",
       "                        <br/>0 comments, 0 views\n",
       "                    </div>\n",
       "                </div>\n",
       "                "
      ],
      "text/plain": [
       "<Item title:\"AR\" type:Feature Service owner:brown.rogers>"
      ]
     },
     "metadata": {},
     "output_type": "display_data"
    },
    {
     "data": {
      "text/html": [
       "<div class=\"item_container\" style=\"height: auto; overflow: hidden; border: 1px solid #cfcfcf; border-radius: 2px; background: #f6fafa; line-height: 1.21429em; padding: 10px;\">\n",
       "                    <div class=\"item_left\" style=\"width: 210px; float: left;\">\n",
       "                       <a href='https://dev003328.esri.com/portal/home/item.html?id=fa15ce7a84a543cbb0be8bf465771042' target='_blank'>\n",
       "                        <img src='https://dev003328.esri.com/portal/portalimages/desktopapp.png' class=\"itemThumbnail\">\n",
       "                       </a>\n",
       "                    </div>\n",
       "\n",
       "                    <div class=\"item_right\"     style=\"float: none; width: auto; overflow: hidden;\">\n",
       "                        <a href='https://dev003328.esri.com/portal/home/item.html?id=fa15ce7a84a543cbb0be8bf465771042' target='_blank'><b>AR</b>\n",
       "                        </a>\n",
       "                        <br/><img src='https://dev003328.esri.com/portal/home/js/jsapi/esri/css/images/item_type_icons/layers16.png' style=\"vertical-align:middle;\">CSV by brown.rogers\n",
       "                        <br/>Last Modified: November 24, 2016\n",
       "                        <br/>0 comments, 2 views\n",
       "                    </div>\n",
       "                </div>\n",
       "                "
      ],
      "text/plain": [
       "<Item title:\"AR\" type:CSV owner:brown.rogers>"
      ]
     },
     "metadata": {},
     "output_type": "display_data"
    },
    {
     "name": "stdout",
     "output_type": "stream",
     "text": [
      "**************\n",
      "campbell.bryant\n"
     ]
    },
    {
     "data": {
      "text/html": [
       "<div class=\"item_container\" style=\"height: auto; overflow: hidden; border: 1px solid #cfcfcf; border-radius: 2px; background: #f6fafa; line-height: 1.21429em; padding: 10px;\">\n",
       "                    <div class=\"item_left\" style=\"width: 210px; float: left;\">\n",
       "                       <a href='https://dev003328.esri.com/portal/home/item.html?id=6fb5abddec65434885f3620309e3b888' target='_blank'>\n",
       "                        <img src='https://dev003328.esri.com/portal/portalimages/desktopapp.png' class=\"itemThumbnail\">\n",
       "                       </a>\n",
       "                    </div>\n",
       "\n",
       "                    <div class=\"item_right\"     style=\"float: none; width: auto; overflow: hidden;\">\n",
       "                        <a href='https://dev003328.esri.com/portal/home/item.html?id=6fb5abddec65434885f3620309e3b888' target='_blank'><b>Campbell Bryant response locations</b>\n",
       "                        </a>\n",
       "                        <br/>Areas affected by Hurricane Matthew under the supervision ofCampbell Bryant<img src='https://dev003328.esri.com/portal/home/js/jsapi/esri/css/images/item_type_icons/maps16.png' style=\"vertical-align:middle;\">Web Map by campbell.bryant\n",
       "                        <br/>Last Modified: November 24, 2016\n",
       "                        <br/>0 comments, 0 views\n",
       "                    </div>\n",
       "                </div>\n",
       "                "
      ],
      "text/plain": [
       "<Item title:\"Campbell Bryant response locations\" type:Web Map owner:campbell.bryant>"
      ]
     },
     "metadata": {},
     "output_type": "display_data"
    },
    {
     "data": {
      "text/html": [
       "<div class=\"item_container\" style=\"height: auto; overflow: hidden; border: 1px solid #cfcfcf; border-radius: 2px; background: #f6fafa; line-height: 1.21429em; padding: 10px;\">\n",
       "                    <div class=\"item_left\" style=\"width: 210px; float: left;\">\n",
       "                       <a href='https://dev003328.esri.com/portal/home/item.html?id=7ed45a21f96b4eabbd64807fdabb459a' target='_blank'>\n",
       "                        <img src='https://dev003328.esri.com/portal/portalimages/desktopapp.png' class=\"itemThumbnail\">\n",
       "                       </a>\n",
       "                    </div>\n",
       "\n",
       "                    <div class=\"item_right\"     style=\"float: none; width: auto; overflow: hidden;\">\n",
       "                        <a href='https://dev003328.esri.com/portal/home/item.html?id=7ed45a21f96b4eabbd64807fdabb459a' target='_blank'><b>ND</b>\n",
       "                        </a>\n",
       "                        <br/><img src='https://dev003328.esri.com/portal/home/js/jsapi/esri/css/images/item_type_icons/featureshosted16.png' style=\"vertical-align:middle;\">Feature Layer Collection by campbell.bryant\n",
       "                        <br/>Last Modified: November 24, 2016\n",
       "                        <br/>0 comments, 0 views\n",
       "                    </div>\n",
       "                </div>\n",
       "                "
      ],
      "text/plain": [
       "<Item title:\"ND\" type:Feature Service owner:campbell.bryant>"
      ]
     },
     "metadata": {},
     "output_type": "display_data"
    },
    {
     "data": {
      "text/html": [
       "<div class=\"item_container\" style=\"height: auto; overflow: hidden; border: 1px solid #cfcfcf; border-radius: 2px; background: #f6fafa; line-height: 1.21429em; padding: 10px;\">\n",
       "                    <div class=\"item_left\" style=\"width: 210px; float: left;\">\n",
       "                       <a href='https://dev003328.esri.com/portal/home/item.html?id=f68dd238331e479f926fa2140df52811' target='_blank'>\n",
       "                        <img src='https://dev003328.esri.com/portal/portalimages/desktopapp.png' class=\"itemThumbnail\">\n",
       "                       </a>\n",
       "                    </div>\n",
       "\n",
       "                    <div class=\"item_right\"     style=\"float: none; width: auto; overflow: hidden;\">\n",
       "                        <a href='https://dev003328.esri.com/portal/home/item.html?id=f68dd238331e479f926fa2140df52811' target='_blank'><b>ND</b>\n",
       "                        </a>\n",
       "                        <br/><img src='https://dev003328.esri.com/portal/home/js/jsapi/esri/css/images/item_type_icons/layers16.png' style=\"vertical-align:middle;\">CSV by campbell.bryant\n",
       "                        <br/>Last Modified: November 24, 2016\n",
       "                        <br/>0 comments, 2 views\n",
       "                    </div>\n",
       "                </div>\n",
       "                "
      ],
      "text/plain": [
       "<Item title:\"ND\" type:CSV owner:campbell.bryant>"
      ]
     },
     "metadata": {},
     "output_type": "display_data"
    },
    {
     "name": "stdout",
     "output_type": "stream",
     "text": [
      "**************\n",
      "carter.flores\n"
     ]
    },
    {
     "data": {
      "text/html": [
       "<div class=\"item_container\" style=\"height: auto; overflow: hidden; border: 1px solid #cfcfcf; border-radius: 2px; background: #f6fafa; line-height: 1.21429em; padding: 10px;\">\n",
       "                    <div class=\"item_left\" style=\"width: 210px; float: left;\">\n",
       "                       <a href='https://dev003328.esri.com/portal/home/item.html?id=3f05df1f6ecf4d038029173322ff17fb' target='_blank'>\n",
       "                        <img src='https://dev003328.esri.com/portal/portalimages/desktopapp.png' class=\"itemThumbnail\">\n",
       "                       </a>\n",
       "                    </div>\n",
       "\n",
       "                    <div class=\"item_right\"     style=\"float: none; width: auto; overflow: hidden;\">\n",
       "                        <a href='https://dev003328.esri.com/portal/home/item.html?id=3f05df1f6ecf4d038029173322ff17fb' target='_blank'><b>Carter Flores response locations</b>\n",
       "                        </a>\n",
       "                        <br/>Areas affected by Hurricane Matthew under the supervision ofCarter Flores<img src='https://dev003328.esri.com/portal/home/js/jsapi/esri/css/images/item_type_icons/maps16.png' style=\"vertical-align:middle;\">Web Map by carter.flores\n",
       "                        <br/>Last Modified: November 24, 2016\n",
       "                        <br/>0 comments, 0 views\n",
       "                    </div>\n",
       "                </div>\n",
       "                "
      ],
      "text/plain": [
       "<Item title:\"Carter Flores response locations\" type:Web Map owner:carter.flores>"
      ]
     },
     "metadata": {},
     "output_type": "display_data"
    },
    {
     "data": {
      "text/html": [
       "<div class=\"item_container\" style=\"height: auto; overflow: hidden; border: 1px solid #cfcfcf; border-radius: 2px; background: #f6fafa; line-height: 1.21429em; padding: 10px;\">\n",
       "                    <div class=\"item_left\" style=\"width: 210px; float: left;\">\n",
       "                       <a href='https://dev003328.esri.com/portal/home/item.html?id=da87ff78742748878b15ca3b41f62e88' target='_blank'>\n",
       "                        <img src='https://dev003328.esri.com/portal/portalimages/desktopapp.png' class=\"itemThumbnail\">\n",
       "                       </a>\n",
       "                    </div>\n",
       "\n",
       "                    <div class=\"item_right\"     style=\"float: none; width: auto; overflow: hidden;\">\n",
       "                        <a href='https://dev003328.esri.com/portal/home/item.html?id=da87ff78742748878b15ca3b41f62e88' target='_blank'><b>PR</b>\n",
       "                        </a>\n",
       "                        <br/><img src='https://dev003328.esri.com/portal/home/js/jsapi/esri/css/images/item_type_icons/featureshosted16.png' style=\"vertical-align:middle;\">Feature Layer Collection by carter.flores\n",
       "                        <br/>Last Modified: November 24, 2016\n",
       "                        <br/>0 comments, 0 views\n",
       "                    </div>\n",
       "                </div>\n",
       "                "
      ],
      "text/plain": [
       "<Item title:\"PR\" type:Feature Service owner:carter.flores>"
      ]
     },
     "metadata": {},
     "output_type": "display_data"
    },
    {
     "data": {
      "text/html": [
       "<div class=\"item_container\" style=\"height: auto; overflow: hidden; border: 1px solid #cfcfcf; border-radius: 2px; background: #f6fafa; line-height: 1.21429em; padding: 10px;\">\n",
       "                    <div class=\"item_left\" style=\"width: 210px; float: left;\">\n",
       "                       <a href='https://dev003328.esri.com/portal/home/item.html?id=d3af346312a742348cf46cf97aeedae7' target='_blank'>\n",
       "                        <img src='https://dev003328.esri.com/portal/portalimages/desktopapp.png' class=\"itemThumbnail\">\n",
       "                       </a>\n",
       "                    </div>\n",
       "\n",
       "                    <div class=\"item_right\"     style=\"float: none; width: auto; overflow: hidden;\">\n",
       "                        <a href='https://dev003328.esri.com/portal/home/item.html?id=d3af346312a742348cf46cf97aeedae7' target='_blank'><b>PR</b>\n",
       "                        </a>\n",
       "                        <br/><img src='https://dev003328.esri.com/portal/home/js/jsapi/esri/css/images/item_type_icons/layers16.png' style=\"vertical-align:middle;\">CSV by carter.flores\n",
       "                        <br/>Last Modified: November 24, 2016\n",
       "                        <br/>0 comments, 2 views\n",
       "                    </div>\n",
       "                </div>\n",
       "                "
      ],
      "text/plain": [
       "<Item title:\"PR\" type:CSV owner:carter.flores>"
      ]
     },
     "metadata": {},
     "output_type": "display_data"
    },
    {
     "name": "stdout",
     "output_type": "stream",
     "text": [
      "**************\n",
      "clark.ramirez\n"
     ]
    },
    {
     "data": {
      "text/html": [
       "<div class=\"item_container\" style=\"height: auto; overflow: hidden; border: 1px solid #cfcfcf; border-radius: 2px; background: #f6fafa; line-height: 1.21429em; padding: 10px;\">\n",
       "                    <div class=\"item_left\" style=\"width: 210px; float: left;\">\n",
       "                       <a href='https://dev003328.esri.com/portal/home/item.html?id=d4426f534baf434d85b88fa93d502785' target='_blank'>\n",
       "                        <img src='https://dev003328.esri.com/portal/portalimages/desktopapp.png' class=\"itemThumbnail\">\n",
       "                       </a>\n",
       "                    </div>\n",
       "\n",
       "                    <div class=\"item_right\"     style=\"float: none; width: auto; overflow: hidden;\">\n",
       "                        <a href='https://dev003328.esri.com/portal/home/item.html?id=d4426f534baf434d85b88fa93d502785' target='_blank'><b>NJ</b>\n",
       "                        </a>\n",
       "                        <br/><img src='https://dev003328.esri.com/portal/home/js/jsapi/esri/css/images/item_type_icons/layers16.png' style=\"vertical-align:middle;\">CSV by clark.ramirez\n",
       "                        <br/>Last Modified: November 24, 2016\n",
       "                        <br/>0 comments, 2 views\n",
       "                    </div>\n",
       "                </div>\n",
       "                "
      ],
      "text/plain": [
       "<Item title:\"NJ\" type:CSV owner:clark.ramirez>"
      ]
     },
     "metadata": {},
     "output_type": "display_data"
    },
    {
     "data": {
      "text/html": [
       "<div class=\"item_container\" style=\"height: auto; overflow: hidden; border: 1px solid #cfcfcf; border-radius: 2px; background: #f6fafa; line-height: 1.21429em; padding: 10px;\">\n",
       "                    <div class=\"item_left\" style=\"width: 210px; float: left;\">\n",
       "                       <a href='https://dev003328.esri.com/portal/home/item.html?id=4262aa1c0a42443f8f14c9759567573f' target='_blank'>\n",
       "                        <img src='https://dev003328.esri.com/portal/portalimages/desktopapp.png' class=\"itemThumbnail\">\n",
       "                       </a>\n",
       "                    </div>\n",
       "\n",
       "                    <div class=\"item_right\"     style=\"float: none; width: auto; overflow: hidden;\">\n",
       "                        <a href='https://dev003328.esri.com/portal/home/item.html?id=4262aa1c0a42443f8f14c9759567573f' target='_blank'><b>Clark Ramirez response locations</b>\n",
       "                        </a>\n",
       "                        <br/>Areas affected by Hurricane Matthew under the supervision ofClark Ramirez<img src='https://dev003328.esri.com/portal/home/js/jsapi/esri/css/images/item_type_icons/maps16.png' style=\"vertical-align:middle;\">Web Map by clark.ramirez\n",
       "                        <br/>Last Modified: November 24, 2016\n",
       "                        <br/>0 comments, 0 views\n",
       "                    </div>\n",
       "                </div>\n",
       "                "
      ],
      "text/plain": [
       "<Item title:\"Clark Ramirez response locations\" type:Web Map owner:clark.ramirez>"
      ]
     },
     "metadata": {},
     "output_type": "display_data"
    },
    {
     "data": {
      "text/html": [
       "<div class=\"item_container\" style=\"height: auto; overflow: hidden; border: 1px solid #cfcfcf; border-radius: 2px; background: #f6fafa; line-height: 1.21429em; padding: 10px;\">\n",
       "                    <div class=\"item_left\" style=\"width: 210px; float: left;\">\n",
       "                       <a href='https://dev003328.esri.com/portal/home/item.html?id=c64b9bb927cd4723b8686396ee828f2d' target='_blank'>\n",
       "                        <img src='https://dev003328.esri.com/portal/portalimages/desktopapp.png' class=\"itemThumbnail\">\n",
       "                       </a>\n",
       "                    </div>\n",
       "\n",
       "                    <div class=\"item_right\"     style=\"float: none; width: auto; overflow: hidden;\">\n",
       "                        <a href='https://dev003328.esri.com/portal/home/item.html?id=c64b9bb927cd4723b8686396ee828f2d' target='_blank'><b>NJ</b>\n",
       "                        </a>\n",
       "                        <br/><img src='https://dev003328.esri.com/portal/home/js/jsapi/esri/css/images/item_type_icons/featureshosted16.png' style=\"vertical-align:middle;\">Feature Layer Collection by clark.ramirez\n",
       "                        <br/>Last Modified: November 24, 2016\n",
       "                        <br/>0 comments, 0 views\n",
       "                    </div>\n",
       "                </div>\n",
       "                "
      ],
      "text/plain": [
       "<Item title:\"NJ\" type:Feature Service owner:clark.ramirez>"
      ]
     },
     "metadata": {},
     "output_type": "display_data"
    },
    {
     "name": "stdout",
     "output_type": "stream",
     "text": [
      "**************\n",
      "davis.reed\n"
     ]
    },
    {
     "data": {
      "text/html": [
       "<div class=\"item_container\" style=\"height: auto; overflow: hidden; border: 1px solid #cfcfcf; border-radius: 2px; background: #f6fafa; line-height: 1.21429em; padding: 10px;\">\n",
       "                    <div class=\"item_left\" style=\"width: 210px; float: left;\">\n",
       "                       <a href='https://dev003328.esri.com/portal/home/item.html?id=9e5479e4c7a348bb931d29a66af7afc3' target='_blank'>\n",
       "                        <img src='https://dev003328.esri.com/portal/portalimages/desktopapp.png' class=\"itemThumbnail\">\n",
       "                       </a>\n",
       "                    </div>\n",
       "\n",
       "                    <div class=\"item_right\"     style=\"float: none; width: auto; overflow: hidden;\">\n",
       "                        <a href='https://dev003328.esri.com/portal/home/item.html?id=9e5479e4c7a348bb931d29a66af7afc3' target='_blank'><b>FL</b>\n",
       "                        </a>\n",
       "                        <br/><img src='https://dev003328.esri.com/portal/home/js/jsapi/esri/css/images/item_type_icons/layers16.png' style=\"vertical-align:middle;\">CSV by davis.reed\n",
       "                        <br/>Last Modified: November 24, 2016\n",
       "                        <br/>0 comments, 2 views\n",
       "                    </div>\n",
       "                </div>\n",
       "                "
      ],
      "text/plain": [
       "<Item title:\"FL\" type:CSV owner:davis.reed>"
      ]
     },
     "metadata": {},
     "output_type": "display_data"
    },
    {
     "data": {
      "text/html": [
       "<div class=\"item_container\" style=\"height: auto; overflow: hidden; border: 1px solid #cfcfcf; border-radius: 2px; background: #f6fafa; line-height: 1.21429em; padding: 10px;\">\n",
       "                    <div class=\"item_left\" style=\"width: 210px; float: left;\">\n",
       "                       <a href='https://dev003328.esri.com/portal/home/item.html?id=defa0f35fc4b4d8d87d4a0457e6bd162' target='_blank'>\n",
       "                        <img src='https://dev003328.esri.com/portal/portalimages/desktopapp.png' class=\"itemThumbnail\">\n",
       "                       </a>\n",
       "                    </div>\n",
       "\n",
       "                    <div class=\"item_right\"     style=\"float: none; width: auto; overflow: hidden;\">\n",
       "                        <a href='https://dev003328.esri.com/portal/home/item.html?id=defa0f35fc4b4d8d87d4a0457e6bd162' target='_blank'><b>Davis Reed response locations</b>\n",
       "                        </a>\n",
       "                        <br/>Areas affected by Hurricane Matthew under the supervision ofDavis Reed<img src='https://dev003328.esri.com/portal/home/js/jsapi/esri/css/images/item_type_icons/maps16.png' style=\"vertical-align:middle;\">Web Map by davis.reed\n",
       "                        <br/>Last Modified: November 24, 2016\n",
       "                        <br/>0 comments, 0 views\n",
       "                    </div>\n",
       "                </div>\n",
       "                "
      ],
      "text/plain": [
       "<Item title:\"Davis Reed response locations\" type:Web Map owner:davis.reed>"
      ]
     },
     "metadata": {},
     "output_type": "display_data"
    },
    {
     "data": {
      "text/html": [
       "<div class=\"item_container\" style=\"height: auto; overflow: hidden; border: 1px solid #cfcfcf; border-radius: 2px; background: #f6fafa; line-height: 1.21429em; padding: 10px;\">\n",
       "                    <div class=\"item_left\" style=\"width: 210px; float: left;\">\n",
       "                       <a href='https://dev003328.esri.com/portal/home/item.html?id=1276f1dd114c4a9b9fb6f58b796dfce8' target='_blank'>\n",
       "                        <img src='https://dev003328.esri.com/portal/portalimages/desktopapp.png' class=\"itemThumbnail\">\n",
       "                       </a>\n",
       "                    </div>\n",
       "\n",
       "                    <div class=\"item_right\"     style=\"float: none; width: auto; overflow: hidden;\">\n",
       "                        <a href='https://dev003328.esri.com/portal/home/item.html?id=1276f1dd114c4a9b9fb6f58b796dfce8' target='_blank'><b>FL</b>\n",
       "                        </a>\n",
       "                        <br/><img src='https://dev003328.esri.com/portal/home/js/jsapi/esri/css/images/item_type_icons/featureshosted16.png' style=\"vertical-align:middle;\">Feature Layer Collection by davis.reed\n",
       "                        <br/>Last Modified: November 24, 2016\n",
       "                        <br/>0 comments, 0 views\n",
       "                    </div>\n",
       "                </div>\n",
       "                "
      ],
      "text/plain": [
       "<Item title:\"FL\" type:Feature Service owner:davis.reed>"
      ]
     },
     "metadata": {},
     "output_type": "display_data"
    },
    {
     "name": "stdout",
     "output_type": "stream",
     "text": [
      "**************\n",
      "edwards.griffin\n"
     ]
    },
    {
     "data": {
      "text/html": [
       "<div class=\"item_container\" style=\"height: auto; overflow: hidden; border: 1px solid #cfcfcf; border-radius: 2px; background: #f6fafa; line-height: 1.21429em; padding: 10px;\">\n",
       "                    <div class=\"item_left\" style=\"width: 210px; float: left;\">\n",
       "                       <a href='https://dev003328.esri.com/portal/home/item.html?id=d15668b607be4b3085153d512b9569ee' target='_blank'>\n",
       "                        <img src='https://dev003328.esri.com/portal/portalimages/desktopapp.png' class=\"itemThumbnail\">\n",
       "                       </a>\n",
       "                    </div>\n",
       "\n",
       "                    <div class=\"item_right\"     style=\"float: none; width: auto; overflow: hidden;\">\n",
       "                        <a href='https://dev003328.esri.com/portal/home/item.html?id=d15668b607be4b3085153d512b9569ee' target='_blank'><b>CO</b>\n",
       "                        </a>\n",
       "                        <br/><img src='https://dev003328.esri.com/portal/home/js/jsapi/esri/css/images/item_type_icons/layers16.png' style=\"vertical-align:middle;\">CSV by edwards.griffin\n",
       "                        <br/>Last Modified: November 24, 2016\n",
       "                        <br/>0 comments, 2 views\n",
       "                    </div>\n",
       "                </div>\n",
       "                "
      ],
      "text/plain": [
       "<Item title:\"CO\" type:CSV owner:edwards.griffin>"
      ]
     },
     "metadata": {},
     "output_type": "display_data"
    },
    {
     "data": {
      "text/html": [
       "<div class=\"item_container\" style=\"height: auto; overflow: hidden; border: 1px solid #cfcfcf; border-radius: 2px; background: #f6fafa; line-height: 1.21429em; padding: 10px;\">\n",
       "                    <div class=\"item_left\" style=\"width: 210px; float: left;\">\n",
       "                       <a href='https://dev003328.esri.com/portal/home/item.html?id=4e8e4dd32e364e35a8f025b478c3e140' target='_blank'>\n",
       "                        <img src='https://dev003328.esri.com/portal/portalimages/desktopapp.png' class=\"itemThumbnail\">\n",
       "                       </a>\n",
       "                    </div>\n",
       "\n",
       "                    <div class=\"item_right\"     style=\"float: none; width: auto; overflow: hidden;\">\n",
       "                        <a href='https://dev003328.esri.com/portal/home/item.html?id=4e8e4dd32e364e35a8f025b478c3e140' target='_blank'><b>CO</b>\n",
       "                        </a>\n",
       "                        <br/><img src='https://dev003328.esri.com/portal/home/js/jsapi/esri/css/images/item_type_icons/featureshosted16.png' style=\"vertical-align:middle;\">Feature Layer Collection by edwards.griffin\n",
       "                        <br/>Last Modified: November 24, 2016\n",
       "                        <br/>0 comments, 0 views\n",
       "                    </div>\n",
       "                </div>\n",
       "                "
      ],
      "text/plain": [
       "<Item title:\"CO\" type:Feature Service owner:edwards.griffin>"
      ]
     },
     "metadata": {},
     "output_type": "display_data"
    },
    {
     "data": {
      "text/html": [
       "<div class=\"item_container\" style=\"height: auto; overflow: hidden; border: 1px solid #cfcfcf; border-radius: 2px; background: #f6fafa; line-height: 1.21429em; padding: 10px;\">\n",
       "                    <div class=\"item_left\" style=\"width: 210px; float: left;\">\n",
       "                       <a href='https://dev003328.esri.com/portal/home/item.html?id=adceb6d104df4ef89dedef8788ad9ce1' target='_blank'>\n",
       "                        <img src='https://dev003328.esri.com/portal/portalimages/desktopapp.png' class=\"itemThumbnail\">\n",
       "                       </a>\n",
       "                    </div>\n",
       "\n",
       "                    <div class=\"item_right\"     style=\"float: none; width: auto; overflow: hidden;\">\n",
       "                        <a href='https://dev003328.esri.com/portal/home/item.html?id=adceb6d104df4ef89dedef8788ad9ce1' target='_blank'><b>Edwards Griffin response locations</b>\n",
       "                        </a>\n",
       "                        <br/>Areas affected by Hurricane Matthew under the supervision ofEdwards Griffin<img src='https://dev003328.esri.com/portal/home/js/jsapi/esri/css/images/item_type_icons/maps16.png' style=\"vertical-align:middle;\">Web Map by edwards.griffin\n",
       "                        <br/>Last Modified: November 24, 2016\n",
       "                        <br/>0 comments, 0 views\n",
       "                    </div>\n",
       "                </div>\n",
       "                "
      ],
      "text/plain": [
       "<Item title:\"Edwards Griffin response locations\" type:Web Map owner:edwards.griffin>"
      ]
     },
     "metadata": {},
     "output_type": "display_data"
    },
    {
     "name": "stdout",
     "output_type": "stream",
     "text": [
      "**************\n",
      "evans.russell\n"
     ]
    },
    {
     "data": {
      "text/html": [
       "<div class=\"item_container\" style=\"height: auto; overflow: hidden; border: 1px solid #cfcfcf; border-radius: 2px; background: #f6fafa; line-height: 1.21429em; padding: 10px;\">\n",
       "                    <div class=\"item_left\" style=\"width: 210px; float: left;\">\n",
       "                       <a href='https://dev003328.esri.com/portal/home/item.html?id=20bea0ee05324dcb88835e6edccb0498' target='_blank'>\n",
       "                        <img src='https://dev003328.esri.com/portal/portalimages/desktopapp.png' class=\"itemThumbnail\">\n",
       "                       </a>\n",
       "                    </div>\n",
       "\n",
       "                    <div class=\"item_right\"     style=\"float: none; width: auto; overflow: hidden;\">\n",
       "                        <a href='https://dev003328.esri.com/portal/home/item.html?id=20bea0ee05324dcb88835e6edccb0498' target='_blank'><b>Evans Russell response locations</b>\n",
       "                        </a>\n",
       "                        <br/>Areas affected by Hurricane Matthew under the supervision ofEvans Russell<img src='https://dev003328.esri.com/portal/home/js/jsapi/esri/css/images/item_type_icons/maps16.png' style=\"vertical-align:middle;\">Web Map by evans.russell\n",
       "                        <br/>Last Modified: November 24, 2016\n",
       "                        <br/>0 comments, 0 views\n",
       "                    </div>\n",
       "                </div>\n",
       "                "
      ],
      "text/plain": [
       "<Item title:\"Evans Russell response locations\" type:Web Map owner:evans.russell>"
      ]
     },
     "metadata": {},
     "output_type": "display_data"
    },
    {
     "data": {
      "text/html": [
       "<div class=\"item_container\" style=\"height: auto; overflow: hidden; border: 1px solid #cfcfcf; border-radius: 2px; background: #f6fafa; line-height: 1.21429em; padding: 10px;\">\n",
       "                    <div class=\"item_left\" style=\"width: 210px; float: left;\">\n",
       "                       <a href='https://dev003328.esri.com/portal/home/item.html?id=3780d7fb0cec466d9a46cefb309b89e1' target='_blank'>\n",
       "                        <img src='https://dev003328.esri.com/portal/portalimages/desktopapp.png' class=\"itemThumbnail\">\n",
       "                       </a>\n",
       "                    </div>\n",
       "\n",
       "                    <div class=\"item_right\"     style=\"float: none; width: auto; overflow: hidden;\">\n",
       "                        <a href='https://dev003328.esri.com/portal/home/item.html?id=3780d7fb0cec466d9a46cefb309b89e1' target='_blank'><b>MN</b>\n",
       "                        </a>\n",
       "                        <br/><img src='https://dev003328.esri.com/portal/home/js/jsapi/esri/css/images/item_type_icons/featureshosted16.png' style=\"vertical-align:middle;\">Feature Layer Collection by evans.russell\n",
       "                        <br/>Last Modified: November 24, 2016\n",
       "                        <br/>0 comments, 0 views\n",
       "                    </div>\n",
       "                </div>\n",
       "                "
      ],
      "text/plain": [
       "<Item title:\"MN\" type:Feature Service owner:evans.russell>"
      ]
     },
     "metadata": {},
     "output_type": "display_data"
    },
    {
     "data": {
      "text/html": [
       "<div class=\"item_container\" style=\"height: auto; overflow: hidden; border: 1px solid #cfcfcf; border-radius: 2px; background: #f6fafa; line-height: 1.21429em; padding: 10px;\">\n",
       "                    <div class=\"item_left\" style=\"width: 210px; float: left;\">\n",
       "                       <a href='https://dev003328.esri.com/portal/home/item.html?id=b9e6a568cd2247e8ab9c8590b33a77e1' target='_blank'>\n",
       "                        <img src='https://dev003328.esri.com/portal/portalimages/desktopapp.png' class=\"itemThumbnail\">\n",
       "                       </a>\n",
       "                    </div>\n",
       "\n",
       "                    <div class=\"item_right\"     style=\"float: none; width: auto; overflow: hidden;\">\n",
       "                        <a href='https://dev003328.esri.com/portal/home/item.html?id=b9e6a568cd2247e8ab9c8590b33a77e1' target='_blank'><b>MN</b>\n",
       "                        </a>\n",
       "                        <br/><img src='https://dev003328.esri.com/portal/home/js/jsapi/esri/css/images/item_type_icons/layers16.png' style=\"vertical-align:middle;\">CSV by evans.russell\n",
       "                        <br/>Last Modified: November 24, 2016\n",
       "                        <br/>0 comments, 2 views\n",
       "                    </div>\n",
       "                </div>\n",
       "                "
      ],
      "text/plain": [
       "<Item title:\"MN\" type:CSV owner:evans.russell>"
      ]
     },
     "metadata": {},
     "output_type": "display_data"
    },
    {
     "name": "stdout",
     "output_type": "stream",
     "text": [
      "**************\n",
      "garcia.torres\n"
     ]
    },
    {
     "data": {
      "text/html": [
       "<div class=\"item_container\" style=\"height: auto; overflow: hidden; border: 1px solid #cfcfcf; border-radius: 2px; background: #f6fafa; line-height: 1.21429em; padding: 10px;\">\n",
       "                    <div class=\"item_left\" style=\"width: 210px; float: left;\">\n",
       "                       <a href='https://dev003328.esri.com/portal/home/item.html?id=2d293a537b50462bbe4630280e312621' target='_blank'>\n",
       "                        <img src='https://dev003328.esri.com/portal/portalimages/desktopapp.png' class=\"itemThumbnail\">\n",
       "                       </a>\n",
       "                    </div>\n",
       "\n",
       "                    <div class=\"item_right\"     style=\"float: none; width: auto; overflow: hidden;\">\n",
       "                        <a href='https://dev003328.esri.com/portal/home/item.html?id=2d293a537b50462bbe4630280e312621' target='_blank'><b>Garcia Torres response locations</b>\n",
       "                        </a>\n",
       "                        <br/>Areas affected by Hurricane Matthew under the supervision ofGarcia Torres<img src='https://dev003328.esri.com/portal/home/js/jsapi/esri/css/images/item_type_icons/maps16.png' style=\"vertical-align:middle;\">Web Map by garcia.torres\n",
       "                        <br/>Last Modified: November 24, 2016\n",
       "                        <br/>0 comments, 0 views\n",
       "                    </div>\n",
       "                </div>\n",
       "                "
      ],
      "text/plain": [
       "<Item title:\"Garcia Torres response locations\" type:Web Map owner:garcia.torres>"
      ]
     },
     "metadata": {},
     "output_type": "display_data"
    },
    {
     "data": {
      "text/html": [
       "<div class=\"item_container\" style=\"height: auto; overflow: hidden; border: 1px solid #cfcfcf; border-radius: 2px; background: #f6fafa; line-height: 1.21429em; padding: 10px;\">\n",
       "                    <div class=\"item_left\" style=\"width: 210px; float: left;\">\n",
       "                       <a href='https://dev003328.esri.com/portal/home/item.html?id=3e987d8e6756467cab2a40c59bfaabf9' target='_blank'>\n",
       "                        <img src='https://dev003328.esri.com/portal/portalimages/desktopapp.png' class=\"itemThumbnail\">\n",
       "                       </a>\n",
       "                    </div>\n",
       "\n",
       "                    <div class=\"item_right\"     style=\"float: none; width: auto; overflow: hidden;\">\n",
       "                        <a href='https://dev003328.esri.com/portal/home/item.html?id=3e987d8e6756467cab2a40c59bfaabf9' target='_blank'><b>MA</b>\n",
       "                        </a>\n",
       "                        <br/><img src='https://dev003328.esri.com/portal/home/js/jsapi/esri/css/images/item_type_icons/featureshosted16.png' style=\"vertical-align:middle;\">Feature Layer Collection by garcia.torres\n",
       "                        <br/>Last Modified: November 24, 2016\n",
       "                        <br/>0 comments, 0 views\n",
       "                    </div>\n",
       "                </div>\n",
       "                "
      ],
      "text/plain": [
       "<Item title:\"MA\" type:Feature Service owner:garcia.torres>"
      ]
     },
     "metadata": {},
     "output_type": "display_data"
    },
    {
     "data": {
      "text/html": [
       "<div class=\"item_container\" style=\"height: auto; overflow: hidden; border: 1px solid #cfcfcf; border-radius: 2px; background: #f6fafa; line-height: 1.21429em; padding: 10px;\">\n",
       "                    <div class=\"item_left\" style=\"width: 210px; float: left;\">\n",
       "                       <a href='https://dev003328.esri.com/portal/home/item.html?id=c6bdb19b8fbf49a8a57bc8efabf6af4d' target='_blank'>\n",
       "                        <img src='https://dev003328.esri.com/portal/portalimages/desktopapp.png' class=\"itemThumbnail\">\n",
       "                       </a>\n",
       "                    </div>\n",
       "\n",
       "                    <div class=\"item_right\"     style=\"float: none; width: auto; overflow: hidden;\">\n",
       "                        <a href='https://dev003328.esri.com/portal/home/item.html?id=c6bdb19b8fbf49a8a57bc8efabf6af4d' target='_blank'><b>MA</b>\n",
       "                        </a>\n",
       "                        <br/><img src='https://dev003328.esri.com/portal/home/js/jsapi/esri/css/images/item_type_icons/layers16.png' style=\"vertical-align:middle;\">CSV by garcia.torres\n",
       "                        <br/>Last Modified: November 24, 2016\n",
       "                        <br/>0 comments, 2 views\n",
       "                    </div>\n",
       "                </div>\n",
       "                "
      ],
      "text/plain": [
       "<Item title:\"MA\" type:CSV owner:garcia.torres>"
      ]
     },
     "metadata": {},
     "output_type": "display_data"
    },
    {
     "name": "stdout",
     "output_type": "stream",
     "text": [
      "**************\n",
      "gonzalez.patterson\n"
     ]
    },
    {
     "data": {
      "text/html": [
       "<div class=\"item_container\" style=\"height: auto; overflow: hidden; border: 1px solid #cfcfcf; border-radius: 2px; background: #f6fafa; line-height: 1.21429em; padding: 10px;\">\n",
       "                    <div class=\"item_left\" style=\"width: 210px; float: left;\">\n",
       "                       <a href='https://dev003328.esri.com/portal/home/item.html?id=ef1df4efd12e44b7bb8a5273b553c051' target='_blank'>\n",
       "                        <img src='https://dev003328.esri.com/portal/portalimages/desktopapp.png' class=\"itemThumbnail\">\n",
       "                       </a>\n",
       "                    </div>\n",
       "\n",
       "                    <div class=\"item_right\"     style=\"float: none; width: auto; overflow: hidden;\">\n",
       "                        <a href='https://dev003328.esri.com/portal/home/item.html?id=ef1df4efd12e44b7bb8a5273b553c051' target='_blank'><b>Gonzalez Patterson response locations</b>\n",
       "                        </a>\n",
       "                        <br/>Areas affected by Hurricane Matthew under the supervision ofGonzalez Patterson<img src='https://dev003328.esri.com/portal/home/js/jsapi/esri/css/images/item_type_icons/maps16.png' style=\"vertical-align:middle;\">Web Map by gonzalez.patterson\n",
       "                        <br/>Last Modified: November 24, 2016\n",
       "                        <br/>0 comments, 0 views\n",
       "                    </div>\n",
       "                </div>\n",
       "                "
      ],
      "text/plain": [
       "<Item title:\"Gonzalez Patterson response locations\" type:Web Map owner:gonzalez.patterson>"
      ]
     },
     "metadata": {},
     "output_type": "display_data"
    },
    {
     "data": {
      "text/html": [
       "<div class=\"item_container\" style=\"height: auto; overflow: hidden; border: 1px solid #cfcfcf; border-radius: 2px; background: #f6fafa; line-height: 1.21429em; padding: 10px;\">\n",
       "                    <div class=\"item_left\" style=\"width: 210px; float: left;\">\n",
       "                       <a href='https://dev003328.esri.com/portal/home/item.html?id=d1bf6891a25c410cafe816319b6bb19d' target='_blank'>\n",
       "                        <img src='https://dev003328.esri.com/portal/portalimages/desktopapp.png' class=\"itemThumbnail\">\n",
       "                       </a>\n",
       "                    </div>\n",
       "\n",
       "                    <div class=\"item_right\"     style=\"float: none; width: auto; overflow: hidden;\">\n",
       "                        <a href='https://dev003328.esri.com/portal/home/item.html?id=d1bf6891a25c410cafe816319b6bb19d' target='_blank'><b>UT</b>\n",
       "                        </a>\n",
       "                        <br/><img src='https://dev003328.esri.com/portal/home/js/jsapi/esri/css/images/item_type_icons/layers16.png' style=\"vertical-align:middle;\">CSV by gonzalez.patterson\n",
       "                        <br/>Last Modified: November 24, 2016\n",
       "                        <br/>0 comments, 2 views\n",
       "                    </div>\n",
       "                </div>\n",
       "                "
      ],
      "text/plain": [
       "<Item title:\"UT\" type:CSV owner:gonzalez.patterson>"
      ]
     },
     "metadata": {},
     "output_type": "display_data"
    },
    {
     "data": {
      "text/html": [
       "<div class=\"item_container\" style=\"height: auto; overflow: hidden; border: 1px solid #cfcfcf; border-radius: 2px; background: #f6fafa; line-height: 1.21429em; padding: 10px;\">\n",
       "                    <div class=\"item_left\" style=\"width: 210px; float: left;\">\n",
       "                       <a href='https://dev003328.esri.com/portal/home/item.html?id=e4592b1baf774e70bd493ef2ccb031a3' target='_blank'>\n",
       "                        <img src='https://dev003328.esri.com/portal/portalimages/desktopapp.png' class=\"itemThumbnail\">\n",
       "                       </a>\n",
       "                    </div>\n",
       "\n",
       "                    <div class=\"item_right\"     style=\"float: none; width: auto; overflow: hidden;\">\n",
       "                        <a href='https://dev003328.esri.com/portal/home/item.html?id=e4592b1baf774e70bd493ef2ccb031a3' target='_blank'><b>UT</b>\n",
       "                        </a>\n",
       "                        <br/><img src='https://dev003328.esri.com/portal/home/js/jsapi/esri/css/images/item_type_icons/featureshosted16.png' style=\"vertical-align:middle;\">Feature Layer Collection by gonzalez.patterson\n",
       "                        <br/>Last Modified: November 24, 2016\n",
       "                        <br/>0 comments, 0 views\n",
       "                    </div>\n",
       "                </div>\n",
       "                "
      ],
      "text/plain": [
       "<Item title:\"UT\" type:Feature Service owner:gonzalez.patterson>"
      ]
     },
     "metadata": {},
     "output_type": "display_data"
    },
    {
     "name": "stdout",
     "output_type": "stream",
     "text": [
      "**************\n",
      "green.perry\n"
     ]
    },
    {
     "data": {
      "text/html": [
       "<div class=\"item_container\" style=\"height: auto; overflow: hidden; border: 1px solid #cfcfcf; border-radius: 2px; background: #f6fafa; line-height: 1.21429em; padding: 10px;\">\n",
       "                    <div class=\"item_left\" style=\"width: 210px; float: left;\">\n",
       "                       <a href='https://dev003328.esri.com/portal/home/item.html?id=089e5818e4dd46f59440050b22d35ef2' target='_blank'>\n",
       "                        <img src='https://dev003328.esri.com/portal/portalimages/desktopapp.png' class=\"itemThumbnail\">\n",
       "                       </a>\n",
       "                    </div>\n",
       "\n",
       "                    <div class=\"item_right\"     style=\"float: none; width: auto; overflow: hidden;\">\n",
       "                        <a href='https://dev003328.esri.com/portal/home/item.html?id=089e5818e4dd46f59440050b22d35ef2' target='_blank'><b>ME</b>\n",
       "                        </a>\n",
       "                        <br/><img src='https://dev003328.esri.com/portal/home/js/jsapi/esri/css/images/item_type_icons/layers16.png' style=\"vertical-align:middle;\">CSV by green.perry\n",
       "                        <br/>Last Modified: November 24, 2016\n",
       "                        <br/>0 comments, 2 views\n",
       "                    </div>\n",
       "                </div>\n",
       "                "
      ],
      "text/plain": [
       "<Item title:\"ME\" type:CSV owner:green.perry>"
      ]
     },
     "metadata": {},
     "output_type": "display_data"
    },
    {
     "data": {
      "text/html": [
       "<div class=\"item_container\" style=\"height: auto; overflow: hidden; border: 1px solid #cfcfcf; border-radius: 2px; background: #f6fafa; line-height: 1.21429em; padding: 10px;\">\n",
       "                    <div class=\"item_left\" style=\"width: 210px; float: left;\">\n",
       "                       <a href='https://dev003328.esri.com/portal/home/item.html?id=d861e4febf7443509367bd8174b737e0' target='_blank'>\n",
       "                        <img src='https://dev003328.esri.com/portal/portalimages/desktopapp.png' class=\"itemThumbnail\">\n",
       "                       </a>\n",
       "                    </div>\n",
       "\n",
       "                    <div class=\"item_right\"     style=\"float: none; width: auto; overflow: hidden;\">\n",
       "                        <a href='https://dev003328.esri.com/portal/home/item.html?id=d861e4febf7443509367bd8174b737e0' target='_blank'><b>ME</b>\n",
       "                        </a>\n",
       "                        <br/><img src='https://dev003328.esri.com/portal/home/js/jsapi/esri/css/images/item_type_icons/featureshosted16.png' style=\"vertical-align:middle;\">Feature Layer Collection by green.perry\n",
       "                        <br/>Last Modified: November 24, 2016\n",
       "                        <br/>0 comments, 0 views\n",
       "                    </div>\n",
       "                </div>\n",
       "                "
      ],
      "text/plain": [
       "<Item title:\"ME\" type:Feature Service owner:green.perry>"
      ]
     },
     "metadata": {},
     "output_type": "display_data"
    },
    {
     "data": {
      "text/html": [
       "<div class=\"item_container\" style=\"height: auto; overflow: hidden; border: 1px solid #cfcfcf; border-radius: 2px; background: #f6fafa; line-height: 1.21429em; padding: 10px;\">\n",
       "                    <div class=\"item_left\" style=\"width: 210px; float: left;\">\n",
       "                       <a href='https://dev003328.esri.com/portal/home/item.html?id=37f95ca3f708491d84132101591f5dde' target='_blank'>\n",
       "                        <img src='https://dev003328.esri.com/portal/portalimages/desktopapp.png' class=\"itemThumbnail\">\n",
       "                       </a>\n",
       "                    </div>\n",
       "\n",
       "                    <div class=\"item_right\"     style=\"float: none; width: auto; overflow: hidden;\">\n",
       "                        <a href='https://dev003328.esri.com/portal/home/item.html?id=37f95ca3f708491d84132101591f5dde' target='_blank'><b>Green Perry response locations</b>\n",
       "                        </a>\n",
       "                        <br/>Areas affected by Hurricane Matthew under the supervision ofGreen Perry<img src='https://dev003328.esri.com/portal/home/js/jsapi/esri/css/images/item_type_icons/maps16.png' style=\"vertical-align:middle;\">Web Map by green.perry\n",
       "                        <br/>Last Modified: November 24, 2016\n",
       "                        <br/>0 comments, 0 views\n",
       "                    </div>\n",
       "                </div>\n",
       "                "
      ],
      "text/plain": [
       "<Item title:\"Green Perry response locations\" type:Web Map owner:green.perry>"
      ]
     },
     "metadata": {},
     "output_type": "display_data"
    },
    {
     "name": "stdout",
     "output_type": "stream",
     "text": [
      "**************\n",
      "hall.sanders\n"
     ]
    },
    {
     "data": {
      "text/html": [
       "<div class=\"item_container\" style=\"height: auto; overflow: hidden; border: 1px solid #cfcfcf; border-radius: 2px; background: #f6fafa; line-height: 1.21429em; padding: 10px;\">\n",
       "                    <div class=\"item_left\" style=\"width: 210px; float: left;\">\n",
       "                       <a href='https://dev003328.esri.com/portal/home/item.html?id=8e3afeefa7e945dca7cee3fea524f14f' target='_blank'>\n",
       "                        <img src='https://dev003328.esri.com/portal/portalimages/desktopapp.png' class=\"itemThumbnail\">\n",
       "                       </a>\n",
       "                    </div>\n",
       "\n",
       "                    <div class=\"item_right\"     style=\"float: none; width: auto; overflow: hidden;\">\n",
       "                        <a href='https://dev003328.esri.com/portal/home/item.html?id=8e3afeefa7e945dca7cee3fea524f14f' target='_blank'><b>MT</b>\n",
       "                        </a>\n",
       "                        <br/><img src='https://dev003328.esri.com/portal/home/js/jsapi/esri/css/images/item_type_icons/layers16.png' style=\"vertical-align:middle;\">CSV by hall.sanders\n",
       "                        <br/>Last Modified: November 24, 2016\n",
       "                        <br/>0 comments, 2 views\n",
       "                    </div>\n",
       "                </div>\n",
       "                "
      ],
      "text/plain": [
       "<Item title:\"MT\" type:CSV owner:hall.sanders>"
      ]
     },
     "metadata": {},
     "output_type": "display_data"
    },
    {
     "data": {
      "text/html": [
       "<div class=\"item_container\" style=\"height: auto; overflow: hidden; border: 1px solid #cfcfcf; border-radius: 2px; background: #f6fafa; line-height: 1.21429em; padding: 10px;\">\n",
       "                    <div class=\"item_left\" style=\"width: 210px; float: left;\">\n",
       "                       <a href='https://dev003328.esri.com/portal/home/item.html?id=f27276d4b57e4588a1ac7d5ea10ea7a5' target='_blank'>\n",
       "                        <img src='https://dev003328.esri.com/portal/portalimages/desktopapp.png' class=\"itemThumbnail\">\n",
       "                       </a>\n",
       "                    </div>\n",
       "\n",
       "                    <div class=\"item_right\"     style=\"float: none; width: auto; overflow: hidden;\">\n",
       "                        <a href='https://dev003328.esri.com/portal/home/item.html?id=f27276d4b57e4588a1ac7d5ea10ea7a5' target='_blank'><b>Hall Sanders response locations</b>\n",
       "                        </a>\n",
       "                        <br/>Areas affected by Hurricane Matthew under the supervision ofHall Sanders<img src='https://dev003328.esri.com/portal/home/js/jsapi/esri/css/images/item_type_icons/maps16.png' style=\"vertical-align:middle;\">Web Map by hall.sanders\n",
       "                        <br/>Last Modified: November 24, 2016\n",
       "                        <br/>0 comments, 0 views\n",
       "                    </div>\n",
       "                </div>\n",
       "                "
      ],
      "text/plain": [
       "<Item title:\"Hall Sanders response locations\" type:Web Map owner:hall.sanders>"
      ]
     },
     "metadata": {},
     "output_type": "display_data"
    },
    {
     "data": {
      "text/html": [
       "<div class=\"item_container\" style=\"height: auto; overflow: hidden; border: 1px solid #cfcfcf; border-radius: 2px; background: #f6fafa; line-height: 1.21429em; padding: 10px;\">\n",
       "                    <div class=\"item_left\" style=\"width: 210px; float: left;\">\n",
       "                       <a href='https://dev003328.esri.com/portal/home/item.html?id=ce0c50487e9e4d46a98e41a4962334ea' target='_blank'>\n",
       "                        <img src='https://dev003328.esri.com/portal/portalimages/desktopapp.png' class=\"itemThumbnail\">\n",
       "                       </a>\n",
       "                    </div>\n",
       "\n",
       "                    <div class=\"item_right\"     style=\"float: none; width: auto; overflow: hidden;\">\n",
       "                        <a href='https://dev003328.esri.com/portal/home/item.html?id=ce0c50487e9e4d46a98e41a4962334ea' target='_blank'><b>MT</b>\n",
       "                        </a>\n",
       "                        <br/><img src='https://dev003328.esri.com/portal/home/js/jsapi/esri/css/images/item_type_icons/featureshosted16.png' style=\"vertical-align:middle;\">Feature Layer Collection by hall.sanders\n",
       "                        <br/>Last Modified: November 24, 2016\n",
       "                        <br/>0 comments, 0 views\n",
       "                    </div>\n",
       "                </div>\n",
       "                "
      ],
      "text/plain": [
       "<Item title:\"MT\" type:Feature Service owner:hall.sanders>"
      ]
     },
     "metadata": {},
     "output_type": "display_data"
    },
    {
     "name": "stdout",
     "output_type": "stream",
     "text": [
      "**************\n",
      "harris.cox\n",
      "**************\n",
      "hernandez.wood\n"
     ]
    },
    {
     "data": {
      "text/html": [
       "<div class=\"item_container\" style=\"height: auto; overflow: hidden; border: 1px solid #cfcfcf; border-radius: 2px; background: #f6fafa; line-height: 1.21429em; padding: 10px;\">\n",
       "                    <div class=\"item_left\" style=\"width: 210px; float: left;\">\n",
       "                       <a href='https://dev003328.esri.com/portal/home/item.html?id=5e7035969c6e4c4eaeae8cd9a48cd866' target='_blank'>\n",
       "                        <img src='https://dev003328.esri.com/portal/portalimages/desktopapp.png' class=\"itemThumbnail\">\n",
       "                       </a>\n",
       "                    </div>\n",
       "\n",
       "                    <div class=\"item_right\"     style=\"float: none; width: auto; overflow: hidden;\">\n",
       "                        <a href='https://dev003328.esri.com/portal/home/item.html?id=5e7035969c6e4c4eaeae8cd9a48cd866' target='_blank'><b>KY</b>\n",
       "                        </a>\n",
       "                        <br/><img src='https://dev003328.esri.com/portal/home/js/jsapi/esri/css/images/item_type_icons/layers16.png' style=\"vertical-align:middle;\">CSV by hernandez.wood\n",
       "                        <br/>Last Modified: November 24, 2016\n",
       "                        <br/>0 comments, 2 views\n",
       "                    </div>\n",
       "                </div>\n",
       "                "
      ],
      "text/plain": [
       "<Item title:\"KY\" type:CSV owner:hernandez.wood>"
      ]
     },
     "metadata": {},
     "output_type": "display_data"
    },
    {
     "data": {
      "text/html": [
       "<div class=\"item_container\" style=\"height: auto; overflow: hidden; border: 1px solid #cfcfcf; border-radius: 2px; background: #f6fafa; line-height: 1.21429em; padding: 10px;\">\n",
       "                    <div class=\"item_left\" style=\"width: 210px; float: left;\">\n",
       "                       <a href='https://dev003328.esri.com/portal/home/item.html?id=b2260f0cf0e646b896d450b8232c9474' target='_blank'>\n",
       "                        <img src='https://dev003328.esri.com/portal/portalimages/desktopapp.png' class=\"itemThumbnail\">\n",
       "                       </a>\n",
       "                    </div>\n",
       "\n",
       "                    <div class=\"item_right\"     style=\"float: none; width: auto; overflow: hidden;\">\n",
       "                        <a href='https://dev003328.esri.com/portal/home/item.html?id=b2260f0cf0e646b896d450b8232c9474' target='_blank'><b>KY</b>\n",
       "                        </a>\n",
       "                        <br/><img src='https://dev003328.esri.com/portal/home/js/jsapi/esri/css/images/item_type_icons/featureshosted16.png' style=\"vertical-align:middle;\">Feature Layer Collection by hernandez.wood\n",
       "                        <br/>Last Modified: November 24, 2016\n",
       "                        <br/>0 comments, 0 views\n",
       "                    </div>\n",
       "                </div>\n",
       "                "
      ],
      "text/plain": [
       "<Item title:\"KY\" type:Feature Service owner:hernandez.wood>"
      ]
     },
     "metadata": {},
     "output_type": "display_data"
    },
    {
     "data": {
      "text/html": [
       "<div class=\"item_container\" style=\"height: auto; overflow: hidden; border: 1px solid #cfcfcf; border-radius: 2px; background: #f6fafa; line-height: 1.21429em; padding: 10px;\">\n",
       "                    <div class=\"item_left\" style=\"width: 210px; float: left;\">\n",
       "                       <a href='https://dev003328.esri.com/portal/home/item.html?id=6afe446379354fc79719980346c56be0' target='_blank'>\n",
       "                        <img src='https://dev003328.esri.com/portal/portalimages/desktopapp.png' class=\"itemThumbnail\">\n",
       "                       </a>\n",
       "                    </div>\n",
       "\n",
       "                    <div class=\"item_right\"     style=\"float: none; width: auto; overflow: hidden;\">\n",
       "                        <a href='https://dev003328.esri.com/portal/home/item.html?id=6afe446379354fc79719980346c56be0' target='_blank'><b>Hernandez Wood response locations</b>\n",
       "                        </a>\n",
       "                        <br/>Areas affected by Hurricane Matthew under the supervision ofHernandez Wood<img src='https://dev003328.esri.com/portal/home/js/jsapi/esri/css/images/item_type_icons/maps16.png' style=\"vertical-align:middle;\">Web Map by hernandez.wood\n",
       "                        <br/>Last Modified: November 24, 2016\n",
       "                        <br/>0 comments, 0 views\n",
       "                    </div>\n",
       "                </div>\n",
       "                "
      ],
      "text/plain": [
       "<Item title:\"Hernandez Wood response locations\" type:Web Map owner:hernandez.wood>"
      ]
     },
     "metadata": {},
     "output_type": "display_data"
    },
    {
     "name": "stdout",
     "output_type": "stream",
     "text": [
      "**************\n",
      "hill.coleman\n"
     ]
    },
    {
     "data": {
      "text/html": [
       "<div class=\"item_container\" style=\"height: auto; overflow: hidden; border: 1px solid #cfcfcf; border-radius: 2px; background: #f6fafa; line-height: 1.21429em; padding: 10px;\">\n",
       "                    <div class=\"item_left\" style=\"width: 210px; float: left;\">\n",
       "                       <a href='https://dev003328.esri.com/portal/home/item.html?id=eb29fb34f63f41a38c076aed571551b5' target='_blank'>\n",
       "                        <img src='https://dev003328.esri.com/portal/portalimages/desktopapp.png' class=\"itemThumbnail\">\n",
       "                       </a>\n",
       "                    </div>\n",
       "\n",
       "                    <div class=\"item_right\"     style=\"float: none; width: auto; overflow: hidden;\">\n",
       "                        <a href='https://dev003328.esri.com/portal/home/item.html?id=eb29fb34f63f41a38c076aed571551b5' target='_blank'><b>Hill Coleman response locations</b>\n",
       "                        </a>\n",
       "                        <br/>Areas affected by Hurricane Matthew under the supervision ofHill Coleman<img src='https://dev003328.esri.com/portal/home/js/jsapi/esri/css/images/item_type_icons/maps16.png' style=\"vertical-align:middle;\">Web Map by hill.coleman\n",
       "                        <br/>Last Modified: November 24, 2016\n",
       "                        <br/>0 comments, 0 views\n",
       "                    </div>\n",
       "                </div>\n",
       "                "
      ],
      "text/plain": [
       "<Item title:\"Hill Coleman response locations\" type:Web Map owner:hill.coleman>"
      ]
     },
     "metadata": {},
     "output_type": "display_data"
    },
    {
     "data": {
      "text/html": [
       "<div class=\"item_container\" style=\"height: auto; overflow: hidden; border: 1px solid #cfcfcf; border-radius: 2px; background: #f6fafa; line-height: 1.21429em; padding: 10px;\">\n",
       "                    <div class=\"item_left\" style=\"width: 210px; float: left;\">\n",
       "                       <a href='https://dev003328.esri.com/portal/home/item.html?id=aa69f7f1542846d5b043d47e5c373d1a' target='_blank'>\n",
       "                        <img src='https://dev003328.esri.com/portal/portalimages/desktopapp.png' class=\"itemThumbnail\">\n",
       "                       </a>\n",
       "                    </div>\n",
       "\n",
       "                    <div class=\"item_right\"     style=\"float: none; width: auto; overflow: hidden;\">\n",
       "                        <a href='https://dev003328.esri.com/portal/home/item.html?id=aa69f7f1542846d5b043d47e5c373d1a' target='_blank'><b>VT</b>\n",
       "                        </a>\n",
       "                        <br/><img src='https://dev003328.esri.com/portal/home/js/jsapi/esri/css/images/item_type_icons/layers16.png' style=\"vertical-align:middle;\">CSV by hill.coleman\n",
       "                        <br/>Last Modified: November 24, 2016\n",
       "                        <br/>0 comments, 2 views\n",
       "                    </div>\n",
       "                </div>\n",
       "                "
      ],
      "text/plain": [
       "<Item title:\"VT\" type:CSV owner:hill.coleman>"
      ]
     },
     "metadata": {},
     "output_type": "display_data"
    },
    {
     "data": {
      "text/html": [
       "<div class=\"item_container\" style=\"height: auto; overflow: hidden; border: 1px solid #cfcfcf; border-radius: 2px; background: #f6fafa; line-height: 1.21429em; padding: 10px;\">\n",
       "                    <div class=\"item_left\" style=\"width: 210px; float: left;\">\n",
       "                       <a href='https://dev003328.esri.com/portal/home/item.html?id=3c51d33da56947789e8e7ccf6622541e' target='_blank'>\n",
       "                        <img src='https://dev003328.esri.com/portal/portalimages/desktopapp.png' class=\"itemThumbnail\">\n",
       "                       </a>\n",
       "                    </div>\n",
       "\n",
       "                    <div class=\"item_right\"     style=\"float: none; width: auto; overflow: hidden;\">\n",
       "                        <a href='https://dev003328.esri.com/portal/home/item.html?id=3c51d33da56947789e8e7ccf6622541e' target='_blank'><b>VT</b>\n",
       "                        </a>\n",
       "                        <br/><img src='https://dev003328.esri.com/portal/home/js/jsapi/esri/css/images/item_type_icons/featureshosted16.png' style=\"vertical-align:middle;\">Feature Layer Collection by hill.coleman\n",
       "                        <br/>Last Modified: November 24, 2016\n",
       "                        <br/>0 comments, 0 views\n",
       "                    </div>\n",
       "                </div>\n",
       "                "
      ],
      "text/plain": [
       "<Item title:\"VT\" type:Feature Service owner:hill.coleman>"
      ]
     },
     "metadata": {},
     "output_type": "display_data"
    },
    {
     "name": "stdout",
     "output_type": "stream",
     "text": [
      "**************\n",
      "jackson.cooper\n"
     ]
    },
    {
     "data": {
      "text/html": [
       "<div class=\"item_container\" style=\"height: auto; overflow: hidden; border: 1px solid #cfcfcf; border-radius: 2px; background: #f6fafa; line-height: 1.21429em; padding: 10px;\">\n",
       "                    <div class=\"item_left\" style=\"width: 210px; float: left;\">\n",
       "                       <a href='https://dev003328.esri.com/portal/home/item.html?id=433b0189c44944a99ec1e133843e1daf' target='_blank'>\n",
       "                        <img src='https://dev003328.esri.com/portal/portalimages/desktopapp.png' class=\"itemThumbnail\">\n",
       "                       </a>\n",
       "                    </div>\n",
       "\n",
       "                    <div class=\"item_right\"     style=\"float: none; width: auto; overflow: hidden;\">\n",
       "                        <a href='https://dev003328.esri.com/portal/home/item.html?id=433b0189c44944a99ec1e133843e1daf' target='_blank'><b>Jackson Cooper response locations</b>\n",
       "                        </a>\n",
       "                        <br/>Areas affected by Hurricane Matthew under the supervision ofJackson Cooper<img src='https://dev003328.esri.com/portal/home/js/jsapi/esri/css/images/item_type_icons/maps16.png' style=\"vertical-align:middle;\">Web Map by jackson.cooper\n",
       "                        <br/>Last Modified: November 24, 2016\n",
       "                        <br/>0 comments, 0 views\n",
       "                    </div>\n",
       "                </div>\n",
       "                "
      ],
      "text/plain": [
       "<Item title:\"Jackson Cooper response locations\" type:Web Map owner:jackson.cooper>"
      ]
     },
     "metadata": {},
     "output_type": "display_data"
    },
    {
     "data": {
      "text/html": [
       "<div class=\"item_container\" style=\"height: auto; overflow: hidden; border: 1px solid #cfcfcf; border-radius: 2px; background: #f6fafa; line-height: 1.21429em; padding: 10px;\">\n",
       "                    <div class=\"item_left\" style=\"width: 210px; float: left;\">\n",
       "                       <a href='https://dev003328.esri.com/portal/home/item.html?id=78eaf44153374c26a7f7150ac87a8176' target='_blank'>\n",
       "                        <img src='https://dev003328.esri.com/portal/portalimages/desktopapp.png' class=\"itemThumbnail\">\n",
       "                       </a>\n",
       "                    </div>\n",
       "\n",
       "                    <div class=\"item_right\"     style=\"float: none; width: auto; overflow: hidden;\">\n",
       "                        <a href='https://dev003328.esri.com/portal/home/item.html?id=78eaf44153374c26a7f7150ac87a8176' target='_blank'><b>WI</b>\n",
       "                        </a>\n",
       "                        <br/><img src='https://dev003328.esri.com/portal/home/js/jsapi/esri/css/images/item_type_icons/featureshosted16.png' style=\"vertical-align:middle;\">Feature Layer Collection by jackson.cooper\n",
       "                        <br/>Last Modified: November 24, 2016\n",
       "                        <br/>0 comments, 0 views\n",
       "                    </div>\n",
       "                </div>\n",
       "                "
      ],
      "text/plain": [
       "<Item title:\"WI\" type:Feature Service owner:jackson.cooper>"
      ]
     },
     "metadata": {},
     "output_type": "display_data"
    },
    {
     "data": {
      "text/html": [
       "<div class=\"item_container\" style=\"height: auto; overflow: hidden; border: 1px solid #cfcfcf; border-radius: 2px; background: #f6fafa; line-height: 1.21429em; padding: 10px;\">\n",
       "                    <div class=\"item_left\" style=\"width: 210px; float: left;\">\n",
       "                       <a href='https://dev003328.esri.com/portal/home/item.html?id=42633e602b5b446d94beb90abd978d2e' target='_blank'>\n",
       "                        <img src='https://dev003328.esri.com/portal/portalimages/desktopapp.png' class=\"itemThumbnail\">\n",
       "                       </a>\n",
       "                    </div>\n",
       "\n",
       "                    <div class=\"item_right\"     style=\"float: none; width: auto; overflow: hidden;\">\n",
       "                        <a href='https://dev003328.esri.com/portal/home/item.html?id=42633e602b5b446d94beb90abd978d2e' target='_blank'><b>WI</b>\n",
       "                        </a>\n",
       "                        <br/><img src='https://dev003328.esri.com/portal/home/js/jsapi/esri/css/images/item_type_icons/layers16.png' style=\"vertical-align:middle;\">CSV by jackson.cooper\n",
       "                        <br/>Last Modified: November 24, 2016\n",
       "                        <br/>0 comments, 2 views\n",
       "                    </div>\n",
       "                </div>\n",
       "                "
      ],
      "text/plain": [
       "<Item title:\"WI\" type:CSV owner:jackson.cooper>"
      ]
     },
     "metadata": {},
     "output_type": "display_data"
    },
    {
     "name": "stdout",
     "output_type": "stream",
     "text": [
      "**************\n",
      "johnson.stewart\n"
     ]
    },
    {
     "data": {
      "text/html": [
       "<div class=\"item_container\" style=\"height: auto; overflow: hidden; border: 1px solid #cfcfcf; border-radius: 2px; background: #f6fafa; line-height: 1.21429em; padding: 10px;\">\n",
       "                    <div class=\"item_left\" style=\"width: 210px; float: left;\">\n",
       "                       <a href='https://dev003328.esri.com/portal/home/item.html?id=357134731f0f4f539abd6310f7be1585' target='_blank'>\n",
       "                        <img src='https://dev003328.esri.com/portal/portalimages/desktopapp.png' class=\"itemThumbnail\">\n",
       "                       </a>\n",
       "                    </div>\n",
       "\n",
       "                    <div class=\"item_right\"     style=\"float: none; width: auto; overflow: hidden;\">\n",
       "                        <a href='https://dev003328.esri.com/portal/home/item.html?id=357134731f0f4f539abd6310f7be1585' target='_blank'><b>Johnson Stewart response locations</b>\n",
       "                        </a>\n",
       "                        <br/>Areas affected by Hurricane Matthew under the supervision ofJohnson Stewart<img src='https://dev003328.esri.com/portal/home/js/jsapi/esri/css/images/item_type_icons/maps16.png' style=\"vertical-align:middle;\">Web Map by johnson.stewart\n",
       "                        <br/>Last Modified: November 24, 2016\n",
       "                        <br/>0 comments, 0 views\n",
       "                    </div>\n",
       "                </div>\n",
       "                "
      ],
      "text/plain": [
       "<Item title:\"Johnson Stewart response locations\" type:Web Map owner:johnson.stewart>"
      ]
     },
     "metadata": {},
     "output_type": "display_data"
    },
    {
     "data": {
      "text/html": [
       "<div class=\"item_container\" style=\"height: auto; overflow: hidden; border: 1px solid #cfcfcf; border-radius: 2px; background: #f6fafa; line-height: 1.21429em; padding: 10px;\">\n",
       "                    <div class=\"item_left\" style=\"width: 210px; float: left;\">\n",
       "                       <a href='https://dev003328.esri.com/portal/home/item.html?id=3663c92f3fe14f7198d31993c3995aba' target='_blank'>\n",
       "                        <img src='https://dev003328.esri.com/portal/portalimages/desktopapp.png' class=\"itemThumbnail\">\n",
       "                       </a>\n",
       "                    </div>\n",
       "\n",
       "                    <div class=\"item_right\"     style=\"float: none; width: auto; overflow: hidden;\">\n",
       "                        <a href='https://dev003328.esri.com/portal/home/item.html?id=3663c92f3fe14f7198d31993c3995aba' target='_blank'><b>NV</b>\n",
       "                        </a>\n",
       "                        <br/><img src='https://dev003328.esri.com/portal/home/js/jsapi/esri/css/images/item_type_icons/featureshosted16.png' style=\"vertical-align:middle;\">Feature Layer Collection by johnson.stewart\n",
       "                        <br/>Last Modified: November 24, 2016\n",
       "                        <br/>0 comments, 0 views\n",
       "                    </div>\n",
       "                </div>\n",
       "                "
      ],
      "text/plain": [
       "<Item title:\"NV\" type:Feature Service owner:johnson.stewart>"
      ]
     },
     "metadata": {},
     "output_type": "display_data"
    },
    {
     "data": {
      "text/html": [
       "<div class=\"item_container\" style=\"height: auto; overflow: hidden; border: 1px solid #cfcfcf; border-radius: 2px; background: #f6fafa; line-height: 1.21429em; padding: 10px;\">\n",
       "                    <div class=\"item_left\" style=\"width: 210px; float: left;\">\n",
       "                       <a href='https://dev003328.esri.com/portal/home/item.html?id=376adbe50f4a44cd8795d57d856eced6' target='_blank'>\n",
       "                        <img src='https://dev003328.esri.com/portal/portalimages/desktopapp.png' class=\"itemThumbnail\">\n",
       "                       </a>\n",
       "                    </div>\n",
       "\n",
       "                    <div class=\"item_right\"     style=\"float: none; width: auto; overflow: hidden;\">\n",
       "                        <a href='https://dev003328.esri.com/portal/home/item.html?id=376adbe50f4a44cd8795d57d856eced6' target='_blank'><b>NV</b>\n",
       "                        </a>\n",
       "                        <br/><img src='https://dev003328.esri.com/portal/home/js/jsapi/esri/css/images/item_type_icons/layers16.png' style=\"vertical-align:middle;\">CSV by johnson.stewart\n",
       "                        <br/>Last Modified: November 24, 2016\n",
       "                        <br/>0 comments, 2 views\n",
       "                    </div>\n",
       "                </div>\n",
       "                "
      ],
      "text/plain": [
       "<Item title:\"NV\" type:CSV owner:johnson.stewart>"
      ]
     },
     "metadata": {},
     "output_type": "display_data"
    },
    {
     "name": "stdout",
     "output_type": "stream",
     "text": [
      "**************\n",
      "jones.morris\n"
     ]
    },
    {
     "data": {
      "text/html": [
       "<div class=\"item_container\" style=\"height: auto; overflow: hidden; border: 1px solid #cfcfcf; border-radius: 2px; background: #f6fafa; line-height: 1.21429em; padding: 10px;\">\n",
       "                    <div class=\"item_left\" style=\"width: 210px; float: left;\">\n",
       "                       <a href='https://dev003328.esri.com/portal/home/item.html?id=da2835ecc0ac4ff99e274e5d23348109' target='_blank'>\n",
       "                        <img src='https://dev003328.esri.com/portal/portalimages/desktopapp.png' class=\"itemThumbnail\">\n",
       "                       </a>\n",
       "                    </div>\n",
       "\n",
       "                    <div class=\"item_right\"     style=\"float: none; width: auto; overflow: hidden;\">\n",
       "                        <a href='https://dev003328.esri.com/portal/home/item.html?id=da2835ecc0ac4ff99e274e5d23348109' target='_blank'><b>NC</b>\n",
       "                        </a>\n",
       "                        <br/><img src='https://dev003328.esri.com/portal/home/js/jsapi/esri/css/images/item_type_icons/featureshosted16.png' style=\"vertical-align:middle;\">Feature Layer Collection by jones.morris\n",
       "                        <br/>Last Modified: November 24, 2016\n",
       "                        <br/>0 comments, 0 views\n",
       "                    </div>\n",
       "                </div>\n",
       "                "
      ],
      "text/plain": [
       "<Item title:\"NC\" type:Feature Service owner:jones.morris>"
      ]
     },
     "metadata": {},
     "output_type": "display_data"
    },
    {
     "data": {
      "text/html": [
       "<div class=\"item_container\" style=\"height: auto; overflow: hidden; border: 1px solid #cfcfcf; border-radius: 2px; background: #f6fafa; line-height: 1.21429em; padding: 10px;\">\n",
       "                    <div class=\"item_left\" style=\"width: 210px; float: left;\">\n",
       "                       <a href='https://dev003328.esri.com/portal/home/item.html?id=f867b079272141f290a9788202e2ea1d' target='_blank'>\n",
       "                        <img src='https://dev003328.esri.com/portal/portalimages/desktopapp.png' class=\"itemThumbnail\">\n",
       "                       </a>\n",
       "                    </div>\n",
       "\n",
       "                    <div class=\"item_right\"     style=\"float: none; width: auto; overflow: hidden;\">\n",
       "                        <a href='https://dev003328.esri.com/portal/home/item.html?id=f867b079272141f290a9788202e2ea1d' target='_blank'><b>NC</b>\n",
       "                        </a>\n",
       "                        <br/><img src='https://dev003328.esri.com/portal/home/js/jsapi/esri/css/images/item_type_icons/layers16.png' style=\"vertical-align:middle;\">CSV by jones.morris\n",
       "                        <br/>Last Modified: November 24, 2016\n",
       "                        <br/>0 comments, 2 views\n",
       "                    </div>\n",
       "                </div>\n",
       "                "
      ],
      "text/plain": [
       "<Item title:\"NC\" type:CSV owner:jones.morris>"
      ]
     },
     "metadata": {},
     "output_type": "display_data"
    },
    {
     "data": {
      "text/html": [
       "<div class=\"item_container\" style=\"height: auto; overflow: hidden; border: 1px solid #cfcfcf; border-radius: 2px; background: #f6fafa; line-height: 1.21429em; padding: 10px;\">\n",
       "                    <div class=\"item_left\" style=\"width: 210px; float: left;\">\n",
       "                       <a href='https://dev003328.esri.com/portal/home/item.html?id=8609676dc88042cda712b4a27b636312' target='_blank'>\n",
       "                        <img src='https://dev003328.esri.com/portal/portalimages/desktopapp.png' class=\"itemThumbnail\">\n",
       "                       </a>\n",
       "                    </div>\n",
       "\n",
       "                    <div class=\"item_right\"     style=\"float: none; width: auto; overflow: hidden;\">\n",
       "                        <a href='https://dev003328.esri.com/portal/home/item.html?id=8609676dc88042cda712b4a27b636312' target='_blank'><b>Jones Morris response locations</b>\n",
       "                        </a>\n",
       "                        <br/>Areas affected by Hurricane Matthew under the supervision ofJones Morris<img src='https://dev003328.esri.com/portal/home/js/jsapi/esri/css/images/item_type_icons/maps16.png' style=\"vertical-align:middle;\">Web Map by jones.morris\n",
       "                        <br/>Last Modified: November 24, 2016\n",
       "                        <br/>0 comments, 0 views\n",
       "                    </div>\n",
       "                </div>\n",
       "                "
      ],
      "text/plain": [
       "<Item title:\"Jones Morris response locations\" type:Web Map owner:jones.morris>"
      ]
     },
     "metadata": {},
     "output_type": "display_data"
    },
    {
     "name": "stdout",
     "output_type": "stream",
     "text": [
      "**************\n",
      "king.barnes\n"
     ]
    },
    {
     "data": {
      "text/html": [
       "<div class=\"item_container\" style=\"height: auto; overflow: hidden; border: 1px solid #cfcfcf; border-radius: 2px; background: #f6fafa; line-height: 1.21429em; padding: 10px;\">\n",
       "                    <div class=\"item_left\" style=\"width: 210px; float: left;\">\n",
       "                       <a href='https://dev003328.esri.com/portal/home/item.html?id=0ed19bc6ad5c4058adcaf9bc4fc7587a' target='_blank'>\n",
       "                        <img src='https://dev003328.esri.com/portal/portalimages/desktopapp.png' class=\"itemThumbnail\">\n",
       "                       </a>\n",
       "                    </div>\n",
       "\n",
       "                    <div class=\"item_right\"     style=\"float: none; width: auto; overflow: hidden;\">\n",
       "                        <a href='https://dev003328.esri.com/portal/home/item.html?id=0ed19bc6ad5c4058adcaf9bc4fc7587a' target='_blank'><b>GA</b>\n",
       "                        </a>\n",
       "                        <br/><img src='https://dev003328.esri.com/portal/home/js/jsapi/esri/css/images/item_type_icons/layers16.png' style=\"vertical-align:middle;\">CSV by king.barnes\n",
       "                        <br/>Last Modified: November 24, 2016\n",
       "                        <br/>0 comments, 2 views\n",
       "                    </div>\n",
       "                </div>\n",
       "                "
      ],
      "text/plain": [
       "<Item title:\"GA\" type:CSV owner:king.barnes>"
      ]
     },
     "metadata": {},
     "output_type": "display_data"
    },
    {
     "data": {
      "text/html": [
       "<div class=\"item_container\" style=\"height: auto; overflow: hidden; border: 1px solid #cfcfcf; border-radius: 2px; background: #f6fafa; line-height: 1.21429em; padding: 10px;\">\n",
       "                    <div class=\"item_left\" style=\"width: 210px; float: left;\">\n",
       "                       <a href='https://dev003328.esri.com/portal/home/item.html?id=bda2ea0a850b4f38b89b7e498714f4aa' target='_blank'>\n",
       "                        <img src='https://dev003328.esri.com/portal/portalimages/desktopapp.png' class=\"itemThumbnail\">\n",
       "                       </a>\n",
       "                    </div>\n",
       "\n",
       "                    <div class=\"item_right\"     style=\"float: none; width: auto; overflow: hidden;\">\n",
       "                        <a href='https://dev003328.esri.com/portal/home/item.html?id=bda2ea0a850b4f38b89b7e498714f4aa' target='_blank'><b>King Barnes response locations</b>\n",
       "                        </a>\n",
       "                        <br/>Areas affected by Hurricane Matthew under the supervision ofKing Barnes<img src='https://dev003328.esri.com/portal/home/js/jsapi/esri/css/images/item_type_icons/maps16.png' style=\"vertical-align:middle;\">Web Map by king.barnes\n",
       "                        <br/>Last Modified: November 24, 2016\n",
       "                        <br/>0 comments, 0 views\n",
       "                    </div>\n",
       "                </div>\n",
       "                "
      ],
      "text/plain": [
       "<Item title:\"King Barnes response locations\" type:Web Map owner:king.barnes>"
      ]
     },
     "metadata": {},
     "output_type": "display_data"
    },
    {
     "data": {
      "text/html": [
       "<div class=\"item_container\" style=\"height: auto; overflow: hidden; border: 1px solid #cfcfcf; border-radius: 2px; background: #f6fafa; line-height: 1.21429em; padding: 10px;\">\n",
       "                    <div class=\"item_left\" style=\"width: 210px; float: left;\">\n",
       "                       <a href='https://dev003328.esri.com/portal/home/item.html?id=52278451a53b46c89127892100a58f68' target='_blank'>\n",
       "                        <img src='https://dev003328.esri.com/portal/portalimages/desktopapp.png' class=\"itemThumbnail\">\n",
       "                       </a>\n",
       "                    </div>\n",
       "\n",
       "                    <div class=\"item_right\"     style=\"float: none; width: auto; overflow: hidden;\">\n",
       "                        <a href='https://dev003328.esri.com/portal/home/item.html?id=52278451a53b46c89127892100a58f68' target='_blank'><b>GA</b>\n",
       "                        </a>\n",
       "                        <br/><img src='https://dev003328.esri.com/portal/home/js/jsapi/esri/css/images/item_type_icons/featureshosted16.png' style=\"vertical-align:middle;\">Feature Layer Collection by king.barnes\n",
       "                        <br/>Last Modified: November 24, 2016\n",
       "                        <br/>0 comments, 0 views\n",
       "                    </div>\n",
       "                </div>\n",
       "                "
      ],
      "text/plain": [
       "<Item title:\"GA\" type:Feature Service owner:king.barnes>"
      ]
     },
     "metadata": {},
     "output_type": "display_data"
    },
    {
     "name": "stdout",
     "output_type": "stream",
     "text": [
      "**************\n",
      "lee.brooks\n"
     ]
    },
    {
     "data": {
      "text/html": [
       "<div class=\"item_container\" style=\"height: auto; overflow: hidden; border: 1px solid #cfcfcf; border-radius: 2px; background: #f6fafa; line-height: 1.21429em; padding: 10px;\">\n",
       "                    <div class=\"item_left\" style=\"width: 210px; float: left;\">\n",
       "                       <a href='https://dev003328.esri.com/portal/home/item.html?id=dbaaaf9fbea8463daaf5f62110ba00a5' target='_blank'>\n",
       "                        <img src='https://dev003328.esri.com/portal/portalimages/desktopapp.png' class=\"itemThumbnail\">\n",
       "                       </a>\n",
       "                    </div>\n",
       "\n",
       "                    <div class=\"item_right\"     style=\"float: none; width: auto; overflow: hidden;\">\n",
       "                        <a href='https://dev003328.esri.com/portal/home/item.html?id=dbaaaf9fbea8463daaf5f62110ba00a5' target='_blank'><b>Lee Brooks response locations</b>\n",
       "                        </a>\n",
       "                        <br/>Areas affected by Hurricane Matthew under the supervision ofLee Brooks<img src='https://dev003328.esri.com/portal/home/js/jsapi/esri/css/images/item_type_icons/maps16.png' style=\"vertical-align:middle;\">Web Map by lee.brooks\n",
       "                        <br/>Last Modified: November 24, 2016\n",
       "                        <br/>0 comments, 0 views\n",
       "                    </div>\n",
       "                </div>\n",
       "                "
      ],
      "text/plain": [
       "<Item title:\"Lee Brooks response locations\" type:Web Map owner:lee.brooks>"
      ]
     },
     "metadata": {},
     "output_type": "display_data"
    },
    {
     "data": {
      "text/html": [
       "<div class=\"item_container\" style=\"height: auto; overflow: hidden; border: 1px solid #cfcfcf; border-radius: 2px; background: #f6fafa; line-height: 1.21429em; padding: 10px;\">\n",
       "                    <div class=\"item_left\" style=\"width: 210px; float: left;\">\n",
       "                       <a href='https://dev003328.esri.com/portal/home/item.html?id=118b9d0ea03a4321bf2fba1cdf34e2d3' target='_blank'>\n",
       "                        <img src='https://dev003328.esri.com/portal/portalimages/desktopapp.png' class=\"itemThumbnail\">\n",
       "                       </a>\n",
       "                    </div>\n",
       "\n",
       "                    <div class=\"item_right\"     style=\"float: none; width: auto; overflow: hidden;\">\n",
       "                        <a href='https://dev003328.esri.com/portal/home/item.html?id=118b9d0ea03a4321bf2fba1cdf34e2d3' target='_blank'><b>CT</b>\n",
       "                        </a>\n",
       "                        <br/><img src='https://dev003328.esri.com/portal/home/js/jsapi/esri/css/images/item_type_icons/featureshosted16.png' style=\"vertical-align:middle;\">Feature Layer Collection by lee.brooks\n",
       "                        <br/>Last Modified: November 24, 2016\n",
       "                        <br/>0 comments, 0 views\n",
       "                    </div>\n",
       "                </div>\n",
       "                "
      ],
      "text/plain": [
       "<Item title:\"CT\" type:Feature Service owner:lee.brooks>"
      ]
     },
     "metadata": {},
     "output_type": "display_data"
    },
    {
     "data": {
      "text/html": [
       "<div class=\"item_container\" style=\"height: auto; overflow: hidden; border: 1px solid #cfcfcf; border-radius: 2px; background: #f6fafa; line-height: 1.21429em; padding: 10px;\">\n",
       "                    <div class=\"item_left\" style=\"width: 210px; float: left;\">\n",
       "                       <a href='https://dev003328.esri.com/portal/home/item.html?id=29c8dfde0e094457bc068b14d5037f8d' target='_blank'>\n",
       "                        <img src='https://dev003328.esri.com/portal/portalimages/desktopapp.png' class=\"itemThumbnail\">\n",
       "                       </a>\n",
       "                    </div>\n",
       "\n",
       "                    <div class=\"item_right\"     style=\"float: none; width: auto; overflow: hidden;\">\n",
       "                        <a href='https://dev003328.esri.com/portal/home/item.html?id=29c8dfde0e094457bc068b14d5037f8d' target='_blank'><b>CT</b>\n",
       "                        </a>\n",
       "                        <br/><img src='https://dev003328.esri.com/portal/home/js/jsapi/esri/css/images/item_type_icons/layers16.png' style=\"vertical-align:middle;\">CSV by lee.brooks\n",
       "                        <br/>Last Modified: November 24, 2016\n",
       "                        <br/>0 comments, 2 views\n",
       "                    </div>\n",
       "                </div>\n",
       "                "
      ],
      "text/plain": [
       "<Item title:\"CT\" type:CSV owner:lee.brooks>"
      ]
     },
     "metadata": {},
     "output_type": "display_data"
    },
    {
     "name": "stdout",
     "output_type": "stream",
     "text": [
      "**************\n",
      "lewis.watson\n"
     ]
    },
    {
     "data": {
      "text/html": [
       "<div class=\"item_container\" style=\"height: auto; overflow: hidden; border: 1px solid #cfcfcf; border-radius: 2px; background: #f6fafa; line-height: 1.21429em; padding: 10px;\">\n",
       "                    <div class=\"item_left\" style=\"width: 210px; float: left;\">\n",
       "                       <a href='https://dev003328.esri.com/portal/home/item.html?id=3f03bcd26b2e43f39ba0fbfc4de1056c' target='_blank'>\n",
       "                        <img src='https://dev003328.esri.com/portal/portalimages/desktopapp.png' class=\"itemThumbnail\">\n",
       "                       </a>\n",
       "                    </div>\n",
       "\n",
       "                    <div class=\"item_right\"     style=\"float: none; width: auto; overflow: hidden;\">\n",
       "                        <a href='https://dev003328.esri.com/portal/home/item.html?id=3f03bcd26b2e43f39ba0fbfc4de1056c' target='_blank'><b>PA</b>\n",
       "                        </a>\n",
       "                        <br/><img src='https://dev003328.esri.com/portal/home/js/jsapi/esri/css/images/item_type_icons/layers16.png' style=\"vertical-align:middle;\">CSV by lewis.watson\n",
       "                        <br/>Last Modified: November 24, 2016\n",
       "                        <br/>0 comments, 2 views\n",
       "                    </div>\n",
       "                </div>\n",
       "                "
      ],
      "text/plain": [
       "<Item title:\"PA\" type:CSV owner:lewis.watson>"
      ]
     },
     "metadata": {},
     "output_type": "display_data"
    },
    {
     "data": {
      "text/html": [
       "<div class=\"item_container\" style=\"height: auto; overflow: hidden; border: 1px solid #cfcfcf; border-radius: 2px; background: #f6fafa; line-height: 1.21429em; padding: 10px;\">\n",
       "                    <div class=\"item_left\" style=\"width: 210px; float: left;\">\n",
       "                       <a href='https://dev003328.esri.com/portal/home/item.html?id=110658708da44c33b354010a30ff78e5' target='_blank'>\n",
       "                        <img src='https://dev003328.esri.com/portal/portalimages/desktopapp.png' class=\"itemThumbnail\">\n",
       "                       </a>\n",
       "                    </div>\n",
       "\n",
       "                    <div class=\"item_right\"     style=\"float: none; width: auto; overflow: hidden;\">\n",
       "                        <a href='https://dev003328.esri.com/portal/home/item.html?id=110658708da44c33b354010a30ff78e5' target='_blank'><b>Lewis Watson response locations</b>\n",
       "                        </a>\n",
       "                        <br/>Areas affected by Hurricane Matthew under the supervision ofLewis Watson<img src='https://dev003328.esri.com/portal/home/js/jsapi/esri/css/images/item_type_icons/maps16.png' style=\"vertical-align:middle;\">Web Map by lewis.watson\n",
       "                        <br/>Last Modified: November 24, 2016\n",
       "                        <br/>0 comments, 0 views\n",
       "                    </div>\n",
       "                </div>\n",
       "                "
      ],
      "text/plain": [
       "<Item title:\"Lewis Watson response locations\" type:Web Map owner:lewis.watson>"
      ]
     },
     "metadata": {},
     "output_type": "display_data"
    },
    {
     "data": {
      "text/html": [
       "<div class=\"item_container\" style=\"height: auto; overflow: hidden; border: 1px solid #cfcfcf; border-radius: 2px; background: #f6fafa; line-height: 1.21429em; padding: 10px;\">\n",
       "                    <div class=\"item_left\" style=\"width: 210px; float: left;\">\n",
       "                       <a href='https://dev003328.esri.com/portal/home/item.html?id=fb799170b1374a5aa7335deba64b8c3a' target='_blank'>\n",
       "                        <img src='https://dev003328.esri.com/portal/portalimages/desktopapp.png' class=\"itemThumbnail\">\n",
       "                       </a>\n",
       "                    </div>\n",
       "\n",
       "                    <div class=\"item_right\"     style=\"float: none; width: auto; overflow: hidden;\">\n",
       "                        <a href='https://dev003328.esri.com/portal/home/item.html?id=fb799170b1374a5aa7335deba64b8c3a' target='_blank'><b>PA</b>\n",
       "                        </a>\n",
       "                        <br/><img src='https://dev003328.esri.com/portal/home/js/jsapi/esri/css/images/item_type_icons/featureshosted16.png' style=\"vertical-align:middle;\">Feature Layer Collection by lewis.watson\n",
       "                        <br/>Last Modified: November 24, 2016\n",
       "                        <br/>0 comments, 0 views\n",
       "                    </div>\n",
       "                </div>\n",
       "                "
      ],
      "text/plain": [
       "<Item title:\"PA\" type:Feature Service owner:lewis.watson>"
      ]
     },
     "metadata": {},
     "output_type": "display_data"
    },
    {
     "name": "stdout",
     "output_type": "stream",
     "text": [
      "**************\n",
      "lopez.henderson\n"
     ]
    },
    {
     "data": {
      "text/html": [
       "<div class=\"item_container\" style=\"height: auto; overflow: hidden; border: 1px solid #cfcfcf; border-radius: 2px; background: #f6fafa; line-height: 1.21429em; padding: 10px;\">\n",
       "                    <div class=\"item_left\" style=\"width: 210px; float: left;\">\n",
       "                       <a href='https://dev003328.esri.com/portal/home/item.html?id=288d44bb18bc474cba30185bccb615dc' target='_blank'>\n",
       "                        <img src='https://dev003328.esri.com/portal/portalimages/desktopapp.png' class=\"itemThumbnail\">\n",
       "                       </a>\n",
       "                    </div>\n",
       "\n",
       "                    <div class=\"item_right\"     style=\"float: none; width: auto; overflow: hidden;\">\n",
       "                        <a href='https://dev003328.esri.com/portal/home/item.html?id=288d44bb18bc474cba30185bccb615dc' target='_blank'><b>MD</b>\n",
       "                        </a>\n",
       "                        <br/><img src='https://dev003328.esri.com/portal/home/js/jsapi/esri/css/images/item_type_icons/layers16.png' style=\"vertical-align:middle;\">CSV by lopez.henderson\n",
       "                        <br/>Last Modified: November 24, 2016\n",
       "                        <br/>0 comments, 2 views\n",
       "                    </div>\n",
       "                </div>\n",
       "                "
      ],
      "text/plain": [
       "<Item title:\"MD\" type:CSV owner:lopez.henderson>"
      ]
     },
     "metadata": {},
     "output_type": "display_data"
    },
    {
     "data": {
      "text/html": [
       "<div class=\"item_container\" style=\"height: auto; overflow: hidden; border: 1px solid #cfcfcf; border-radius: 2px; background: #f6fafa; line-height: 1.21429em; padding: 10px;\">\n",
       "                    <div class=\"item_left\" style=\"width: 210px; float: left;\">\n",
       "                       <a href='https://dev003328.esri.com/portal/home/item.html?id=f639828a98fe40ea8bbd55c5cbf986d5' target='_blank'>\n",
       "                        <img src='https://dev003328.esri.com/portal/portalimages/desktopapp.png' class=\"itemThumbnail\">\n",
       "                       </a>\n",
       "                    </div>\n",
       "\n",
       "                    <div class=\"item_right\"     style=\"float: none; width: auto; overflow: hidden;\">\n",
       "                        <a href='https://dev003328.esri.com/portal/home/item.html?id=f639828a98fe40ea8bbd55c5cbf986d5' target='_blank'><b>Lopez Henderson response locations</b>\n",
       "                        </a>\n",
       "                        <br/>Areas affected by Hurricane Matthew under the supervision ofLopez Henderson<img src='https://dev003328.esri.com/portal/home/js/jsapi/esri/css/images/item_type_icons/maps16.png' style=\"vertical-align:middle;\">Web Map by lopez.henderson\n",
       "                        <br/>Last Modified: November 24, 2016\n",
       "                        <br/>0 comments, 0 views\n",
       "                    </div>\n",
       "                </div>\n",
       "                "
      ],
      "text/plain": [
       "<Item title:\"Lopez Henderson response locations\" type:Web Map owner:lopez.henderson>"
      ]
     },
     "metadata": {},
     "output_type": "display_data"
    },
    {
     "data": {
      "text/html": [
       "<div class=\"item_container\" style=\"height: auto; overflow: hidden; border: 1px solid #cfcfcf; border-radius: 2px; background: #f6fafa; line-height: 1.21429em; padding: 10px;\">\n",
       "                    <div class=\"item_left\" style=\"width: 210px; float: left;\">\n",
       "                       <a href='https://dev003328.esri.com/portal/home/item.html?id=8706d0f29c8f4be9bbbb74acc6daa00a' target='_blank'>\n",
       "                        <img src='https://dev003328.esri.com/portal/portalimages/desktopapp.png' class=\"itemThumbnail\">\n",
       "                       </a>\n",
       "                    </div>\n",
       "\n",
       "                    <div class=\"item_right\"     style=\"float: none; width: auto; overflow: hidden;\">\n",
       "                        <a href='https://dev003328.esri.com/portal/home/item.html?id=8706d0f29c8f4be9bbbb74acc6daa00a' target='_blank'><b>MD</b>\n",
       "                        </a>\n",
       "                        <br/><img src='https://dev003328.esri.com/portal/home/js/jsapi/esri/css/images/item_type_icons/featureshosted16.png' style=\"vertical-align:middle;\">Feature Layer Collection by lopez.henderson\n",
       "                        <br/>Last Modified: November 24, 2016\n",
       "                        <br/>0 comments, 0 views\n",
       "                    </div>\n",
       "                </div>\n",
       "                "
      ],
      "text/plain": [
       "<Item title:\"MD\" type:Feature Service owner:lopez.henderson>"
      ]
     },
     "metadata": {},
     "output_type": "display_data"
    },
    {
     "name": "stdout",
     "output_type": "stream",
     "text": [
      "**************\n",
      "martin.howard\n"
     ]
    },
    {
     "data": {
      "text/html": [
       "<div class=\"item_container\" style=\"height: auto; overflow: hidden; border: 1px solid #cfcfcf; border-radius: 2px; background: #f6fafa; line-height: 1.21429em; padding: 10px;\">\n",
       "                    <div class=\"item_left\" style=\"width: 210px; float: left;\">\n",
       "                       <a href='https://dev003328.esri.com/portal/home/item.html?id=3c8e399977004030b0f4f1cffb336c1f' target='_blank'>\n",
       "                        <img src='https://dev003328.esri.com/portal/portalimages/desktopapp.png' class=\"itemThumbnail\">\n",
       "                       </a>\n",
       "                    </div>\n",
       "\n",
       "                    <div class=\"item_right\"     style=\"float: none; width: auto; overflow: hidden;\">\n",
       "                        <a href='https://dev003328.esri.com/portal/home/item.html?id=3c8e399977004030b0f4f1cffb336c1f' target='_blank'><b>Martin Howard response locations</b>\n",
       "                        </a>\n",
       "                        <br/>Areas affected by Hurricane Matthew under the supervision ofMartin Howard<img src='https://dev003328.esri.com/portal/home/js/jsapi/esri/css/images/item_type_icons/maps16.png' style=\"vertical-align:middle;\">Web Map by martin.howard\n",
       "                        <br/>Last Modified: November 24, 2016\n",
       "                        <br/>0 comments, 0 views\n",
       "                    </div>\n",
       "                </div>\n",
       "                "
      ],
      "text/plain": [
       "<Item title:\"Martin Howard response locations\" type:Web Map owner:martin.howard>"
      ]
     },
     "metadata": {},
     "output_type": "display_data"
    },
    {
     "data": {
      "text/html": [
       "<div class=\"item_container\" style=\"height: auto; overflow: hidden; border: 1px solid #cfcfcf; border-radius: 2px; background: #f6fafa; line-height: 1.21429em; padding: 10px;\">\n",
       "                    <div class=\"item_left\" style=\"width: 210px; float: left;\">\n",
       "                       <a href='https://dev003328.esri.com/portal/home/item.html?id=17769c401d9d48e7905ecc8fc91c655a' target='_blank'>\n",
       "                        <img src='https://dev003328.esri.com/portal/portalimages/desktopapp.png' class=\"itemThumbnail\">\n",
       "                       </a>\n",
       "                    </div>\n",
       "\n",
       "                    <div class=\"item_right\"     style=\"float: none; width: auto; overflow: hidden;\">\n",
       "                        <a href='https://dev003328.esri.com/portal/home/item.html?id=17769c401d9d48e7905ecc8fc91c655a' target='_blank'><b>VA</b>\n",
       "                        </a>\n",
       "                        <br/><img src='https://dev003328.esri.com/portal/home/js/jsapi/esri/css/images/item_type_icons/featureshosted16.png' style=\"vertical-align:middle;\">Feature Layer Collection by martin.howard\n",
       "                        <br/>Last Modified: November 24, 2016\n",
       "                        <br/>0 comments, 0 views\n",
       "                    </div>\n",
       "                </div>\n",
       "                "
      ],
      "text/plain": [
       "<Item title:\"VA\" type:Feature Service owner:martin.howard>"
      ]
     },
     "metadata": {},
     "output_type": "display_data"
    },
    {
     "data": {
      "text/html": [
       "<div class=\"item_container\" style=\"height: auto; overflow: hidden; border: 1px solid #cfcfcf; border-radius: 2px; background: #f6fafa; line-height: 1.21429em; padding: 10px;\">\n",
       "                    <div class=\"item_left\" style=\"width: 210px; float: left;\">\n",
       "                       <a href='https://dev003328.esri.com/portal/home/item.html?id=d8795fe9846347beab893d2324c74fc8' target='_blank'>\n",
       "                        <img src='https://dev003328.esri.com/portal/portalimages/desktopapp.png' class=\"itemThumbnail\">\n",
       "                       </a>\n",
       "                    </div>\n",
       "\n",
       "                    <div class=\"item_right\"     style=\"float: none; width: auto; overflow: hidden;\">\n",
       "                        <a href='https://dev003328.esri.com/portal/home/item.html?id=d8795fe9846347beab893d2324c74fc8' target='_blank'><b>VA</b>\n",
       "                        </a>\n",
       "                        <br/><img src='https://dev003328.esri.com/portal/home/js/jsapi/esri/css/images/item_type_icons/layers16.png' style=\"vertical-align:middle;\">CSV by martin.howard\n",
       "                        <br/>Last Modified: November 24, 2016\n",
       "                        <br/>0 comments, 2 views\n",
       "                    </div>\n",
       "                </div>\n",
       "                "
      ],
      "text/plain": [
       "<Item title:\"VA\" type:CSV owner:martin.howard>"
      ]
     },
     "metadata": {},
     "output_type": "display_data"
    },
    {
     "name": "stdout",
     "output_type": "stream",
     "text": [
      "**************\n",
      "martinez.peterson\n"
     ]
    },
    {
     "data": {
      "text/html": [
       "<div class=\"item_container\" style=\"height: auto; overflow: hidden; border: 1px solid #cfcfcf; border-radius: 2px; background: #f6fafa; line-height: 1.21429em; padding: 10px;\">\n",
       "                    <div class=\"item_left\" style=\"width: 210px; float: left;\">\n",
       "                       <a href='https://dev003328.esri.com/portal/home/item.html?id=ce5c5d7bebeb4b4885249a9d94dc1734' target='_blank'>\n",
       "                        <img src='https://dev003328.esri.com/portal/portalimages/desktopapp.png' class=\"itemThumbnail\">\n",
       "                       </a>\n",
       "                    </div>\n",
       "\n",
       "                    <div class=\"item_right\"     style=\"float: none; width: auto; overflow: hidden;\">\n",
       "                        <a href='https://dev003328.esri.com/portal/home/item.html?id=ce5c5d7bebeb4b4885249a9d94dc1734' target='_blank'><b>AL</b>\n",
       "                        </a>\n",
       "                        <br/><img src='https://dev003328.esri.com/portal/home/js/jsapi/esri/css/images/item_type_icons/layers16.png' style=\"vertical-align:middle;\">CSV by martinez.peterson\n",
       "                        <br/>Last Modified: November 24, 2016\n",
       "                        <br/>0 comments, 2 views\n",
       "                    </div>\n",
       "                </div>\n",
       "                "
      ],
      "text/plain": [
       "<Item title:\"AL\" type:CSV owner:martinez.peterson>"
      ]
     },
     "metadata": {},
     "output_type": "display_data"
    },
    {
     "data": {
      "text/html": [
       "<div class=\"item_container\" style=\"height: auto; overflow: hidden; border: 1px solid #cfcfcf; border-radius: 2px; background: #f6fafa; line-height: 1.21429em; padding: 10px;\">\n",
       "                    <div class=\"item_left\" style=\"width: 210px; float: left;\">\n",
       "                       <a href='https://dev003328.esri.com/portal/home/item.html?id=fa52b9dac11742e99a56b61b19925bcd' target='_blank'>\n",
       "                        <img src='https://dev003328.esri.com/portal/portalimages/desktopapp.png' class=\"itemThumbnail\">\n",
       "                       </a>\n",
       "                    </div>\n",
       "\n",
       "                    <div class=\"item_right\"     style=\"float: none; width: auto; overflow: hidden;\">\n",
       "                        <a href='https://dev003328.esri.com/portal/home/item.html?id=fa52b9dac11742e99a56b61b19925bcd' target='_blank'><b>Martinez Peterson response locations</b>\n",
       "                        </a>\n",
       "                        <br/>Areas affected by Hurricane Matthew under the supervision ofMartinez Peterson<img src='https://dev003328.esri.com/portal/home/js/jsapi/esri/css/images/item_type_icons/maps16.png' style=\"vertical-align:middle;\">Web Map by martinez.peterson\n",
       "                        <br/>Last Modified: November 24, 2016\n",
       "                        <br/>0 comments, 0 views\n",
       "                    </div>\n",
       "                </div>\n",
       "                "
      ],
      "text/plain": [
       "<Item title:\"Martinez Peterson response locations\" type:Web Map owner:martinez.peterson>"
      ]
     },
     "metadata": {},
     "output_type": "display_data"
    },
    {
     "data": {
      "text/html": [
       "<div class=\"item_container\" style=\"height: auto; overflow: hidden; border: 1px solid #cfcfcf; border-radius: 2px; background: #f6fafa; line-height: 1.21429em; padding: 10px;\">\n",
       "                    <div class=\"item_left\" style=\"width: 210px; float: left;\">\n",
       "                       <a href='https://dev003328.esri.com/portal/home/item.html?id=4e665cdfcf8241aab582f4f1514a1d70' target='_blank'>\n",
       "                        <img src='https://dev003328.esri.com/portal/portalimages/desktopapp.png' class=\"itemThumbnail\">\n",
       "                       </a>\n",
       "                    </div>\n",
       "\n",
       "                    <div class=\"item_right\"     style=\"float: none; width: auto; overflow: hidden;\">\n",
       "                        <a href='https://dev003328.esri.com/portal/home/item.html?id=4e665cdfcf8241aab582f4f1514a1d70' target='_blank'><b>AL</b>\n",
       "                        </a>\n",
       "                        <br/><img src='https://dev003328.esri.com/portal/home/js/jsapi/esri/css/images/item_type_icons/featureshosted16.png' style=\"vertical-align:middle;\">Feature Layer Collection by martinez.peterson\n",
       "                        <br/>Last Modified: November 24, 2016\n",
       "                        <br/>0 comments, 0 views\n",
       "                    </div>\n",
       "                </div>\n",
       "                "
      ],
      "text/plain": [
       "<Item title:\"AL\" type:Feature Service owner:martinez.peterson>"
      ]
     },
     "metadata": {},
     "output_type": "display_data"
    },
    {
     "name": "stdout",
     "output_type": "stream",
     "text": [
      "**************\n",
      "miller.cook\n"
     ]
    },
    {
     "data": {
      "text/html": [
       "<div class=\"item_container\" style=\"height: auto; overflow: hidden; border: 1px solid #cfcfcf; border-radius: 2px; background: #f6fafa; line-height: 1.21429em; padding: 10px;\">\n",
       "                    <div class=\"item_left\" style=\"width: 210px; float: left;\">\n",
       "                       <a href='https://dev003328.esri.com/portal/home/item.html?id=9d9972840b25489a972d7594050e63d0' target='_blank'>\n",
       "                        <img src='https://dev003328.esri.com/portal/portalimages/desktopapp.png' class=\"itemThumbnail\">\n",
       "                       </a>\n",
       "                    </div>\n",
       "\n",
       "                    <div class=\"item_right\"     style=\"float: none; width: auto; overflow: hidden;\">\n",
       "                        <a href='https://dev003328.esri.com/portal/home/item.html?id=9d9972840b25489a972d7594050e63d0' target='_blank'><b>Miller Cook response locations</b>\n",
       "                        </a>\n",
       "                        <br/>Areas affected by Hurricane Matthew under the supervision ofMiller Cook<img src='https://dev003328.esri.com/portal/home/js/jsapi/esri/css/images/item_type_icons/maps16.png' style=\"vertical-align:middle;\">Web Map by miller.cook\n",
       "                        <br/>Last Modified: November 24, 2016\n",
       "                        <br/>0 comments, 0 views\n",
       "                    </div>\n",
       "                </div>\n",
       "                "
      ],
      "text/plain": [
       "<Item title:\"Miller Cook response locations\" type:Web Map owner:miller.cook>"
      ]
     },
     "metadata": {},
     "output_type": "display_data"
    },
    {
     "data": {
      "text/html": [
       "<div class=\"item_container\" style=\"height: auto; overflow: hidden; border: 1px solid #cfcfcf; border-radius: 2px; background: #f6fafa; line-height: 1.21429em; padding: 10px;\">\n",
       "                    <div class=\"item_left\" style=\"width: 210px; float: left;\">\n",
       "                       <a href='https://dev003328.esri.com/portal/home/item.html?id=f043eebe68984b06b53688f8764caa4e' target='_blank'>\n",
       "                        <img src='https://dev003328.esri.com/portal/portalimages/desktopapp.png' class=\"itemThumbnail\">\n",
       "                       </a>\n",
       "                    </div>\n",
       "\n",
       "                    <div class=\"item_right\"     style=\"float: none; width: auto; overflow: hidden;\">\n",
       "                        <a href='https://dev003328.esri.com/portal/home/item.html?id=f043eebe68984b06b53688f8764caa4e' target='_blank'><b>NH</b>\n",
       "                        </a>\n",
       "                        <br/><img src='https://dev003328.esri.com/portal/home/js/jsapi/esri/css/images/item_type_icons/featureshosted16.png' style=\"vertical-align:middle;\">Feature Layer Collection by miller.cook\n",
       "                        <br/>Last Modified: November 24, 2016\n",
       "                        <br/>0 comments, 0 views\n",
       "                    </div>\n",
       "                </div>\n",
       "                "
      ],
      "text/plain": [
       "<Item title:\"NH\" type:Feature Service owner:miller.cook>"
      ]
     },
     "metadata": {},
     "output_type": "display_data"
    },
    {
     "data": {
      "text/html": [
       "<div class=\"item_container\" style=\"height: auto; overflow: hidden; border: 1px solid #cfcfcf; border-radius: 2px; background: #f6fafa; line-height: 1.21429em; padding: 10px;\">\n",
       "                    <div class=\"item_left\" style=\"width: 210px; float: left;\">\n",
       "                       <a href='https://dev003328.esri.com/portal/home/item.html?id=13d1e7e8a512405c8ce74256fbe640c8' target='_blank'>\n",
       "                        <img src='https://dev003328.esri.com/portal/portalimages/desktopapp.png' class=\"itemThumbnail\">\n",
       "                       </a>\n",
       "                    </div>\n",
       "\n",
       "                    <div class=\"item_right\"     style=\"float: none; width: auto; overflow: hidden;\">\n",
       "                        <a href='https://dev003328.esri.com/portal/home/item.html?id=13d1e7e8a512405c8ce74256fbe640c8' target='_blank'><b>NH</b>\n",
       "                        </a>\n",
       "                        <br/><img src='https://dev003328.esri.com/portal/home/js/jsapi/esri/css/images/item_type_icons/layers16.png' style=\"vertical-align:middle;\">CSV by miller.cook\n",
       "                        <br/>Last Modified: November 24, 2016\n",
       "                        <br/>0 comments, 2 views\n",
       "                    </div>\n",
       "                </div>\n",
       "                "
      ],
      "text/plain": [
       "<Item title:\"NH\" type:CSV owner:miller.cook>"
      ]
     },
     "metadata": {},
     "output_type": "display_data"
    },
    {
     "name": "stdout",
     "output_type": "stream",
     "text": [
      "**************\n",
      "mitchell.washington\n"
     ]
    },
    {
     "data": {
      "text/html": [
       "<div class=\"item_container\" style=\"height: auto; overflow: hidden; border: 1px solid #cfcfcf; border-radius: 2px; background: #f6fafa; line-height: 1.21429em; padding: 10px;\">\n",
       "                    <div class=\"item_left\" style=\"width: 210px; float: left;\">\n",
       "                       <a href='https://dev003328.esri.com/portal/home/item.html?id=e6a2c83f244c4efe997769f4332d5481' target='_blank'>\n",
       "                        <img src='https://dev003328.esri.com/portal/portalimages/desktopapp.png' class=\"itemThumbnail\">\n",
       "                       </a>\n",
       "                    </div>\n",
       "\n",
       "                    <div class=\"item_right\"     style=\"float: none; width: auto; overflow: hidden;\">\n",
       "                        <a href='https://dev003328.esri.com/portal/home/item.html?id=e6a2c83f244c4efe997769f4332d5481' target='_blank'><b>SD</b>\n",
       "                        </a>\n",
       "                        <br/><img src='https://dev003328.esri.com/portal/home/js/jsapi/esri/css/images/item_type_icons/featureshosted16.png' style=\"vertical-align:middle;\">Feature Layer Collection by mitchell.washington\n",
       "                        <br/>Last Modified: November 24, 2016\n",
       "                        <br/>0 comments, 0 views\n",
       "                    </div>\n",
       "                </div>\n",
       "                "
      ],
      "text/plain": [
       "<Item title:\"SD\" type:Feature Service owner:mitchell.washington>"
      ]
     },
     "metadata": {},
     "output_type": "display_data"
    },
    {
     "data": {
      "text/html": [
       "<div class=\"item_container\" style=\"height: auto; overflow: hidden; border: 1px solid #cfcfcf; border-radius: 2px; background: #f6fafa; line-height: 1.21429em; padding: 10px;\">\n",
       "                    <div class=\"item_left\" style=\"width: 210px; float: left;\">\n",
       "                       <a href='https://dev003328.esri.com/portal/home/item.html?id=975f93ff243b408c998832fb767031ef' target='_blank'>\n",
       "                        <img src='https://dev003328.esri.com/portal/portalimages/desktopapp.png' class=\"itemThumbnail\">\n",
       "                       </a>\n",
       "                    </div>\n",
       "\n",
       "                    <div class=\"item_right\"     style=\"float: none; width: auto; overflow: hidden;\">\n",
       "                        <a href='https://dev003328.esri.com/portal/home/item.html?id=975f93ff243b408c998832fb767031ef' target='_blank'><b>SD</b>\n",
       "                        </a>\n",
       "                        <br/><img src='https://dev003328.esri.com/portal/home/js/jsapi/esri/css/images/item_type_icons/layers16.png' style=\"vertical-align:middle;\">CSV by mitchell.washington\n",
       "                        <br/>Last Modified: November 24, 2016\n",
       "                        <br/>0 comments, 2 views\n",
       "                    </div>\n",
       "                </div>\n",
       "                "
      ],
      "text/plain": [
       "<Item title:\"SD\" type:CSV owner:mitchell.washington>"
      ]
     },
     "metadata": {},
     "output_type": "display_data"
    },
    {
     "data": {
      "text/html": [
       "<div class=\"item_container\" style=\"height: auto; overflow: hidden; border: 1px solid #cfcfcf; border-radius: 2px; background: #f6fafa; line-height: 1.21429em; padding: 10px;\">\n",
       "                    <div class=\"item_left\" style=\"width: 210px; float: left;\">\n",
       "                       <a href='https://dev003328.esri.com/portal/home/item.html?id=8a9fd334f97f4f428fd28cc8d06f302d' target='_blank'>\n",
       "                        <img src='https://dev003328.esri.com/portal/portalimages/desktopapp.png' class=\"itemThumbnail\">\n",
       "                       </a>\n",
       "                    </div>\n",
       "\n",
       "                    <div class=\"item_right\"     style=\"float: none; width: auto; overflow: hidden;\">\n",
       "                        <a href='https://dev003328.esri.com/portal/home/item.html?id=8a9fd334f97f4f428fd28cc8d06f302d' target='_blank'><b>Mitchell Washington response locations</b>\n",
       "                        </a>\n",
       "                        <br/>Areas affected by Hurricane Matthew under the supervision ofMitchell Washington<img src='https://dev003328.esri.com/portal/home/js/jsapi/esri/css/images/item_type_icons/maps16.png' style=\"vertical-align:middle;\">Web Map by mitchell.washington\n",
       "                        <br/>Last Modified: November 24, 2016\n",
       "                        <br/>0 comments, 0 views\n",
       "                    </div>\n",
       "                </div>\n",
       "                "
      ],
      "text/plain": [
       "<Item title:\"Mitchell Washington response locations\" type:Web Map owner:mitchell.washington>"
      ]
     },
     "metadata": {},
     "output_type": "display_data"
    },
    {
     "name": "stdout",
     "output_type": "stream",
     "text": [
      "**************\n",
      "moore.bell\n"
     ]
    },
    {
     "data": {
      "text/html": [
       "<div class=\"item_container\" style=\"height: auto; overflow: hidden; border: 1px solid #cfcfcf; border-radius: 2px; background: #f6fafa; line-height: 1.21429em; padding: 10px;\">\n",
       "                    <div class=\"item_left\" style=\"width: 210px; float: left;\">\n",
       "                       <a href='https://dev003328.esri.com/portal/home/item.html?id=154ab3364fcb4aa0a7ed07a01618fdbc' target='_blank'>\n",
       "                        <img src='https://dev003328.esri.com/portal/portalimages/desktopapp.png' class=\"itemThumbnail\">\n",
       "                       </a>\n",
       "                    </div>\n",
       "\n",
       "                    <div class=\"item_right\"     style=\"float: none; width: auto; overflow: hidden;\">\n",
       "                        <a href='https://dev003328.esri.com/portal/home/item.html?id=154ab3364fcb4aa0a7ed07a01618fdbc' target='_blank'><b>Moore Bell response locations</b>\n",
       "                        </a>\n",
       "                        <br/>Areas affected by Hurricane Matthew under the supervision ofMoore Bell<img src='https://dev003328.esri.com/portal/home/js/jsapi/esri/css/images/item_type_icons/maps16.png' style=\"vertical-align:middle;\">Web Map by moore.bell\n",
       "                        <br/>Last Modified: November 24, 2016\n",
       "                        <br/>0 comments, 0 views\n",
       "                    </div>\n",
       "                </div>\n",
       "                "
      ],
      "text/plain": [
       "<Item title:\"Moore Bell response locations\" type:Web Map owner:moore.bell>"
      ]
     },
     "metadata": {},
     "output_type": "display_data"
    },
    {
     "data": {
      "text/html": [
       "<div class=\"item_container\" style=\"height: auto; overflow: hidden; border: 1px solid #cfcfcf; border-radius: 2px; background: #f6fafa; line-height: 1.21429em; padding: 10px;\">\n",
       "                    <div class=\"item_left\" style=\"width: 210px; float: left;\">\n",
       "                       <a href='https://dev003328.esri.com/portal/home/item.html?id=8d688f6b336545d780865f463a84a742' target='_blank'>\n",
       "                        <img src='https://dev003328.esri.com/portal/portalimages/desktopapp.png' class=\"itemThumbnail\">\n",
       "                       </a>\n",
       "                    </div>\n",
       "\n",
       "                    <div class=\"item_right\"     style=\"float: none; width: auto; overflow: hidden;\">\n",
       "                        <a href='https://dev003328.esri.com/portal/home/item.html?id=8d688f6b336545d780865f463a84a742' target='_blank'><b>AZ</b>\n",
       "                        </a>\n",
       "                        <br/><img src='https://dev003328.esri.com/portal/home/js/jsapi/esri/css/images/item_type_icons/featureshosted16.png' style=\"vertical-align:middle;\">Feature Layer Collection by moore.bell\n",
       "                        <br/>Last Modified: November 24, 2016\n",
       "                        <br/>0 comments, 0 views\n",
       "                    </div>\n",
       "                </div>\n",
       "                "
      ],
      "text/plain": [
       "<Item title:\"AZ\" type:Feature Service owner:moore.bell>"
      ]
     },
     "metadata": {},
     "output_type": "display_data"
    },
    {
     "data": {
      "text/html": [
       "<div class=\"item_container\" style=\"height: auto; overflow: hidden; border: 1px solid #cfcfcf; border-radius: 2px; background: #f6fafa; line-height: 1.21429em; padding: 10px;\">\n",
       "                    <div class=\"item_left\" style=\"width: 210px; float: left;\">\n",
       "                       <a href='https://dev003328.esri.com/portal/home/item.html?id=07eaa617287940a2b6740b87a03ef4df' target='_blank'>\n",
       "                        <img src='https://dev003328.esri.com/portal/portalimages/desktopapp.png' class=\"itemThumbnail\">\n",
       "                       </a>\n",
       "                    </div>\n",
       "\n",
       "                    <div class=\"item_right\"     style=\"float: none; width: auto; overflow: hidden;\">\n",
       "                        <a href='https://dev003328.esri.com/portal/home/item.html?id=07eaa617287940a2b6740b87a03ef4df' target='_blank'><b>AZ</b>\n",
       "                        </a>\n",
       "                        <br/><img src='https://dev003328.esri.com/portal/home/js/jsapi/esri/css/images/item_type_icons/layers16.png' style=\"vertical-align:middle;\">CSV by moore.bell\n",
       "                        <br/>Last Modified: November 24, 2016\n",
       "                        <br/>0 comments, 2 views\n",
       "                    </div>\n",
       "                </div>\n",
       "                "
      ],
      "text/plain": [
       "<Item title:\"AZ\" type:CSV owner:moore.bell>"
      ]
     },
     "metadata": {},
     "output_type": "display_data"
    },
    {
     "name": "stdout",
     "output_type": "stream",
     "text": [
      "**************\n",
      "nelson.hughes\n"
     ]
    },
    {
     "data": {
      "text/html": [
       "<div class=\"item_container\" style=\"height: auto; overflow: hidden; border: 1px solid #cfcfcf; border-radius: 2px; background: #f6fafa; line-height: 1.21429em; padding: 10px;\">\n",
       "                    <div class=\"item_left\" style=\"width: 210px; float: left;\">\n",
       "                       <a href='https://dev003328.esri.com/portal/home/item.html?id=83bbccddaf064b8e9162815961fe13ea' target='_blank'>\n",
       "                        <img src='https://dev003328.esri.com/portal/portalimages/desktopapp.png' class=\"itemThumbnail\">\n",
       "                       </a>\n",
       "                    </div>\n",
       "\n",
       "                    <div class=\"item_right\"     style=\"float: none; width: auto; overflow: hidden;\">\n",
       "                        <a href='https://dev003328.esri.com/portal/home/item.html?id=83bbccddaf064b8e9162815961fe13ea' target='_blank'><b>Nelson Hughes response locations</b>\n",
       "                        </a>\n",
       "                        <br/>Areas affected by Hurricane Matthew under the supervision ofNelson Hughes<img src='https://dev003328.esri.com/portal/home/js/jsapi/esri/css/images/item_type_icons/maps16.png' style=\"vertical-align:middle;\">Web Map by nelson.hughes\n",
       "                        <br/>Last Modified: November 24, 2016\n",
       "                        <br/>0 comments, 0 views\n",
       "                    </div>\n",
       "                </div>\n",
       "                "
      ],
      "text/plain": [
       "<Item title:\"Nelson Hughes response locations\" type:Web Map owner:nelson.hughes>"
      ]
     },
     "metadata": {},
     "output_type": "display_data"
    },
    {
     "data": {
      "text/html": [
       "<div class=\"item_container\" style=\"height: auto; overflow: hidden; border: 1px solid #cfcfcf; border-radius: 2px; background: #f6fafa; line-height: 1.21429em; padding: 10px;\">\n",
       "                    <div class=\"item_left\" style=\"width: 210px; float: left;\">\n",
       "                       <a href='https://dev003328.esri.com/portal/home/item.html?id=1eb394f0bd1443e4afdd2712cea2c034' target='_blank'>\n",
       "                        <img src='https://dev003328.esri.com/portal/portalimages/desktopapp.png' class=\"itemThumbnail\">\n",
       "                       </a>\n",
       "                    </div>\n",
       "\n",
       "                    <div class=\"item_right\"     style=\"float: none; width: auto; overflow: hidden;\">\n",
       "                        <a href='https://dev003328.esri.com/portal/home/item.html?id=1eb394f0bd1443e4afdd2712cea2c034' target='_blank'><b>NE</b>\n",
       "                        </a>\n",
       "                        <br/><img src='https://dev003328.esri.com/portal/home/js/jsapi/esri/css/images/item_type_icons/featureshosted16.png' style=\"vertical-align:middle;\">Feature Layer Collection by nelson.hughes\n",
       "                        <br/>Last Modified: November 24, 2016\n",
       "                        <br/>0 comments, 0 views\n",
       "                    </div>\n",
       "                </div>\n",
       "                "
      ],
      "text/plain": [
       "<Item title:\"NE\" type:Feature Service owner:nelson.hughes>"
      ]
     },
     "metadata": {},
     "output_type": "display_data"
    },
    {
     "data": {
      "text/html": [
       "<div class=\"item_container\" style=\"height: auto; overflow: hidden; border: 1px solid #cfcfcf; border-radius: 2px; background: #f6fafa; line-height: 1.21429em; padding: 10px;\">\n",
       "                    <div class=\"item_left\" style=\"width: 210px; float: left;\">\n",
       "                       <a href='https://dev003328.esri.com/portal/home/item.html?id=88af4bd4c7b94c3e83d4a93f7c50649c' target='_blank'>\n",
       "                        <img src='https://dev003328.esri.com/portal/portalimages/desktopapp.png' class=\"itemThumbnail\">\n",
       "                       </a>\n",
       "                    </div>\n",
       "\n",
       "                    <div class=\"item_right\"     style=\"float: none; width: auto; overflow: hidden;\">\n",
       "                        <a href='https://dev003328.esri.com/portal/home/item.html?id=88af4bd4c7b94c3e83d4a93f7c50649c' target='_blank'><b>NE</b>\n",
       "                        </a>\n",
       "                        <br/><img src='https://dev003328.esri.com/portal/home/js/jsapi/esri/css/images/item_type_icons/layers16.png' style=\"vertical-align:middle;\">CSV by nelson.hughes\n",
       "                        <br/>Last Modified: November 24, 2016\n",
       "                        <br/>0 comments, 2 views\n",
       "                    </div>\n",
       "                </div>\n",
       "                "
      ],
      "text/plain": [
       "<Item title:\"NE\" type:CSV owner:nelson.hughes>"
      ]
     },
     "metadata": {},
     "output_type": "display_data"
    },
    {
     "name": "stdout",
     "output_type": "stream",
     "text": [
      "**************\n",
      "parker.alexander\n"
     ]
    },
    {
     "data": {
      "text/html": [
       "<div class=\"item_container\" style=\"height: auto; overflow: hidden; border: 1px solid #cfcfcf; border-radius: 2px; background: #f6fafa; line-height: 1.21429em; padding: 10px;\">\n",
       "                    <div class=\"item_left\" style=\"width: 210px; float: left;\">\n",
       "                       <a href='https://dev003328.esri.com/portal/home/item.html?id=532b9a9ab959498d98de34a4e5cd6560' target='_blank'>\n",
       "                        <img src='https://dev003328.esri.com/portal/portalimages/desktopapp.png' class=\"itemThumbnail\">\n",
       "                       </a>\n",
       "                    </div>\n",
       "\n",
       "                    <div class=\"item_right\"     style=\"float: none; width: auto; overflow: hidden;\">\n",
       "                        <a href='https://dev003328.esri.com/portal/home/item.html?id=532b9a9ab959498d98de34a4e5cd6560' target='_blank'><b>OR</b>\n",
       "                        </a>\n",
       "                        <br/><img src='https://dev003328.esri.com/portal/home/js/jsapi/esri/css/images/item_type_icons/layers16.png' style=\"vertical-align:middle;\">CSV by parker.alexander\n",
       "                        <br/>Last Modified: November 24, 2016\n",
       "                        <br/>0 comments, 2 views\n",
       "                    </div>\n",
       "                </div>\n",
       "                "
      ],
      "text/plain": [
       "<Item title:\"OR\" type:CSV owner:parker.alexander>"
      ]
     },
     "metadata": {},
     "output_type": "display_data"
    },
    {
     "data": {
      "text/html": [
       "<div class=\"item_container\" style=\"height: auto; overflow: hidden; border: 1px solid #cfcfcf; border-radius: 2px; background: #f6fafa; line-height: 1.21429em; padding: 10px;\">\n",
       "                    <div class=\"item_left\" style=\"width: 210px; float: left;\">\n",
       "                       <a href='https://dev003328.esri.com/portal/home/item.html?id=d4b9b2a55a8042cfba6f40e1747dbfb3' target='_blank'>\n",
       "                        <img src='https://dev003328.esri.com/portal/portalimages/desktopapp.png' class=\"itemThumbnail\">\n",
       "                       </a>\n",
       "                    </div>\n",
       "\n",
       "                    <div class=\"item_right\"     style=\"float: none; width: auto; overflow: hidden;\">\n",
       "                        <a href='https://dev003328.esri.com/portal/home/item.html?id=d4b9b2a55a8042cfba6f40e1747dbfb3' target='_blank'><b>OR</b>\n",
       "                        </a>\n",
       "                        <br/><img src='https://dev003328.esri.com/portal/home/js/jsapi/esri/css/images/item_type_icons/featureshosted16.png' style=\"vertical-align:middle;\">Feature Layer Collection by parker.alexander\n",
       "                        <br/>Last Modified: November 24, 2016\n",
       "                        <br/>0 comments, 0 views\n",
       "                    </div>\n",
       "                </div>\n",
       "                "
      ],
      "text/plain": [
       "<Item title:\"OR\" type:Feature Service owner:parker.alexander>"
      ]
     },
     "metadata": {},
     "output_type": "display_data"
    },
    {
     "data": {
      "text/html": [
       "<div class=\"item_container\" style=\"height: auto; overflow: hidden; border: 1px solid #cfcfcf; border-radius: 2px; background: #f6fafa; line-height: 1.21429em; padding: 10px;\">\n",
       "                    <div class=\"item_left\" style=\"width: 210px; float: left;\">\n",
       "                       <a href='https://dev003328.esri.com/portal/home/item.html?id=94b0e5ca08eb44109f830de6a13cae47' target='_blank'>\n",
       "                        <img src='https://dev003328.esri.com/portal/portalimages/desktopapp.png' class=\"itemThumbnail\">\n",
       "                       </a>\n",
       "                    </div>\n",
       "\n",
       "                    <div class=\"item_right\"     style=\"float: none; width: auto; overflow: hidden;\">\n",
       "                        <a href='https://dev003328.esri.com/portal/home/item.html?id=94b0e5ca08eb44109f830de6a13cae47' target='_blank'><b>Parker Alexander response locations</b>\n",
       "                        </a>\n",
       "                        <br/>Areas affected by Hurricane Matthew under the supervision ofParker Alexander<img src='https://dev003328.esri.com/portal/home/js/jsapi/esri/css/images/item_type_icons/maps16.png' style=\"vertical-align:middle;\">Web Map by parker.alexander\n",
       "                        <br/>Last Modified: November 24, 2016\n",
       "                        <br/>0 comments, 0 views\n",
       "                    </div>\n",
       "                </div>\n",
       "                "
      ],
      "text/plain": [
       "<Item title:\"Parker Alexander response locations\" type:Web Map owner:parker.alexander>"
      ]
     },
     "metadata": {},
     "output_type": "display_data"
    },
    {
     "name": "stdout",
     "output_type": "stream",
     "text": [
      "**************\n",
      "perez.butler\n"
     ]
    },
    {
     "data": {
      "text/html": [
       "<div class=\"item_container\" style=\"height: auto; overflow: hidden; border: 1px solid #cfcfcf; border-radius: 2px; background: #f6fafa; line-height: 1.21429em; padding: 10px;\">\n",
       "                    <div class=\"item_left\" style=\"width: 210px; float: left;\">\n",
       "                       <a href='https://dev003328.esri.com/portal/home/item.html?id=64776707e04842dbbb5b86c94ae58cd7' target='_blank'>\n",
       "                        <img src='https://dev003328.esri.com/portal/portalimages/desktopapp.png' class=\"itemThumbnail\">\n",
       "                       </a>\n",
       "                    </div>\n",
       "\n",
       "                    <div class=\"item_right\"     style=\"float: none; width: auto; overflow: hidden;\">\n",
       "                        <a href='https://dev003328.esri.com/portal/home/item.html?id=64776707e04842dbbb5b86c94ae58cd7' target='_blank'><b>CA</b>\n",
       "                        </a>\n",
       "                        <br/><img src='https://dev003328.esri.com/portal/home/js/jsapi/esri/css/images/item_type_icons/layers16.png' style=\"vertical-align:middle;\">CSV by perez.butler\n",
       "                        <br/>Last Modified: November 24, 2016\n",
       "                        <br/>0 comments, 2 views\n",
       "                    </div>\n",
       "                </div>\n",
       "                "
      ],
      "text/plain": [
       "<Item title:\"CA\" type:CSV owner:perez.butler>"
      ]
     },
     "metadata": {},
     "output_type": "display_data"
    },
    {
     "data": {
      "text/html": [
       "<div class=\"item_container\" style=\"height: auto; overflow: hidden; border: 1px solid #cfcfcf; border-radius: 2px; background: #f6fafa; line-height: 1.21429em; padding: 10px;\">\n",
       "                    <div class=\"item_left\" style=\"width: 210px; float: left;\">\n",
       "                       <a href='https://dev003328.esri.com/portal/home/item.html?id=9823824d9692430b91a003ed009b7458' target='_blank'>\n",
       "                        <img src='https://dev003328.esri.com/portal/portalimages/desktopapp.png' class=\"itemThumbnail\">\n",
       "                       </a>\n",
       "                    </div>\n",
       "\n",
       "                    <div class=\"item_right\"     style=\"float: none; width: auto; overflow: hidden;\">\n",
       "                        <a href='https://dev003328.esri.com/portal/home/item.html?id=9823824d9692430b91a003ed009b7458' target='_blank'><b>Perez Butler response locations</b>\n",
       "                        </a>\n",
       "                        <br/>Areas affected by Hurricane Matthew under the supervision ofPerez Butler<img src='https://dev003328.esri.com/portal/home/js/jsapi/esri/css/images/item_type_icons/maps16.png' style=\"vertical-align:middle;\">Web Map by perez.butler\n",
       "                        <br/>Last Modified: November 24, 2016\n",
       "                        <br/>0 comments, 0 views\n",
       "                    </div>\n",
       "                </div>\n",
       "                "
      ],
      "text/plain": [
       "<Item title:\"Perez Butler response locations\" type:Web Map owner:perez.butler>"
      ]
     },
     "metadata": {},
     "output_type": "display_data"
    },
    {
     "data": {
      "text/html": [
       "<div class=\"item_container\" style=\"height: auto; overflow: hidden; border: 1px solid #cfcfcf; border-radius: 2px; background: #f6fafa; line-height: 1.21429em; padding: 10px;\">\n",
       "                    <div class=\"item_left\" style=\"width: 210px; float: left;\">\n",
       "                       <a href='https://dev003328.esri.com/portal/home/item.html?id=32dc0577ee6d4c3fa14fe94c125d5b21' target='_blank'>\n",
       "                        <img src='https://dev003328.esri.com/portal/portalimages/desktopapp.png' class=\"itemThumbnail\">\n",
       "                       </a>\n",
       "                    </div>\n",
       "\n",
       "                    <div class=\"item_right\"     style=\"float: none; width: auto; overflow: hidden;\">\n",
       "                        <a href='https://dev003328.esri.com/portal/home/item.html?id=32dc0577ee6d4c3fa14fe94c125d5b21' target='_blank'><b>CA</b>\n",
       "                        </a>\n",
       "                        <br/><img src='https://dev003328.esri.com/portal/home/js/jsapi/esri/css/images/item_type_icons/featureshosted16.png' style=\"vertical-align:middle;\">Feature Layer Collection by perez.butler\n",
       "                        <br/>Last Modified: November 24, 2016\n",
       "                        <br/>0 comments, 0 views\n",
       "                    </div>\n",
       "                </div>\n",
       "                "
      ],
      "text/plain": [
       "<Item title:\"CA\" type:Feature Service owner:perez.butler>"
      ]
     },
     "metadata": {},
     "output_type": "display_data"
    },
    {
     "name": "stdout",
     "output_type": "stream",
     "text": [
      "**************\n",
      "phillips.gonzales\n"
     ]
    },
    {
     "data": {
      "text/html": [
       "<div class=\"item_container\" style=\"height: auto; overflow: hidden; border: 1px solid #cfcfcf; border-radius: 2px; background: #f6fafa; line-height: 1.21429em; padding: 10px;\">\n",
       "                    <div class=\"item_left\" style=\"width: 210px; float: left;\">\n",
       "                       <a href='https://dev003328.esri.com/portal/home/item.html?id=3e26eba48f764a33afdb09ff841572e2' target='_blank'>\n",
       "                        <img src='https://dev003328.esri.com/portal/portalimages/desktopapp.png' class=\"itemThumbnail\">\n",
       "                       </a>\n",
       "                    </div>\n",
       "\n",
       "                    <div class=\"item_right\"     style=\"float: none; width: auto; overflow: hidden;\">\n",
       "                        <a href='https://dev003328.esri.com/portal/home/item.html?id=3e26eba48f764a33afdb09ff841572e2' target='_blank'><b>Phillips Gonzales response locations</b>\n",
       "                        </a>\n",
       "                        <br/>Areas affected by Hurricane Matthew under the supervision ofPhillips Gonzales<img src='https://dev003328.esri.com/portal/home/js/jsapi/esri/css/images/item_type_icons/maps16.png' style=\"vertical-align:middle;\">Web Map by phillips.gonzales\n",
       "                        <br/>Last Modified: November 24, 2016\n",
       "                        <br/>0 comments, 0 views\n",
       "                    </div>\n",
       "                </div>\n",
       "                "
      ],
      "text/plain": [
       "<Item title:\"Phillips Gonzales response locations\" type:Web Map owner:phillips.gonzales>"
      ]
     },
     "metadata": {},
     "output_type": "display_data"
    },
    {
     "data": {
      "text/html": [
       "<div class=\"item_container\" style=\"height: auto; overflow: hidden; border: 1px solid #cfcfcf; border-radius: 2px; background: #f6fafa; line-height: 1.21429em; padding: 10px;\">\n",
       "                    <div class=\"item_left\" style=\"width: 210px; float: left;\">\n",
       "                       <a href='https://dev003328.esri.com/portal/home/item.html?id=493026c2ecf8442ebf65279239bda735' target='_blank'>\n",
       "                        <img src='https://dev003328.esri.com/portal/portalimages/desktopapp.png' class=\"itemThumbnail\">\n",
       "                       </a>\n",
       "                    </div>\n",
       "\n",
       "                    <div class=\"item_right\"     style=\"float: none; width: auto; overflow: hidden;\">\n",
       "                        <a href='https://dev003328.esri.com/portal/home/item.html?id=493026c2ecf8442ebf65279239bda735' target='_blank'><b>MO</b>\n",
       "                        </a>\n",
       "                        <br/><img src='https://dev003328.esri.com/portal/home/js/jsapi/esri/css/images/item_type_icons/layers16.png' style=\"vertical-align:middle;\">CSV by phillips.gonzales\n",
       "                        <br/>Last Modified: November 24, 2016\n",
       "                        <br/>0 comments, 2 views\n",
       "                    </div>\n",
       "                </div>\n",
       "                "
      ],
      "text/plain": [
       "<Item title:\"MO\" type:CSV owner:phillips.gonzales>"
      ]
     },
     "metadata": {},
     "output_type": "display_data"
    },
    {
     "data": {
      "text/html": [
       "<div class=\"item_container\" style=\"height: auto; overflow: hidden; border: 1px solid #cfcfcf; border-radius: 2px; background: #f6fafa; line-height: 1.21429em; padding: 10px;\">\n",
       "                    <div class=\"item_left\" style=\"width: 210px; float: left;\">\n",
       "                       <a href='https://dev003328.esri.com/portal/home/item.html?id=982852e172104aff86e7e7891614eb9f' target='_blank'>\n",
       "                        <img src='https://dev003328.esri.com/portal/portalimages/desktopapp.png' class=\"itemThumbnail\">\n",
       "                       </a>\n",
       "                    </div>\n",
       "\n",
       "                    <div class=\"item_right\"     style=\"float: none; width: auto; overflow: hidden;\">\n",
       "                        <a href='https://dev003328.esri.com/portal/home/item.html?id=982852e172104aff86e7e7891614eb9f' target='_blank'><b>MO</b>\n",
       "                        </a>\n",
       "                        <br/><img src='https://dev003328.esri.com/portal/home/js/jsapi/esri/css/images/item_type_icons/featureshosted16.png' style=\"vertical-align:middle;\">Feature Layer Collection by phillips.gonzales\n",
       "                        <br/>Last Modified: November 24, 2016\n",
       "                        <br/>0 comments, 0 views\n",
       "                    </div>\n",
       "                </div>\n",
       "                "
      ],
      "text/plain": [
       "<Item title:\"MO\" type:Feature Service owner:phillips.gonzales>"
      ]
     },
     "metadata": {},
     "output_type": "display_data"
    },
    {
     "name": "stdout",
     "output_type": "stream",
     "text": [
      "**************\n",
      "roberts.simmons\n"
     ]
    },
    {
     "data": {
      "text/html": [
       "<div class=\"item_container\" style=\"height: auto; overflow: hidden; border: 1px solid #cfcfcf; border-radius: 2px; background: #f6fafa; line-height: 1.21429em; padding: 10px;\">\n",
       "                    <div class=\"item_left\" style=\"width: 210px; float: left;\">\n",
       "                       <a href='https://dev003328.esri.com/portal/home/item.html?id=6bb9126f93314f3f838b7b8a004739e9' target='_blank'>\n",
       "                        <img src='https://dev003328.esri.com/portal/portalimages/desktopapp.png' class=\"itemThumbnail\">\n",
       "                       </a>\n",
       "                    </div>\n",
       "\n",
       "                    <div class=\"item_right\"     style=\"float: none; width: auto; overflow: hidden;\">\n",
       "                        <a href='https://dev003328.esri.com/portal/home/item.html?id=6bb9126f93314f3f838b7b8a004739e9' target='_blank'><b>NM</b>\n",
       "                        </a>\n",
       "                        <br/><img src='https://dev003328.esri.com/portal/home/js/jsapi/esri/css/images/item_type_icons/layers16.png' style=\"vertical-align:middle;\">CSV by roberts.simmons\n",
       "                        <br/>Last Modified: November 24, 2016\n",
       "                        <br/>0 comments, 2 views\n",
       "                    </div>\n",
       "                </div>\n",
       "                "
      ],
      "text/plain": [
       "<Item title:\"NM\" type:CSV owner:roberts.simmons>"
      ]
     },
     "metadata": {},
     "output_type": "display_data"
    },
    {
     "data": {
      "text/html": [
       "<div class=\"item_container\" style=\"height: auto; overflow: hidden; border: 1px solid #cfcfcf; border-radius: 2px; background: #f6fafa; line-height: 1.21429em; padding: 10px;\">\n",
       "                    <div class=\"item_left\" style=\"width: 210px; float: left;\">\n",
       "                       <a href='https://dev003328.esri.com/portal/home/item.html?id=447c7f7d6d6f4bb1a92f8b3c161b0182' target='_blank'>\n",
       "                        <img src='https://dev003328.esri.com/portal/portalimages/desktopapp.png' class=\"itemThumbnail\">\n",
       "                       </a>\n",
       "                    </div>\n",
       "\n",
       "                    <div class=\"item_right\"     style=\"float: none; width: auto; overflow: hidden;\">\n",
       "                        <a href='https://dev003328.esri.com/portal/home/item.html?id=447c7f7d6d6f4bb1a92f8b3c161b0182' target='_blank'><b>Roberts Simmons response locations</b>\n",
       "                        </a>\n",
       "                        <br/>Areas affected by Hurricane Matthew under the supervision ofRoberts Simmons<img src='https://dev003328.esri.com/portal/home/js/jsapi/esri/css/images/item_type_icons/maps16.png' style=\"vertical-align:middle;\">Web Map by roberts.simmons\n",
       "                        <br/>Last Modified: November 24, 2016\n",
       "                        <br/>0 comments, 0 views\n",
       "                    </div>\n",
       "                </div>\n",
       "                "
      ],
      "text/plain": [
       "<Item title:\"Roberts Simmons response locations\" type:Web Map owner:roberts.simmons>"
      ]
     },
     "metadata": {},
     "output_type": "display_data"
    },
    {
     "data": {
      "text/html": [
       "<div class=\"item_container\" style=\"height: auto; overflow: hidden; border: 1px solid #cfcfcf; border-radius: 2px; background: #f6fafa; line-height: 1.21429em; padding: 10px;\">\n",
       "                    <div class=\"item_left\" style=\"width: 210px; float: left;\">\n",
       "                       <a href='https://dev003328.esri.com/portal/home/item.html?id=9ff6334dd88f4294bdd685de6dea14a3' target='_blank'>\n",
       "                        <img src='https://dev003328.esri.com/portal/portalimages/desktopapp.png' class=\"itemThumbnail\">\n",
       "                       </a>\n",
       "                    </div>\n",
       "\n",
       "                    <div class=\"item_right\"     style=\"float: none; width: auto; overflow: hidden;\">\n",
       "                        <a href='https://dev003328.esri.com/portal/home/item.html?id=9ff6334dd88f4294bdd685de6dea14a3' target='_blank'><b>NM</b>\n",
       "                        </a>\n",
       "                        <br/><img src='https://dev003328.esri.com/portal/home/js/jsapi/esri/css/images/item_type_icons/featureshosted16.png' style=\"vertical-align:middle;\">Feature Layer Collection by roberts.simmons\n",
       "                        <br/>Last Modified: November 24, 2016\n",
       "                        <br/>0 comments, 0 views\n",
       "                    </div>\n",
       "                </div>\n",
       "                "
      ],
      "text/plain": [
       "<Item title:\"NM\" type:Feature Service owner:roberts.simmons>"
      ]
     },
     "metadata": {},
     "output_type": "display_data"
    },
    {
     "name": "stdout",
     "output_type": "stream",
     "text": [
      "**************\n",
      "robinson.gray\n"
     ]
    },
    {
     "data": {
      "text/html": [
       "<div class=\"item_container\" style=\"height: auto; overflow: hidden; border: 1px solid #cfcfcf; border-radius: 2px; background: #f6fafa; line-height: 1.21429em; padding: 10px;\">\n",
       "                    <div class=\"item_left\" style=\"width: 210px; float: left;\">\n",
       "                       <a href='https://dev003328.esri.com/portal/home/item.html?id=53d7c618125940a49378ec2d53766a08' target='_blank'>\n",
       "                        <img src='https://dev003328.esri.com/portal/portalimages/desktopapp.png' class=\"itemThumbnail\">\n",
       "                       </a>\n",
       "                    </div>\n",
       "\n",
       "                    <div class=\"item_right\"     style=\"float: none; width: auto; overflow: hidden;\">\n",
       "                        <a href='https://dev003328.esri.com/portal/home/item.html?id=53d7c618125940a49378ec2d53766a08' target='_blank'><b>Robinson Gray response locations</b>\n",
       "                        </a>\n",
       "                        <br/>Areas affected by Hurricane Matthew under the supervision ofRobinson Gray<img src='https://dev003328.esri.com/portal/home/js/jsapi/esri/css/images/item_type_icons/maps16.png' style=\"vertical-align:middle;\">Web Map by robinson.gray\n",
       "                        <br/>Last Modified: November 24, 2016\n",
       "                        <br/>0 comments, 0 views\n",
       "                    </div>\n",
       "                </div>\n",
       "                "
      ],
      "text/plain": [
       "<Item title:\"Robinson Gray response locations\" type:Web Map owner:robinson.gray>"
      ]
     },
     "metadata": {},
     "output_type": "display_data"
    },
    {
     "data": {
      "text/html": [
       "<div class=\"item_container\" style=\"height: auto; overflow: hidden; border: 1px solid #cfcfcf; border-radius: 2px; background: #f6fafa; line-height: 1.21429em; padding: 10px;\">\n",
       "                    <div class=\"item_left\" style=\"width: 210px; float: left;\">\n",
       "                       <a href='https://dev003328.esri.com/portal/home/item.html?id=6d50e745dd68480193d6fe389486f408' target='_blank'>\n",
       "                        <img src='https://dev003328.esri.com/portal/portalimages/desktopapp.png' class=\"itemThumbnail\">\n",
       "                       </a>\n",
       "                    </div>\n",
       "\n",
       "                    <div class=\"item_right\"     style=\"float: none; width: auto; overflow: hidden;\">\n",
       "                        <a href='https://dev003328.esri.com/portal/home/item.html?id=6d50e745dd68480193d6fe389486f408' target='_blank'><b>IL</b>\n",
       "                        </a>\n",
       "                        <br/><img src='https://dev003328.esri.com/portal/home/js/jsapi/esri/css/images/item_type_icons/featureshosted16.png' style=\"vertical-align:middle;\">Feature Layer Collection by robinson.gray\n",
       "                        <br/>Last Modified: November 24, 2016\n",
       "                        <br/>0 comments, 0 views\n",
       "                    </div>\n",
       "                </div>\n",
       "                "
      ],
      "text/plain": [
       "<Item title:\"IL\" type:Feature Service owner:robinson.gray>"
      ]
     },
     "metadata": {},
     "output_type": "display_data"
    },
    {
     "data": {
      "text/html": [
       "<div class=\"item_container\" style=\"height: auto; overflow: hidden; border: 1px solid #cfcfcf; border-radius: 2px; background: #f6fafa; line-height: 1.21429em; padding: 10px;\">\n",
       "                    <div class=\"item_left\" style=\"width: 210px; float: left;\">\n",
       "                       <a href='https://dev003328.esri.com/portal/home/item.html?id=6b9a35fd035d4746a741faba376c525f' target='_blank'>\n",
       "                        <img src='https://dev003328.esri.com/portal/portalimages/desktopapp.png' class=\"itemThumbnail\">\n",
       "                       </a>\n",
       "                    </div>\n",
       "\n",
       "                    <div class=\"item_right\"     style=\"float: none; width: auto; overflow: hidden;\">\n",
       "                        <a href='https://dev003328.esri.com/portal/home/item.html?id=6b9a35fd035d4746a741faba376c525f' target='_blank'><b>IL</b>\n",
       "                        </a>\n",
       "                        <br/><img src='https://dev003328.esri.com/portal/home/js/jsapi/esri/css/images/item_type_icons/layers16.png' style=\"vertical-align:middle;\">CSV by robinson.gray\n",
       "                        <br/>Last Modified: November 24, 2016\n",
       "                        <br/>0 comments, 2 views\n",
       "                    </div>\n",
       "                </div>\n",
       "                "
      ],
      "text/plain": [
       "<Item title:\"IL\" type:CSV owner:robinson.gray>"
      ]
     },
     "metadata": {},
     "output_type": "display_data"
    },
    {
     "name": "stdout",
     "output_type": "stream",
     "text": [
      "**************\n",
      "rodriguez.james\n"
     ]
    },
    {
     "data": {
      "text/html": [
       "<div class=\"item_container\" style=\"height: auto; overflow: hidden; border: 1px solid #cfcfcf; border-radius: 2px; background: #f6fafa; line-height: 1.21429em; padding: 10px;\">\n",
       "                    <div class=\"item_left\" style=\"width: 210px; float: left;\">\n",
       "                       <a href='https://dev003328.esri.com/portal/home/item.html?id=9a35066443be4098ac5dd7f11e9310ff' target='_blank'>\n",
       "                        <img src='https://dev003328.esri.com/portal/portalimages/desktopapp.png' class=\"itemThumbnail\">\n",
       "                       </a>\n",
       "                    </div>\n",
       "\n",
       "                    <div class=\"item_right\"     style=\"float: none; width: auto; overflow: hidden;\">\n",
       "                        <a href='https://dev003328.esri.com/portal/home/item.html?id=9a35066443be4098ac5dd7f11e9310ff' target='_blank'><b>DE</b>\n",
       "                        </a>\n",
       "                        <br/><img src='https://dev003328.esri.com/portal/home/js/jsapi/esri/css/images/item_type_icons/layers16.png' style=\"vertical-align:middle;\">CSV by rodriguez.james\n",
       "                        <br/>Last Modified: November 24, 2016\n",
       "                        <br/>0 comments, 2 views\n",
       "                    </div>\n",
       "                </div>\n",
       "                "
      ],
      "text/plain": [
       "<Item title:\"DE\" type:CSV owner:rodriguez.james>"
      ]
     },
     "metadata": {},
     "output_type": "display_data"
    },
    {
     "data": {
      "text/html": [
       "<div class=\"item_container\" style=\"height: auto; overflow: hidden; border: 1px solid #cfcfcf; border-radius: 2px; background: #f6fafa; line-height: 1.21429em; padding: 10px;\">\n",
       "                    <div class=\"item_left\" style=\"width: 210px; float: left;\">\n",
       "                       <a href='https://dev003328.esri.com/portal/home/item.html?id=e059cb138c31449cae6fa85eee8f6da1' target='_blank'>\n",
       "                        <img src='https://dev003328.esri.com/portal/portalimages/desktopapp.png' class=\"itemThumbnail\">\n",
       "                       </a>\n",
       "                    </div>\n",
       "\n",
       "                    <div class=\"item_right\"     style=\"float: none; width: auto; overflow: hidden;\">\n",
       "                        <a href='https://dev003328.esri.com/portal/home/item.html?id=e059cb138c31449cae6fa85eee8f6da1' target='_blank'><b>Rodriguez James response locations</b>\n",
       "                        </a>\n",
       "                        <br/>Areas affected by Hurricane Matthew under the supervision ofRodriguez James<img src='https://dev003328.esri.com/portal/home/js/jsapi/esri/css/images/item_type_icons/maps16.png' style=\"vertical-align:middle;\">Web Map by rodriguez.james\n",
       "                        <br/>Last Modified: November 24, 2016\n",
       "                        <br/>0 comments, 0 views\n",
       "                    </div>\n",
       "                </div>\n",
       "                "
      ],
      "text/plain": [
       "<Item title:\"Rodriguez James response locations\" type:Web Map owner:rodriguez.james>"
      ]
     },
     "metadata": {},
     "output_type": "display_data"
    },
    {
     "data": {
      "text/html": [
       "<div class=\"item_container\" style=\"height: auto; overflow: hidden; border: 1px solid #cfcfcf; border-radius: 2px; background: #f6fafa; line-height: 1.21429em; padding: 10px;\">\n",
       "                    <div class=\"item_left\" style=\"width: 210px; float: left;\">\n",
       "                       <a href='https://dev003328.esri.com/portal/home/item.html?id=e0ce2529db964bafa8f1e568a7ed6dba' target='_blank'>\n",
       "                        <img src='https://dev003328.esri.com/portal/portalimages/desktopapp.png' class=\"itemThumbnail\">\n",
       "                       </a>\n",
       "                    </div>\n",
       "\n",
       "                    <div class=\"item_right\"     style=\"float: none; width: auto; overflow: hidden;\">\n",
       "                        <a href='https://dev003328.esri.com/portal/home/item.html?id=e0ce2529db964bafa8f1e568a7ed6dba' target='_blank'><b>DE</b>\n",
       "                        </a>\n",
       "                        <br/><img src='https://dev003328.esri.com/portal/home/js/jsapi/esri/css/images/item_type_icons/featureshosted16.png' style=\"vertical-align:middle;\">Feature Layer Collection by rodriguez.james\n",
       "                        <br/>Last Modified: November 24, 2016\n",
       "                        <br/>0 comments, 0 views\n",
       "                    </div>\n",
       "                </div>\n",
       "                "
      ],
      "text/plain": [
       "<Item title:\"DE\" type:Feature Service owner:rodriguez.james>"
      ]
     },
     "metadata": {},
     "output_type": "display_data"
    },
    {
     "name": "stdout",
     "output_type": "stream",
     "text": [
      "**************\n",
      "scott.jenkins\n"
     ]
    },
    {
     "data": {
      "text/html": [
       "<div class=\"item_container\" style=\"height: auto; overflow: hidden; border: 1px solid #cfcfcf; border-radius: 2px; background: #f6fafa; line-height: 1.21429em; padding: 10px;\">\n",
       "                    <div class=\"item_left\" style=\"width: 210px; float: left;\">\n",
       "                       <a href='https://dev003328.esri.com/portal/home/item.html?id=ea4f483b7f0f48d98d2e561e083bb3c6' target='_blank'>\n",
       "                        <img src='https://dev003328.esri.com/portal/portalimages/desktopapp.png' class=\"itemThumbnail\">\n",
       "                       </a>\n",
       "                    </div>\n",
       "\n",
       "                    <div class=\"item_right\"     style=\"float: none; width: auto; overflow: hidden;\">\n",
       "                        <a href='https://dev003328.esri.com/portal/home/item.html?id=ea4f483b7f0f48d98d2e561e083bb3c6' target='_blank'><b>AK</b>\n",
       "                        </a>\n",
       "                        <br/><img src='https://dev003328.esri.com/portal/home/js/jsapi/esri/css/images/item_type_icons/layers16.png' style=\"vertical-align:middle;\">CSV by scott.jenkins\n",
       "                        <br/>Last Modified: November 24, 2016\n",
       "                        <br/>0 comments, 2 views\n",
       "                    </div>\n",
       "                </div>\n",
       "                "
      ],
      "text/plain": [
       "<Item title:\"AK\" type:CSV owner:scott.jenkins>"
      ]
     },
     "metadata": {},
     "output_type": "display_data"
    },
    {
     "data": {
      "text/html": [
       "<div class=\"item_container\" style=\"height: auto; overflow: hidden; border: 1px solid #cfcfcf; border-radius: 2px; background: #f6fafa; line-height: 1.21429em; padding: 10px;\">\n",
       "                    <div class=\"item_left\" style=\"width: 210px; float: left;\">\n",
       "                       <a href='https://dev003328.esri.com/portal/home/item.html?id=d519a95ae9b4498fbf10cd13ff658402' target='_blank'>\n",
       "                        <img src='https://dev003328.esri.com/portal/portalimages/desktopapp.png' class=\"itemThumbnail\">\n",
       "                       </a>\n",
       "                    </div>\n",
       "\n",
       "                    <div class=\"item_right\"     style=\"float: none; width: auto; overflow: hidden;\">\n",
       "                        <a href='https://dev003328.esri.com/portal/home/item.html?id=d519a95ae9b4498fbf10cd13ff658402' target='_blank'><b>AK</b>\n",
       "                        </a>\n",
       "                        <br/><img src='https://dev003328.esri.com/portal/home/js/jsapi/esri/css/images/item_type_icons/featureshosted16.png' style=\"vertical-align:middle;\">Feature Layer Collection by scott.jenkins\n",
       "                        <br/>Last Modified: November 24, 2016\n",
       "                        <br/>0 comments, 0 views\n",
       "                    </div>\n",
       "                </div>\n",
       "                "
      ],
      "text/plain": [
       "<Item title:\"AK\" type:Feature Service owner:scott.jenkins>"
      ]
     },
     "metadata": {},
     "output_type": "display_data"
    },
    {
     "data": {
      "text/html": [
       "<div class=\"item_container\" style=\"height: auto; overflow: hidden; border: 1px solid #cfcfcf; border-radius: 2px; background: #f6fafa; line-height: 1.21429em; padding: 10px;\">\n",
       "                    <div class=\"item_left\" style=\"width: 210px; float: left;\">\n",
       "                       <a href='https://dev003328.esri.com/portal/home/item.html?id=c788922f15624a9587e9dda49f9371c3' target='_blank'>\n",
       "                        <img src='https://dev003328.esri.com/portal/portalimages/desktopapp.png' class=\"itemThumbnail\">\n",
       "                       </a>\n",
       "                    </div>\n",
       "\n",
       "                    <div class=\"item_right\"     style=\"float: none; width: auto; overflow: hidden;\">\n",
       "                        <a href='https://dev003328.esri.com/portal/home/item.html?id=c788922f15624a9587e9dda49f9371c3' target='_blank'><b>Scott Jenkins response locations</b>\n",
       "                        </a>\n",
       "                        <br/>Areas affected by Hurricane Matthew under the supervision ofScott Jenkins<img src='https://dev003328.esri.com/portal/home/js/jsapi/esri/css/images/item_type_icons/maps16.png' style=\"vertical-align:middle;\">Web Map by scott.jenkins\n",
       "                        <br/>Last Modified: November 24, 2016\n",
       "                        <br/>0 comments, 0 views\n",
       "                    </div>\n",
       "                </div>\n",
       "                "
      ],
      "text/plain": [
       "<Item title:\"Scott Jenkins response locations\" type:Web Map owner:scott.jenkins>"
      ]
     },
     "metadata": {},
     "output_type": "display_data"
    },
    {
     "name": "stdout",
     "output_type": "stream",
     "text": [
      "**************\n",
      "smith.collins\n"
     ]
    },
    {
     "data": {
      "text/html": [
       "<div class=\"item_container\" style=\"height: auto; overflow: hidden; border: 1px solid #cfcfcf; border-radius: 2px; background: #f6fafa; line-height: 1.21429em; padding: 10px;\">\n",
       "                    <div class=\"item_left\" style=\"width: 210px; float: left;\">\n",
       "                       <a href='https://dev003328.esri.com/portal/home/item.html?id=ed549347f1484629b09aed1fd659702b' target='_blank'>\n",
       "                        <img src='https://dev003328.esri.com/portal/portalimages/desktopapp.png' class=\"itemThumbnail\">\n",
       "                       </a>\n",
       "                    </div>\n",
       "\n",
       "                    <div class=\"item_right\"     style=\"float: none; width: auto; overflow: hidden;\">\n",
       "                        <a href='https://dev003328.esri.com/portal/home/item.html?id=ed549347f1484629b09aed1fd659702b' target='_blank'><b>KS</b>\n",
       "                        </a>\n",
       "                        <br/><img src='https://dev003328.esri.com/portal/home/js/jsapi/esri/css/images/item_type_icons/layers16.png' style=\"vertical-align:middle;\">CSV by smith.collins\n",
       "                        <br/>Last Modified: November 24, 2016\n",
       "                        <br/>0 comments, 2 views\n",
       "                    </div>\n",
       "                </div>\n",
       "                "
      ],
      "text/plain": [
       "<Item title:\"KS\" type:CSV owner:smith.collins>"
      ]
     },
     "metadata": {},
     "output_type": "display_data"
    },
    {
     "data": {
      "text/html": [
       "<div class=\"item_container\" style=\"height: auto; overflow: hidden; border: 1px solid #cfcfcf; border-radius: 2px; background: #f6fafa; line-height: 1.21429em; padding: 10px;\">\n",
       "                    <div class=\"item_left\" style=\"width: 210px; float: left;\">\n",
       "                       <a href='https://dev003328.esri.com/portal/home/item.html?id=cddeeef7ea114581b12d575c8599649d' target='_blank'>\n",
       "                        <img src='https://dev003328.esri.com/portal/portalimages/desktopapp.png' class=\"itemThumbnail\">\n",
       "                       </a>\n",
       "                    </div>\n",
       "\n",
       "                    <div class=\"item_right\"     style=\"float: none; width: auto; overflow: hidden;\">\n",
       "                        <a href='https://dev003328.esri.com/portal/home/item.html?id=cddeeef7ea114581b12d575c8599649d' target='_blank'><b>Smith Collins response locations</b>\n",
       "                        </a>\n",
       "                        <br/>Areas affected by Hurricane Matthew under the supervision ofSmith Collins<img src='https://dev003328.esri.com/portal/home/js/jsapi/esri/css/images/item_type_icons/maps16.png' style=\"vertical-align:middle;\">Web Map by smith.collins\n",
       "                        <br/>Last Modified: November 24, 2016\n",
       "                        <br/>0 comments, 0 views\n",
       "                    </div>\n",
       "                </div>\n",
       "                "
      ],
      "text/plain": [
       "<Item title:\"Smith Collins response locations\" type:Web Map owner:smith.collins>"
      ]
     },
     "metadata": {},
     "output_type": "display_data"
    },
    {
     "data": {
      "text/html": [
       "<div class=\"item_container\" style=\"height: auto; overflow: hidden; border: 1px solid #cfcfcf; border-radius: 2px; background: #f6fafa; line-height: 1.21429em; padding: 10px;\">\n",
       "                    <div class=\"item_left\" style=\"width: 210px; float: left;\">\n",
       "                       <a href='https://dev003328.esri.com/portal/home/item.html?id=2801a660bb5e48ef9e3344be950c4df9' target='_blank'>\n",
       "                        <img src='https://dev003328.esri.com/portal/portalimages/desktopapp.png' class=\"itemThumbnail\">\n",
       "                       </a>\n",
       "                    </div>\n",
       "\n",
       "                    <div class=\"item_right\"     style=\"float: none; width: auto; overflow: hidden;\">\n",
       "                        <a href='https://dev003328.esri.com/portal/home/item.html?id=2801a660bb5e48ef9e3344be950c4df9' target='_blank'><b>KS</b>\n",
       "                        </a>\n",
       "                        <br/><img src='https://dev003328.esri.com/portal/home/js/jsapi/esri/css/images/item_type_icons/featureshosted16.png' style=\"vertical-align:middle;\">Feature Layer Collection by smith.collins\n",
       "                        <br/>Last Modified: November 24, 2016\n",
       "                        <br/>0 comments, 0 views\n",
       "                    </div>\n",
       "                </div>\n",
       "                "
      ],
      "text/plain": [
       "<Item title:\"KS\" type:Feature Service owner:smith.collins>"
      ]
     },
     "metadata": {},
     "output_type": "display_data"
    },
    {
     "name": "stdout",
     "output_type": "stream",
     "text": [
      "**************\n",
      "taylor.murphy\n"
     ]
    },
    {
     "data": {
      "text/html": [
       "<div class=\"item_container\" style=\"height: auto; overflow: hidden; border: 1px solid #cfcfcf; border-radius: 2px; background: #f6fafa; line-height: 1.21429em; padding: 10px;\">\n",
       "                    <div class=\"item_left\" style=\"width: 210px; float: left;\">\n",
       "                       <a href='https://dev003328.esri.com/portal/home/item.html?id=d8c67a4daf974cffae486a15d9b1e38b' target='_blank'>\n",
       "                        <img src='https://dev003328.esri.com/portal/portalimages/desktopapp.png' class=\"itemThumbnail\">\n",
       "                       </a>\n",
       "                    </div>\n",
       "\n",
       "                    <div class=\"item_right\"     style=\"float: none; width: auto; overflow: hidden;\">\n",
       "                        <a href='https://dev003328.esri.com/portal/home/item.html?id=d8c67a4daf974cffae486a15d9b1e38b' target='_blank'><b>LA</b>\n",
       "                        </a>\n",
       "                        <br/><img src='https://dev003328.esri.com/portal/home/js/jsapi/esri/css/images/item_type_icons/layers16.png' style=\"vertical-align:middle;\">CSV by taylor.murphy\n",
       "                        <br/>Last Modified: November 24, 2016\n",
       "                        <br/>0 comments, 2 views\n",
       "                    </div>\n",
       "                </div>\n",
       "                "
      ],
      "text/plain": [
       "<Item title:\"LA\" type:CSV owner:taylor.murphy>"
      ]
     },
     "metadata": {},
     "output_type": "display_data"
    },
    {
     "data": {
      "text/html": [
       "<div class=\"item_container\" style=\"height: auto; overflow: hidden; border: 1px solid #cfcfcf; border-radius: 2px; background: #f6fafa; line-height: 1.21429em; padding: 10px;\">\n",
       "                    <div class=\"item_left\" style=\"width: 210px; float: left;\">\n",
       "                       <a href='https://dev003328.esri.com/portal/home/item.html?id=e5dc66a8d7ea42ea9cdd0e184b11499f' target='_blank'>\n",
       "                        <img src='https://dev003328.esri.com/portal/portalimages/desktopapp.png' class=\"itemThumbnail\">\n",
       "                       </a>\n",
       "                    </div>\n",
       "\n",
       "                    <div class=\"item_right\"     style=\"float: none; width: auto; overflow: hidden;\">\n",
       "                        <a href='https://dev003328.esri.com/portal/home/item.html?id=e5dc66a8d7ea42ea9cdd0e184b11499f' target='_blank'><b>LA</b>\n",
       "                        </a>\n",
       "                        <br/><img src='https://dev003328.esri.com/portal/home/js/jsapi/esri/css/images/item_type_icons/featureshosted16.png' style=\"vertical-align:middle;\">Feature Layer Collection by taylor.murphy\n",
       "                        <br/>Last Modified: November 24, 2016\n",
       "                        <br/>0 comments, 0 views\n",
       "                    </div>\n",
       "                </div>\n",
       "                "
      ],
      "text/plain": [
       "<Item title:\"LA\" type:Feature Service owner:taylor.murphy>"
      ]
     },
     "metadata": {},
     "output_type": "display_data"
    },
    {
     "data": {
      "text/html": [
       "<div class=\"item_container\" style=\"height: auto; overflow: hidden; border: 1px solid #cfcfcf; border-radius: 2px; background: #f6fafa; line-height: 1.21429em; padding: 10px;\">\n",
       "                    <div class=\"item_left\" style=\"width: 210px; float: left;\">\n",
       "                       <a href='https://dev003328.esri.com/portal/home/item.html?id=d39de86fa1fd4a47ab8f8e882de7e5d5' target='_blank'>\n",
       "                        <img src='https://dev003328.esri.com/portal/portalimages/desktopapp.png' class=\"itemThumbnail\">\n",
       "                       </a>\n",
       "                    </div>\n",
       "\n",
       "                    <div class=\"item_right\"     style=\"float: none; width: auto; overflow: hidden;\">\n",
       "                        <a href='https://dev003328.esri.com/portal/home/item.html?id=d39de86fa1fd4a47ab8f8e882de7e5d5' target='_blank'><b>Taylor Murphy response locations</b>\n",
       "                        </a>\n",
       "                        <br/>Areas affected by Hurricane Matthew under the supervision ofTaylor Murphy<img src='https://dev003328.esri.com/portal/home/js/jsapi/esri/css/images/item_type_icons/maps16.png' style=\"vertical-align:middle;\">Web Map by taylor.murphy\n",
       "                        <br/>Last Modified: November 24, 2016\n",
       "                        <br/>0 comments, 0 views\n",
       "                    </div>\n",
       "                </div>\n",
       "                "
      ],
      "text/plain": [
       "<Item title:\"Taylor Murphy response locations\" type:Web Map owner:taylor.murphy>"
      ]
     },
     "metadata": {},
     "output_type": "display_data"
    },
    {
     "name": "stdout",
     "output_type": "stream",
     "text": [
      "**************\n",
      "thomas.rivera\n"
     ]
    },
    {
     "data": {
      "text/html": [
       "<div class=\"item_container\" style=\"height: auto; overflow: hidden; border: 1px solid #cfcfcf; border-radius: 2px; background: #f6fafa; line-height: 1.21429em; padding: 10px;\">\n",
       "                    <div class=\"item_left\" style=\"width: 210px; float: left;\">\n",
       "                       <a href='https://dev003328.esri.com/portal/home/item.html?id=fae4456b5f5e40dca0c144b572a64c81' target='_blank'>\n",
       "                        <img src='https://dev003328.esri.com/portal/portalimages/desktopapp.png' class=\"itemThumbnail\">\n",
       "                       </a>\n",
       "                    </div>\n",
       "\n",
       "                    <div class=\"item_right\"     style=\"float: none; width: auto; overflow: hidden;\">\n",
       "                        <a href='https://dev003328.esri.com/portal/home/item.html?id=fae4456b5f5e40dca0c144b572a64c81' target='_blank'><b>Thomas Rivera response locations</b>\n",
       "                        </a>\n",
       "                        <br/>Areas affected by Hurricane Matthew under the supervision ofThomas Rivera<img src='https://dev003328.esri.com/portal/home/js/jsapi/esri/css/images/item_type_icons/maps16.png' style=\"vertical-align:middle;\">Web Map by thomas.rivera\n",
       "                        <br/>Last Modified: November 24, 2016\n",
       "                        <br/>0 comments, 0 views\n",
       "                    </div>\n",
       "                </div>\n",
       "                "
      ],
      "text/plain": [
       "<Item title:\"Thomas Rivera response locations\" type:Web Map owner:thomas.rivera>"
      ]
     },
     "metadata": {},
     "output_type": "display_data"
    },
    {
     "data": {
      "text/html": [
       "<div class=\"item_container\" style=\"height: auto; overflow: hidden; border: 1px solid #cfcfcf; border-radius: 2px; background: #f6fafa; line-height: 1.21429em; padding: 10px;\">\n",
       "                    <div class=\"item_left\" style=\"width: 210px; float: left;\">\n",
       "                       <a href='https://dev003328.esri.com/portal/home/item.html?id=d05f560581ce42f095eff21a7e591931' target='_blank'>\n",
       "                        <img src='https://dev003328.esri.com/portal/portalimages/desktopapp.png' class=\"itemThumbnail\">\n",
       "                       </a>\n",
       "                    </div>\n",
       "\n",
       "                    <div class=\"item_right\"     style=\"float: none; width: auto; overflow: hidden;\">\n",
       "                        <a href='https://dev003328.esri.com/portal/home/item.html?id=d05f560581ce42f095eff21a7e591931' target='_blank'><b>MS</b>\n",
       "                        </a>\n",
       "                        <br/><img src='https://dev003328.esri.com/portal/home/js/jsapi/esri/css/images/item_type_icons/featureshosted16.png' style=\"vertical-align:middle;\">Feature Layer Collection by thomas.rivera\n",
       "                        <br/>Last Modified: November 24, 2016\n",
       "                        <br/>0 comments, 0 views\n",
       "                    </div>\n",
       "                </div>\n",
       "                "
      ],
      "text/plain": [
       "<Item title:\"MS\" type:Feature Service owner:thomas.rivera>"
      ]
     },
     "metadata": {},
     "output_type": "display_data"
    },
    {
     "data": {
      "text/html": [
       "<div class=\"item_container\" style=\"height: auto; overflow: hidden; border: 1px solid #cfcfcf; border-radius: 2px; background: #f6fafa; line-height: 1.21429em; padding: 10px;\">\n",
       "                    <div class=\"item_left\" style=\"width: 210px; float: left;\">\n",
       "                       <a href='https://dev003328.esri.com/portal/home/item.html?id=e945956bd53b4df08e5ed85d8a481fbd' target='_blank'>\n",
       "                        <img src='https://dev003328.esri.com/portal/portalimages/desktopapp.png' class=\"itemThumbnail\">\n",
       "                       </a>\n",
       "                    </div>\n",
       "\n",
       "                    <div class=\"item_right\"     style=\"float: none; width: auto; overflow: hidden;\">\n",
       "                        <a href='https://dev003328.esri.com/portal/home/item.html?id=e945956bd53b4df08e5ed85d8a481fbd' target='_blank'><b>MS</b>\n",
       "                        </a>\n",
       "                        <br/><img src='https://dev003328.esri.com/portal/home/js/jsapi/esri/css/images/item_type_icons/layers16.png' style=\"vertical-align:middle;\">CSV by thomas.rivera\n",
       "                        <br/>Last Modified: November 24, 2016\n",
       "                        <br/>0 comments, 2 views\n",
       "                    </div>\n",
       "                </div>\n",
       "                "
      ],
      "text/plain": [
       "<Item title:\"MS\" type:CSV owner:thomas.rivera>"
      ]
     },
     "metadata": {},
     "output_type": "display_data"
    },
    {
     "name": "stdout",
     "output_type": "stream",
     "text": [
      "**************\n",
      "thompson.ward\n"
     ]
    },
    {
     "data": {
      "text/html": [
       "<div class=\"item_container\" style=\"height: auto; overflow: hidden; border: 1px solid #cfcfcf; border-radius: 2px; background: #f6fafa; line-height: 1.21429em; padding: 10px;\">\n",
       "                    <div class=\"item_left\" style=\"width: 210px; float: left;\">\n",
       "                       <a href='https://dev003328.esri.com/portal/home/item.html?id=d0e109b4b7f5457591e64ee80e3f2cec' target='_blank'>\n",
       "                        <img src='https://dev003328.esri.com/portal/portalimages/desktopapp.png' class=\"itemThumbnail\">\n",
       "                       </a>\n",
       "                    </div>\n",
       "\n",
       "                    <div class=\"item_right\"     style=\"float: none; width: auto; overflow: hidden;\">\n",
       "                        <a href='https://dev003328.esri.com/portal/home/item.html?id=d0e109b4b7f5457591e64ee80e3f2cec' target='_blank'><b>TX</b>\n",
       "                        </a>\n",
       "                        <br/><img src='https://dev003328.esri.com/portal/home/js/jsapi/esri/css/images/item_type_icons/layers16.png' style=\"vertical-align:middle;\">CSV by thompson.ward\n",
       "                        <br/>Last Modified: November 24, 2016\n",
       "                        <br/>0 comments, 2 views\n",
       "                    </div>\n",
       "                </div>\n",
       "                "
      ],
      "text/plain": [
       "<Item title:\"TX\" type:CSV owner:thompson.ward>"
      ]
     },
     "metadata": {},
     "output_type": "display_data"
    },
    {
     "data": {
      "text/html": [
       "<div class=\"item_container\" style=\"height: auto; overflow: hidden; border: 1px solid #cfcfcf; border-radius: 2px; background: #f6fafa; line-height: 1.21429em; padding: 10px;\">\n",
       "                    <div class=\"item_left\" style=\"width: 210px; float: left;\">\n",
       "                       <a href='https://dev003328.esri.com/portal/home/item.html?id=0b7aa06e34a046aebbed54c5bbc462e6' target='_blank'>\n",
       "                        <img src='https://dev003328.esri.com/portal/portalimages/desktopapp.png' class=\"itemThumbnail\">\n",
       "                       </a>\n",
       "                    </div>\n",
       "\n",
       "                    <div class=\"item_right\"     style=\"float: none; width: auto; overflow: hidden;\">\n",
       "                        <a href='https://dev003328.esri.com/portal/home/item.html?id=0b7aa06e34a046aebbed54c5bbc462e6' target='_blank'><b>TX</b>\n",
       "                        </a>\n",
       "                        <br/><img src='https://dev003328.esri.com/portal/home/js/jsapi/esri/css/images/item_type_icons/featureshosted16.png' style=\"vertical-align:middle;\">Feature Layer Collection by thompson.ward\n",
       "                        <br/>Last Modified: November 24, 2016\n",
       "                        <br/>0 comments, 0 views\n",
       "                    </div>\n",
       "                </div>\n",
       "                "
      ],
      "text/plain": [
       "<Item title:\"TX\" type:Feature Service owner:thompson.ward>"
      ]
     },
     "metadata": {},
     "output_type": "display_data"
    },
    {
     "data": {
      "text/html": [
       "<div class=\"item_container\" style=\"height: auto; overflow: hidden; border: 1px solid #cfcfcf; border-radius: 2px; background: #f6fafa; line-height: 1.21429em; padding: 10px;\">\n",
       "                    <div class=\"item_left\" style=\"width: 210px; float: left;\">\n",
       "                       <a href='https://dev003328.esri.com/portal/home/item.html?id=e0bd74f598ca450e9661f3c699ac9f08' target='_blank'>\n",
       "                        <img src='https://dev003328.esri.com/portal/portalimages/desktopapp.png' class=\"itemThumbnail\">\n",
       "                       </a>\n",
       "                    </div>\n",
       "\n",
       "                    <div class=\"item_right\"     style=\"float: none; width: auto; overflow: hidden;\">\n",
       "                        <a href='https://dev003328.esri.com/portal/home/item.html?id=e0bd74f598ca450e9661f3c699ac9f08' target='_blank'><b>Thompson Ward response locations</b>\n",
       "                        </a>\n",
       "                        <br/>Areas affected by Hurricane Matthew under the supervision ofThompson Ward<img src='https://dev003328.esri.com/portal/home/js/jsapi/esri/css/images/item_type_icons/maps16.png' style=\"vertical-align:middle;\">Web Map by thompson.ward\n",
       "                        <br/>Last Modified: November 24, 2016\n",
       "                        <br/>0 comments, 0 views\n",
       "                    </div>\n",
       "                </div>\n",
       "                "
      ],
      "text/plain": [
       "<Item title:\"Thompson Ward response locations\" type:Web Map owner:thompson.ward>"
      ]
     },
     "metadata": {},
     "output_type": "display_data"
    },
    {
     "name": "stdout",
     "output_type": "stream",
     "text": [
      "**************\n",
      "turner.foster\n"
     ]
    },
    {
     "data": {
      "text/html": [
       "<div class=\"item_container\" style=\"height: auto; overflow: hidden; border: 1px solid #cfcfcf; border-radius: 2px; background: #f6fafa; line-height: 1.21429em; padding: 10px;\">\n",
       "                    <div class=\"item_left\" style=\"width: 210px; float: left;\">\n",
       "                       <a href='https://dev003328.esri.com/portal/home/item.html?id=8e07fc1bc9a74a97aefd25f17a568482' target='_blank'>\n",
       "                        <img src='https://dev003328.esri.com/portal/portalimages/desktopapp.png' class=\"itemThumbnail\">\n",
       "                       </a>\n",
       "                    </div>\n",
       "\n",
       "                    <div class=\"item_right\"     style=\"float: none; width: auto; overflow: hidden;\">\n",
       "                        <a href='https://dev003328.esri.com/portal/home/item.html?id=8e07fc1bc9a74a97aefd25f17a568482' target='_blank'><b>TN</b>\n",
       "                        </a>\n",
       "                        <br/><img src='https://dev003328.esri.com/portal/home/js/jsapi/esri/css/images/item_type_icons/layers16.png' style=\"vertical-align:middle;\">CSV by turner.foster\n",
       "                        <br/>Last Modified: November 24, 2016\n",
       "                        <br/>0 comments, 2 views\n",
       "                    </div>\n",
       "                </div>\n",
       "                "
      ],
      "text/plain": [
       "<Item title:\"TN\" type:CSV owner:turner.foster>"
      ]
     },
     "metadata": {},
     "output_type": "display_data"
    },
    {
     "data": {
      "text/html": [
       "<div class=\"item_container\" style=\"height: auto; overflow: hidden; border: 1px solid #cfcfcf; border-radius: 2px; background: #f6fafa; line-height: 1.21429em; padding: 10px;\">\n",
       "                    <div class=\"item_left\" style=\"width: 210px; float: left;\">\n",
       "                       <a href='https://dev003328.esri.com/portal/home/item.html?id=837334b9217841acb3288713b0df44de' target='_blank'>\n",
       "                        <img src='https://dev003328.esri.com/portal/portalimages/desktopapp.png' class=\"itemThumbnail\">\n",
       "                       </a>\n",
       "                    </div>\n",
       "\n",
       "                    <div class=\"item_right\"     style=\"float: none; width: auto; overflow: hidden;\">\n",
       "                        <a href='https://dev003328.esri.com/portal/home/item.html?id=837334b9217841acb3288713b0df44de' target='_blank'><b>Turner Foster response locations</b>\n",
       "                        </a>\n",
       "                        <br/>Areas affected by Hurricane Matthew under the supervision ofTurner Foster<img src='https://dev003328.esri.com/portal/home/js/jsapi/esri/css/images/item_type_icons/maps16.png' style=\"vertical-align:middle;\">Web Map by turner.foster\n",
       "                        <br/>Last Modified: November 24, 2016\n",
       "                        <br/>0 comments, 0 views\n",
       "                    </div>\n",
       "                </div>\n",
       "                "
      ],
      "text/plain": [
       "<Item title:\"Turner Foster response locations\" type:Web Map owner:turner.foster>"
      ]
     },
     "metadata": {},
     "output_type": "display_data"
    },
    {
     "data": {
      "text/html": [
       "<div class=\"item_container\" style=\"height: auto; overflow: hidden; border: 1px solid #cfcfcf; border-radius: 2px; background: #f6fafa; line-height: 1.21429em; padding: 10px;\">\n",
       "                    <div class=\"item_left\" style=\"width: 210px; float: left;\">\n",
       "                       <a href='https://dev003328.esri.com/portal/home/item.html?id=1c4235f0bb314d81949957dd417152c1' target='_blank'>\n",
       "                        <img src='https://dev003328.esri.com/portal/portalimages/desktopapp.png' class=\"itemThumbnail\">\n",
       "                       </a>\n",
       "                    </div>\n",
       "\n",
       "                    <div class=\"item_right\"     style=\"float: none; width: auto; overflow: hidden;\">\n",
       "                        <a href='https://dev003328.esri.com/portal/home/item.html?id=1c4235f0bb314d81949957dd417152c1' target='_blank'><b>TN</b>\n",
       "                        </a>\n",
       "                        <br/><img src='https://dev003328.esri.com/portal/home/js/jsapi/esri/css/images/item_type_icons/featureshosted16.png' style=\"vertical-align:middle;\">Feature Layer Collection by turner.foster\n",
       "                        <br/>Last Modified: November 24, 2016\n",
       "                        <br/>0 comments, 0 views\n",
       "                    </div>\n",
       "                </div>\n",
       "                "
      ],
      "text/plain": [
       "<Item title:\"TN\" type:Feature Service owner:turner.foster>"
      ]
     },
     "metadata": {},
     "output_type": "display_data"
    },
    {
     "name": "stdout",
     "output_type": "stream",
     "text": [
      "**************\n",
      "walker.kelly\n",
      "**************\n",
      "white.richardson\n"
     ]
    },
    {
     "data": {
      "text/html": [
       "<div class=\"item_container\" style=\"height: auto; overflow: hidden; border: 1px solid #cfcfcf; border-radius: 2px; background: #f6fafa; line-height: 1.21429em; padding: 10px;\">\n",
       "                    <div class=\"item_left\" style=\"width: 210px; float: left;\">\n",
       "                       <a href='https://dev003328.esri.com/portal/home/item.html?id=ba1abb6b6c884b369f40dfcf1583a249' target='_blank'>\n",
       "                        <img src='https://dev003328.esri.com/portal/portalimages/desktopapp.png' class=\"itemThumbnail\">\n",
       "                       </a>\n",
       "                    </div>\n",
       "\n",
       "                    <div class=\"item_right\"     style=\"float: none; width: auto; overflow: hidden;\">\n",
       "                        <a href='https://dev003328.esri.com/portal/home/item.html?id=ba1abb6b6c884b369f40dfcf1583a249' target='_blank'><b>White Richardson response locations</b>\n",
       "                        </a>\n",
       "                        <br/>Areas affected by Hurricane Matthew under the supervision ofWhite Richardson<img src='https://dev003328.esri.com/portal/home/js/jsapi/esri/css/images/item_type_icons/maps16.png' style=\"vertical-align:middle;\">Web Map by white.richardson\n",
       "                        <br/>Last Modified: November 24, 2016\n",
       "                        <br/>0 comments, 0 views\n",
       "                    </div>\n",
       "                </div>\n",
       "                "
      ],
      "text/plain": [
       "<Item title:\"White Richardson response locations\" type:Web Map owner:white.richardson>"
      ]
     },
     "metadata": {},
     "output_type": "display_data"
    },
    {
     "data": {
      "text/html": [
       "<div class=\"item_container\" style=\"height: auto; overflow: hidden; border: 1px solid #cfcfcf; border-radius: 2px; background: #f6fafa; line-height: 1.21429em; padding: 10px;\">\n",
       "                    <div class=\"item_left\" style=\"width: 210px; float: left;\">\n",
       "                       <a href='https://dev003328.esri.com/portal/home/item.html?id=d80c7e2a892c4e3eb3921336b8f23494' target='_blank'>\n",
       "                        <img src='https://dev003328.esri.com/portal/portalimages/desktopapp.png' class=\"itemThumbnail\">\n",
       "                       </a>\n",
       "                    </div>\n",
       "\n",
       "                    <div class=\"item_right\"     style=\"float: none; width: auto; overflow: hidden;\">\n",
       "                        <a href='https://dev003328.esri.com/portal/home/item.html?id=d80c7e2a892c4e3eb3921336b8f23494' target='_blank'><b>WA</b>\n",
       "                        </a>\n",
       "                        <br/><img src='https://dev003328.esri.com/portal/home/js/jsapi/esri/css/images/item_type_icons/layers16.png' style=\"vertical-align:middle;\">CSV by white.richardson\n",
       "                        <br/>Last Modified: November 24, 2016\n",
       "                        <br/>0 comments, 2 views\n",
       "                    </div>\n",
       "                </div>\n",
       "                "
      ],
      "text/plain": [
       "<Item title:\"WA\" type:CSV owner:white.richardson>"
      ]
     },
     "metadata": {},
     "output_type": "display_data"
    },
    {
     "data": {
      "text/html": [
       "<div class=\"item_container\" style=\"height: auto; overflow: hidden; border: 1px solid #cfcfcf; border-radius: 2px; background: #f6fafa; line-height: 1.21429em; padding: 10px;\">\n",
       "                    <div class=\"item_left\" style=\"width: 210px; float: left;\">\n",
       "                       <a href='https://dev003328.esri.com/portal/home/item.html?id=2fa040ed5ef7491e8e4649efc3587102' target='_blank'>\n",
       "                        <img src='https://dev003328.esri.com/portal/portalimages/desktopapp.png' class=\"itemThumbnail\">\n",
       "                       </a>\n",
       "                    </div>\n",
       "\n",
       "                    <div class=\"item_right\"     style=\"float: none; width: auto; overflow: hidden;\">\n",
       "                        <a href='https://dev003328.esri.com/portal/home/item.html?id=2fa040ed5ef7491e8e4649efc3587102' target='_blank'><b>WA</b>\n",
       "                        </a>\n",
       "                        <br/><img src='https://dev003328.esri.com/portal/home/js/jsapi/esri/css/images/item_type_icons/featureshosted16.png' style=\"vertical-align:middle;\">Feature Layer Collection by white.richardson\n",
       "                        <br/>Last Modified: November 24, 2016\n",
       "                        <br/>0 comments, 0 views\n",
       "                    </div>\n",
       "                </div>\n",
       "                "
      ],
      "text/plain": [
       "<Item title:\"WA\" type:Feature Service owner:white.richardson>"
      ]
     },
     "metadata": {},
     "output_type": "display_data"
    },
    {
     "name": "stdout",
     "output_type": "stream",
     "text": [
      "**************\n",
      "williams.sanchez\n"
     ]
    },
    {
     "data": {
      "text/html": [
       "<div class=\"item_container\" style=\"height: auto; overflow: hidden; border: 1px solid #cfcfcf; border-radius: 2px; background: #f6fafa; line-height: 1.21429em; padding: 10px;\">\n",
       "                    <div class=\"item_left\" style=\"width: 210px; float: left;\">\n",
       "                       <a href='https://dev003328.esri.com/portal/home/item.html?id=3219e952723b46bdae486cbd1dae4e39' target='_blank'>\n",
       "                        <img src='https://dev003328.esri.com/portal/portalimages/desktopapp.png' class=\"itemThumbnail\">\n",
       "                       </a>\n",
       "                    </div>\n",
       "\n",
       "                    <div class=\"item_right\"     style=\"float: none; width: auto; overflow: hidden;\">\n",
       "                        <a href='https://dev003328.esri.com/portal/home/item.html?id=3219e952723b46bdae486cbd1dae4e39' target='_blank'><b>IN</b>\n",
       "                        </a>\n",
       "                        <br/><img src='https://dev003328.esri.com/portal/home/js/jsapi/esri/css/images/item_type_icons/layers16.png' style=\"vertical-align:middle;\">CSV by williams.sanchez\n",
       "                        <br/>Last Modified: November 24, 2016\n",
       "                        <br/>0 comments, 2 views\n",
       "                    </div>\n",
       "                </div>\n",
       "                "
      ],
      "text/plain": [
       "<Item title:\"IN\" type:CSV owner:williams.sanchez>"
      ]
     },
     "metadata": {},
     "output_type": "display_data"
    },
    {
     "data": {
      "text/html": [
       "<div class=\"item_container\" style=\"height: auto; overflow: hidden; border: 1px solid #cfcfcf; border-radius: 2px; background: #f6fafa; line-height: 1.21429em; padding: 10px;\">\n",
       "                    <div class=\"item_left\" style=\"width: 210px; float: left;\">\n",
       "                       <a href='https://dev003328.esri.com/portal/home/item.html?id=eb03f5e7175b4bf1923a59513ae808c5' target='_blank'>\n",
       "                        <img src='https://dev003328.esri.com/portal/portalimages/desktopapp.png' class=\"itemThumbnail\">\n",
       "                       </a>\n",
       "                    </div>\n",
       "\n",
       "                    <div class=\"item_right\"     style=\"float: none; width: auto; overflow: hidden;\">\n",
       "                        <a href='https://dev003328.esri.com/portal/home/item.html?id=eb03f5e7175b4bf1923a59513ae808c5' target='_blank'><b>Williams Sanchez response locations</b>\n",
       "                        </a>\n",
       "                        <br/>Areas affected by Hurricane Matthew under the supervision ofWilliams Sanchez<img src='https://dev003328.esri.com/portal/home/js/jsapi/esri/css/images/item_type_icons/maps16.png' style=\"vertical-align:middle;\">Web Map by williams.sanchez\n",
       "                        <br/>Last Modified: November 24, 2016\n",
       "                        <br/>0 comments, 0 views\n",
       "                    </div>\n",
       "                </div>\n",
       "                "
      ],
      "text/plain": [
       "<Item title:\"Williams Sanchez response locations\" type:Web Map owner:williams.sanchez>"
      ]
     },
     "metadata": {},
     "output_type": "display_data"
    },
    {
     "data": {
      "text/html": [
       "<div class=\"item_container\" style=\"height: auto; overflow: hidden; border: 1px solid #cfcfcf; border-radius: 2px; background: #f6fafa; line-height: 1.21429em; padding: 10px;\">\n",
       "                    <div class=\"item_left\" style=\"width: 210px; float: left;\">\n",
       "                       <a href='https://dev003328.esri.com/portal/home/item.html?id=f6e95ede39674e82bca4ff839a987728' target='_blank'>\n",
       "                        <img src='https://dev003328.esri.com/portal/portalimages/desktopapp.png' class=\"itemThumbnail\">\n",
       "                       </a>\n",
       "                    </div>\n",
       "\n",
       "                    <div class=\"item_right\"     style=\"float: none; width: auto; overflow: hidden;\">\n",
       "                        <a href='https://dev003328.esri.com/portal/home/item.html?id=f6e95ede39674e82bca4ff839a987728' target='_blank'><b>IN</b>\n",
       "                        </a>\n",
       "                        <br/><img src='https://dev003328.esri.com/portal/home/js/jsapi/esri/css/images/item_type_icons/featureshosted16.png' style=\"vertical-align:middle;\">Feature Layer Collection by williams.sanchez\n",
       "                        <br/>Last Modified: November 24, 2016\n",
       "                        <br/>0 comments, 0 views\n",
       "                    </div>\n",
       "                </div>\n",
       "                "
      ],
      "text/plain": [
       "<Item title:\"IN\" type:Feature Service owner:williams.sanchez>"
      ]
     },
     "metadata": {},
     "output_type": "display_data"
    },
    {
     "name": "stdout",
     "output_type": "stream",
     "text": [
      "**************\n",
      "wilson.morgan\n"
     ]
    },
    {
     "data": {
      "text/html": [
       "<div class=\"item_container\" style=\"height: auto; overflow: hidden; border: 1px solid #cfcfcf; border-radius: 2px; background: #f6fafa; line-height: 1.21429em; padding: 10px;\">\n",
       "                    <div class=\"item_left\" style=\"width: 210px; float: left;\">\n",
       "                       <a href='https://dev003328.esri.com/portal/home/item.html?id=17a4ce2cdb6440659c6638bb95e28c6b' target='_blank'>\n",
       "                        <img src='https://dev003328.esri.com/portal/portalimages/desktopapp.png' class=\"itemThumbnail\">\n",
       "                       </a>\n",
       "                    </div>\n",
       "\n",
       "                    <div class=\"item_right\"     style=\"float: none; width: auto; overflow: hidden;\">\n",
       "                        <a href='https://dev003328.esri.com/portal/home/item.html?id=17a4ce2cdb6440659c6638bb95e28c6b' target='_blank'><b>ID</b>\n",
       "                        </a>\n",
       "                        <br/><img src='https://dev003328.esri.com/portal/home/js/jsapi/esri/css/images/item_type_icons/layers16.png' style=\"vertical-align:middle;\">CSV by wilson.morgan\n",
       "                        <br/>Last Modified: November 24, 2016\n",
       "                        <br/>0 comments, 2 views\n",
       "                    </div>\n",
       "                </div>\n",
       "                "
      ],
      "text/plain": [
       "<Item title:\"ID\" type:CSV owner:wilson.morgan>"
      ]
     },
     "metadata": {},
     "output_type": "display_data"
    },
    {
     "data": {
      "text/html": [
       "<div class=\"item_container\" style=\"height: auto; overflow: hidden; border: 1px solid #cfcfcf; border-radius: 2px; background: #f6fafa; line-height: 1.21429em; padding: 10px;\">\n",
       "                    <div class=\"item_left\" style=\"width: 210px; float: left;\">\n",
       "                       <a href='https://dev003328.esri.com/portal/home/item.html?id=a382cbdd461b497ab91a30c9cffddfbf' target='_blank'>\n",
       "                        <img src='https://dev003328.esri.com/portal/portalimages/desktopapp.png' class=\"itemThumbnail\">\n",
       "                       </a>\n",
       "                    </div>\n",
       "\n",
       "                    <div class=\"item_right\"     style=\"float: none; width: auto; overflow: hidden;\">\n",
       "                        <a href='https://dev003328.esri.com/portal/home/item.html?id=a382cbdd461b497ab91a30c9cffddfbf' target='_blank'><b>Wilson Morgan response locations</b>\n",
       "                        </a>\n",
       "                        <br/>Areas affected by Hurricane Matthew under the supervision ofWilson Morgan<img src='https://dev003328.esri.com/portal/home/js/jsapi/esri/css/images/item_type_icons/maps16.png' style=\"vertical-align:middle;\">Web Map by wilson.morgan\n",
       "                        <br/>Last Modified: November 24, 2016\n",
       "                        <br/>0 comments, 0 views\n",
       "                    </div>\n",
       "                </div>\n",
       "                "
      ],
      "text/plain": [
       "<Item title:\"Wilson Morgan response locations\" type:Web Map owner:wilson.morgan>"
      ]
     },
     "metadata": {},
     "output_type": "display_data"
    },
    {
     "data": {
      "text/html": [
       "<div class=\"item_container\" style=\"height: auto; overflow: hidden; border: 1px solid #cfcfcf; border-radius: 2px; background: #f6fafa; line-height: 1.21429em; padding: 10px;\">\n",
       "                    <div class=\"item_left\" style=\"width: 210px; float: left;\">\n",
       "                       <a href='https://dev003328.esri.com/portal/home/item.html?id=6c12b6c61e6348dfadb8331ce7f0235b' target='_blank'>\n",
       "                        <img src='https://dev003328.esri.com/portal/portalimages/desktopapp.png' class=\"itemThumbnail\">\n",
       "                       </a>\n",
       "                    </div>\n",
       "\n",
       "                    <div class=\"item_right\"     style=\"float: none; width: auto; overflow: hidden;\">\n",
       "                        <a href='https://dev003328.esri.com/portal/home/item.html?id=6c12b6c61e6348dfadb8331ce7f0235b' target='_blank'><b>ID</b>\n",
       "                        </a>\n",
       "                        <br/><img src='https://dev003328.esri.com/portal/home/js/jsapi/esri/css/images/item_type_icons/featureshosted16.png' style=\"vertical-align:middle;\">Feature Layer Collection by wilson.morgan\n",
       "                        <br/>Last Modified: November 24, 2016\n",
       "                        <br/>0 comments, 0 views\n",
       "                    </div>\n",
       "                </div>\n",
       "                "
      ],
      "text/plain": [
       "<Item title:\"ID\" type:Feature Service owner:wilson.morgan>"
      ]
     },
     "metadata": {},
     "output_type": "display_data"
    },
    {
     "name": "stdout",
     "output_type": "stream",
     "text": [
      "**************\n",
      "wright.ross\n"
     ]
    },
    {
     "data": {
      "text/html": [
       "<div class=\"item_container\" style=\"height: auto; overflow: hidden; border: 1px solid #cfcfcf; border-radius: 2px; background: #f6fafa; line-height: 1.21429em; padding: 10px;\">\n",
       "                    <div class=\"item_left\" style=\"width: 210px; float: left;\">\n",
       "                       <a href='https://dev003328.esri.com/portal/home/item.html?id=c8dd0211cff140ad948f21d82e2cb365' target='_blank'>\n",
       "                        <img src='https://dev003328.esri.com/portal/portalimages/desktopapp.png' class=\"itemThumbnail\">\n",
       "                       </a>\n",
       "                    </div>\n",
       "\n",
       "                    <div class=\"item_right\"     style=\"float: none; width: auto; overflow: hidden;\">\n",
       "                        <a href='https://dev003328.esri.com/portal/home/item.html?id=c8dd0211cff140ad948f21d82e2cb365' target='_blank'><b>Wright Ross response locations</b>\n",
       "                        </a>\n",
       "                        <br/>Areas affected by Hurricane Matthew under the supervision ofWright Ross<img src='https://dev003328.esri.com/portal/home/js/jsapi/esri/css/images/item_type_icons/maps16.png' style=\"vertical-align:middle;\">Web Map by wright.ross\n",
       "                        <br/>Last Modified: November 24, 2016\n",
       "                        <br/>0 comments, 0 views\n",
       "                    </div>\n",
       "                </div>\n",
       "                "
      ],
      "text/plain": [
       "<Item title:\"Wright Ross response locations\" type:Web Map owner:wright.ross>"
      ]
     },
     "metadata": {},
     "output_type": "display_data"
    },
    {
     "data": {
      "text/html": [
       "<div class=\"item_container\" style=\"height: auto; overflow: hidden; border: 1px solid #cfcfcf; border-radius: 2px; background: #f6fafa; line-height: 1.21429em; padding: 10px;\">\n",
       "                    <div class=\"item_left\" style=\"width: 210px; float: left;\">\n",
       "                       <a href='https://dev003328.esri.com/portal/home/item.html?id=bb4622e3e0844cb89471eb4d71cbf2b1' target='_blank'>\n",
       "                        <img src='https://dev003328.esri.com/portal/portalimages/desktopapp.png' class=\"itemThumbnail\">\n",
       "                       </a>\n",
       "                    </div>\n",
       "\n",
       "                    <div class=\"item_right\"     style=\"float: none; width: auto; overflow: hidden;\">\n",
       "                        <a href='https://dev003328.esri.com/portal/home/item.html?id=bb4622e3e0844cb89471eb4d71cbf2b1' target='_blank'><b>WV</b>\n",
       "                        </a>\n",
       "                        <br/><img src='https://dev003328.esri.com/portal/home/js/jsapi/esri/css/images/item_type_icons/featureshosted16.png' style=\"vertical-align:middle;\">Feature Layer Collection by wright.ross\n",
       "                        <br/>Last Modified: November 24, 2016\n",
       "                        <br/>0 comments, 0 views\n",
       "                    </div>\n",
       "                </div>\n",
       "                "
      ],
      "text/plain": [
       "<Item title:\"WV\" type:Feature Service owner:wright.ross>"
      ]
     },
     "metadata": {},
     "output_type": "display_data"
    },
    {
     "data": {
      "text/html": [
       "<div class=\"item_container\" style=\"height: auto; overflow: hidden; border: 1px solid #cfcfcf; border-radius: 2px; background: #f6fafa; line-height: 1.21429em; padding: 10px;\">\n",
       "                    <div class=\"item_left\" style=\"width: 210px; float: left;\">\n",
       "                       <a href='https://dev003328.esri.com/portal/home/item.html?id=68aa8dbb56584da0af960373602b5d39' target='_blank'>\n",
       "                        <img src='https://dev003328.esri.com/portal/portalimages/desktopapp.png' class=\"itemThumbnail\">\n",
       "                       </a>\n",
       "                    </div>\n",
       "\n",
       "                    <div class=\"item_right\"     style=\"float: none; width: auto; overflow: hidden;\">\n",
       "                        <a href='https://dev003328.esri.com/portal/home/item.html?id=68aa8dbb56584da0af960373602b5d39' target='_blank'><b>WV</b>\n",
       "                        </a>\n",
       "                        <br/><img src='https://dev003328.esri.com/portal/home/js/jsapi/esri/css/images/item_type_icons/layers16.png' style=\"vertical-align:middle;\">CSV by wright.ross\n",
       "                        <br/>Last Modified: November 24, 2016\n",
       "                        <br/>0 comments, 2 views\n",
       "                    </div>\n",
       "                </div>\n",
       "                "
      ],
      "text/plain": [
       "<Item title:\"WV\" type:CSV owner:wright.ross>"
      ]
     },
     "metadata": {},
     "output_type": "display_data"
    },
    {
     "name": "stdout",
     "output_type": "stream",
     "text": [
      "**************\n",
      "young.bennett\n"
     ]
    },
    {
     "data": {
      "text/html": [
       "<div class=\"item_container\" style=\"height: auto; overflow: hidden; border: 1px solid #cfcfcf; border-radius: 2px; background: #f6fafa; line-height: 1.21429em; padding: 10px;\">\n",
       "                    <div class=\"item_left\" style=\"width: 210px; float: left;\">\n",
       "                       <a href='https://dev003328.esri.com/portal/home/item.html?id=e403d55e41db4722aed2870d7f886a60' target='_blank'>\n",
       "                        <img src='https://dev003328.esri.com/portal/portalimages/desktopapp.png' class=\"itemThumbnail\">\n",
       "                       </a>\n",
       "                    </div>\n",
       "\n",
       "                    <div class=\"item_right\"     style=\"float: none; width: auto; overflow: hidden;\">\n",
       "                        <a href='https://dev003328.esri.com/portal/home/item.html?id=e403d55e41db4722aed2870d7f886a60' target='_blank'><b>Young Bennett response locations</b>\n",
       "                        </a>\n",
       "                        <br/>Areas affected by Hurricane Matthew under the supervision ofYoung Bennett<img src='https://dev003328.esri.com/portal/home/js/jsapi/esri/css/images/item_type_icons/maps16.png' style=\"vertical-align:middle;\">Web Map by young.bennett\n",
       "                        <br/>Last Modified: November 24, 2016\n",
       "                        <br/>0 comments, 0 views\n",
       "                    </div>\n",
       "                </div>\n",
       "                "
      ],
      "text/plain": [
       "<Item title:\"Young Bennett response locations\" type:Web Map owner:young.bennett>"
      ]
     },
     "metadata": {},
     "output_type": "display_data"
    },
    {
     "data": {
      "text/html": [
       "<div class=\"item_container\" style=\"height: auto; overflow: hidden; border: 1px solid #cfcfcf; border-radius: 2px; background: #f6fafa; line-height: 1.21429em; padding: 10px;\">\n",
       "                    <div class=\"item_left\" style=\"width: 210px; float: left;\">\n",
       "                       <a href='https://dev003328.esri.com/portal/home/item.html?id=1a87fe58eacf4e40bc908514279a8a46' target='_blank'>\n",
       "                        <img src='https://dev003328.esri.com/portal/portalimages/desktopapp.png' class=\"itemThumbnail\">\n",
       "                       </a>\n",
       "                    </div>\n",
       "\n",
       "                    <div class=\"item_right\"     style=\"float: none; width: auto; overflow: hidden;\">\n",
       "                        <a href='https://dev003328.esri.com/portal/home/item.html?id=1a87fe58eacf4e40bc908514279a8a46' target='_blank'><b>IA</b>\n",
       "                        </a>\n",
       "                        <br/><img src='https://dev003328.esri.com/portal/home/js/jsapi/esri/css/images/item_type_icons/layers16.png' style=\"vertical-align:middle;\">CSV by young.bennett\n",
       "                        <br/>Last Modified: November 24, 2016\n",
       "                        <br/>0 comments, 2 views\n",
       "                    </div>\n",
       "                </div>\n",
       "                "
      ],
      "text/plain": [
       "<Item title:\"IA\" type:CSV owner:young.bennett>"
      ]
     },
     "metadata": {},
     "output_type": "display_data"
    },
    {
     "data": {
      "text/html": [
       "<div class=\"item_container\" style=\"height: auto; overflow: hidden; border: 1px solid #cfcfcf; border-radius: 2px; background: #f6fafa; line-height: 1.21429em; padding: 10px;\">\n",
       "                    <div class=\"item_left\" style=\"width: 210px; float: left;\">\n",
       "                       <a href='https://dev003328.esri.com/portal/home/item.html?id=fbac531e53b04fc4bfc8082636a699be' target='_blank'>\n",
       "                        <img src='https://dev003328.esri.com/portal/portalimages/desktopapp.png' class=\"itemThumbnail\">\n",
       "                       </a>\n",
       "                    </div>\n",
       "\n",
       "                    <div class=\"item_right\"     style=\"float: none; width: auto; overflow: hidden;\">\n",
       "                        <a href='https://dev003328.esri.com/portal/home/item.html?id=fbac531e53b04fc4bfc8082636a699be' target='_blank'><b>IA</b>\n",
       "                        </a>\n",
       "                        <br/><img src='https://dev003328.esri.com/portal/home/js/jsapi/esri/css/images/item_type_icons/featureshosted16.png' style=\"vertical-align:middle;\">Feature Layer Collection by young.bennett\n",
       "                        <br/>Last Modified: November 24, 2016\n",
       "                        <br/>0 comments, 0 views\n",
       "                    </div>\n",
       "                </div>\n",
       "                "
      ],
      "text/plain": [
       "<Item title:\"IA\" type:Feature Service owner:young.bennett>"
      ]
     },
     "metadata": {},
     "output_type": "display_data"
    }
   ],
   "source": [
    "copied_items = {}\n",
    "relationships = RELATIONSHIP_TYPES\n",
    "\n",
    "for user in sourceusers:\n",
    "    if not user.username in systemusers:\n",
    "        print(\"**************\\n\"+user.username)\n",
    "        usercontent = user.items()\n",
    "        folders = user.folders\n",
    "        for item in user_content:\n",
    "            try:\n",
    "                copied_item = copy_item(target, user, None, item)\n",
    "                if copied_item is not None:\n",
    "                    copied_items[item.itemid] = copied_item.itemid\n",
    "                    # share the item\n",
    "                    copied_item.share(item.access == 'public',\n",
    "                                        item.access in ['org', 'public'],\n",
    "                                        source_items_by_id[item.itemid].groups \n",
    "                                            if 'groups' in source_items_by_id[item.itemid]\n",
    "                                            else None)\n",
    "                    display(item)\n",
    "                else:\n",
    "                    print('Error copying ' + item.title)\n",
    "            except:\n",
    "                print(\"Error copying \" + item.title)\n",
    "\n",
    "        for folder in folders:\n",
    "            target.content.create_folder(folder, user)\n",
    "            folder_items = user.items(folder['title'])\n",
    "            for item in folderitems:\n",
    "                try:\n",
    "                    copied_item = copy_item(target, user, folder['title'], item)\n",
    "                    if copied_item is not None:\n",
    "                        copied_items[item.itemid] = copied_item.itemid\n",
    "\n",
    "                        # share the item\n",
    "                        copied_item.share(item.access == 'public',\n",
    "                                          item.access in ['org', 'public'],\n",
    "                                          source_items_by_id[item.itemid].groups \n",
    "                                              if 'groups' in source_items_by_id[item.itemid]\n",
    "                                              else None)\n",
    "                    else:\n",
    "                        print('Error copying ' + item.title)\n",
    "                except:\n",
    "                    print(\"Error copying \" + item.title )\n",
    "\n",
    "        # Copy the related items for this user (if specified)\n",
    "        if relationships:\n",
    "            for folder in folders:\n",
    "                folder_items = user_content[folder]\n",
    "                for item in folder_items:\n",
    "                    try:\n",
    "                        copy_relationships(target, copied_items, item, \n",
    "                                           relationships, user, folder)\n",
    "                    except:\n",
    "                        print(\"Error setting relationship for: \" + item.title)\n"
   ]
  }
 ],
 "metadata": {
  "kernelspec": {
   "display_name": "Python 3",
   "language": "python",
   "name": "python3"
  },
  "language_info": {
   "codemirror_mode": {
    "name": "ipython",
    "version": 3
   },
   "file_extension": ".py",
   "mimetype": "text/x-python",
   "name": "python",
   "nbconvert_exporter": "python",
   "pygments_lexer": "ipython3",
   "version": "3.6.0"
  }
 },
 "nbformat": 4,
 "nbformat_minor": 0
}
