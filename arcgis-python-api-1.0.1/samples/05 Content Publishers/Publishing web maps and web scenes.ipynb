{
 "cells": [
  {
   "cell_type": "markdown",
   "metadata": {},
   "source": [
    "<div class=\"alert alert-info\">\n",
    "\n",
    "**Note:** Refer here for instructions to <a href=\"https://developers.arcgis.com/python/sample-notebooks/#Download-and-run-the-sample-notebooks\">download and run this sample locally</a> on your computer\n",
    "\n",
    "</div>"
   ]
  },
  {
   "cell_type": "markdown",
   "metadata": {},
   "source": [
    "# Publishing web maps and web scenes\n",
    "\n",
    "An ArcGIS web map is an interactive display of geographic information through a composition of web layers, basemap and much more. A web scene is analogous to a web map but in the 3D space. To get and overview, visit the product documentation for [web maps](http://doc.arcgis.com/en/arcgis-online/reference/what-is-web-map.htm) and [web scenes](http://doc.arcgis.com/en/arcgis-online/reference/what-is-web-scene.htm).\n",
    "\n",
    "Web maps and scenes are stored as items on your portal and their content is in JavaScript Object Notation (JSON), a text format that can easily be transferred, stored, and edited. This sample demonstrates how to create and publish simple examples of web maps and scenes. If you are interested in learning more about the specification to author and publish complex and more illustrative maps, refer to this [documentation](https://developers.arcgis.com/web-map-specification/)."
   ]
  },
  {
   "cell_type": "code",
   "execution_count": 1,
   "metadata": {
    "collapsed": false
   },
   "outputs": [],
   "source": [
    "import os\n",
    "import json\n",
    "from IPython.display import display\n",
    "import arcgis\n",
    "from arcgis.gis import GIS\n",
    "\n",
    "# connect to your GIS\n",
    "# Create an anonymous connection to ArcGIS Online to search for contents\n",
    "gis1 = GIS()\n",
    "# Create a connection to your portal for publishing\n",
    "gis = GIS(\"https://www.arcgis.com\", \"arcgis_python\", \"P@ssword123\")\n",
    "  "
   ]
  },
  {
   "cell_type": "markdown",
   "metadata": {},
   "source": [
    "# Publish a web map\n",
    "For this sample, we will read a simple web map json from a text file and use that to publish a web map item."
   ]
  },
  {
   "cell_type": "code",
   "execution_count": 2,
   "metadata": {
    "collapsed": false
   },
   "outputs": [
    {
     "data": {
      "text/plain": [
       "{'baseMap': {'baseMapLayers': [{'id': 'defaultBasemap',\n",
       "    'layerType': 'ArcGISTiledMapServiceLayer',\n",
       "    'opacity': 1,\n",
       "    'title': 'World Topographic Map',\n",
       "    'url': 'https://services.arcgisonline.com/ArcGIS/rest/services/World_Topo_Map/MapServer',\n",
       "    'visibility': True}],\n",
       "  'title': 'Topographic'},\n",
       " 'operationalLayers': [{'itemId': '',\n",
       "   'layerType': '',\n",
       "   'opacity': 1,\n",
       "   'title': '',\n",
       "   'url': '',\n",
       "   'visibility': True}],\n",
       " 'spatialReference': {'latestWkid': 3857, 'wkid': 102100},\n",
       " 'version': '2.5'}"
      ]
     },
     "metadata": {},
     "output_type": "display_data"
    }
   ],
   "source": [
    "# Read sample web map json from text file. We use built in json module to parse it into a Python dictionary\n",
    "web_map_dict = dict()\n",
    "with open(\"data/web_map_simple.json\",\"r\") as file_handle:\n",
    "    web_map_dict = json.load(file_handle)\n",
    "\n",
    "display(web_map_dict)"
   ]
  },
  {
   "cell_type": "markdown",
   "metadata": {},
   "source": [
    "The above represents a template of a simple web map json. This web map consists of a basemap web layer and an array of operational web layers. Notice the opertaional layer is empty without any web layer urls. We will search for a public web layer titled **2012 USA Median Age** published by **esri** account and apply that as an operational layer for this web map."
   ]
  },
  {
   "cell_type": "code",
   "execution_count": 3,
   "metadata": {
    "collapsed": false
   },
   "outputs": [],
   "source": [
    "search_result = gis1.content.search(\"title:2012 USA Median Age AND owner:esri\", \n",
    "                                   item_type = \"Map Service\", outside_org = True)"
   ]
  },
  {
   "cell_type": "code",
   "execution_count": 4,
   "metadata": {
    "collapsed": false
   },
   "outputs": [
    {
     "data": {
      "text/plain": [
       "[<Item title:\"2012 USA Median Household Income (Mature Support)\" type:Map Service owner:esri>,\n",
       " <Item title:\"2012 USA Median Age (Mature Support)\" type:Map Service owner:esri>,\n",
       " <Item title:\"2012 USA Median Home Value (Mature Support)\" type:Map Service owner:esri>,\n",
       " <Item title:\"2012 USA Median Net Worth (Mature Support)\" type:Map Service owner:esri>]"
      ]
     },
     "metadata": {},
     "output_type": "display_data"
    }
   ],
   "source": [
    "display(search_result)"
   ]
  },
  {
   "cell_type": "code",
   "execution_count": 5,
   "metadata": {
    "collapsed": false
   },
   "outputs": [
    {
     "data": {
      "text/html": [
       "<div class=\"item_container\" style=\"height: auto; overflow: hidden; border: 1px solid #cfcfcf; border-radius: 2px; background: #f6fafa; line-height: 1.21429em; padding: 10px;\">\n",
       "                    <div class=\"item_left\" style=\"width: 210px; float: left;\">\n",
       "                       <a href='http://www.arcgis.com/home/item.html?id=fce0ca8972ae4268bc4a69443b8d1ef5' target='_blank'>\n",
       "                        <img src='http://www.arcgis.com/sharing/rest//content/items/fce0ca8972ae4268bc4a69443b8d1ef5/info/thumbnail/ago_downloaded.jpg' class=\"itemThumbnail\">\n",
       "                       </a>\n",
       "                    </div>\n",
       "\n",
       "                    <div class=\"item_right\"     style=\"float: none; width: auto; overflow: hidden;\">\n",
       "                        <a href='http://www.arcgis.com/home/item.html?id=fce0ca8972ae4268bc4a69443b8d1ef5' target='_blank'><b>2012 USA Median Age (Mature Support)</b>\n",
       "                        </a>\n",
       "                        <br/>This map service shows the median age of people in the United States in 2012.<img src='http://www.arcgis.com/home/js/jsapi/esri/css/images/item_type_icons/mapimages16.png' style=\"vertical-align:middle;\">Map Image Layer by esri\n",
       "                        <br/>Last Modified: February 02, 2016\n",
       "                        <br/>2 comments, 1,202,260 views\n",
       "                    </div>\n",
       "                </div>\n",
       "                "
      ],
      "text/plain": [
       "<Item title:\"2012 USA Median Age (Mature Support)\" type:Map Service owner:esri>"
      ]
     },
     "metadata": {},
     "output_type": "display_data"
    }
   ],
   "source": [
    "median_age_weblayer = search_result[1] # pick the second search result\n",
    "display(median_age_weblayer)"
   ]
  },
  {
   "cell_type": "markdown",
   "metadata": {},
   "source": [
    "### Add an operational layer to the web map\n",
    "To add 'USA median age' web layer as an operational layer, we update that part of the web map dictionary with the item id and url of the web layer."
   ]
  },
  {
   "cell_type": "code",
   "execution_count": 6,
   "metadata": {
    "collapsed": true
   },
   "outputs": [],
   "source": [
    "web_map_dict['operationalLayers'][0]['itemId'] = median_age_weblayer.itemid\n",
    "web_map_dict['operationalLayers'][0]['layerType'] = \"ArcGISMapServiceLayer\"\n",
    "web_map_dict['operationalLayers'][0]['title'] = median_age_weblayer.title\n",
    "web_map_dict['operationalLayers'][0]['url'] = median_age_weblayer.url"
   ]
  },
  {
   "cell_type": "code",
   "execution_count": 7,
   "metadata": {
    "collapsed": false
   },
   "outputs": [
    {
     "data": {
      "text/plain": [
       "{'baseMap': {'baseMapLayers': [{'id': 'defaultBasemap',\n",
       "    'layerType': 'ArcGISTiledMapServiceLayer',\n",
       "    'opacity': 1,\n",
       "    'title': 'World Topographic Map',\n",
       "    'url': 'https://services.arcgisonline.com/ArcGIS/rest/services/World_Topo_Map/MapServer',\n",
       "    'visibility': True}],\n",
       "  'title': 'Topographic'},\n",
       " 'operationalLayers': [{'itemId': 'fce0ca8972ae4268bc4a69443b8d1ef5',\n",
       "   'layerType': 'ArcGISMapServiceLayer',\n",
       "   'opacity': 1,\n",
       "   'title': '2012 USA Median Age (Mature Support)',\n",
       "   'url': 'http://server.arcgisonline.com/ArcGIS/rest/services/Demographics/USA_Median_Age/MapServer',\n",
       "   'visibility': True}],\n",
       " 'spatialReference': {'latestWkid': 3857, 'wkid': 102100},\n",
       " 'version': '2.5'}"
      ]
     },
     "metadata": {},
     "output_type": "display_data"
    }
   ],
   "source": [
    "# display the updated web map dictionary\n",
    "display(web_map_dict)"
   ]
  },
  {
   "cell_type": "markdown",
   "metadata": {},
   "source": [
    "### Publish the web map as an item to the portal\n",
    "Now that the web map content is ready, we will use the `add()` method to create a new web map item. As parameters to the `add()` method, we need to specify some essential properties for the new web map item. The `text` property of the item holds the web map content. Since our web map content is in the form of a Python dictionary, we use `dumps()` function on `json` module to convert the dictionary to a string."
   ]
  },
  {
   "cell_type": "code",
   "execution_count": 8,
   "metadata": {
    "collapsed": false
   },
   "outputs": [
    {
     "data": {
      "text/html": [
       "<div class=\"item_container\" style=\"height: auto; overflow: hidden; border: 1px solid #cfcfcf; border-radius: 2px; background: #f6fafa; line-height: 1.21429em; padding: 10px;\">\n",
       "                    <div class=\"item_left\" style=\"width: 210px; float: left;\">\n",
       "                       <a href='https://deldev.maps.arcgis.com/home/item.html?id=40d240e61c5d409d9f58b7116ab2770e' target='_blank'>\n",
       "                        <img src='http://static.arcgis.com/images/desktopapp.png' class=\"itemThumbnail\">\n",
       "                       </a>\n",
       "                    </div>\n",
       "\n",
       "                    <div class=\"item_right\"     style=\"float: none; width: auto; overflow: hidden;\">\n",
       "                        <a href='https://deldev.maps.arcgis.com/home/item.html?id=40d240e61c5d409d9f58b7116ab2770e' target='_blank'><b>USA median age map</b>\n",
       "                        </a>\n",
       "                        <br/>This map service shows the median age of peoplein the United States as of 2012 census. The Median Age forthe U.S. is 37 years of age.<img src='https://deldev.maps.arcgis.com/home/js/jsapi/esri/css/images/item_type_icons/maps16.png' style=\"vertical-align:middle;\">Web Map by demo_deldev\n",
       "                        <br/>Last Modified: December 15, 2016\n",
       "                        <br/>0 comments, 0 views\n",
       "                    </div>\n",
       "                </div>\n",
       "                "
      ],
      "text/plain": [
       "<Item title:\"USA median age map\" type:Web Map owner:demo_deldev>"
      ]
     },
     "metadata": {},
     "output_type": "display_data"
    }
   ],
   "source": [
    "web_map_properties = {'title':'USA median age map',\n",
    "                     'type':'Web Map',\n",
    "                     'snippet':'This map service shows the median age of people' +\\\n",
    "                     'in the United States as of 2012 census. The Median Age for' +\\\n",
    "                      'the U.S. is 37 years of age.',\n",
    "                     'tags':'ArcGIS Python API',\n",
    "                     'text':json.dumps(web_map_dict)}\n",
    "\n",
    "# Call the add() with web map item's properties and content.\n",
    "web_map_item = gis2.content.add(web_map_properties)\n",
    "display(web_map_item)"
   ]
  },
  {
   "cell_type": "markdown",
   "metadata": {},
   "source": [
    "### Display the web map\n",
    "We have successfully published a web map with consisting of a basemap and desired web layer as the operational layer. We will use `arcgis.mapping` module to read the published map as a `WebMap` object and interact with it."
   ]
  },
  {
   "cell_type": "code",
   "execution_count": 9,
   "metadata": {
    "collapsed": false
   },
   "outputs": [],
   "source": [
    "web_map_obj = arcgis.mapping.WebMap(web_map_item)\n",
    "\n",
    "# display the web map in an interactive widget\n",
    "web_map_obj"
   ]
  },
  {
   "cell_type": "markdown",
   "metadata": {},
   "source": [
    "The map by zooms to the extent of the content by default. You can interact with the widget and explore the spatial distribution of people's age."
   ]
  },
  {
   "cell_type": "markdown",
   "metadata": {},
   "source": [
    "# Publish a web scene\n",
    "So far, we have seen how to publish a web map. The steps to publish a web scene is identical and will be demonstrated in this part of the sample. We will read a template web scene json from a text file, add an interesting 3D Scene Service as an operational layer. Then using the `add()` method, we will publish this as a web scene item."
   ]
  },
  {
   "cell_type": "code",
   "execution_count": 10,
   "metadata": {
    "collapsed": false
   },
   "outputs": [
    {
     "data": {
      "text/plain": [
       "{'baseMap': {'baseMapLayers': [{'id': '933075fa973f49948a88b84dae743704',\n",
       "    'layerDefinition': {},\n",
       "    'layerType': 'ArcGISTiledMapServiceLayer',\n",
       "    'opacity': 1,\n",
       "    'url': 'http://services.arcgisonline.com/ArcGIS/rest/services/World_Street_Map/MapServer',\n",
       "    'visibility': True}],\n",
       "  'elevationLayers': [{'id': 'globalElevation_0',\n",
       "    'layerType': 'ArcGISTiledElevationServiceLayer',\n",
       "    'url': 'https://elevation3d.arcgis.com/arcgis/rest/services/WorldElevation3D/Terrain3D/ImageServer'}],\n",
       "  'title': 'World Street Map'},\n",
       " 'operationalLayers': [{'itemId': '',\n",
       "   'layerType': '',\n",
       "   'opacity': 1,\n",
       "   'title': '',\n",
       "   'url': '',\n",
       "   'visibility': True}],\n",
       " 'spatialReference': {'latestWkid': 3857, 'wkid': 102100},\n",
       " 'tables': [],\n",
       " 'version': '1.4',\n",
       " 'viewingMode': 'global'}"
      ]
     },
     "metadata": {},
     "output_type": "display_data"
    }
   ],
   "source": [
    "# Read sample web scene json from text file. We use built-in json module to parse it into a Python dictionary\n",
    "web_scene_dict = dict()\n",
    "with open(\"data/web_scene_simple.json\",\"r\") as file_handle:\n",
    "    web_scene_dict = json.load(file_handle)\n",
    "\n",
    "display(web_scene_dict)"
   ]
  },
  {
   "cell_type": "markdown",
   "metadata": {},
   "source": [
    "Similar to the web map template, the web scene above is pretty simple. Notice the `operationalLayers` array does not contain `url` to the service. Now we will search for a scene service titled **Montreal, Canada Buildings** published by **esri_3d** and apply that to the web scene."
   ]
  },
  {
   "cell_type": "code",
   "execution_count": 11,
   "metadata": {
    "collapsed": false
   },
   "outputs": [
    {
     "data": {
      "text/plain": [
       "[<Item title:\"Montreal, Canada Buildings\" type:Scene Service owner:esri_3d>,\n",
       " <Item title:\"Buildings_Montreal\" type:Scene Service owner:esri_3d>]"
      ]
     },
     "metadata": {},
     "output_type": "display_data"
    }
   ],
   "source": [
    "search_result = gis1.content.search(\"title:Montreal, Canada Buildings AND owner:esri_3d\", \n",
    "                                   item_type=\"scene service\", outside_org = True)\n",
    "display(search_result)"
   ]
  },
  {
   "cell_type": "code",
   "execution_count": 12,
   "metadata": {
    "collapsed": false
   },
   "outputs": [
    {
     "data": {
      "text/html": [
       "<div class=\"item_container\" style=\"height: auto; overflow: hidden; border: 1px solid #cfcfcf; border-radius: 2px; background: #f6fafa; line-height: 1.21429em; padding: 10px;\">\n",
       "                    <div class=\"item_left\" style=\"width: 210px; float: left;\">\n",
       "                       <a href='http://www.arcgis.com/home/item.html?id=f4b4881270124343a4cc2f847f86f54c' target='_blank'>\n",
       "                        <img src='http://www.arcgis.com/sharing/rest//content/items/f4b4881270124343a4cc2f847f86f54c/info/thumbnail/montreal.jpg' class=\"itemThumbnail\">\n",
       "                       </a>\n",
       "                    </div>\n",
       "\n",
       "                    <div class=\"item_right\"     style=\"float: none; width: auto; overflow: hidden;\">\n",
       "                        <a href='http://www.arcgis.com/home/item.html?id=f4b4881270124343a4cc2f847f86f54c' target='_blank'><b>Montreal, Canada Buildings</b>\n",
       "                        </a>\n",
       "                        <br/>This layer provides 3D models of buildings for Montreal, Canada to support your work in 3D<img src='http://www.arcgis.com/home/js/jsapi/esri/css/images/item_type_icons/layers16.png' style=\"vertical-align:middle;\">Scene Layer by esri_3d\n",
       "                        <br/>Last Modified: September 27, 2016\n",
       "                        <br/>0 comments, 3,849 views\n",
       "                    </div>\n",
       "                </div>\n",
       "                "
      ],
      "text/plain": [
       "<Item title:\"Montreal, Canada Buildings\" type:Scene Service owner:esri_3d>"
      ]
     },
     "metadata": {},
     "output_type": "display_data"
    }
   ],
   "source": [
    "buildings_layer = search_result[0]\n",
    "display(buildings_layer)"
   ]
  },
  {
   "cell_type": "code",
   "execution_count": 13,
   "metadata": {
    "collapsed": true
   },
   "outputs": [],
   "source": [
    "# Update web scene's opertaional layer with properties of buildings_layer\n",
    "web_scene_dict['operationalLayers'][0]['itemId'] = buildings_layer.itemid\n",
    "web_scene_dict['operationalLayers'][0]['layerType'] = \"ArcGISSceneServiceLayer\"\n",
    "web_scene_dict['operationalLayers'][0]['title'] = buildings_layer.title\n",
    "web_scene_dict['operationalLayers'][0]['url'] = buildings_layer.url"
   ]
  },
  {
   "cell_type": "markdown",
   "metadata": {},
   "source": [
    "### Publish the web scene as an item to the portal\n",
    "Similar to publishing the web map, we will use the `add()` method to create a web scene item. As parameters we will send a dictionary containing properties of the web scene item. The `text` property will contain the web scene dictionary updated in the previous step as a string."
   ]
  },
  {
   "cell_type": "code",
   "execution_count": 14,
   "metadata": {
    "collapsed": false
   },
   "outputs": [
    {
     "data": {
      "text/html": [
       "<div class=\"item_container\" style=\"height: auto; overflow: hidden; border: 1px solid #cfcfcf; border-radius: 2px; background: #f6fafa; line-height: 1.21429em; padding: 10px;\">\n",
       "                    <div class=\"item_left\" style=\"width: 210px; float: left;\">\n",
       "                       <a href='https://deldev.maps.arcgis.com/home/item.html?id=cf24344d173d4930b3018240d2f3aca6' target='_blank'>\n",
       "                        <img src='http://static.arcgis.com/images/desktopapp.png' class=\"itemThumbnail\">\n",
       "                       </a>\n",
       "                    </div>\n",
       "\n",
       "                    <div class=\"item_right\"     style=\"float: none; width: auto; overflow: hidden;\">\n",
       "                        <a href='https://deldev.maps.arcgis.com/home/item.html?id=cf24344d173d4930b3018240d2f3aca6' target='_blank'><b>Web scene with photo realistic buildings</b>\n",
       "                        </a>\n",
       "                        <br/>This scene highlights buildings of Montreal, Canada<img src='https://deldev.maps.arcgis.com/home/js/jsapi/esri/css/images/item_type_icons/webscene16.png' style=\"vertical-align:middle;\">Web Scene by demo_deldev\n",
       "                        <br/>Last Modified: December 15, 2016\n",
       "                        <br/>0 comments, 0 views\n",
       "                    </div>\n",
       "                </div>\n",
       "                "
      ],
      "text/plain": [
       "<Item title:\"Web scene with photo realistic buildings\" type:Web Scene owner:demo_deldev>"
      ]
     },
     "metadata": {},
     "output_type": "display_data"
    }
   ],
   "source": [
    "web_scene_item_properties = {'title':'Web scene with photo realistic buildings',\n",
    "                            'type':'Web Scene',\n",
    "                            'snippet':'This scene highlights buildings of Montreal, Canada',\n",
    "                            'tags':'ArcGIS Python API',\n",
    "                            'text': json.dumps(web_scene_dict)}\n",
    "\n",
    "# Use the add() method to publish a new web scenej\n",
    "web_scene_item = gis2.content.add(web_scene_item_properties)\n",
    "web_scene_item.share(True)\n",
    "display(web_scene_item)"
   ]
  },
  {
   "cell_type": "markdown",
   "metadata": {},
   "source": [
    "### Display the web scene\n",
    "We have successfully published a web scene with consisting of a basemap, elevation layer and desired web layer as the operational layer. We will use `arcgis.mapping` module to read the published scene as a `WebScene` object and interact with it."
   ]
  },
  {
   "cell_type": "code",
   "execution_count": 15,
   "metadata": {
    "collapsed": false
   },
   "outputs": [
    {
     "data": {
      "text/html": [
       "<iframe width=960 height=600 src=\"http://www.arcgis.com/home/webscene/viewer.html?webscene=cf24344d173d4930b3018240d2f3aca6\"/>"
      ],
      "text/plain": [
       "WebScene([('operationalLayers',\n",
       "           [{'itemId': 'f4b4881270124343a4cc2f847f86f54c',\n",
       "             'layerType': 'ArcGISSceneServiceLayer',\n",
       "             'opacity': 1,\n",
       "             'title': 'Montreal, Canada Buildings',\n",
       "             'url': 'http://tiles.arcgis.com/tiles/P3ePLMYs2RVChkJx/arcgis/rest/services/Building_Montreal/SceneServer',\n",
       "             'visibility': True}]),\n",
       "          ('version', '1.4'),\n",
       "          ('spatialReference', {'latestWkid': 3857, 'wkid': 102100}),\n",
       "          ('baseMap',\n",
       "           {'baseMapLayers': [{'id': '933075fa973f49948a88b84dae743704',\n",
       "              'layerDefinition': {},\n",
       "              'layerType': 'ArcGISTiledMapServiceLayer',\n",
       "              'opacity': 1,\n",
       "              'url': 'http://services.arcgisonline.com/ArcGIS/rest/services/World_Street_Map/MapServer',\n",
       "              'visibility': True}],\n",
       "            'elevationLayers': [{'id': 'globalElevation_0',\n",
       "              'layerType': 'ArcGISTiledElevationServiceLayer',\n",
       "              'url': 'https://elevation3d.arcgis.com/arcgis/rest/services/WorldElevation3D/Terrain3D/ImageServer'}],\n",
       "            'title': 'World Street Map'}),\n",
       "          ('tables', []),\n",
       "          ('viewingMode', 'global')])"
      ]
     },
     "execution_count": 15,
     "metadata": {},
     "output_type": "execute_result"
    }
   ],
   "source": [
    "web_scene_obj = arcgis.mapping.WebScene(web_scene_item)\n",
    "\n",
    "# display the interactive web scene in the notebook\n",
    "web_scene_obj"
   ]
  }
 ],
 "metadata": {
  "anaconda-cloud": {},
  "kernelspec": {
   "display_name": "Python 3",
   "language": "python",
   "name": "python3"
  },
  "language_info": {
   "codemirror_mode": {
    "name": "ipython",
    "version": 3
   },
   "file_extension": ".py",
   "mimetype": "text/x-python",
   "name": "python",
   "nbconvert_exporter": "python",
   "pygments_lexer": "ipython3",
   "version": "3.5.2"
  }
 },
 "nbformat": 4,
 "nbformat_minor": 0
}
