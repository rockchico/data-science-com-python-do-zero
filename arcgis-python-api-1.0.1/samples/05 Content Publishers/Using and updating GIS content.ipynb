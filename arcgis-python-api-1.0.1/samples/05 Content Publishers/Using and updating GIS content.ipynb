{
 "cells": [
  {
   "cell_type": "markdown",
   "metadata": {},
   "source": [
    "<div class=\"alert alert-info\">\n",
    "\n",
    "**Note:** Refer here for instructions to <a href=\"https://developers.arcgis.com/python/sample-notebooks/#Download-and-run-the-sample-notebooks\">download and run this sample locally</a> on your computer\n",
    "\n",
    "</div>"
   ]
  },
  {
   "cell_type": "markdown",
   "metadata": {},
   "source": [
    "# Using and updating GIS content\n",
    "\n",
    "The GIS is a warehouse of geographic content and services. Arcgis includes several classes to make use of these content, publish new items and update the them when needed. This sample on updating the content of web maps and web scenes will demonstrate the following\n",
    " * **Replace web layers** of a web map. For instance, you can use this to update a web map when the services it points to were deleted. During the process, the sample shows how to read a web feature layer as a **FeatureService** object and inspect its properties.\n",
    " * **Drive the map widget by code**. In addition to displaying the interactive map widget, you can also set it to load at a particular extent. This is great for presentation purposes. During this process, the sample shows how to create and use a **MapView** object and a **Geocoder** object.\n",
    " * Make a **copy of a public web scene** item into your contents and then update it.\n",
    "     * Edit the list of layers to remove unnecessary ones.\n",
    "     * **Replace the basemap** of the web scene. In this step the sample shows how to search for **groups** and query the member items.\n",
    "     * Change visibility of layers."
   ]
  },
  {
   "cell_type": "code",
   "execution_count": 1,
   "metadata": {
    "collapsed": false
   },
   "outputs": [],
   "source": [
    "from arcgis.gis import GIS\n",
    "from IPython.display import display\n",
    "\n",
    "gis = GIS(\"https://www.arcgis.com\", \"arcgis_python\", \"P@ssword123\")"
   ]
  },
  {
   "cell_type": "markdown",
   "metadata": {},
   "source": [
    "## Data preparation\n",
    "To run through the sample, we require some published web layers, web maps and web scene items. This section contains cells that show how to publish them. If you would like to work with your own datasets or have these items already published, you can skip this section. To understand the publishing process in detail, check out other samples within this samples directory."
   ]
  },
  {
   "cell_type": "code",
   "execution_count": 2,
   "metadata": {
    "collapsed": false
   },
   "outputs": [],
   "source": [
    "sd_file = \"data/updating_gis_content/Ebola_Treatment_Units.sd\"\n",
    "# add the sd file as an item and publish it as a web layer\n",
    "item = gis.content.add({},sd_file)\n",
    "new_item = item.publish()"
   ]
  },
  {
   "cell_type": "markdown",
   "metadata": {},
   "source": [
    "Now that the web layers are published, run through this section to publish a web map. To understand how this part of the sample works, refer to the sample titled **Publishing web maps and web scenes**"
   ]
  },
  {
   "cell_type": "code",
   "execution_count": 3,
   "metadata": {
    "collapsed": false
   },
   "outputs": [],
   "source": [
    "import json\n",
    "web_map_json = str()\n",
    "\n",
    "# read web map json from text file\n",
    "with open(\"data/updating_gis_content/web_map_Ebola.json\",\"r\") as file_handle:\n",
    "    web_map_json = json.load(file_handle)\n",
    "\n",
    "# publish a web map\n",
    "web_map_item_properties = {'title':'Ebola treatment locations',\n",
    "                          'type':'Web Map',\n",
    "                          'snippet':'This map shows locations of Ebola treatment centers in Africa',\n",
    "                          'tags':'ArcGIS Python API',\n",
    "                          'text':json.dumps(web_map_json)}\n",
    "\n",
    "web_map_item = gis.content.add(web_map_item_properties)"
   ]
  },
  {
   "cell_type": "markdown",
   "metadata": {},
   "source": [
    "# Using and updating a web map\n",
    "In the data preparation section above, we published a web map to play with. We will search for that web map, draw it and update it if necessary."
   ]
  },
  {
   "cell_type": "code",
   "execution_count": 4,
   "metadata": {
    "collapsed": false
   },
   "outputs": [
    {
     "data": {
      "text/plain": [
       "[<Item title:\"Ebola treatment locations\" type:Web Map owner:demo_deldev>]"
      ]
     },
     "metadata": {},
     "output_type": "display_data"
    }
   ],
   "source": [
    "search_result = gis.content.search(\"title:Ebola treatment locations\", item_type = \"Web Map\")\n",
    "display(search_result)"
   ]
  },
  {
   "cell_type": "code",
   "execution_count": 5,
   "metadata": {
    "collapsed": false
   },
   "outputs": [
    {
     "data": {
      "text/html": [
       "<div class=\"item_container\" style=\"height: auto; overflow: hidden; border: 1px solid #cfcfcf; border-radius: 2px; background: #f6fafa; line-height: 1.21429em; padding: 10px;\">\n",
       "                    <div class=\"item_left\" style=\"width: 210px; float: left;\">\n",
       "                       <a href='https://deldev.maps.arcgis.com/home/item.html?id=1f4f7e4923df47fba4ce6e6a0d642edc' target='_blank'>\n",
       "                        <img src='http://static.arcgis.com/images/desktopapp.png' class=\"itemThumbnail\">\n",
       "                       </a>\n",
       "                    </div>\n",
       "\n",
       "                    <div class=\"item_right\"     style=\"float: none; width: auto; overflow: hidden;\">\n",
       "                        <a href='https://deldev.maps.arcgis.com/home/item.html?id=1f4f7e4923df47fba4ce6e6a0d642edc' target='_blank'><b>Ebola treatment locations</b>\n",
       "                        </a>\n",
       "                        <br/>This map shows locations of Ebola treatment centers in Africa<img src='https://deldev.maps.arcgis.com/home/js/jsapi/esri/css/images/item_type_icons/maps16.png' style=\"vertical-align:middle;\">Web Map by demo_deldev\n",
       "                        <br/>Last Modified: December 15, 2016\n",
       "                        <br/>0 comments, 0 views\n",
       "                    </div>\n",
       "                </div>\n",
       "                "
      ],
      "text/plain": [
       "<Item title:\"Ebola treatment locations\" type:Web Map owner:demo_deldev>"
      ]
     },
     "metadata": {},
     "output_type": "display_data"
    }
   ],
   "source": [
    "# display the first search result to confirm the item\n",
    "web_map_item = search_result[0]\n",
    "display(web_map_item)"
   ]
  },
  {
   "cell_type": "code",
   "execution_count": 6,
   "metadata": {
    "collapsed": true
   },
   "outputs": [],
   "source": [
    "import arcgis\n",
    "\n",
    "# create a web map object out of the item\n",
    "web_map_obj = arcgis.mapping.WebMap(web_map_item)\n",
    "\n",
    "# display the web map obj in an interactive widget\n",
    "web_map_obj"
   ]
  },
  {
   "cell_type": "markdown",
   "metadata": {},
   "source": [
    "## Fix errors in web map\n",
    "The widget loads an empty web map with just a basemap. Let us investigate the contents of the web map to determine the issue. Let us start with `operationalLayers` dictionary which contains the list of layers and inspect each layer."
   ]
  },
  {
   "cell_type": "code",
   "execution_count": 7,
   "metadata": {
    "collapsed": false
   },
   "outputs": [
    {
     "data": {
      "text/plain": [
       "[{'id': 'layer1',\n",
       "  'itemId': 'f53d5907296e43e28e8570a24b1d1d26',\n",
       "  'layerType': 'ArcGISFeatureLayer',\n",
       "  'opacity': 1,\n",
       "  'title': 'Ebola_Treatment_Units - Ebola_Treatment_Units_Classed',\n",
       "  'url': 'https://services.arcgis.com/ORGID/arcgis/rest/services/Ebola_Facilities/FeatureServer/1',\n",
       "  'visibility': True}]"
      ]
     },
     "metadata": {},
     "output_type": "display_data"
    }
   ],
   "source": [
    "layer_list = web_map_obj['operationalLayers']\n",
    "display(layer_list)"
   ]
  },
  {
   "cell_type": "markdown",
   "metadata": {},
   "source": [
    "The web map has only 1 layer and that points to a feature service title **Ebola_Facilities**. Let us verify if a feature service of that name exists on the server. If not, let us try to find the closest match."
   ]
  },
  {
   "cell_type": "code",
   "execution_count": 8,
   "metadata": {
    "collapsed": false
   },
   "outputs": [
    {
     "data": {
      "text/plain": [
       "[]"
      ]
     },
     "metadata": {},
     "output_type": "display_data"
    }
   ],
   "source": [
    "search_result = gis.content.search('title:Ebola_Facilities', item_type = 'Feature Service')\n",
    "display(search_result)"
   ]
  },
  {
   "cell_type": "markdown",
   "metadata": {},
   "source": [
    "Let us change the search query leaving just the word `Ebola` in the title."
   ]
  },
  {
   "cell_type": "code",
   "execution_count": 9,
   "metadata": {
    "collapsed": false
   },
   "outputs": [
    {
     "data": {
      "text/html": [
       "<div class=\"item_container\" style=\"height: auto; overflow: hidden; border: 1px solid #cfcfcf; border-radius: 2px; background: #f6fafa; line-height: 1.21429em; padding: 10px;\">\n",
       "                    <div class=\"item_left\" style=\"width: 210px; float: left;\">\n",
       "                       <a href='https://deldev.maps.arcgis.com/home/item.html?id=a24ae8550ea34a449699479b7e35217d' target='_blank'>\n",
       "                        <img src='data:image/png;base64,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' width='200' height='133' class=\"itemThumbnail\">\n",
       "                       </a>\n",
       "                    </div>\n",
       "\n",
       "                    <div class=\"item_right\"     style=\"float: none; width: auto; overflow: hidden;\">\n",
       "                        <a href='https://deldev.maps.arcgis.com/home/item.html?id=a24ae8550ea34a449699479b7e35217d' target='_blank'><b>Ebola_Treatment_Units</b>\n",
       "                        </a>\n",
       "                        <br/>Locations of Ebola treatment units in Africa.<img src='https://deldev.maps.arcgis.com/home/js/jsapi/esri/css/images/item_type_icons/featureshosted16.png' style=\"vertical-align:middle;\">Feature Layer Collection by demo_deldev\n",
       "                        <br/>Last Modified: December 15, 2016\n",
       "                        <br/>0 comments, 0 views\n",
       "                    </div>\n",
       "                </div>\n",
       "                "
      ],
      "text/plain": [
       "<Item title:\"Ebola_Treatment_Units\" type:Feature Service owner:demo_deldev>"
      ]
     },
     "execution_count": 9,
     "metadata": {},
     "output_type": "execute_result"
    }
   ],
   "source": [
    "search_result = gis.content.search('title:Ebola', item_type='Feature Layer')\n",
    "search_result[0]"
   ]
  },
  {
   "cell_type": "markdown",
   "metadata": {},
   "source": [
    "It is likely the old service was deleted and a new one was with a different name was published. Let us update the web map dictionary with the correct url. But before that, we need to investigate if the new service also has layer with id `1` like the previous service."
   ]
  },
  {
   "cell_type": "code",
   "execution_count": 10,
   "metadata": {
    "collapsed": false
   },
   "outputs": [
    {
     "data": {
      "text/plain": [
       "[<FeatureLayer url:\"http://services6.arcgis.com/SMX5BErCXLM7eDtY/arcgis/rest/services/Ebola_Treatment_Units/FeatureServer/0\">,\n",
       " <FeatureLayer url:\"http://services6.arcgis.com/SMX5BErCXLM7eDtY/arcgis/rest/services/Ebola_Treatment_Units/FeatureServer/1\">]"
      ]
     },
     "execution_count": 10,
     "metadata": {},
     "output_type": "execute_result"
    }
   ],
   "source": [
    "ebola = search_result[0]\n",
    "ebola.layers"
   ]
  },
  {
   "cell_type": "markdown",
   "metadata": {},
   "source": [
    "The new feature service does have a layer with id `1`. Hence we can use the same layer id while switching the url. While updating the web map, it is important to not only update the **url** but also the **itemId** of the feature service item."
   ]
  },
  {
   "cell_type": "code",
   "execution_count": 11,
   "metadata": {
    "collapsed": true
   },
   "outputs": [],
   "source": [
    "# set the url to feature service item's url\n",
    "layer_list[0]['url'] = ebola.layers[1].url\n",
    "layer_list[0]['itemId'] = search_result[0].id\n",
    "\n",
    "# update the web map object's operationalLayers dictionary\n",
    "web_map_obj['operationalLayers'] = layer_list"
   ]
  },
  {
   "cell_type": "markdown",
   "metadata": {},
   "source": [
    "## Update the web map\n",
    "Now the web map should be fixed as it points to a live service. To update the web map, we call the `update()` method."
   ]
  },
  {
   "cell_type": "code",
   "execution_count": 12,
   "metadata": {
    "collapsed": false
   },
   "outputs": [
    {
     "data": {
      "text/plain": [
       "[{'id': 'layer1',\n",
       "  'itemId': 'a24ae8550ea34a449699479b7e35217d',\n",
       "  'layerType': 'ArcGISFeatureLayer',\n",
       "  'opacity': 1,\n",
       "  'title': 'Ebola_Treatment_Units - Ebola_Treatment_Units_Classed',\n",
       "  'url': 'http://services6.arcgis.com/SMX5BErCXLM7eDtY/arcgis/rest/services/Ebola_Treatment_Units/FeatureServer/1',\n",
       "  'visibility': True}]"
      ]
     },
     "execution_count": 12,
     "metadata": {},
     "output_type": "execute_result"
    }
   ],
   "source": [
    "# Let us print the opertationalLayers dictionary before calling the update()\n",
    "web_map_obj['operationalLayers']"
   ]
  },
  {
   "cell_type": "code",
   "execution_count": 13,
   "metadata": {
    "collapsed": false
   },
   "outputs": [],
   "source": [
    "web_map_obj.update()"
   ]
  },
  {
   "cell_type": "markdown",
   "metadata": {},
   "source": [
    "Let us create a new web map object and try to draw it."
   ]
  },
  {
   "cell_type": "code",
   "execution_count": 14,
   "metadata": {
    "collapsed": false
   },
   "outputs": [
    {
     "data": {
      "text/plain": [
       "[<Item title:\"Ebola treatment locations\" type:Web Map owner:demo_deldev>]"
      ]
     },
     "metadata": {},
     "output_type": "display_data"
    }
   ],
   "source": [
    "search_result = gis.content.search('title: Ebola_treatment_locations', item_type = \"Web Map\")\n",
    "display(search_result)"
   ]
  },
  {
   "cell_type": "code",
   "execution_count": 15,
   "metadata": {
    "collapsed": false
   },
   "outputs": [],
   "source": [
    "web_map_item = search_result[0]\n",
    "web_map_obj = arcgis.mapping.WebMap(web_map_item)\n",
    "web_map_obj"
   ]
  },
  {
   "cell_type": "markdown",
   "metadata": {},
   "source": [
    "The web map was sucessfully overwritten with correct operational layers. You can interact with the widget and zoom into the African coast to observe the locations of Ebola treatment centers."
   ]
  },
  {
   "cell_type": "markdown",
   "metadata": {},
   "source": [
    "# Using and updating a web scene\n",
    "In the sample above we observed how to update a web map. Updating the web scene is similar, we use the `update()` method. Let us look at the example of a web scene that displays tropical cyclones over the Pacific ocean."
   ]
  },
  {
   "cell_type": "code",
   "execution_count": 16,
   "metadata": {
    "collapsed": false
   },
   "outputs": [
    {
     "data": {
      "text/html": [
       "<div class=\"item_container\" style=\"height: auto; overflow: hidden; border: 1px solid #cfcfcf; border-radius: 2px; background: #f6fafa; line-height: 1.21429em; padding: 10px;\">\n",
       "                    <div class=\"item_left\" style=\"width: 210px; float: left;\">\n",
       "                       <a href='https://deldev.maps.arcgis.com/home/item.html?id=193a0e0ed72f413d8cdc649be637a846' target='_blank'>\n",
       "                        <img src='data:image/png;base64,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' width='200' height='133' class=\"itemThumbnail\">\n",
       "                       </a>\n",
       "                    </div>\n",
       "\n",
       "                    <div class=\"item_right\"     style=\"float: none; width: auto; overflow: hidden;\">\n",
       "                        <a href='https://deldev.maps.arcgis.com/home/item.html?id=193a0e0ed72f413d8cdc649be637a846' target='_blank'><b>Western Pacific Typhoons (2005)</b>\n",
       "                        </a>\n",
       "                        <br/>A thematic global scene showing the 23 typhoons that meandered through the western Pacific in 2005<img src='https://deldev.maps.arcgis.com/home/js/jsapi/esri/css/images/item_type_icons/webscene16.png' style=\"vertical-align:middle;\">Web Scene by esri_3d\n",
       "                        <br/>Last Modified: October 22, 2015\n",
       "                        <br/>0 comments, 23,335 views\n",
       "                    </div>\n",
       "                </div>\n",
       "                "
      ],
      "text/plain": [
       "<Item title:\"Western Pacific Typhoons (2005)\" type:Web Scene owner:esri_3d>"
      ]
     },
     "execution_count": 16,
     "metadata": {},
     "output_type": "execute_result"
    }
   ],
   "source": [
    "search_result = gis.content.search('title:Western Pacific Typhoons (2005) AND owner:esri_3d', \n",
    "                                   item_type = 'Web Scene', outside_org = True)\n",
    "search_result[0]"
   ]
  },
  {
   "cell_type": "markdown",
   "metadata": {},
   "source": [
    "Lets display the web scene in the notebook."
   ]
  },
  {
   "cell_type": "code",
   "execution_count": 17,
   "metadata": {
    "collapsed": false
   },
   "outputs": [
    {
     "data": {
      "text/html": [
       "<iframe width=960 height=600 src=\"http://www.arcgis.com/home/webscene/viewer.html?webscene=193a0e0ed72f413d8cdc649be637a846\"/>"
      ],
      "text/plain": [
       "WebScene([('operationalLayers',\n",
       "           [{'id': '882ce65eceda4e2ba2ad65f9e2c0632f',\n",
       "             'layerDefinition': {'drawingInfo': {'renderer': {'description': '',\n",
       "                'label': '',\n",
       "                'symbol': {'symbolLayers': [{'material': {'color': [0,\n",
       "                     169,\n",
       "                     230],\n",
       "                    'transparency': 0},\n",
       "                   'size': 5,\n",
       "                   'type': 'Line'}],\n",
       "                 'type': 'LineSymbol3D'},\n",
       "                'type': 'simple'}},\n",
       "              'elevationInfo': {'mode': 'onTheGround'},\n",
       "              'minScale': 120000000},\n",
       "             'layerType': 'ArcGISFeatureLayer',\n",
       "             'opacity': 1,\n",
       "             'popupInfo': {'description': '<div><p><span style=\"font-weight:bold;\">Typhoon {name}</span></p><p><span style=\"font-weight:bold;\">Started: </span><span>{datedescription}</span></p></div>',\n",
       "              'mediaInfos': [],\n",
       "              'title': '{name}'},\n",
       "             'title': 'Typhoon Paths',\n",
       "             'url': 'http://services.arcgis.com/P3ePLMYs2RVChkJx/arcgis/rest/services/PacificTyphoons2005_WFL/FeatureServer/18',\n",
       "             'visibility': True},\n",
       "            {'id': '14a37c86f84-layer21',\n",
       "             'layerType': 'GroupLayer',\n",
       "             'layers': [{'id': '7a24e304d2474d7eb29a712c95202140',\n",
       "               'layerDefinition': {'drawingInfo': {'renderer': {'description': '',\n",
       "                  'label': '',\n",
       "                  'symbol': {'name': 'Pushpin 1',\n",
       "                   'styleName': 'EsriIconsStyle',\n",
       "                   'type': 'styleSymbolReference'},\n",
       "                  'type': 'simple',\n",
       "                  'visualVariables': [{'axis': 'all',\n",
       "                    'minSize': 25,\n",
       "                    'type': 'sizeInfo',\n",
       "                    'valueUnit': 'unknown'}]}},\n",
       "                'elevationInfo': {'mode': 'absoluteHeight'}},\n",
       "               'layerType': 'ArcGISFeatureLayer',\n",
       "               'opacity': 1,\n",
       "               'showLabels': True,\n",
       "               'title': 'Labels Q4',\n",
       "               'url': 'http://services.arcgis.com/P3ePLMYs2RVChkJx/arcgis/rest/services/PacificTyphoons2005_WFL/FeatureServer/17',\n",
       "               'visibility': False},\n",
       "              {'id': '10944e27c9f04bc39b5821c0046523a5',\n",
       "               'layerDefinition': {'drawingInfo': {'renderer': {'description': '',\n",
       "                  'label': '',\n",
       "                  'symbol': {'name': 'Standing Cylinder',\n",
       "                   'styleName': 'EsriThematicShapesStyle',\n",
       "                   'type': 'styleSymbolReference'},\n",
       "                  'type': 'simple',\n",
       "                  'visualVariables': [{'axis': 'height',\n",
       "                    'field': 'windspeed',\n",
       "                    'minDataValue': 0.0001,\n",
       "                    'minSize': 1,\n",
       "                    'type': 'sizeInfo'},\n",
       "                   {'axis': 'widthAndDepth',\n",
       "                    'minSize': 100000,\n",
       "                    'type': 'sizeInfo',\n",
       "                    'valueUnit': 'meters'},\n",
       "                   {'field': 'airpressure',\n",
       "                    'stops': [{'color': [245, 0, 0], 'value': 920},\n",
       "                     {'color': [245, 245, 0], 'value': 1014}],\n",
       "                    'type': 'colorInfo'}]}},\n",
       "                'elevationInfo': {'mode': 'absoluteHeight'}},\n",
       "               'layerType': 'ArcGISFeatureLayer',\n",
       "               'opacity': 1,\n",
       "               'popupInfo': {'mediaInfos': [{'caption': '<div><p><span style=\"font-weight:bold;\">Pressure: </span><span>{airpressure} hPa</span></p><p><span style=\"font-weight:bold;\">Wind speed: </span><span>{wind_mph} mph / {wind_kph} kph</span></p><p /><p><span style=\"font-weight:bold;\">Date: </span><span>{timedescription}</span></p></div>',\n",
       "                  'title': '<div><p><span style=\"font-weight:bold;\">{typhoonclass} {typhoon}</span></p></div>',\n",
       "                  'type': 'image',\n",
       "                  'value': {'sourceURL': '{image}'}}],\n",
       "                'title': '{typhoon}'},\n",
       "               'title': 'Typhoons Q4',\n",
       "               'url': 'http://services.arcgis.com/P3ePLMYs2RVChkJx/arcgis/rest/services/PacificTyphoons2005_WFL/FeatureServer/16',\n",
       "               'visibility': False}],\n",
       "             'listMode': 'hide-children',\n",
       "             'opacity': 1,\n",
       "             'title': 'October - December',\n",
       "             'visibility': False,\n",
       "             'visibilityMode': 'inherited'},\n",
       "            {'id': '14a37c7f247-layer20',\n",
       "             'layerType': 'GroupLayer',\n",
       "             'layers': [{'id': '90eba5af0b084c569a55ebc9b3bfc21e',\n",
       "               'layerDefinition': {'drawingInfo': {'renderer': {'description': '',\n",
       "                  'label': '',\n",
       "                  'symbol': {'name': 'Pushpin 1',\n",
       "                   'styleName': 'EsriIconsStyle',\n",
       "                   'type': 'styleSymbolReference'},\n",
       "                  'type': 'simple',\n",
       "                  'visualVariables': [{'axis': 'all',\n",
       "                    'minSize': 25,\n",
       "                    'type': 'sizeInfo',\n",
       "                    'valueUnit': 'unknown'}]}},\n",
       "                'elevationInfo': {'mode': 'absoluteHeight'}},\n",
       "               'layerType': 'ArcGISFeatureLayer',\n",
       "               'opacity': 1,\n",
       "               'showLabels': True,\n",
       "               'title': 'Labels Q3_3',\n",
       "               'url': 'http://services.arcgis.com/P3ePLMYs2RVChkJx/arcgis/rest/services/PacificTyphoons2005_WFL/FeatureServer/14',\n",
       "               'visibility': False},\n",
       "              {'id': '341d7b380907439990e4c238147b46ce',\n",
       "               'layerDefinition': {'drawingInfo': {'renderer': {'description': '',\n",
       "                  'label': '',\n",
       "                  'symbol': {'name': 'Standing Cylinder',\n",
       "                   'styleName': 'EsriThematicShapesStyle',\n",
       "                   'type': 'styleSymbolReference'},\n",
       "                  'type': 'simple',\n",
       "                  'visualVariables': [{'axis': 'height',\n",
       "                    'field': 'windspeed',\n",
       "                    'minDataValue': 0.0001,\n",
       "                    'minSize': 1,\n",
       "                    'type': 'sizeInfo'},\n",
       "                   {'axis': 'widthAndDepth',\n",
       "                    'minSize': 100000,\n",
       "                    'type': 'sizeInfo',\n",
       "                    'valueUnit': 'meters'},\n",
       "                   {'field': 'airpressure',\n",
       "                    'stops': [{'color': [245, 0, 0], 'value': 920},\n",
       "                     {'color': [245, 245, 0], 'value': 1014}],\n",
       "                    'type': 'colorInfo'}]}},\n",
       "                'elevationInfo': {'mode': 'absoluteHeight'}},\n",
       "               'layerType': 'ArcGISFeatureLayer',\n",
       "               'opacity': 1,\n",
       "               'popupInfo': {'mediaInfos': [{'caption': '<div><p><span style=\"font-weight:bold;\">Pressure: </span><span>{airpressure} hPa</span></p><p><span style=\"font-weight:bold;\">Wind speed: </span><span>{wind_mph} mph / {wind_kph} kph</span></p><p /><p><span style=\"font-weight:bold;\">Date: </span><span>{timedescription}</span></p></div>',\n",
       "                  'title': '<div><p><span style=\"font-weight:bold;\">{typhoonclass} {typhoon}</span></p></div>',\n",
       "                  'type': 'image',\n",
       "                  'value': {'sourceURL': '{image}'}}],\n",
       "                'title': '{typhoon}'},\n",
       "               'title': 'Typhoons Q3_3',\n",
       "               'url': 'http://services.arcgis.com/P3ePLMYs2RVChkJx/arcgis/rest/services/PacificTyphoons2005_WFL/FeatureServer/13',\n",
       "               'visibility': False}],\n",
       "             'listMode': 'hide-children',\n",
       "             'opacity': 1,\n",
       "             'title': 'September',\n",
       "             'visibility': False,\n",
       "             'visibilityMode': 'inherited'},\n",
       "            {'id': '14a37c78bc8-layer19',\n",
       "             'layerType': 'GroupLayer',\n",
       "             'layers': [{'id': '6e54f2736388480ab0a214cb468d48f9',\n",
       "               'layerDefinition': {'drawingInfo': {'renderer': {'description': '',\n",
       "                  'label': '',\n",
       "                  'symbol': {'name': 'Pushpin 1',\n",
       "                   'styleName': 'EsriIconsStyle',\n",
       "                   'type': 'styleSymbolReference'},\n",
       "                  'type': 'simple',\n",
       "                  'visualVariables': [{'axis': 'all',\n",
       "                    'minSize': 25,\n",
       "                    'type': 'sizeInfo',\n",
       "                    'valueUnit': 'unknown'}]}},\n",
       "                'elevationInfo': {'mode': 'absoluteHeight'}},\n",
       "               'layerType': 'ArcGISFeatureLayer',\n",
       "               'opacity': 1,\n",
       "               'showLabels': True,\n",
       "               'title': 'Labels Q3_2',\n",
       "               'url': 'http://services.arcgis.com/P3ePLMYs2RVChkJx/arcgis/rest/services/PacificTyphoons2005_WFL/FeatureServer/11',\n",
       "               'visibility': False},\n",
       "              {'id': '6b549bb78d824b4c8d24f5c90b93c4f6',\n",
       "               'layerDefinition': {'drawingInfo': {'renderer': {'description': '',\n",
       "                  'label': '',\n",
       "                  'symbol': {'name': 'Standing Cylinder',\n",
       "                   'styleName': 'EsriThematicShapesStyle',\n",
       "                   'type': 'styleSymbolReference'},\n",
       "                  'type': 'simple',\n",
       "                  'visualVariables': [{'axis': 'height',\n",
       "                    'field': 'windspeed',\n",
       "                    'minDataValue': 0.0001,\n",
       "                    'minSize': 1,\n",
       "                    'type': 'sizeInfo'},\n",
       "                   {'axis': 'widthAndDepth',\n",
       "                    'minSize': 100000,\n",
       "                    'type': 'sizeInfo',\n",
       "                    'valueUnit': 'meters'},\n",
       "                   {'field': 'airpressure',\n",
       "                    'stops': [{'color': [245, 0, 0], 'value': 920},\n",
       "                     {'color': [245, 245, 0], 'value': 1014}],\n",
       "                    'type': 'colorInfo'}]}},\n",
       "                'elevationInfo': {'mode': 'absoluteHeight'}},\n",
       "               'layerType': 'ArcGISFeatureLayer',\n",
       "               'opacity': 1,\n",
       "               'popupInfo': {'mediaInfos': [{'caption': '<div><p><span style=\"font-weight:bold;\">Pressure: </span><span>{airpressure} hPa</span></p><p><span style=\"font-weight:bold;\">Wind speed: </span><span>{wind_mph} mph / {wind_kph} kph</span></p><p /><p><span style=\"font-weight:bold;\">Date: </span><span>{timedescription}</span></p></div>',\n",
       "                  'title': '<div><p><span style=\"font-weight:bold;\">{typhoonclass} {typhoon}</span></p></div>',\n",
       "                  'type': 'image',\n",
       "                  'value': {'sourceURL': '{image}'}}],\n",
       "                'title': '{typhoon}'},\n",
       "               'title': 'Typhoons Q3_2',\n",
       "               'url': 'http://services.arcgis.com/P3ePLMYs2RVChkJx/arcgis/rest/services/PacificTyphoons2005_WFL/FeatureServer/10',\n",
       "               'visibility': False}],\n",
       "             'listMode': 'hide-children',\n",
       "             'opacity': 1,\n",
       "             'title': 'August',\n",
       "             'visibility': False,\n",
       "             'visibilityMode': 'inherited'},\n",
       "            {'id': '14a37c4590b-layer18',\n",
       "             'layerType': 'GroupLayer',\n",
       "             'layers': [{'id': 'b8cc403be27e475ca93db04a34845e89',\n",
       "               'layerDefinition': {'drawingInfo': {'renderer': {'description': '',\n",
       "                  'label': '',\n",
       "                  'symbol': {'name': 'Pushpin 1',\n",
       "                   'styleName': 'EsriIconsStyle',\n",
       "                   'type': 'styleSymbolReference'},\n",
       "                  'type': 'simple',\n",
       "                  'visualVariables': [{'axis': 'all',\n",
       "                    'minSize': 25,\n",
       "                    'type': 'sizeInfo',\n",
       "                    'valueUnit': 'unknown'}]}},\n",
       "                'elevationInfo': {'mode': 'absoluteHeight'}},\n",
       "               'layerType': 'ArcGISFeatureLayer',\n",
       "               'opacity': 1,\n",
       "               'showLabels': True,\n",
       "               'title': 'Labels Q3_1',\n",
       "               'url': 'http://services.arcgis.com/P3ePLMYs2RVChkJx/arcgis/rest/services/PacificTyphoons2005_WFL/FeatureServer/8',\n",
       "               'visibility': False},\n",
       "              {'id': 'e60bd6abdb094bf2b9daacd8bb57495c',\n",
       "               'layerDefinition': {'drawingInfo': {'renderer': {'description': '',\n",
       "                  'label': '',\n",
       "                  'symbol': {'name': 'Standing Cylinder',\n",
       "                   'styleName': 'EsriThematicShapesStyle',\n",
       "                   'type': 'styleSymbolReference'},\n",
       "                  'type': 'simple',\n",
       "                  'visualVariables': [{'axis': 'height',\n",
       "                    'field': 'windspeed',\n",
       "                    'minDataValue': 0.0001,\n",
       "                    'minSize': 1,\n",
       "                    'type': 'sizeInfo'},\n",
       "                   {'axis': 'widthAndDepth',\n",
       "                    'minSize': 100000,\n",
       "                    'type': 'sizeInfo',\n",
       "                    'valueUnit': 'meters'},\n",
       "                   {'field': 'airpressure',\n",
       "                    'stops': [{'color': [245, 0, 0], 'value': 920},\n",
       "                     {'color': [245, 245, 0], 'value': 1014}],\n",
       "                    'type': 'colorInfo'}]}},\n",
       "                'elevationInfo': {'mode': 'absoluteHeight'}},\n",
       "               'layerType': 'ArcGISFeatureLayer',\n",
       "               'opacity': 1,\n",
       "               'popupInfo': {'mediaInfos': [{'caption': '<div><p><span style=\"font-weight:bold;\">Pressure: </span><span>{airpressure} hPa</span></p><p><span style=\"font-weight:bold;\">Wind speed: </span><span>{wind_mph} mph / {wind_kph} kph</span></p><p /><p><span style=\"font-weight:bold;\">Date: </span><span>{timedescription}</span></p></div>',\n",
       "                  'title': '<div><p><span style=\"font-weight:bold;\">{typhoonclass} {typhoon}</span></p></div>',\n",
       "                  'type': 'image',\n",
       "                  'value': {'sourceURL': '{image}'}}],\n",
       "                'title': '{typhoon}'},\n",
       "               'title': 'Typhoons Q3_1',\n",
       "               'url': 'http://services.arcgis.com/P3ePLMYs2RVChkJx/arcgis/rest/services/PacificTyphoons2005_WFL/FeatureServer/7',\n",
       "               'visibility': False}],\n",
       "             'listMode': 'hide-children',\n",
       "             'opacity': 1,\n",
       "             'title': 'July',\n",
       "             'visibility': False,\n",
       "             'visibilityMode': 'inherited'},\n",
       "            {'id': '14a37c397dc-layer17',\n",
       "             'layerType': 'GroupLayer',\n",
       "             'layers': [{'id': '56803f3d64184140950f0ef1256a0603',\n",
       "               'layerDefinition': {'drawingInfo': {'renderer': {'description': '',\n",
       "                  'label': '',\n",
       "                  'symbol': {'name': 'Pushpin 1',\n",
       "                   'styleName': 'EsriIconsStyle',\n",
       "                   'type': 'styleSymbolReference'},\n",
       "                  'type': 'simple',\n",
       "                  'visualVariables': [{'axis': 'all',\n",
       "                    'minSize': 25,\n",
       "                    'type': 'sizeInfo',\n",
       "                    'valueUnit': 'unknown'}]}},\n",
       "                'elevationInfo': {'mode': 'absoluteHeight'}},\n",
       "               'layerType': 'ArcGISFeatureLayer',\n",
       "               'opacity': 1,\n",
       "               'showLabels': True,\n",
       "               'title': 'Labels Q2',\n",
       "               'url': 'http://services.arcgis.com/P3ePLMYs2RVChkJx/arcgis/rest/services/PacificTyphoons2005_WFL/FeatureServer/5',\n",
       "               'visibility': False},\n",
       "              {'id': '72668fcc8a904bd6a1444bef2e72f420',\n",
       "               'layerDefinition': {'drawingInfo': {'renderer': {'description': '',\n",
       "                  'label': '',\n",
       "                  'symbol': {'name': 'Standing Cylinder',\n",
       "                   'styleName': 'EsriThematicShapesStyle',\n",
       "                   'type': 'styleSymbolReference'},\n",
       "                  'type': 'simple',\n",
       "                  'visualVariables': [{'axis': 'height',\n",
       "                    'field': 'windspeed',\n",
       "                    'minDataValue': 0.0001,\n",
       "                    'minSize': 1,\n",
       "                    'type': 'sizeInfo'},\n",
       "                   {'axis': 'widthAndDepth',\n",
       "                    'minSize': 100000,\n",
       "                    'type': 'sizeInfo',\n",
       "                    'valueUnit': 'meters'},\n",
       "                   {'field': 'airpressure',\n",
       "                    'stops': [{'color': [245, 0, 0], 'value': 920},\n",
       "                     {'color': [245, 245, 0], 'value': 1014}],\n",
       "                    'type': 'colorInfo'}]}},\n",
       "                'elevationInfo': {'mode': 'absoluteHeight'}},\n",
       "               'layerType': 'ArcGISFeatureLayer',\n",
       "               'opacity': 1,\n",
       "               'popupInfo': {'mediaInfos': [{'caption': '<div><p><span style=\"font-weight:bold;\">Pressure: </span><span>{airpressure} hPa</span></p><p><span style=\"font-weight:bold;\">Wind speed: </span><span>{wind_mph} mph / {wind_kph} kph</span></p><p /><p><span style=\"font-weight:bold;\">Date: </span><span>{timedescription}</span></p></div>',\n",
       "                  'title': '<div><p style=\"font-weight:bold;\"><span>{typhoonclass} {typhoon}</span></p></div>',\n",
       "                  'type': 'image',\n",
       "                  'value': {'sourceURL': '{image}'}}],\n",
       "                'title': '{typhoon}'},\n",
       "               'title': 'Typhoons Q2',\n",
       "               'url': 'http://services.arcgis.com/P3ePLMYs2RVChkJx/arcgis/rest/services/PacificTyphoons2005_WFL/FeatureServer/4',\n",
       "               'visibility': False}],\n",
       "             'listMode': 'hide-children',\n",
       "             'opacity': 1,\n",
       "             'title': 'April - June',\n",
       "             'visibility': False,\n",
       "             'visibilityMode': 'inherited'},\n",
       "            {'id': '14a37c2a1a7-layer16',\n",
       "             'layerType': 'GroupLayer',\n",
       "             'layers': [{'id': '16c9bf0e374443d394f0b77980171499',\n",
       "               'layerDefinition': {'drawingInfo': {'renderer': {'description': '',\n",
       "                  'label': '',\n",
       "                  'symbol': {'name': 'Pushpin 1',\n",
       "                   'styleName': 'EsriIconsStyle',\n",
       "                   'type': 'styleSymbolReference'},\n",
       "                  'type': 'simple',\n",
       "                  'visualVariables': [{'axis': 'all',\n",
       "                    'minSize': 25,\n",
       "                    'type': 'sizeInfo',\n",
       "                    'valueUnit': 'unknown'}]}},\n",
       "                'elevationInfo': {'mode': 'absoluteHeight'}},\n",
       "               'layerType': 'ArcGISFeatureLayer',\n",
       "               'opacity': 1,\n",
       "               'showLabels': True,\n",
       "               'title': 'Labels Q1',\n",
       "               'url': 'http://services.arcgis.com/P3ePLMYs2RVChkJx/arcgis/rest/services/PacificTyphoons2005_WFL/FeatureServer/2',\n",
       "               'visibility': True},\n",
       "              {'id': '3921d1e5c45c41b4a0b498df8fab4e2c',\n",
       "               'layerDefinition': {'drawingInfo': {'renderer': {'description': '',\n",
       "                  'label': '',\n",
       "                  'symbol': {'name': 'Standing Cylinder',\n",
       "                   'styleName': 'EsriThematicShapesStyle',\n",
       "                   'type': 'styleSymbolReference'},\n",
       "                  'type': 'simple',\n",
       "                  'visualVariables': [{'axis': 'height',\n",
       "                    'field': 'windspeed',\n",
       "                    'minDataValue': 0.0001,\n",
       "                    'minSize': 1,\n",
       "                    'type': 'sizeInfo'},\n",
       "                   {'axis': 'widthAndDepth',\n",
       "                    'minSize': 100000,\n",
       "                    'type': 'sizeInfo',\n",
       "                    'valueUnit': 'meters'},\n",
       "                   {'field': 'airpressure',\n",
       "                    'stops': [{'color': [245, 0, 0], 'value': 920},\n",
       "                     {'color': [245, 245, 0], 'value': 1014}],\n",
       "                    'type': 'colorInfo'}]}},\n",
       "                'elevationInfo': {'mode': 'absoluteHeight'}},\n",
       "               'layerType': 'ArcGISFeatureLayer',\n",
       "               'opacity': 1,\n",
       "               'popupInfo': {'mediaInfos': [{'caption': '<div><p><span style=\"font-weight:bold;\">Pressure: </span><span>{airpressure} hPa</span></p><p><span style=\"font-weight:bold;\">Wind speed: </span><span>{wind_mph} mph / {wind_kph} kph</span></p><p /><p><span style=\"font-weight:bold;\">Date: </span><span>{timedescription}</span></p></div>',\n",
       "                  'title': '<div><p style=\"font-weight:bold;\"><span>{typhoonclass} {typhoon}</span></p></div>',\n",
       "                  'type': 'image',\n",
       "                  'value': {'sourceURL': '{image}'}}],\n",
       "                'title': '{typhoon}'},\n",
       "               'title': 'Typhoons Q1',\n",
       "               'url': 'http://services.arcgis.com/P3ePLMYs2RVChkJx/arcgis/rest/services/PacificTyphoons2005_WFL/FeatureServer/1',\n",
       "               'visibility': True}],\n",
       "             'listMode': 'hide-children',\n",
       "             'opacity': 1,\n",
       "             'title': 'January - March',\n",
       "             'visibility': True,\n",
       "             'visibilityMode': 'inherited'}]),\n",
       "          ('authoringAppVersion', '3.6.0.0'),\n",
       "          ('presentation',\n",
       "           {'slides': [{'baseMap': {'baseMapLayers': [{'id': '73e9780a7d6f413f8547abbd19ec786c',\n",
       "                 'layerType': 'ArcGISTiledMapServiceLayer',\n",
       "                 'url': 'http://services.arcgisonline.com/ArcGIS/rest/services/World_Topo_Map/MapServer'}],\n",
       "               'elevationLayers': [{'id': 'globalElevation_0',\n",
       "                 'layerType': 'ArcGISTiledElevationServiceLayer',\n",
       "                 'url': 'http://elevation3d.arcgis.com/arcgis/rest/services/WorldElevation3D/Terrain3D/ImageServer'}],\n",
       "               'id': 'basemap',\n",
       "               'title': 'Topographic',\n",
       "               'visibility': True},\n",
       "              'description': {'text': ''},\n",
       "              'id': 'slide_1',\n",
       "              'thumbnail': {'url': 'data:image/jpeg;base64,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'},\n",
       "              'title': {'text': 'Start of 2005'},\n",
       "              'viewpoint': {'camera': {'heading': 351.1964858600443,\n",
       "                'position': {'spatialReference': {'wkid': 102100},\n",
       "                 'x': 16338046.55787945,\n",
       "                 'y': -255903.18543654634,\n",
       "                 'z': 6324439.902154693},\n",
       "                'tilt': 17.653475866991755},\n",
       "               'scale': 17308012.743044183,\n",
       "               'targetGeometry': {'spatialReference': {'wkid': 102100},\n",
       "                'xmax': 19230710.0979518,\n",
       "                'xmin': 12763430.856557569,\n",
       "                'ymax': 5583288.779274275,\n",
       "                'ymin': -1210472.734638156}},\n",
       "              'visibleLayers': [{'id': '882ce65eceda4e2ba2ad65f9e2c0632f'},\n",
       "               {'id': '14a37c2a1a7-layer16'},\n",
       "               {'id': '16c9bf0e374443d394f0b77980171499'},\n",
       "               {'id': '3921d1e5c45c41b4a0b498df8fab4e2c'}]},\n",
       "             {'baseMap': {'baseMapLayers': [{'id': '73e9780a7d6f413f8547abbd19ec786c',\n",
       "                 'layerType': 'ArcGISTiledMapServiceLayer',\n",
       "                 'url': 'http://services.arcgisonline.com/ArcGIS/rest/services/World_Topo_Map/MapServer'}],\n",
       "               'elevationLayers': [{'id': 'globalElevation_0',\n",
       "                 'layerType': 'ArcGISTiledElevationServiceLayer',\n",
       "                 'url': 'http://elevation3d.arcgis.com/arcgis/rest/services/WorldElevation3D/Terrain3D/ImageServer'}],\n",
       "               'id': 'basemap',\n",
       "               'title': 'Topographic',\n",
       "               'visibility': True},\n",
       "              'description': {'text': ''},\n",
       "              'id': 'slide_2',\n",
       "              'thumbnail': {'url': 'data:image/jpeg;base64,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'},\n",
       "              'title': {'text': 'August origins'},\n",
       "              'viewpoint': {'camera': {'heading': 315.5348196196585,\n",
       "                'position': {'spatialReference': {'wkid': 102100},\n",
       "                 'x': 18034663.07613952,\n",
       "                 'y': 544179.4588633721,\n",
       "                 'z': 2819426.3450047094},\n",
       "                'tilt': 37.399468879606104},\n",
       "               'scale': 7737759.332723031,\n",
       "               'targetGeometry': {'spatialReference': {'wkid': 102100},\n",
       "                'xmax': 18071800.740437724,\n",
       "                'xmin': 14071538.172449483,\n",
       "                'ymax': 4593143.012538526,\n",
       "                'ymin': 516126.52477937605}},\n",
       "              'visibleLayers': [{'id': '882ce65eceda4e2ba2ad65f9e2c0632f'},\n",
       "               {'id': '14a37c78bc8-layer19'},\n",
       "               {'id': '6e54f2736388480ab0a214cb468d48f9'},\n",
       "               {'id': '6b549bb78d824b4c8d24f5c90b93c4f6'}]},\n",
       "             {'baseMap': {'baseMapLayers': [{'id': '73e9780a7d6f413f8547abbd19ec786c',\n",
       "                 'layerType': 'ArcGISTiledMapServiceLayer',\n",
       "                 'url': 'http://services.arcgisonline.com/ArcGIS/rest/services/World_Topo_Map/MapServer'}],\n",
       "               'elevationLayers': [{'id': 'globalElevation_0',\n",
       "                 'layerType': 'ArcGISTiledElevationServiceLayer',\n",
       "                 'url': 'http://elevation3d.arcgis.com/arcgis/rest/services/WorldElevation3D/Terrain3D/ImageServer'}],\n",
       "               'id': 'basemap',\n",
       "               'title': 'Topographic',\n",
       "               'visibility': True},\n",
       "              'description': {'text': ''},\n",
       "              'id': 'slide_3',\n",
       "              'thumbnail': {'url': 'data:image/jpeg;base64,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'},\n",
       "              'title': {'text': 'August in Japan'},\n",
       "              'viewpoint': {'camera': {'heading': 41.187868723912416,\n",
       "                'position': {'spatialReference': {'wkid': 102100},\n",
       "                 'x': 14317116.922236785,\n",
       "                 'y': 3162810.5410621683,\n",
       "                 'z': 1942131.4690581001},\n",
       "                'tilt': 38.22074788332464},\n",
       "               'scale': 5977175.794663719,\n",
       "               'targetGeometry': {'spatialReference': {'wkid': 102100},\n",
       "                'xmax': 17329254.887698036,\n",
       "                'xmin': 14212941.909390198,\n",
       "                'ymax': 6343789.09167628,\n",
       "                'ymin': 3183340.4223876353}},\n",
       "              'visibleLayers': [{'id': '882ce65eceda4e2ba2ad65f9e2c0632f'},\n",
       "               {'id': '14a37c78bc8-layer19'},\n",
       "               {'id': '6e54f2736388480ab0a214cb468d48f9'},\n",
       "               {'id': '6b549bb78d824b4c8d24f5c90b93c4f6'}]},\n",
       "             {'baseMap': {'baseMapLayers': [{'id': '73e9780a7d6f413f8547abbd19ec786c',\n",
       "                 'layerType': 'ArcGISTiledMapServiceLayer',\n",
       "                 'url': 'http://services.arcgisonline.com/ArcGIS/rest/services/World_Topo_Map/MapServer'}],\n",
       "               'elevationLayers': [{'id': 'globalElevation_0',\n",
       "                 'layerType': 'ArcGISTiledElevationServiceLayer',\n",
       "                 'url': 'http://elevation3d.arcgis.com/arcgis/rest/services/WorldElevation3D/Terrain3D/ImageServer'}],\n",
       "               'id': 'basemap',\n",
       "               'title': 'Topographic',\n",
       "               'visibility': True},\n",
       "              'description': {'text': ''},\n",
       "              'id': 'slide_4',\n",
       "              'thumbnail': {'url': 'data:image/jpeg;base64,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'},\n",
       "              'title': {'text': 'All Typhoons'},\n",
       "              'viewpoint': {'camera': {'heading': 3.086488857999165,\n",
       "                'position': {'spatialReference': {'wkid': 102100},\n",
       "                 'x': 15204174.902554411,\n",
       "                 'y': 1790041.1372453775,\n",
       "                 'z': 10970890.001691733},\n",
       "                'tilt': 4.939849335423939},\n",
       "               'scale': 31188997.007979963,\n",
       "               'targetGeometry': {'spatialReference': {'wkid': 102100},\n",
       "                'xmax': 60177194.60815952,\n",
       "                'xmin': 10395709.650468588,\n",
       "                'ymax': 9092227.091906952,\n",
       "                'ymin': -1971400.5897845216}},\n",
       "              'visibleLayers': [{'id': '882ce65eceda4e2ba2ad65f9e2c0632f'},\n",
       "               {'id': '14a37c86f84-layer21'},\n",
       "               {'id': '7a24e304d2474d7eb29a712c95202140'},\n",
       "               {'id': '10944e27c9f04bc39b5821c0046523a5'},\n",
       "               {'id': '14a37c7f247-layer20'},\n",
       "               {'id': '90eba5af0b084c569a55ebc9b3bfc21e'},\n",
       "               {'id': '341d7b380907439990e4c238147b46ce'},\n",
       "               {'id': '14a37c78bc8-layer19'},\n",
       "               {'id': '6e54f2736388480ab0a214cb468d48f9'},\n",
       "               {'id': '6b549bb78d824b4c8d24f5c90b93c4f6'},\n",
       "               {'id': '14a37c4590b-layer18'},\n",
       "               {'id': 'b8cc403be27e475ca93db04a34845e89'},\n",
       "               {'id': 'e60bd6abdb094bf2b9daacd8bb57495c'},\n",
       "               {'id': '14a37c397dc-layer17'},\n",
       "               {'id': '56803f3d64184140950f0ef1256a0603'},\n",
       "               {'id': '72668fcc8a904bd6a1444bef2e72f420'},\n",
       "               {'id': '14a37c2a1a7-layer16'},\n",
       "               {'id': '16c9bf0e374443d394f0b77980171499'},\n",
       "               {'id': '3921d1e5c45c41b4a0b498df8fab4e2c'}]}]}),\n",
       "          ('authoringApp', 'WebSceneViewer'),\n",
       "          ('version', '1.0'),\n",
       "          ('initialState',\n",
       "           {'viewpoint': {'camera': {'heading': 351.1964858132987,\n",
       "              'position': {'spatialReference': {'wkid': 102100},\n",
       "               'x': 16338046.55787945,\n",
       "               'y': -255903.18543654715,\n",
       "               'z': 6324439.902154693},\n",
       "              'tilt': 17.65347586839879}}}),\n",
       "          ('baseMap',\n",
       "           {'baseMapLayers': [{'id': '73e9780a7d6f413f8547abbd19ec786c',\n",
       "              'layerType': 'ArcGISTiledMapServiceLayer',\n",
       "              'url': 'http://services.arcgisonline.com/ArcGIS/rest/services/World_Topo_Map/MapServer'}],\n",
       "            'elevationLayers': [{'id': 'globalElevation_0',\n",
       "              'layerType': 'ArcGISTiledElevationServiceLayer',\n",
       "              'url': 'http://elevation3d.arcgis.com/arcgis/rest/services/WorldElevation3D/Terrain3D/ImageServer'}],\n",
       "            'id': 'basemap',\n",
       "            'title': 'Topographic',\n",
       "            'visibility': True})])"
      ]
     },
     "execution_count": 17,
     "metadata": {},
     "output_type": "execute_result"
    }
   ],
   "source": [
    "web_scene_item = search_result[0]\n",
    "web_scene_obj = arcgis.mapping.WebScene(web_scene_item)\n",
    "\n",
    "# display web scene in the notebook\n",
    "web_scene_obj"
   ]
  },
  {
   "cell_type": "markdown",
   "metadata": {
    "collapsed": true
   },
   "source": [
    "This is a great web scene and it displays a lot of hurricane tracks. However, we want to create a new one with only a particular subset of data and customize the basemaps. To modify this web scene, let us first make a copy of it and publish it into your portal."
   ]
  },
  {
   "cell_type": "markdown",
   "metadata": {},
   "source": [
    "## Make a copy of the public web scene item\n",
    "To make a copy, we essentially download the content of the web scene JSON, remove the parts we don't want, add the layers that we want and publish a new item using that information. The publishing steps is similar to what is described earlier in the **data preparation** section and in detail in the sample titled **Publishing web maps and web scenes**.\n",
    "\n",
    "Let's say, we are only interested in the storms that occur in summer. Summer in tropical Asia is around April-June and that matches with a layer in the existing web scene. Let us query the `operationalLayers` section of the web scene to understand how the layers look like.\n",
    "\n",
    "### Update operational layers of new web scene"
   ]
  },
  {
   "cell_type": "code",
   "execution_count": 18,
   "metadata": {
    "collapsed": false
   },
   "outputs": [
    {
     "data": {
      "text/plain": [
       "[{'id': '882ce65eceda4e2ba2ad65f9e2c0632f',\n",
       "  'layerDefinition': {'drawingInfo': {'renderer': {'description': '',\n",
       "     'label': '',\n",
       "     'symbol': {'symbolLayers': [{'material': {'color': [0, 169, 230],\n",
       "         'transparency': 0},\n",
       "        'size': 5,\n",
       "        'type': 'Line'}],\n",
       "      'type': 'LineSymbol3D'},\n",
       "     'type': 'simple'}},\n",
       "   'elevationInfo': {'mode': 'onTheGround'},\n",
       "   'minScale': 120000000},\n",
       "  'layerType': 'ArcGISFeatureLayer',\n",
       "  'opacity': 1,\n",
       "  'popupInfo': {'description': '<div><p><span style=\"font-weight:bold;\">Typhoon {name}</span></p><p><span style=\"font-weight:bold;\">Started: </span><span>{datedescription}</span></p></div>',\n",
       "   'mediaInfos': [],\n",
       "   'title': '{name}'},\n",
       "  'title': 'Typhoon Paths',\n",
       "  'url': 'http://services.arcgis.com/P3ePLMYs2RVChkJx/arcgis/rest/services/PacificTyphoons2005_WFL/FeatureServer/18',\n",
       "  'visibility': True},\n",
       " {'id': '14a37c86f84-layer21',\n",
       "  'layerType': 'GroupLayer',\n",
       "  'layers': [{'id': '7a24e304d2474d7eb29a712c95202140',\n",
       "    'layerDefinition': {'drawingInfo': {'renderer': {'description': '',\n",
       "       'label': '',\n",
       "       'symbol': {'name': 'Pushpin 1',\n",
       "        'styleName': 'EsriIconsStyle',\n",
       "        'type': 'styleSymbolReference'},\n",
       "       'type': 'simple',\n",
       "       'visualVariables': [{'axis': 'all',\n",
       "         'minSize': 25,\n",
       "         'type': 'sizeInfo',\n",
       "         'valueUnit': 'unknown'}]}},\n",
       "     'elevationInfo': {'mode': 'absoluteHeight'}},\n",
       "    'layerType': 'ArcGISFeatureLayer',\n",
       "    'opacity': 1,\n",
       "    'showLabels': True,\n",
       "    'title': 'Labels Q4',\n",
       "    'url': 'http://services.arcgis.com/P3ePLMYs2RVChkJx/arcgis/rest/services/PacificTyphoons2005_WFL/FeatureServer/17',\n",
       "    'visibility': False},\n",
       "   {'id': '10944e27c9f04bc39b5821c0046523a5',\n",
       "    'layerDefinition': {'drawingInfo': {'renderer': {'description': '',\n",
       "       'label': '',\n",
       "       'symbol': {'name': 'Standing Cylinder',\n",
       "        'styleName': 'EsriThematicShapesStyle',\n",
       "        'type': 'styleSymbolReference'},\n",
       "       'type': 'simple',\n",
       "       'visualVariables': [{'axis': 'height',\n",
       "         'field': 'windspeed',\n",
       "         'minDataValue': 0.0001,\n",
       "         'minSize': 1,\n",
       "         'type': 'sizeInfo'},\n",
       "        {'axis': 'widthAndDepth',\n",
       "         'minSize': 100000,\n",
       "         'type': 'sizeInfo',\n",
       "         'valueUnit': 'meters'},\n",
       "        {'field': 'airpressure',\n",
       "         'stops': [{'color': [245, 0, 0], 'value': 920},\n",
       "          {'color': [245, 245, 0], 'value': 1014}],\n",
       "         'type': 'colorInfo'}]}},\n",
       "     'elevationInfo': {'mode': 'absoluteHeight'}},\n",
       "    'layerType': 'ArcGISFeatureLayer',\n",
       "    'opacity': 1,\n",
       "    'popupInfo': {'mediaInfos': [{'caption': '<div><p><span style=\"font-weight:bold;\">Pressure: </span><span>{airpressure} hPa</span></p><p><span style=\"font-weight:bold;\">Wind speed: </span><span>{wind_mph} mph / {wind_kph} kph</span></p><p /><p><span style=\"font-weight:bold;\">Date: </span><span>{timedescription}</span></p></div>',\n",
       "       'title': '<div><p><span style=\"font-weight:bold;\">{typhoonclass} {typhoon}</span></p></div>',\n",
       "       'type': 'image',\n",
       "       'value': {'sourceURL': '{image}'}}],\n",
       "     'title': '{typhoon}'},\n",
       "    'title': 'Typhoons Q4',\n",
       "    'url': 'http://services.arcgis.com/P3ePLMYs2RVChkJx/arcgis/rest/services/PacificTyphoons2005_WFL/FeatureServer/16',\n",
       "    'visibility': False}],\n",
       "  'listMode': 'hide-children',\n",
       "  'opacity': 1,\n",
       "  'title': 'October - December',\n",
       "  'visibility': False,\n",
       "  'visibilityMode': 'inherited'},\n",
       " {'id': '14a37c7f247-layer20',\n",
       "  'layerType': 'GroupLayer',\n",
       "  'layers': [{'id': '90eba5af0b084c569a55ebc9b3bfc21e',\n",
       "    'layerDefinition': {'drawingInfo': {'renderer': {'description': '',\n",
       "       'label': '',\n",
       "       'symbol': {'name': 'Pushpin 1',\n",
       "        'styleName': 'EsriIconsStyle',\n",
       "        'type': 'styleSymbolReference'},\n",
       "       'type': 'simple',\n",
       "       'visualVariables': [{'axis': 'all',\n",
       "         'minSize': 25,\n",
       "         'type': 'sizeInfo',\n",
       "         'valueUnit': 'unknown'}]}},\n",
       "     'elevationInfo': {'mode': 'absoluteHeight'}},\n",
       "    'layerType': 'ArcGISFeatureLayer',\n",
       "    'opacity': 1,\n",
       "    'showLabels': True,\n",
       "    'title': 'Labels Q3_3',\n",
       "    'url': 'http://services.arcgis.com/P3ePLMYs2RVChkJx/arcgis/rest/services/PacificTyphoons2005_WFL/FeatureServer/14',\n",
       "    'visibility': False},\n",
       "   {'id': '341d7b380907439990e4c238147b46ce',\n",
       "    'layerDefinition': {'drawingInfo': {'renderer': {'description': '',\n",
       "       'label': '',\n",
       "       'symbol': {'name': 'Standing Cylinder',\n",
       "        'styleName': 'EsriThematicShapesStyle',\n",
       "        'type': 'styleSymbolReference'},\n",
       "       'type': 'simple',\n",
       "       'visualVariables': [{'axis': 'height',\n",
       "         'field': 'windspeed',\n",
       "         'minDataValue': 0.0001,\n",
       "         'minSize': 1,\n",
       "         'type': 'sizeInfo'},\n",
       "        {'axis': 'widthAndDepth',\n",
       "         'minSize': 100000,\n",
       "         'type': 'sizeInfo',\n",
       "         'valueUnit': 'meters'},\n",
       "        {'field': 'airpressure',\n",
       "         'stops': [{'color': [245, 0, 0], 'value': 920},\n",
       "          {'color': [245, 245, 0], 'value': 1014}],\n",
       "         'type': 'colorInfo'}]}},\n",
       "     'elevationInfo': {'mode': 'absoluteHeight'}},\n",
       "    'layerType': 'ArcGISFeatureLayer',\n",
       "    'opacity': 1,\n",
       "    'popupInfo': {'mediaInfos': [{'caption': '<div><p><span style=\"font-weight:bold;\">Pressure: </span><span>{airpressure} hPa</span></p><p><span style=\"font-weight:bold;\">Wind speed: </span><span>{wind_mph} mph / {wind_kph} kph</span></p><p /><p><span style=\"font-weight:bold;\">Date: </span><span>{timedescription}</span></p></div>',\n",
       "       'title': '<div><p><span style=\"font-weight:bold;\">{typhoonclass} {typhoon}</span></p></div>',\n",
       "       'type': 'image',\n",
       "       'value': {'sourceURL': '{image}'}}],\n",
       "     'title': '{typhoon}'},\n",
       "    'title': 'Typhoons Q3_3',\n",
       "    'url': 'http://services.arcgis.com/P3ePLMYs2RVChkJx/arcgis/rest/services/PacificTyphoons2005_WFL/FeatureServer/13',\n",
       "    'visibility': False}],\n",
       "  'listMode': 'hide-children',\n",
       "  'opacity': 1,\n",
       "  'title': 'September',\n",
       "  'visibility': False,\n",
       "  'visibilityMode': 'inherited'},\n",
       " {'id': '14a37c78bc8-layer19',\n",
       "  'layerType': 'GroupLayer',\n",
       "  'layers': [{'id': '6e54f2736388480ab0a214cb468d48f9',\n",
       "    'layerDefinition': {'drawingInfo': {'renderer': {'description': '',\n",
       "       'label': '',\n",
       "       'symbol': {'name': 'Pushpin 1',\n",
       "        'styleName': 'EsriIconsStyle',\n",
       "        'type': 'styleSymbolReference'},\n",
       "       'type': 'simple',\n",
       "       'visualVariables': [{'axis': 'all',\n",
       "         'minSize': 25,\n",
       "         'type': 'sizeInfo',\n",
       "         'valueUnit': 'unknown'}]}},\n",
       "     'elevationInfo': {'mode': 'absoluteHeight'}},\n",
       "    'layerType': 'ArcGISFeatureLayer',\n",
       "    'opacity': 1,\n",
       "    'showLabels': True,\n",
       "    'title': 'Labels Q3_2',\n",
       "    'url': 'http://services.arcgis.com/P3ePLMYs2RVChkJx/arcgis/rest/services/PacificTyphoons2005_WFL/FeatureServer/11',\n",
       "    'visibility': False},\n",
       "   {'id': '6b549bb78d824b4c8d24f5c90b93c4f6',\n",
       "    'layerDefinition': {'drawingInfo': {'renderer': {'description': '',\n",
       "       'label': '',\n",
       "       'symbol': {'name': 'Standing Cylinder',\n",
       "        'styleName': 'EsriThematicShapesStyle',\n",
       "        'type': 'styleSymbolReference'},\n",
       "       'type': 'simple',\n",
       "       'visualVariables': [{'axis': 'height',\n",
       "         'field': 'windspeed',\n",
       "         'minDataValue': 0.0001,\n",
       "         'minSize': 1,\n",
       "         'type': 'sizeInfo'},\n",
       "        {'axis': 'widthAndDepth',\n",
       "         'minSize': 100000,\n",
       "         'type': 'sizeInfo',\n",
       "         'valueUnit': 'meters'},\n",
       "        {'field': 'airpressure',\n",
       "         'stops': [{'color': [245, 0, 0], 'value': 920},\n",
       "          {'color': [245, 245, 0], 'value': 1014}],\n",
       "         'type': 'colorInfo'}]}},\n",
       "     'elevationInfo': {'mode': 'absoluteHeight'}},\n",
       "    'layerType': 'ArcGISFeatureLayer',\n",
       "    'opacity': 1,\n",
       "    'popupInfo': {'mediaInfos': [{'caption': '<div><p><span style=\"font-weight:bold;\">Pressure: </span><span>{airpressure} hPa</span></p><p><span style=\"font-weight:bold;\">Wind speed: </span><span>{wind_mph} mph / {wind_kph} kph</span></p><p /><p><span style=\"font-weight:bold;\">Date: </span><span>{timedescription}</span></p></div>',\n",
       "       'title': '<div><p><span style=\"font-weight:bold;\">{typhoonclass} {typhoon}</span></p></div>',\n",
       "       'type': 'image',\n",
       "       'value': {'sourceURL': '{image}'}}],\n",
       "     'title': '{typhoon}'},\n",
       "    'title': 'Typhoons Q3_2',\n",
       "    'url': 'http://services.arcgis.com/P3ePLMYs2RVChkJx/arcgis/rest/services/PacificTyphoons2005_WFL/FeatureServer/10',\n",
       "    'visibility': False}],\n",
       "  'listMode': 'hide-children',\n",
       "  'opacity': 1,\n",
       "  'title': 'August',\n",
       "  'visibility': False,\n",
       "  'visibilityMode': 'inherited'},\n",
       " {'id': '14a37c4590b-layer18',\n",
       "  'layerType': 'GroupLayer',\n",
       "  'layers': [{'id': 'b8cc403be27e475ca93db04a34845e89',\n",
       "    'layerDefinition': {'drawingInfo': {'renderer': {'description': '',\n",
       "       'label': '',\n",
       "       'symbol': {'name': 'Pushpin 1',\n",
       "        'styleName': 'EsriIconsStyle',\n",
       "        'type': 'styleSymbolReference'},\n",
       "       'type': 'simple',\n",
       "       'visualVariables': [{'axis': 'all',\n",
       "         'minSize': 25,\n",
       "         'type': 'sizeInfo',\n",
       "         'valueUnit': 'unknown'}]}},\n",
       "     'elevationInfo': {'mode': 'absoluteHeight'}},\n",
       "    'layerType': 'ArcGISFeatureLayer',\n",
       "    'opacity': 1,\n",
       "    'showLabels': True,\n",
       "    'title': 'Labels Q3_1',\n",
       "    'url': 'http://services.arcgis.com/P3ePLMYs2RVChkJx/arcgis/rest/services/PacificTyphoons2005_WFL/FeatureServer/8',\n",
       "    'visibility': False},\n",
       "   {'id': 'e60bd6abdb094bf2b9daacd8bb57495c',\n",
       "    'layerDefinition': {'drawingInfo': {'renderer': {'description': '',\n",
       "       'label': '',\n",
       "       'symbol': {'name': 'Standing Cylinder',\n",
       "        'styleName': 'EsriThematicShapesStyle',\n",
       "        'type': 'styleSymbolReference'},\n",
       "       'type': 'simple',\n",
       "       'visualVariables': [{'axis': 'height',\n",
       "         'field': 'windspeed',\n",
       "         'minDataValue': 0.0001,\n",
       "         'minSize': 1,\n",
       "         'type': 'sizeInfo'},\n",
       "        {'axis': 'widthAndDepth',\n",
       "         'minSize': 100000,\n",
       "         'type': 'sizeInfo',\n",
       "         'valueUnit': 'meters'},\n",
       "        {'field': 'airpressure',\n",
       "         'stops': [{'color': [245, 0, 0], 'value': 920},\n",
       "          {'color': [245, 245, 0], 'value': 1014}],\n",
       "         'type': 'colorInfo'}]}},\n",
       "     'elevationInfo': {'mode': 'absoluteHeight'}},\n",
       "    'layerType': 'ArcGISFeatureLayer',\n",
       "    'opacity': 1,\n",
       "    'popupInfo': {'mediaInfos': [{'caption': '<div><p><span style=\"font-weight:bold;\">Pressure: </span><span>{airpressure} hPa</span></p><p><span style=\"font-weight:bold;\">Wind speed: </span><span>{wind_mph} mph / {wind_kph} kph</span></p><p /><p><span style=\"font-weight:bold;\">Date: </span><span>{timedescription}</span></p></div>',\n",
       "       'title': '<div><p><span style=\"font-weight:bold;\">{typhoonclass} {typhoon}</span></p></div>',\n",
       "       'type': 'image',\n",
       "       'value': {'sourceURL': '{image}'}}],\n",
       "     'title': '{typhoon}'},\n",
       "    'title': 'Typhoons Q3_1',\n",
       "    'url': 'http://services.arcgis.com/P3ePLMYs2RVChkJx/arcgis/rest/services/PacificTyphoons2005_WFL/FeatureServer/7',\n",
       "    'visibility': False}],\n",
       "  'listMode': 'hide-children',\n",
       "  'opacity': 1,\n",
       "  'title': 'July',\n",
       "  'visibility': False,\n",
       "  'visibilityMode': 'inherited'},\n",
       " {'id': '14a37c397dc-layer17',\n",
       "  'layerType': 'GroupLayer',\n",
       "  'layers': [{'id': '56803f3d64184140950f0ef1256a0603',\n",
       "    'layerDefinition': {'drawingInfo': {'renderer': {'description': '',\n",
       "       'label': '',\n",
       "       'symbol': {'name': 'Pushpin 1',\n",
       "        'styleName': 'EsriIconsStyle',\n",
       "        'type': 'styleSymbolReference'},\n",
       "       'type': 'simple',\n",
       "       'visualVariables': [{'axis': 'all',\n",
       "         'minSize': 25,\n",
       "         'type': 'sizeInfo',\n",
       "         'valueUnit': 'unknown'}]}},\n",
       "     'elevationInfo': {'mode': 'absoluteHeight'}},\n",
       "    'layerType': 'ArcGISFeatureLayer',\n",
       "    'opacity': 1,\n",
       "    'showLabels': True,\n",
       "    'title': 'Labels Q2',\n",
       "    'url': 'http://services.arcgis.com/P3ePLMYs2RVChkJx/arcgis/rest/services/PacificTyphoons2005_WFL/FeatureServer/5',\n",
       "    'visibility': False},\n",
       "   {'id': '72668fcc8a904bd6a1444bef2e72f420',\n",
       "    'layerDefinition': {'drawingInfo': {'renderer': {'description': '',\n",
       "       'label': '',\n",
       "       'symbol': {'name': 'Standing Cylinder',\n",
       "        'styleName': 'EsriThematicShapesStyle',\n",
       "        'type': 'styleSymbolReference'},\n",
       "       'type': 'simple',\n",
       "       'visualVariables': [{'axis': 'height',\n",
       "         'field': 'windspeed',\n",
       "         'minDataValue': 0.0001,\n",
       "         'minSize': 1,\n",
       "         'type': 'sizeInfo'},\n",
       "        {'axis': 'widthAndDepth',\n",
       "         'minSize': 100000,\n",
       "         'type': 'sizeInfo',\n",
       "         'valueUnit': 'meters'},\n",
       "        {'field': 'airpressure',\n",
       "         'stops': [{'color': [245, 0, 0], 'value': 920},\n",
       "          {'color': [245, 245, 0], 'value': 1014}],\n",
       "         'type': 'colorInfo'}]}},\n",
       "     'elevationInfo': {'mode': 'absoluteHeight'}},\n",
       "    'layerType': 'ArcGISFeatureLayer',\n",
       "    'opacity': 1,\n",
       "    'popupInfo': {'mediaInfos': [{'caption': '<div><p><span style=\"font-weight:bold;\">Pressure: </span><span>{airpressure} hPa</span></p><p><span style=\"font-weight:bold;\">Wind speed: </span><span>{wind_mph} mph / {wind_kph} kph</span></p><p /><p><span style=\"font-weight:bold;\">Date: </span><span>{timedescription}</span></p></div>',\n",
       "       'title': '<div><p style=\"font-weight:bold;\"><span>{typhoonclass} {typhoon}</span></p></div>',\n",
       "       'type': 'image',\n",
       "       'value': {'sourceURL': '{image}'}}],\n",
       "     'title': '{typhoon}'},\n",
       "    'title': 'Typhoons Q2',\n",
       "    'url': 'http://services.arcgis.com/P3ePLMYs2RVChkJx/arcgis/rest/services/PacificTyphoons2005_WFL/FeatureServer/4',\n",
       "    'visibility': False}],\n",
       "  'listMode': 'hide-children',\n",
       "  'opacity': 1,\n",
       "  'title': 'April - June',\n",
       "  'visibility': False,\n",
       "  'visibilityMode': 'inherited'},\n",
       " {'id': '14a37c2a1a7-layer16',\n",
       "  'layerType': 'GroupLayer',\n",
       "  'layers': [{'id': '16c9bf0e374443d394f0b77980171499',\n",
       "    'layerDefinition': {'drawingInfo': {'renderer': {'description': '',\n",
       "       'label': '',\n",
       "       'symbol': {'name': 'Pushpin 1',\n",
       "        'styleName': 'EsriIconsStyle',\n",
       "        'type': 'styleSymbolReference'},\n",
       "       'type': 'simple',\n",
       "       'visualVariables': [{'axis': 'all',\n",
       "         'minSize': 25,\n",
       "         'type': 'sizeInfo',\n",
       "         'valueUnit': 'unknown'}]}},\n",
       "     'elevationInfo': {'mode': 'absoluteHeight'}},\n",
       "    'layerType': 'ArcGISFeatureLayer',\n",
       "    'opacity': 1,\n",
       "    'showLabels': True,\n",
       "    'title': 'Labels Q1',\n",
       "    'url': 'http://services.arcgis.com/P3ePLMYs2RVChkJx/arcgis/rest/services/PacificTyphoons2005_WFL/FeatureServer/2',\n",
       "    'visibility': True},\n",
       "   {'id': '3921d1e5c45c41b4a0b498df8fab4e2c',\n",
       "    'layerDefinition': {'drawingInfo': {'renderer': {'description': '',\n",
       "       'label': '',\n",
       "       'symbol': {'name': 'Standing Cylinder',\n",
       "        'styleName': 'EsriThematicShapesStyle',\n",
       "        'type': 'styleSymbolReference'},\n",
       "       'type': 'simple',\n",
       "       'visualVariables': [{'axis': 'height',\n",
       "         'field': 'windspeed',\n",
       "         'minDataValue': 0.0001,\n",
       "         'minSize': 1,\n",
       "         'type': 'sizeInfo'},\n",
       "        {'axis': 'widthAndDepth',\n",
       "         'minSize': 100000,\n",
       "         'type': 'sizeInfo',\n",
       "         'valueUnit': 'meters'},\n",
       "        {'field': 'airpressure',\n",
       "         'stops': [{'color': [245, 0, 0], 'value': 920},\n",
       "          {'color': [245, 245, 0], 'value': 1014}],\n",
       "         'type': 'colorInfo'}]}},\n",
       "     'elevationInfo': {'mode': 'absoluteHeight'}},\n",
       "    'layerType': 'ArcGISFeatureLayer',\n",
       "    'opacity': 1,\n",
       "    'popupInfo': {'mediaInfos': [{'caption': '<div><p><span style=\"font-weight:bold;\">Pressure: </span><span>{airpressure} hPa</span></p><p><span style=\"font-weight:bold;\">Wind speed: </span><span>{wind_mph} mph / {wind_kph} kph</span></p><p /><p><span style=\"font-weight:bold;\">Date: </span><span>{timedescription}</span></p></div>',\n",
       "       'title': '<div><p style=\"font-weight:bold;\"><span>{typhoonclass} {typhoon}</span></p></div>',\n",
       "       'type': 'image',\n",
       "       'value': {'sourceURL': '{image}'}}],\n",
       "     'title': '{typhoon}'},\n",
       "    'title': 'Typhoons Q1',\n",
       "    'url': 'http://services.arcgis.com/P3ePLMYs2RVChkJx/arcgis/rest/services/PacificTyphoons2005_WFL/FeatureServer/1',\n",
       "    'visibility': True}],\n",
       "  'listMode': 'hide-children',\n",
       "  'opacity': 1,\n",
       "  'title': 'January - March',\n",
       "  'visibility': True,\n",
       "  'visibilityMode': 'inherited'}]"
      ]
     },
     "metadata": {},
     "output_type": "display_data"
    }
   ],
   "source": [
    "display(web_scene_obj['operationalLayers'])"
   ]
  },
  {
   "cell_type": "markdown",
   "metadata": {},
   "source": [
    "There is a lot of information displayed above. Let us drill into this and display only layer names and their urls. If you notice, some of the layers above are group layers, meaning, they contain sub layers. So let us write a loop like below and print some details."
   ]
  },
  {
   "cell_type": "code",
   "execution_count": 19,
   "metadata": {
    "collapsed": false
   },
   "outputs": [
    {
     "name": "stdout",
     "output_type": "stream",
     "text": [
      "Typhoon Paths :: ArcGISFeatureLayer\n",
      "October - December :: GroupLayer\n",
      "\tLabels Q4 :: http://services.arcgis.com/P3ePLMYs2RVChkJx/arcgis/rest/services/PacificTyphoons2005_WFL/FeatureServer/17\n",
      "\tTyphoons Q4 :: http://services.arcgis.com/P3ePLMYs2RVChkJx/arcgis/rest/services/PacificTyphoons2005_WFL/FeatureServer/16\n",
      "September :: GroupLayer\n",
      "\tLabels Q3_3 :: http://services.arcgis.com/P3ePLMYs2RVChkJx/arcgis/rest/services/PacificTyphoons2005_WFL/FeatureServer/14\n",
      "\tTyphoons Q3_3 :: http://services.arcgis.com/P3ePLMYs2RVChkJx/arcgis/rest/services/PacificTyphoons2005_WFL/FeatureServer/13\n",
      "August :: GroupLayer\n",
      "\tLabels Q3_2 :: http://services.arcgis.com/P3ePLMYs2RVChkJx/arcgis/rest/services/PacificTyphoons2005_WFL/FeatureServer/11\n",
      "\tTyphoons Q3_2 :: http://services.arcgis.com/P3ePLMYs2RVChkJx/arcgis/rest/services/PacificTyphoons2005_WFL/FeatureServer/10\n",
      "July :: GroupLayer\n",
      "\tLabels Q3_1 :: http://services.arcgis.com/P3ePLMYs2RVChkJx/arcgis/rest/services/PacificTyphoons2005_WFL/FeatureServer/8\n",
      "\tTyphoons Q3_1 :: http://services.arcgis.com/P3ePLMYs2RVChkJx/arcgis/rest/services/PacificTyphoons2005_WFL/FeatureServer/7\n",
      "April - June :: GroupLayer\n",
      "\tLabels Q2 :: http://services.arcgis.com/P3ePLMYs2RVChkJx/arcgis/rest/services/PacificTyphoons2005_WFL/FeatureServer/5\n",
      "\tTyphoons Q2 :: http://services.arcgis.com/P3ePLMYs2RVChkJx/arcgis/rest/services/PacificTyphoons2005_WFL/FeatureServer/4\n",
      "January - March :: GroupLayer\n",
      "\tLabels Q1 :: http://services.arcgis.com/P3ePLMYs2RVChkJx/arcgis/rest/services/PacificTyphoons2005_WFL/FeatureServer/2\n",
      "\tTyphoons Q1 :: http://services.arcgis.com/P3ePLMYs2RVChkJx/arcgis/rest/services/PacificTyphoons2005_WFL/FeatureServer/1\n"
     ]
    }
   ],
   "source": [
    "for layer in web_scene_obj['operationalLayers']:\n",
    "    print(layer['title'] + \" :: \" + layer['layerType'])\n",
    "    if layer['layerType'] == 'GroupLayer':\n",
    "        for sub_layer in layer['layers']:\n",
    "            print(\"\\t\" + sub_layer['title'] + \" :: \"+ sub_layer['url'])"
   ]
  },
  {
   "cell_type": "markdown",
   "metadata": {},
   "source": [
    "We are only interested in the layers that correspond to cyclones in summer. From the above report, we understand that information is in a group layer with two sub layers. Let us extract just that dictionary and compose a new web scene data."
   ]
  },
  {
   "cell_type": "code",
   "execution_count": 20,
   "metadata": {
    "collapsed": false
   },
   "outputs": [
    {
     "data": {
      "text/plain": [
       "[{'id': '14a37c397dc-layer17',\n",
       "  'layerType': 'GroupLayer',\n",
       "  'layers': [{'id': '56803f3d64184140950f0ef1256a0603',\n",
       "    'layerDefinition': {'drawingInfo': {'renderer': {'description': '',\n",
       "       'label': '',\n",
       "       'symbol': {'name': 'Pushpin 1',\n",
       "        'styleName': 'EsriIconsStyle',\n",
       "        'type': 'styleSymbolReference'},\n",
       "       'type': 'simple',\n",
       "       'visualVariables': [{'axis': 'all',\n",
       "         'minSize': 25,\n",
       "         'type': 'sizeInfo',\n",
       "         'valueUnit': 'unknown'}]}},\n",
       "     'elevationInfo': {'mode': 'absoluteHeight'}},\n",
       "    'layerType': 'ArcGISFeatureLayer',\n",
       "    'opacity': 1,\n",
       "    'showLabels': True,\n",
       "    'title': 'Labels Q2',\n",
       "    'url': 'http://services.arcgis.com/P3ePLMYs2RVChkJx/arcgis/rest/services/PacificTyphoons2005_WFL/FeatureServer/5',\n",
       "    'visibility': False},\n",
       "   {'id': '72668fcc8a904bd6a1444bef2e72f420',\n",
       "    'layerDefinition': {'drawingInfo': {'renderer': {'description': '',\n",
       "       'label': '',\n",
       "       'symbol': {'name': 'Standing Cylinder',\n",
       "        'styleName': 'EsriThematicShapesStyle',\n",
       "        'type': 'styleSymbolReference'},\n",
       "       'type': 'simple',\n",
       "       'visualVariables': [{'axis': 'height',\n",
       "         'field': 'windspeed',\n",
       "         'minDataValue': 0.0001,\n",
       "         'minSize': 1,\n",
       "         'type': 'sizeInfo'},\n",
       "        {'axis': 'widthAndDepth',\n",
       "         'minSize': 100000,\n",
       "         'type': 'sizeInfo',\n",
       "         'valueUnit': 'meters'},\n",
       "        {'field': 'airpressure',\n",
       "         'stops': [{'color': [245, 0, 0], 'value': 920},\n",
       "          {'color': [245, 245, 0], 'value': 1014}],\n",
       "         'type': 'colorInfo'}]}},\n",
       "     'elevationInfo': {'mode': 'absoluteHeight'}},\n",
       "    'layerType': 'ArcGISFeatureLayer',\n",
       "    'opacity': 1,\n",
       "    'popupInfo': {'mediaInfos': [{'caption': '<div><p><span style=\"font-weight:bold;\">Pressure: </span><span>{airpressure} hPa</span></p><p><span style=\"font-weight:bold;\">Wind speed: </span><span>{wind_mph} mph / {wind_kph} kph</span></p><p /><p><span style=\"font-weight:bold;\">Date: </span><span>{timedescription}</span></p></div>',\n",
       "       'title': '<div><p style=\"font-weight:bold;\"><span>{typhoonclass} {typhoon}</span></p></div>',\n",
       "       'type': 'image',\n",
       "       'value': {'sourceURL': '{image}'}}],\n",
       "     'title': '{typhoon}'},\n",
       "    'title': 'Typhoons Q2',\n",
       "    'url': 'http://services.arcgis.com/P3ePLMYs2RVChkJx/arcgis/rest/services/PacificTyphoons2005_WFL/FeatureServer/4',\n",
       "    'visibility': False}],\n",
       "  'listMode': 'hide-children',\n",
       "  'opacity': 1,\n",
       "  'title': 'April - June',\n",
       "  'visibility': False,\n",
       "  'visibilityMode': 'inherited'}]"
      ]
     },
     "metadata": {},
     "output_type": "display_data"
    }
   ],
   "source": [
    "# Let us construct a list comprehension and mine out that group layer.\n",
    "subset_op_layers = [subset for subset in web_scene_obj['operationalLayers'] if subset['title'] == 'April - June']\n",
    "display(subset_op_layers)"
   ]
  },
  {
   "cell_type": "code",
   "execution_count": 21,
   "metadata": {
    "collapsed": false
   },
   "outputs": [],
   "source": [
    "# Let us apply the changes to a new web scene object.\n",
    "new_web_scene_obj = web_scene_obj\n",
    "new_web_scene_obj['operationalLayers'] = subset_op_layers"
   ]
  },
  {
   "cell_type": "markdown",
   "metadata": {},
   "source": [
    "### Update basemap of new web scene\n",
    "We now have the necessary `operationalLayers` information. Let us also try to change the basemap to a darker shade. First let us search the basemaps available in the current portal. If no suitable one is found, we can widen the search outside the organization and use a basemap published by Esri.\n",
    "\n",
    "**Basemaps** are web maps that are stored in a **group** usually called **Basemaps**. Thus to get the list of basemaps available on a portal, we can find the basemaps group and list all web maps that are a part of it.\n",
    "\n",
    "To get the list of groups on the portal, we use `groups` property of the `GIS` class."
   ]
  },
  {
   "cell_type": "code",
   "execution_count": 22,
   "metadata": {
    "collapsed": false
   },
   "outputs": [
    {
     "data": {
      "text/html": [
       "<div class=\"item_container\" style=\"height: auto; overflow: hidden; border: 1px solid #cfcfcf; border-radius: 2px; background: #f6fafa; line-height: 1.21429em; padding: 10px;\">\n",
       "                    <div class=\"item_left\" style=\"width: 210px; float: left;\">\n",
       "                       <a href='https://deldev.maps.arcgis.com/home/item.html?id=358ec1e175ea41c3bf5c68f0da11ae2b' target='_blank'>\n",
       "                        <img src='data:image/png;base64,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' width='200' height='133' class=\"itemThumbnail\">\n",
       "                       </a>\n",
       "                    </div>\n",
       "\n",
       "                    <div class=\"item_right\"     style=\"float: none; width: auto; overflow: hidden;\">\n",
       "                        <a href='https://deldev.maps.arcgis.com/home/item.html?id=358ec1e175ea41c3bf5c68f0da11ae2b' target='_blank'><b>Dark Gray Canvas</b>\n",
       "                        </a>\n",
       "                        <br/>This web map provides a detailed vector basemap for the world featuring a neutral background style with minimal colors, labels, and features. <img src='https://deldev.maps.arcgis.com/home/js/jsapi/esri/css/images/item_type_icons/maps16.png' style=\"vertical-align:middle;\">Web Map by esri\n",
       "                        <br/>Last Modified: December 14, 2016\n",
       "                        <br/>0 comments, 107,650 views\n",
       "                    </div>\n",
       "                </div>\n",
       "                "
      ],
      "text/plain": [
       "<Item title:\"Dark Gray Canvas\" type:Web Map owner:esri>"
      ]
     },
     "metadata": {},
     "output_type": "display_data"
    },
    {
     "name": "stdout",
     "output_type": "stream",
     "text": [
      "['basemap', 'esri_basemap', 'vector', 'canvas', 'dark', 'esri_vector']\n"
     ]
    },
    {
     "data": {
      "text/html": [
       "<div class=\"item_container\" style=\"height: auto; overflow: hidden; border: 1px solid #cfcfcf; border-radius: 2px; background: #f6fafa; line-height: 1.21429em; padding: 10px;\">\n",
       "                    <div class=\"item_left\" style=\"width: 210px; float: left;\">\n",
       "                       <a href='https://deldev.maps.arcgis.com/home/item.html?id=1970c1995b8f44749f4b9b6e81b5ba45' target='_blank'>\n",
       "                        <img src='data:image/png;base64,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' width='200' height='133' class=\"itemThumbnail\">\n",
       "                       </a>\n",
       "                    </div>\n",
       "\n",
       "                    <div class=\"item_right\"     style=\"float: none; width: auto; overflow: hidden;\">\n",
       "                        <a href='https://deldev.maps.arcgis.com/home/item.html?id=1970c1995b8f44749f4b9b6e81b5ba45' target='_blank'><b>Dark Gray Canvas</b>\n",
       "                        </a>\n",
       "                        <br/>This web map draws attention to your thematic content by providing a dark, neutral background with minimal colors, labels, and features.<img src='https://deldev.maps.arcgis.com/home/js/jsapi/esri/css/images/item_type_icons/maps16.png' style=\"vertical-align:middle;\">Web Map by esri\n",
       "                        <br/>Last Modified: December 07, 2016\n",
       "                        <br/>0 comments, 99,745 views\n",
       "                    </div>\n",
       "                </div>\n",
       "                "
      ],
      "text/plain": [
       "<Item title:\"Dark Gray Canvas\" type:Web Map owner:esri>"
      ]
     },
     "metadata": {},
     "output_type": "display_data"
    },
    {
     "name": "stdout",
     "output_type": "stream",
     "text": [
      "['neutral', 'subdued', 'canvas', 'shaded', 'world', 'Global', 'basemap', 'current', 'gray', 'grey', 'dark gray', 'dark grey', 'esri', 'esri_basemap']\n"
     ]
    }
   ],
   "source": [
    "basemap_search = gis.content.search('title:dark AND owner:esri', \n",
    "                                    outside_org=True, item_type='web map')\n",
    "for item in basemap_search:\n",
    "    display(item)\n",
    "    print(item.tags)"
   ]
  },
  {
   "cell_type": "markdown",
   "metadata": {},
   "source": [
    "We have found the basemap of our choice. Let us read it as a **`WebMap`** object and query the `baseMap` dictionary."
   ]
  },
  {
   "cell_type": "code",
   "execution_count": 23,
   "metadata": {
    "collapsed": false
   },
   "outputs": [
    {
     "data": {
      "text/plain": [
       "{'baseMapLayers': [{'id': 'layer0',\n",
       "   'layerType': 'ArcGISTiledMapServiceLayer',\n",
       "   'opacity': 1,\n",
       "   'title': 'World_Dark_Gray_Base',\n",
       "   'url': 'https://services.arcgisonline.com/arcgis/rest/services/Canvas/World_Dark_Gray_Base/MapServer',\n",
       "   'visibility': True},\n",
       "  {'id': 'World_Dark_Gray_Reference_8618',\n",
       "   'isReference': True,\n",
       "   'layerType': 'ArcGISTiledMapServiceLayer',\n",
       "   'opacity': 1,\n",
       "   'title': 'World_Dark_Gray_Reference',\n",
       "   'url': 'https://services.arcgisonline.com/arcgis/rest/services/Canvas/World_Dark_Gray_Reference/MapServer',\n",
       "   'visibility': True}],\n",
       " 'title': 'Dark Gray Canvas'}"
      ]
     },
     "execution_count": 23,
     "metadata": {},
     "output_type": "execute_result"
    }
   ],
   "source": [
    "dark_basemap_item = basemap_search[1]\n",
    "dark_basemap_obj = arcgis.mapping.WebMap(dark_basemap_item)\n",
    "dark_basemap_obj['baseMap']"
   ]
  },
  {
   "cell_type": "markdown",
   "metadata": {},
   "source": [
    "Now let us explore how the `baseMap` dictionary of the **web scene** looks like."
   ]
  },
  {
   "cell_type": "code",
   "execution_count": 24,
   "metadata": {
    "collapsed": false
   },
   "outputs": [
    {
     "data": {
      "text/plain": [
       "{'baseMapLayers': [{'id': '73e9780a7d6f413f8547abbd19ec786c',\n",
       "   'layerType': 'ArcGISTiledMapServiceLayer',\n",
       "   'url': 'http://services.arcgisonline.com/ArcGIS/rest/services/World_Topo_Map/MapServer'}],\n",
       " 'elevationLayers': [{'id': 'globalElevation_0',\n",
       "   'layerType': 'ArcGISTiledElevationServiceLayer',\n",
       "   'url': 'http://elevation3d.arcgis.com/arcgis/rest/services/WorldElevation3D/Terrain3D/ImageServer'}],\n",
       " 'id': 'basemap',\n",
       " 'title': 'Topographic',\n",
       " 'visibility': True}"
      ]
     },
     "execution_count": 24,
     "metadata": {},
     "output_type": "execute_result"
    }
   ],
   "source": [
    "new_web_scene_obj['baseMap']"
   ]
  },
  {
   "cell_type": "markdown",
   "metadata": {},
   "source": [
    "To get the desired basemap, we need to update the only `url` key-value pair of the web scene's `baseMap` dictionary. Here we will only pick the first layer of the dark basemap web map."
   ]
  },
  {
   "cell_type": "code",
   "execution_count": 25,
   "metadata": {
    "collapsed": false
   },
   "outputs": [],
   "source": [
    "new_web_scene_obj['baseMap']['baseMapLayers'][0]['url'] = \\\n",
    "dark_basemap_obj['baseMap']['baseMapLayers'][0]['url']"
   ]
  },
  {
   "cell_type": "markdown",
   "metadata": {},
   "source": [
    "Now that we have performed the necessary updates, we can go ahead and publish this as a new web scene item on our portal."
   ]
  },
  {
   "cell_type": "code",
   "execution_count": 26,
   "metadata": {
    "collapsed": false
   },
   "outputs": [
    {
     "data": {
      "text/html": [
       "<div class=\"item_container\" style=\"height: auto; overflow: hidden; border: 1px solid #cfcfcf; border-radius: 2px; background: #f6fafa; line-height: 1.21429em; padding: 10px;\">\n",
       "                    <div class=\"item_left\" style=\"width: 210px; float: left;\">\n",
       "                       <a href='https://deldev.maps.arcgis.com/home/item.html?id=d21199699b084d558fd65926e306fbd8' target='_blank'>\n",
       "                        <img src='http://static.arcgis.com/images/desktopapp.png' class=\"itemThumbnail\">\n",
       "                       </a>\n",
       "                    </div>\n",
       "\n",
       "                    <div class=\"item_right\"     style=\"float: none; width: auto; overflow: hidden;\">\n",
       "                        <a href='https://deldev.maps.arcgis.com/home/item.html?id=d21199699b084d558fd65926e306fbd8' target='_blank'><b>Toprical Cyclones - Summer</b>\n",
       "                        </a>\n",
       "                        <br/>Subset of <a href='https://www.arcgis.com/home/item.html?id=193a0e0ed72f413d8cdc649be637a846'>Western Pacific Typhoons (2005)</a> published by esri_3d<img src='https://deldev.maps.arcgis.com/home/js/jsapi/esri/css/images/item_type_icons/webscene16.png' style=\"vertical-align:middle;\">Web Scene by demo_deldev\n",
       "                        <br/>Last Modified: December 15, 2016\n",
       "                        <br/>0 comments, 0 views\n",
       "                    </div>\n",
       "                </div>\n",
       "                "
      ],
      "text/plain": [
       "<Item title:\"Toprical Cyclones - Summer\" type:Web Scene owner:demo_deldev>"
      ]
     },
     "execution_count": 26,
     "metadata": {},
     "output_type": "execute_result"
    }
   ],
   "source": [
    "new_web_scene_properties= {'title':'Toprical Cyclones - Summer',\n",
    "                          'type' : 'Web Scene',\n",
    "                          'tags' : 'ArcGIS Python API',\n",
    "                          'snippet' : str.format('Subset of <a href={2}>{0}</a> published by {1}',\n",
    "                                                 web_scene_item.title, web_scene_item.owner,\n",
    "                                                \"https://www.arcgis.com/home/item.html?id=\" + web_scene_item.id),\n",
    "                          'text' : json.dumps(new_web_scene_obj)}\n",
    "\n",
    "new_item = gis.content.add(new_web_scene_properties)\n",
    "new_item"
   ]
  },
  {
   "cell_type": "markdown",
   "metadata": {},
   "source": [
    "We have successfully published the new web scene. Now let us display in an interactive widget and observe if it has the necessary updates."
   ]
  },
  {
   "cell_type": "code",
   "execution_count": 27,
   "metadata": {
    "collapsed": false
   },
   "outputs": [
    {
     "data": {
      "text/html": [
       "<iframe width=960 height=600 src=\"http://www.arcgis.com/home/webscene/viewer.html?webscene=d21199699b084d558fd65926e306fbd8\"/>"
      ],
      "text/plain": [
       "WebScene([('operationalLayers',\n",
       "           [{'id': '14a37c397dc-layer17',\n",
       "             'layerType': 'GroupLayer',\n",
       "             'layers': [{'id': '56803f3d64184140950f0ef1256a0603',\n",
       "               'layerDefinition': {'drawingInfo': {'renderer': {'description': '',\n",
       "                  'label': '',\n",
       "                  'symbol': {'name': 'Pushpin 1',\n",
       "                   'styleName': 'EsriIconsStyle',\n",
       "                   'type': 'styleSymbolReference'},\n",
       "                  'type': 'simple',\n",
       "                  'visualVariables': [{'axis': 'all',\n",
       "                    'minSize': 25,\n",
       "                    'type': 'sizeInfo',\n",
       "                    'valueUnit': 'unknown'}]}},\n",
       "                'elevationInfo': {'mode': 'absoluteHeight'}},\n",
       "               'layerType': 'ArcGISFeatureLayer',\n",
       "               'opacity': 1,\n",
       "               'showLabels': True,\n",
       "               'title': 'Labels Q2',\n",
       "               'url': 'http://services.arcgis.com/P3ePLMYs2RVChkJx/arcgis/rest/services/PacificTyphoons2005_WFL/FeatureServer/5',\n",
       "               'visibility': False},\n",
       "              {'id': '72668fcc8a904bd6a1444bef2e72f420',\n",
       "               'layerDefinition': {'drawingInfo': {'renderer': {'description': '',\n",
       "                  'label': '',\n",
       "                  'symbol': {'name': 'Standing Cylinder',\n",
       "                   'styleName': 'EsriThematicShapesStyle',\n",
       "                   'type': 'styleSymbolReference'},\n",
       "                  'type': 'simple',\n",
       "                  'visualVariables': [{'axis': 'height',\n",
       "                    'field': 'windspeed',\n",
       "                    'minDataValue': 0.0001,\n",
       "                    'minSize': 1,\n",
       "                    'type': 'sizeInfo'},\n",
       "                   {'axis': 'widthAndDepth',\n",
       "                    'minSize': 100000,\n",
       "                    'type': 'sizeInfo',\n",
       "                    'valueUnit': 'meters'},\n",
       "                   {'field': 'airpressure',\n",
       "                    'stops': [{'color': [245, 0, 0], 'value': 920},\n",
       "                     {'color': [245, 245, 0], 'value': 1014}],\n",
       "                    'type': 'colorInfo'}]}},\n",
       "                'elevationInfo': {'mode': 'absoluteHeight'}},\n",
       "               'layerType': 'ArcGISFeatureLayer',\n",
       "               'opacity': 1,\n",
       "               'popupInfo': {'mediaInfos': [{'caption': \"<div><p><span style='font-weight:bold;'>Pressure: </span><span>{airpressure} hPa</span></p><p><span style='font-weight:bold;'>Wind speed: </span><span>{wind_mph} mph / {wind_kph} kph</span></p><p><p><span style='font-weight:bold;'>Date: </span><span>{timedescription}</span></p></div></p>\",\n",
       "                  'title': \"<div><p style='font-weight:bold;'><span>{typhoonclass} {typhoon}</span></p></div>\",\n",
       "                  'type': 'image',\n",
       "                  'value': {'sourceURL': '{image}'}}],\n",
       "                'title': '{typhoon}'},\n",
       "               'title': 'Typhoons Q2',\n",
       "               'url': 'http://services.arcgis.com/P3ePLMYs2RVChkJx/arcgis/rest/services/PacificTyphoons2005_WFL/FeatureServer/4',\n",
       "               'visibility': False}],\n",
       "             'listMode': 'hide-children',\n",
       "             'opacity': 1,\n",
       "             'title': 'April - June',\n",
       "             'visibility': False,\n",
       "             'visibilityMode': 'inherited'}]),\n",
       "          ('authoringAppVersion', '3.6.0.0'),\n",
       "          ('presentation',\n",
       "           {'slides': [{'baseMap': {'baseMapLayers': [{'id': '73e9780a7d6f413f8547abbd19ec786c',\n",
       "                 'layerType': 'ArcGISTiledMapServiceLayer',\n",
       "                 'url': 'http://services.arcgisonline.com/ArcGIS/rest/services/World_Topo_Map/MapServer'}],\n",
       "               'elevationLayers': [{'id': 'globalElevation_0',\n",
       "                 'layerType': 'ArcGISTiledElevationServiceLayer',\n",
       "                 'url': 'http://elevation3d.arcgis.com/arcgis/rest/services/WorldElevation3D/Terrain3D/ImageServer'}],\n",
       "               'id': 'basemap',\n",
       "               'title': 'Topographic',\n",
       "               'visibility': True},\n",
       "              'description': {'text': ''},\n",
       "              'id': 'slide_1',\n",
       "              'thumbnail': {'url': 'data:image/jpeg;base64,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'},\n",
       "              'title': {'text': 'Start of 2005'},\n",
       "              'viewpoint': {'camera': {'heading': 351.1964858600443,\n",
       "                'position': {'spatialReference': {'wkid': 102100},\n",
       "                 'x': 16338046.55787945,\n",
       "                 'y': -255903.18543654634,\n",
       "                 'z': 6324439.902154693},\n",
       "                'tilt': 17.653475866991755},\n",
       "               'scale': 17308012.743044183,\n",
       "               'targetGeometry': {'spatialReference': {'wkid': 102100},\n",
       "                'xmax': 19230710.0979518,\n",
       "                'xmin': 12763430.856557569,\n",
       "                'ymax': 5583288.779274275,\n",
       "                'ymin': -1210472.734638156}},\n",
       "              'visibleLayers': [{'id': '882ce65eceda4e2ba2ad65f9e2c0632f'},\n",
       "               {'id': '14a37c2a1a7-layer16'},\n",
       "               {'id': '16c9bf0e374443d394f0b77980171499'},\n",
       "               {'id': '3921d1e5c45c41b4a0b498df8fab4e2c'}]},\n",
       "             {'baseMap': {'baseMapLayers': [{'id': '73e9780a7d6f413f8547abbd19ec786c',\n",
       "                 'layerType': 'ArcGISTiledMapServiceLayer',\n",
       "                 'url': 'http://services.arcgisonline.com/ArcGIS/rest/services/World_Topo_Map/MapServer'}],\n",
       "               'elevationLayers': [{'id': 'globalElevation_0',\n",
       "                 'layerType': 'ArcGISTiledElevationServiceLayer',\n",
       "                 'url': 'http://elevation3d.arcgis.com/arcgis/rest/services/WorldElevation3D/Terrain3D/ImageServer'}],\n",
       "               'id': 'basemap',\n",
       "               'title': 'Topographic',\n",
       "               'visibility': True},\n",
       "              'description': {'text': ''},\n",
       "              'id': 'slide_2',\n",
       "              'thumbnail': {'url': 'data:image/jpeg;base64,/9j/4AAQSkZJRgABAQAAAQABAAD/2wBDAAYEBQYFBAYGBQYHBwYIChAKCgkJChQODwwQFxQYGBcUFhYaHSUfGhsjHBYWICwgIyYnKSopGR8tMC0oMCUoKSj/2wBDAQcHBwoIChMKChMoGhYaKCgoKCgoKCgoKCgoKCgoKCgoKCgoKCgoKCgoKCgoKCgoKCgoKCgoKCgoKCgoKCgoKCj/wAARCAA9AHADASIAAhEBAxEB/8QAHwAAAQUBAQEBAQEAAAAAAAAAAAECAwQFBgcICQoL/8QAtRAAAgEDAwIEAwUFBAQAAAF9AQIDAAQRBRIhMUEGE1FhByJxFDKBkaEII0KxwRVS0fAkM2JyggkKFhcYGRolJicoKSo0NTY3ODk6Q0RFRkdISUpTVFVWV1hZWmNkZWZnaGlqc3R1dnd4eXqDhIWGh4iJipKTlJWWl5iZmqKjpKWmp6ipqrKztLW2t7i5usLDxMXGx8jJytLT1NXW19jZ2uHi4+Tl5ufo6erx8vP09fb3+Pn6/8QAHwEAAwEBAQEBAQEBAQAAAAAAAAECAwQFBgcICQoL/8QAtREAAgECBAQDBAcFBAQAAQJ3AAECAxEEBSExBhJBUQdhcRMiMoEIFEKRobHBCSMzUvAVYnLRChYkNOEl8RcYGRomJygpKjU2Nzg5OkNERUZHSElKU1RVVldYWVpjZGVmZ2hpanN0dXZ3eHl6goOEhYaHiImKkpOUlZaXmJmaoqOkpaanqKmqsrO0tba3uLm6wsPExcbHyMnK0tPU1dbX2Nna4uPk5ebn6Onq8vP09fb3+Pn6/9oADAMBAAIRAxEAPwD5UooooAKKK0tN0TUdSjMllatJGDt3ZCjPHGSR6j86mc4wV5OyGouTsh8WizzQwyROhDjJzxjjP41Kvh65YDbLDnGTkn/CuitI3hTybqErNGArKTnDKdrHj3BqZEICbQfLPG7Bwc15ksZO+jPpoZZh5wUrPW3X0OX/AOEduiFCPGznoucD86WPw1fOoJaFD6Mxz+gPrXXJFtFq+Bli3P8An6VIn3ffH9P/AK1ZvHVOgv7Lw7eif3nnt9p91YMou4Wj3fdPUH8RxVSvZIMSWyKyghxnBHcCuf8AEHgmOaKKbSFSFiwV1eQ7SGIAI4POTjr26VpRzSDfLVVn36Hl4nL3T96m7r8TzuitG80XUbTHnWsmCruMDJ2qcFiOoX3IFZ1enGcZq8Xc85xa3CiiiqEFFbPh/wAN6nr17Ha6ZZzXEz9EiQsa988Gfs8NFBHeeLLsR8g/Y7Zg0hGecuflHHPGfwrpp4WcrN6LzMalaMNz560nSbrU7jyrZBu2l/mzyAMnp7V7vo3h66vkjstE092CICse0KsbD5l3ZxjnBJPUj1r1/wDsDQ/DekvB4d0+HTZWXH2xlzKpIwD5nJCk4ztPGe1avhbR/wCy9DitnmKhMvI2MF2PJJ/PHtjHbNc2Myd4mrBNtQWrfn2t+N+nzMaebRpqXIry7fr/AF+h4H4r+H2radeRX88Ja2uG8ubyT5jQfKApYDjBIPIJAJ55IzyOh6ZdaxcR2mnW7zXbvhF3hV6dyeO3rXvPxD1zzrfVtLs4GhubQo0rud3mREAZ56fM0X514x4ZnttP8UCW8WRoIblJvLTGHVXBwc9sfzrxcTGhSrKlTbcVZa76Np/1Y+ly/G4iph5SmlzLbt3X5lzX/Dd7pEun6fJF5t0kjRsIhu3OegXueo7Vo6f8NPFl0kMi6S8aSKGHmyojYxjlS2QeehFeueG7a1uviVqN8sYazsoz5TMRiKRlRGPrk7XGe4B65rvZ2BkV4HAPOGHzZB7c546dPQV34DKoV1KU5O3NJK3ZN69Tzq2f1qEVGMVzaN37vy0Pn3U/h7rOi2XnXot/s8bAM0UvIyewI569s1z1p5ssk0kQkbYu/A5AHUZ/Hj8a9u+Jsc+padY6fayhbq5ulAVzjA2kEk9wC6HgVU074daZZafNBNcXZeePZLKCqjAdW44IXlR1J71yYjJXVxMqWH2ile76u7/yJhnF6SniN29LLoeHapp817ZywwqzRMqLIV5CR7xuYkdMgqPrj1qpqHh+zuvtU10FbzFjaQyD/UxoQdqYGQduO/JP4V9C6r8P7K/klYXUqJNOJpQVBYqAQEU9FUZPY9vSuD1PwTqunJLFNZNeNOAyS2oaRUYMDgjGfXqMc+3HPisuxWDScU7Lqvl2va9l8/I1pY+hX3evn/XqfP2p6Aj68LHTiI28ozTLK2Ut+p2luuACoz71zoidkd1RmjTG5wDgZ6ZPbNe5+J/BCrB4hl0eRreNrn7O73jHzZOSWA2rjAxz04I9cVwV9ot5b2dnoVhE264cSXU5BCseuM+ijn8q76ddw91u9vyW8n5diHBT96P9X2X+Z9qeHNC0vwxYiz0Gxhto8YZ1XLOfVmPJP6DsK0WjErbnbc351IaTaDgYBr6frfqfON30Zk67AWgkMcIdo42C9m3HrtPsobIxg8deaTwyyS6NabniaVBhgrZ2sBg/j6/U1e1Oye+msikoSOGUSSKeQy4IIx3znHpgnrVFgpvruZ22eXdpH6blaNAFJ9Nz5+tbxkpQ5TilFwre06bfrf5WOPfTY/Efji5S6jhjhQPFcIC6yXEaN8ox/vBCT1IAxxXPfGTwJpmlabDrWk2kkEoeO2mRXJTy9hVWIOSDlUGe+eck5r02TTbL+3DqVrbq2pBRG0+SAo6c9i2OPXGAcDFN17Q4tb0yew1C7uDbzBQ6xbVGQQwIyCeoHc14UMpcaFSE2nKTbTe+uq9PyPap5jyVYyhdRVk108/U8T0Dxg2jeNb69gJFjcXUsropK+Yp37QcdhnI4Ne76Te22s2NvfIF3yxqcZy0ZIBKkjoRnmvEfHvgG40Jmv8ATyZ9LQKrEkB4gAFG71yT1A+tdr8FrqVvC940yyXDG72ht2WHyJ6npz6964sunWwuLlh6uieuvfy9f61OrHqlXoKtDW39a+hr/EDSJH06K/sEeS8sG3BQSzSRn7yg5znow/3fetTwprEWuaYs6Sb5FAEgHAyc4P6H8Qa0riaB1kguA/l7CHLKwXaRz82MfrVXRNLtbE3Mlrbqk1w++SVSMTdw3t1PAwM5wK9ieBksWsVCVrq0lrr2fqvPoeTGvF03Ra9PLuXShUkodp69OO/b8aIplLbJF2senvx2P+elTFQDg8GmGMY5GVP5V6F09zGzWxBqFlp+qWMtteCOe3f5XUtjkHpkdCCK898R/DtIWMtjB9usQrK1ozlXVSP4WBycdh1/3smu/iDWzvEAzx/fXuQCeec5PJz9D3qUKMh4iRjjCscfl0rixmX0sVZy0a2fVf12d0bUMXUpaR+aL6jJpcqvTk0OcfL2FNrfcRIG4ycHPFZdxbSX15fWtsywJIocSfxNIAASvsP3fPrn61Yv52gt90YBdnSMZ6AswXPvjOcVC8a2c+nNGXMjSPCXLc/MrSMeO5aMe2CRirimldf11MarUmovbT8dP8yyYxFDGgh8raoynHycdOOOPaozzViKQzwkHgAt+hI/pULja2KIu5o1YjK9+PyrjNJ0CbQ/FcY0q026LIpZ380fujtIK4JLNkqpz/tegrtSM1Ew2tWOIwlPEuDnvFpr5fo+pVOtKldR2asyw7D5QHDYHbtTEAQkoApJycDqaDtbDhdpPXnij/DNdBmPJycKOKcy8gjgHsajHXiptpIc7j8uMUnoUtSrdofILrHukT51APJI7fj0/GmgAnzYiDuAJweGHr/9erMoAC4qpCuzfGD8qEbe2B2H4dPpVRd0ZyVpH//Z'},\n",
       "              'title': {'text': 'August origins'},\n",
       "              'viewpoint': {'camera': {'heading': 315.5348196196585,\n",
       "                'position': {'spatialReference': {'wkid': 102100},\n",
       "                 'x': 18034663.07613952,\n",
       "                 'y': 544179.4588633721,\n",
       "                 'z': 2819426.3450047094},\n",
       "                'tilt': 37.399468879606104},\n",
       "               'scale': 7737759.332723031,\n",
       "               'targetGeometry': {'spatialReference': {'wkid': 102100},\n",
       "                'xmax': 18071800.740437724,\n",
       "                'xmin': 14071538.172449483,\n",
       "                'ymax': 4593143.012538526,\n",
       "                'ymin': 516126.52477937605}},\n",
       "              'visibleLayers': [{'id': '882ce65eceda4e2ba2ad65f9e2c0632f'},\n",
       "               {'id': '14a37c78bc8-layer19'},\n",
       "               {'id': '6e54f2736388480ab0a214cb468d48f9'},\n",
       "               {'id': '6b549bb78d824b4c8d24f5c90b93c4f6'}]},\n",
       "             {'baseMap': {'baseMapLayers': [{'id': '73e9780a7d6f413f8547abbd19ec786c',\n",
       "                 'layerType': 'ArcGISTiledMapServiceLayer',\n",
       "                 'url': 'http://services.arcgisonline.com/ArcGIS/rest/services/World_Topo_Map/MapServer'}],\n",
       "               'elevationLayers': [{'id': 'globalElevation_0',\n",
       "                 'layerType': 'ArcGISTiledElevationServiceLayer',\n",
       "                 'url': 'http://elevation3d.arcgis.com/arcgis/rest/services/WorldElevation3D/Terrain3D/ImageServer'}],\n",
       "               'id': 'basemap',\n",
       "               'title': 'Topographic',\n",
       "               'visibility': True},\n",
       "              'description': {'text': ''},\n",
       "              'id': 'slide_3',\n",
       "              'thumbnail': {'url': 'data:image/jpeg;base64,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'},\n",
       "              'title': {'text': 'August in Japan'},\n",
       "              'viewpoint': {'camera': {'heading': 41.187868723912416,\n",
       "                'position': {'spatialReference': {'wkid': 102100},\n",
       "                 'x': 14317116.922236785,\n",
       "                 'y': 3162810.5410621683,\n",
       "                 'z': 1942131.4690581001},\n",
       "                'tilt': 38.22074788332464},\n",
       "               'scale': 5977175.794663719,\n",
       "               'targetGeometry': {'spatialReference': {'wkid': 102100},\n",
       "                'xmax': 17329254.887698036,\n",
       "                'xmin': 14212941.909390198,\n",
       "                'ymax': 6343789.09167628,\n",
       "                'ymin': 3183340.4223876353}},\n",
       "              'visibleLayers': [{'id': '882ce65eceda4e2ba2ad65f9e2c0632f'},\n",
       "               {'id': '14a37c78bc8-layer19'},\n",
       "               {'id': '6e54f2736388480ab0a214cb468d48f9'},\n",
       "               {'id': '6b549bb78d824b4c8d24f5c90b93c4f6'}]},\n",
       "             {'baseMap': {'baseMapLayers': [{'id': '73e9780a7d6f413f8547abbd19ec786c',\n",
       "                 'layerType': 'ArcGISTiledMapServiceLayer',\n",
       "                 'url': 'http://services.arcgisonline.com/ArcGIS/rest/services/World_Topo_Map/MapServer'}],\n",
       "               'elevationLayers': [{'id': 'globalElevation_0',\n",
       "                 'layerType': 'ArcGISTiledElevationServiceLayer',\n",
       "                 'url': 'http://elevation3d.arcgis.com/arcgis/rest/services/WorldElevation3D/Terrain3D/ImageServer'}],\n",
       "               'id': 'basemap',\n",
       "               'title': 'Topographic',\n",
       "               'visibility': True},\n",
       "              'description': {'text': ''},\n",
       "              'id': 'slide_4',\n",
       "              'thumbnail': {'url': 'data:image/jpeg;base64,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'},\n",
       "              'title': {'text': 'All Typhoons'},\n",
       "              'viewpoint': {'camera': {'heading': 3.086488857999165,\n",
       "                'position': {'spatialReference': {'wkid': 102100},\n",
       "                 'x': 15204174.902554411,\n",
       "                 'y': 1790041.1372453775,\n",
       "                 'z': 10970890.001691733},\n",
       "                'tilt': 4.939849335423939},\n",
       "               'scale': 31188997.007979963,\n",
       "               'targetGeometry': {'spatialReference': {'wkid': 102100},\n",
       "                'xmax': 60177194.60815952,\n",
       "                'xmin': 10395709.650468588,\n",
       "                'ymax': 9092227.091906952,\n",
       "                'ymin': -1971400.5897845216}},\n",
       "              'visibleLayers': [{'id': '882ce65eceda4e2ba2ad65f9e2c0632f'},\n",
       "               {'id': '14a37c86f84-layer21'},\n",
       "               {'id': '7a24e304d2474d7eb29a712c95202140'},\n",
       "               {'id': '10944e27c9f04bc39b5821c0046523a5'},\n",
       "               {'id': '14a37c7f247-layer20'},\n",
       "               {'id': '90eba5af0b084c569a55ebc9b3bfc21e'},\n",
       "               {'id': '341d7b380907439990e4c238147b46ce'},\n",
       "               {'id': '14a37c78bc8-layer19'},\n",
       "               {'id': '6e54f2736388480ab0a214cb468d48f9'},\n",
       "               {'id': '6b549bb78d824b4c8d24f5c90b93c4f6'},\n",
       "               {'id': '14a37c4590b-layer18'},\n",
       "               {'id': 'b8cc403be27e475ca93db04a34845e89'},\n",
       "               {'id': 'e60bd6abdb094bf2b9daacd8bb57495c'},\n",
       "               {'id': '14a37c397dc-layer17'},\n",
       "               {'id': '56803f3d64184140950f0ef1256a0603'},\n",
       "               {'id': '72668fcc8a904bd6a1444bef2e72f420'},\n",
       "               {'id': '14a37c2a1a7-layer16'},\n",
       "               {'id': '16c9bf0e374443d394f0b77980171499'},\n",
       "               {'id': '3921d1e5c45c41b4a0b498df8fab4e2c'}]}]}),\n",
       "          ('authoringApp', 'WebSceneViewer'),\n",
       "          ('version', '1.0'),\n",
       "          ('initialState',\n",
       "           {'viewpoint': {'camera': {'heading': 351.1964858132987,\n",
       "              'position': {'spatialReference': {'wkid': 102100},\n",
       "               'x': 16338046.55787945,\n",
       "               'y': -255903.18543654715,\n",
       "               'z': 6324439.902154693},\n",
       "              'tilt': 17.65347586839879}}}),\n",
       "          ('baseMap',\n",
       "           {'baseMapLayers': [{'id': '73e9780a7d6f413f8547abbd19ec786c',\n",
       "              'layerType': 'ArcGISTiledMapServiceLayer',\n",
       "              'url': 'https://services.arcgisonline.com/arcgis/rest/services/Canvas/World_Dark_Gray_Base/MapServer'}],\n",
       "            'elevationLayers': [{'id': 'globalElevation_0',\n",
       "              'layerType': 'ArcGISTiledElevationServiceLayer',\n",
       "              'url': 'http://elevation3d.arcgis.com/arcgis/rest/services/WorldElevation3D/Terrain3D/ImageServer'}],\n",
       "            'id': 'basemap',\n",
       "            'title': 'Topographic',\n",
       "            'visibility': True})])"
      ]
     },
     "execution_count": 27,
     "metadata": {},
     "output_type": "execute_result"
    }
   ],
   "source": [
    "new_item.share(True)\n",
    "new_web_scene_obj = arcgis.mapping.WebScene(new_item)\n",
    "new_web_scene_obj"
   ]
  },
  {
   "cell_type": "markdown",
   "metadata": {},
   "source": [
    "Our required updates have been applied to the new web scene. However notice the **April - June** layer is **turned off** by default. Let us fix that and update the web scene.\n",
    "\n",
    "Let us query the `operationalLayer` dictionary of the new web scene and look for a key called `visibility`."
   ]
  },
  {
   "cell_type": "code",
   "execution_count": 28,
   "metadata": {
    "collapsed": false
   },
   "outputs": [
    {
     "name": "stdout",
     "output_type": "stream",
     "text": [
      "False\n"
     ]
    }
   ],
   "source": [
    "for layer in new_web_scene_obj['operationalLayers']:\n",
    "    print(layer['visibility'])"
   ]
  },
  {
   "cell_type": "markdown",
   "metadata": {},
   "source": [
    "As we know, there is just 1 group layer and it is turned off. Let us change that and update the web scene."
   ]
  },
  {
   "cell_type": "code",
   "execution_count": 29,
   "metadata": {
    "collapsed": true
   },
   "outputs": [],
   "source": [
    "for layer in new_web_scene_obj['operationalLayers']:\n",
    "    layer['visibility'] = True"
   ]
  },
  {
   "cell_type": "markdown",
   "metadata": {},
   "source": [
    "To update the web scene call the `update()` method on the web scene object."
   ]
  },
  {
   "cell_type": "code",
   "execution_count": 30,
   "metadata": {
    "collapsed": false
   },
   "outputs": [
    {
     "data": {
      "text/html": [
       "<iframe width=960 height=600 src=\"http://www.arcgis.com/home/webscene/viewer.html?webscene=d21199699b084d558fd65926e306fbd8\"/>"
      ],
      "text/plain": [
       "WebScene([('operationalLayers',\n",
       "           [{'id': '14a37c397dc-layer17',\n",
       "             'layerType': 'GroupLayer',\n",
       "             'layers': [{'id': '56803f3d64184140950f0ef1256a0603',\n",
       "               'layerDefinition': {'drawingInfo': {'renderer': {'description': '',\n",
       "                  'label': '',\n",
       "                  'symbol': {'name': 'Pushpin 1',\n",
       "                   'styleName': 'EsriIconsStyle',\n",
       "                   'type': 'styleSymbolReference'},\n",
       "                  'type': 'simple',\n",
       "                  'visualVariables': [{'axis': 'all',\n",
       "                    'minSize': 25,\n",
       "                    'type': 'sizeInfo',\n",
       "                    'valueUnit': 'unknown'}]}},\n",
       "                'elevationInfo': {'mode': 'absoluteHeight'}},\n",
       "               'layerType': 'ArcGISFeatureLayer',\n",
       "               'opacity': 1,\n",
       "               'showLabels': True,\n",
       "               'title': 'Labels Q2',\n",
       "               'url': 'http://services.arcgis.com/P3ePLMYs2RVChkJx/arcgis/rest/services/PacificTyphoons2005_WFL/FeatureServer/5',\n",
       "               'visibility': False},\n",
       "              {'id': '72668fcc8a904bd6a1444bef2e72f420',\n",
       "               'layerDefinition': {'drawingInfo': {'renderer': {'description': '',\n",
       "                  'label': '',\n",
       "                  'symbol': {'name': 'Standing Cylinder',\n",
       "                   'styleName': 'EsriThematicShapesStyle',\n",
       "                   'type': 'styleSymbolReference'},\n",
       "                  'type': 'simple',\n",
       "                  'visualVariables': [{'axis': 'height',\n",
       "                    'field': 'windspeed',\n",
       "                    'minDataValue': 0.0001,\n",
       "                    'minSize': 1,\n",
       "                    'type': 'sizeInfo'},\n",
       "                   {'axis': 'widthAndDepth',\n",
       "                    'minSize': 100000,\n",
       "                    'type': 'sizeInfo',\n",
       "                    'valueUnit': 'meters'},\n",
       "                   {'field': 'airpressure',\n",
       "                    'stops': [{'color': [245, 0, 0], 'value': 920},\n",
       "                     {'color': [245, 245, 0], 'value': 1014}],\n",
       "                    'type': 'colorInfo'}]}},\n",
       "                'elevationInfo': {'mode': 'absoluteHeight'}},\n",
       "               'layerType': 'ArcGISFeatureLayer',\n",
       "               'opacity': 1,\n",
       "               'popupInfo': {'mediaInfos': [{'caption': \"<div><p><span style='font-weight:bold;'>Pressure: </span><span>{airpressure} hPa</span></p><p><span style='font-weight:bold;'>Wind speed: </span><span>{wind_mph} mph / {wind_kph} kph</span></p><p><p><span style='font-weight:bold;'>Date: </span><span>{timedescription}</span></p></div></p>\",\n",
       "                  'title': \"<div><p style='font-weight:bold;'><span>{typhoonclass} {typhoon}</span></p></div>\",\n",
       "                  'type': 'image',\n",
       "                  'value': {'sourceURL': '{image}'}}],\n",
       "                'title': '{typhoon}'},\n",
       "               'title': 'Typhoons Q2',\n",
       "               'url': 'http://services.arcgis.com/P3ePLMYs2RVChkJx/arcgis/rest/services/PacificTyphoons2005_WFL/FeatureServer/4',\n",
       "               'visibility': False}],\n",
       "             'listMode': 'hide-children',\n",
       "             'opacity': 1,\n",
       "             'title': 'April - June',\n",
       "             'visibility': True,\n",
       "             'visibilityMode': 'inherited'}]),\n",
       "          ('authoringAppVersion', '3.6.0.0'),\n",
       "          ('presentation',\n",
       "           {'slides': [{'baseMap': {'baseMapLayers': [{'id': '73e9780a7d6f413f8547abbd19ec786c',\n",
       "                 'layerType': 'ArcGISTiledMapServiceLayer',\n",
       "                 'url': 'http://services.arcgisonline.com/ArcGIS/rest/services/World_Topo_Map/MapServer'}],\n",
       "               'elevationLayers': [{'id': 'globalElevation_0',\n",
       "                 'layerType': 'ArcGISTiledElevationServiceLayer',\n",
       "                 'url': 'http://elevation3d.arcgis.com/arcgis/rest/services/WorldElevation3D/Terrain3D/ImageServer'}],\n",
       "               'id': 'basemap',\n",
       "               'title': 'Topographic',\n",
       "               'visibility': True},\n",
       "              'description': {'text': ''},\n",
       "              'id': 'slide_1',\n",
       "              'thumbnail': {'url': 'data:image/jpeg;base64,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'},\n",
       "              'title': {'text': 'Start of 2005'},\n",
       "              'viewpoint': {'camera': {'heading': 351.1964858600443,\n",
       "                'position': {'spatialReference': {'wkid': 102100},\n",
       "                 'x': 16338046.55787945,\n",
       "                 'y': -255903.18543654634,\n",
       "                 'z': 6324439.902154693},\n",
       "                'tilt': 17.653475866991755},\n",
       "               'scale': 17308012.743044183,\n",
       "               'targetGeometry': {'spatialReference': {'wkid': 102100},\n",
       "                'xmax': 19230710.0979518,\n",
       "                'xmin': 12763430.856557569,\n",
       "                'ymax': 5583288.779274275,\n",
       "                'ymin': -1210472.734638156}},\n",
       "              'visibleLayers': [{'id': '882ce65eceda4e2ba2ad65f9e2c0632f'},\n",
       "               {'id': '14a37c2a1a7-layer16'},\n",
       "               {'id': '16c9bf0e374443d394f0b77980171499'},\n",
       "               {'id': '3921d1e5c45c41b4a0b498df8fab4e2c'}]},\n",
       "             {'baseMap': {'baseMapLayers': [{'id': '73e9780a7d6f413f8547abbd19ec786c',\n",
       "                 'layerType': 'ArcGISTiledMapServiceLayer',\n",
       "                 'url': 'http://services.arcgisonline.com/ArcGIS/rest/services/World_Topo_Map/MapServer'}],\n",
       "               'elevationLayers': [{'id': 'globalElevation_0',\n",
       "                 'layerType': 'ArcGISTiledElevationServiceLayer',\n",
       "                 'url': 'http://elevation3d.arcgis.com/arcgis/rest/services/WorldElevation3D/Terrain3D/ImageServer'}],\n",
       "               'id': 'basemap',\n",
       "               'title': 'Topographic',\n",
       "               'visibility': True},\n",
       "              'description': {'text': ''},\n",
       "              'id': 'slide_2',\n",
       "              'thumbnail': {'url': 'data:image/jpeg;base64,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'},\n",
       "              'title': {'text': 'August origins'},\n",
       "              'viewpoint': {'camera': {'heading': 315.5348196196585,\n",
       "                'position': {'spatialReference': {'wkid': 102100},\n",
       "                 'x': 18034663.07613952,\n",
       "                 'y': 544179.4588633721,\n",
       "                 'z': 2819426.3450047094},\n",
       "                'tilt': 37.399468879606104},\n",
       "               'scale': 7737759.332723031,\n",
       "               'targetGeometry': {'spatialReference': {'wkid': 102100},\n",
       "                'xmax': 18071800.740437724,\n",
       "                'xmin': 14071538.172449483,\n",
       "                'ymax': 4593143.012538526,\n",
       "                'ymin': 516126.52477937605}},\n",
       "              'visibleLayers': [{'id': '882ce65eceda4e2ba2ad65f9e2c0632f'},\n",
       "               {'id': '14a37c78bc8-layer19'},\n",
       "               {'id': '6e54f2736388480ab0a214cb468d48f9'},\n",
       "               {'id': '6b549bb78d824b4c8d24f5c90b93c4f6'}]},\n",
       "             {'baseMap': {'baseMapLayers': [{'id': '73e9780a7d6f413f8547abbd19ec786c',\n",
       "                 'layerType': 'ArcGISTiledMapServiceLayer',\n",
       "                 'url': 'http://services.arcgisonline.com/ArcGIS/rest/services/World_Topo_Map/MapServer'}],\n",
       "               'elevationLayers': [{'id': 'globalElevation_0',\n",
       "                 'layerType': 'ArcGISTiledElevationServiceLayer',\n",
       "                 'url': 'http://elevation3d.arcgis.com/arcgis/rest/services/WorldElevation3D/Terrain3D/ImageServer'}],\n",
       "               'id': 'basemap',\n",
       "               'title': 'Topographic',\n",
       "               'visibility': True},\n",
       "              'description': {'text': ''},\n",
       "              'id': 'slide_3',\n",
       "              'thumbnail': {'url': 'data:image/jpeg;base64,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'},\n",
       "              'title': {'text': 'August in Japan'},\n",
       "              'viewpoint': {'camera': {'heading': 41.187868723912416,\n",
       "                'position': {'spatialReference': {'wkid': 102100},\n",
       "                 'x': 14317116.922236785,\n",
       "                 'y': 3162810.5410621683,\n",
       "                 'z': 1942131.4690581001},\n",
       "                'tilt': 38.22074788332464},\n",
       "               'scale': 5977175.794663719,\n",
       "               'targetGeometry': {'spatialReference': {'wkid': 102100},\n",
       "                'xmax': 17329254.887698036,\n",
       "                'xmin': 14212941.909390198,\n",
       "                'ymax': 6343789.09167628,\n",
       "                'ymin': 3183340.4223876353}},\n",
       "              'visibleLayers': [{'id': '882ce65eceda4e2ba2ad65f9e2c0632f'},\n",
       "               {'id': '14a37c78bc8-layer19'},\n",
       "               {'id': '6e54f2736388480ab0a214cb468d48f9'},\n",
       "               {'id': '6b549bb78d824b4c8d24f5c90b93c4f6'}]},\n",
       "             {'baseMap': {'baseMapLayers': [{'id': '73e9780a7d6f413f8547abbd19ec786c',\n",
       "                 'layerType': 'ArcGISTiledMapServiceLayer',\n",
       "                 'url': 'http://services.arcgisonline.com/ArcGIS/rest/services/World_Topo_Map/MapServer'}],\n",
       "               'elevationLayers': [{'id': 'globalElevation_0',\n",
       "                 'layerType': 'ArcGISTiledElevationServiceLayer',\n",
       "                 'url': 'http://elevation3d.arcgis.com/arcgis/rest/services/WorldElevation3D/Terrain3D/ImageServer'}],\n",
       "               'id': 'basemap',\n",
       "               'title': 'Topographic',\n",
       "               'visibility': True},\n",
       "              'description': {'text': ''},\n",
       "              'id': 'slide_4',\n",
       "              'thumbnail': {'url': 'data:image/jpeg;base64,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'},\n",
       "              'title': {'text': 'All Typhoons'},\n",
       "              'viewpoint': {'camera': {'heading': 3.086488857999165,\n",
       "                'position': {'spatialReference': {'wkid': 102100},\n",
       "                 'x': 15204174.902554411,\n",
       "                 'y': 1790041.1372453775,\n",
       "                 'z': 10970890.001691733},\n",
       "                'tilt': 4.939849335423939},\n",
       "               'scale': 31188997.007979963,\n",
       "               'targetGeometry': {'spatialReference': {'wkid': 102100},\n",
       "                'xmax': 60177194.60815952,\n",
       "                'xmin': 10395709.650468588,\n",
       "                'ymax': 9092227.091906952,\n",
       "                'ymin': -1971400.5897845216}},\n",
       "              'visibleLayers': [{'id': '882ce65eceda4e2ba2ad65f9e2c0632f'},\n",
       "               {'id': '14a37c86f84-layer21'},\n",
       "               {'id': '7a24e304d2474d7eb29a712c95202140'},\n",
       "               {'id': '10944e27c9f04bc39b5821c0046523a5'},\n",
       "               {'id': '14a37c7f247-layer20'},\n",
       "               {'id': '90eba5af0b084c569a55ebc9b3bfc21e'},\n",
       "               {'id': '341d7b380907439990e4c238147b46ce'},\n",
       "               {'id': '14a37c78bc8-layer19'},\n",
       "               {'id': '6e54f2736388480ab0a214cb468d48f9'},\n",
       "               {'id': '6b549bb78d824b4c8d24f5c90b93c4f6'},\n",
       "               {'id': '14a37c4590b-layer18'},\n",
       "               {'id': 'b8cc403be27e475ca93db04a34845e89'},\n",
       "               {'id': 'e60bd6abdb094bf2b9daacd8bb57495c'},\n",
       "               {'id': '14a37c397dc-layer17'},\n",
       "               {'id': '56803f3d64184140950f0ef1256a0603'},\n",
       "               {'id': '72668fcc8a904bd6a1444bef2e72f420'},\n",
       "               {'id': '14a37c2a1a7-layer16'},\n",
       "               {'id': '16c9bf0e374443d394f0b77980171499'},\n",
       "               {'id': '3921d1e5c45c41b4a0b498df8fab4e2c'}]}]}),\n",
       "          ('authoringApp', 'WebSceneViewer'),\n",
       "          ('version', '1.0'),\n",
       "          ('initialState',\n",
       "           {'viewpoint': {'camera': {'heading': 351.1964858132987,\n",
       "              'position': {'spatialReference': {'wkid': 102100},\n",
       "               'x': 16338046.55787945,\n",
       "               'y': -255903.18543654715,\n",
       "               'z': 6324439.902154693},\n",
       "              'tilt': 17.65347586839879}}}),\n",
       "          ('baseMap',\n",
       "           {'baseMapLayers': [{'id': '73e9780a7d6f413f8547abbd19ec786c',\n",
       "              'layerType': 'ArcGISTiledMapServiceLayer',\n",
       "              'url': 'https://services.arcgisonline.com/arcgis/rest/services/Canvas/World_Dark_Gray_Base/MapServer'}],\n",
       "            'elevationLayers': [{'id': 'globalElevation_0',\n",
       "              'layerType': 'ArcGISTiledElevationServiceLayer',\n",
       "              'url': 'http://elevation3d.arcgis.com/arcgis/rest/services/WorldElevation3D/Terrain3D/ImageServer'}],\n",
       "            'id': 'basemap',\n",
       "            'title': 'Topographic',\n",
       "            'visibility': True})])"
      ]
     },
     "execution_count": 30,
     "metadata": {},
     "output_type": "execute_result"
    }
   ],
   "source": [
    "new_web_scene_obj.update()\n",
    "new_web_scene_obj"
   ]
  },
  {
   "cell_type": "markdown",
   "metadata": {},
   "source": [
    "# Summary\n",
    "In this sample, we observed how to consume web maps, web scenes and how to update them. During this process, the sample showed how to read a web feature layers, how to use geocoding to get co-ordinates of a point of interest, how to modify the map widget using code, how to make copy of an existing item into your account, how to look for basemaps and finally, how to update layer properties within a web scene."
   ]
  }
 ],
 "metadata": {
  "anaconda-cloud": {},
  "kernelspec": {
   "display_name": "Python 3",
   "language": "python",
   "name": "python3"
  },
  "language_info": {
   "codemirror_mode": {
    "name": "ipython",
    "version": 3
   },
   "file_extension": ".py",
   "mimetype": "text/x-python",
   "name": "python",
   "nbconvert_exporter": "python",
   "pygments_lexer": "ipython3",
   "version": "3.5.2"
  }
 },
 "nbformat": 4,
 "nbformat_minor": 0
}
